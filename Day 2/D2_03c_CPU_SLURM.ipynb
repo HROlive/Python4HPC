{
 "cells": [
  {
   "cell_type": "markdown",
   "id": "3d9ce991-079a-4878-8d52-953ba0127a84",
   "metadata": {},
   "source": [
    "# SLURM - Simple Linux Utility for Resource Management "
   ]
  },
  {
   "cell_type": "markdown",
   "id": "5051823e-3caf-474e-837c-6e5a26f6c00a",
   "metadata": {},
   "source": [
    "## Submitting jobs with [`sbatch`](https://slurm.schedmd.com/sbatch.html)\n",
    "\n",
    "The command `sbatch [options] job_script` is used to submit jobs to SLURM's job queue, where `options` stands for additional options given to SLURM and `job_script` is the Bash script that details how to execute the job.\n",
    "The output of a job is written to `slurm-<job_ID>.out` in the directory from which the job has been submitted. Job scripts have to start with `#!/bin/bash`, followed by the SLURM header lines and the actual script. The SLURM options given in the job script can also be directly passed to `sbatch`, but this is not recommended."
   ]
  },
  {
   "cell_type": "code",
   "execution_count": 1,
   "id": "20742091-07ab-4b33-9b19-702590c55a36",
   "metadata": {},
   "outputs": [
    {
     "name": "stdout",
     "output_type": "stream",
     "text": [
      "Overwriting slurm/example.py\n"
     ]
    }
   ],
   "source": [
    "%%writefile slurm/example.py\n",
    "#!/usr/bin/python3\n",
    "\n",
    "import numpy as np\n",
    "from mpi4py import MPI\n",
    "\n",
    "\n",
    "comm = MPI.COMM_WORLD\n",
    "rank = comm.Get_rank()\n",
    "size = comm.Get_size()\n",
    "\n",
    "pname = MPI.Get_processor_name()\n",
    "\n",
    "print(f'Process {rank} is executed on processor {pname}')"
   ]
  },
  {
   "cell_type": "code",
   "execution_count": 1,
   "id": "8d349a7a-fd0f-413c-ad4a-ad72746548cb",
   "metadata": {},
   "outputs": [
    {
     "name": "stdout",
     "output_type": "stream",
     "text": [
      "Overwriting slurm/job-mpi4py.sh\n"
     ]
    }
   ],
   "source": [
    "%%writefile slurm/job-mpi4py.sh\n",
    "#!/bin/bash\n",
    "\n",
    "#SBATCH --job-name=mpi4py           # SLURM_JOB_NAME\n",
    "#SBATCH --nodes=2                   # SLURM_JOB_NUM_NODES (@course [1,2])\n",
    "#SBATCH --tasks-per-node=48         # SLURM_NTASKS_PER_NODE (48 cores on vsc4)\n",
    "#SBATCH --reservation=training      # @course\n",
    "#SBATCH --qos=mem_0096              # @course\n",
    "#SBATCH --partition=mem_0096        # @course\n",
    "#SBATCH --export=NONE               # do not inherit the submission environment\n",
    "#SBATCH --time=00:01:00             # time limit\n",
    "\n",
    "module purge # always start with a clean environment\n",
    "spack load --dependencies /ul23634 ; spack load /7fl6jme # python+numpy+mpi4py\n",
    "export I_MPI_PIN_PROCESSOR_LIST=0-47 # pinning with intel-mpi\n",
    "\n",
    "mpirun --np 96 python3 mpi4py/mpi04_allreduce.py"
   ]
  },
  {
   "cell_type": "code",
   "execution_count": 4,
   "id": "d08e73c9-bb5e-4220-aba7-396bcacdc9f5",
   "metadata": {},
   "outputs": [
    {
     "name": "stdout",
     "output_type": "stream",
     "text": [
      "Submitted batch job 2278386\n"
     ]
    }
   ],
   "source": [
    "!sbatch slurm/job-mpi4py.sh"
   ]
  },
  {
   "cell_type": "markdown",
   "id": "ceafbfff-6e6e-441a-a173-b4e0b6ce24b6",
   "metadata": {},
   "source": [
    "## Monitoring jobs with [`squeue`](https://slurm.schedmd.com/squeue.html)\n",
    "\n",
    "`Squeue` allows to monitor running and queued jobs. In order to get a workable output, it is highly recommended to pass the username as a parameter."
   ]
  },
  {
   "cell_type": "code",
   "execution_count": 8,
   "id": "58a4a82f-c9a9-4c2e-8e04-2ece6a6e6ac5",
   "metadata": {},
   "outputs": [
    {
     "name": "stdout",
     "output_type": "stream",
     "text": [
      "             JOBID PARTITION     NAME     USER ST       TIME  NODES NODELIST(REASON)\n",
      "           2278386  mem_0096   mpi4py   katrin PD       0:00      2 (Resources)\n",
      "           2278381   jupyter vsc4_jup   katrin  R       0:01      1 n412-072\n"
     ]
    }
   ],
   "source": [
    "!squeue --user=$USER"
   ]
  },
  {
   "cell_type": "code",
   "execution_count": 24,
   "id": "f10d92e4-47b4-4b0e-860d-80f458c31188",
   "metadata": {},
   "outputs": [
    {
     "name": "stdout",
     "output_type": "stream",
     "text": [
      "             JOBID PARTITION     NAME     USER ST       TIME  NODES NODELIST(REASON)\n",
      "           2278381   jupyter vsc4_jup   katrin  R      12:28      1 n412-072\n"
     ]
    }
   ],
   "source": [
    "!bash -c -i sq"
   ]
  },
  {
   "cell_type": "markdown",
   "id": "ae97cb37-b4f4-4827-ae8f-ec01c7618419",
   "metadata": {},
   "source": [
    "## Cancelling jobs with [`scancel`](https://slurm.schedmd.com/scancel.html)\n",
    "\n",
    "SLURM jobs can be canceled with `scancel`. The job ID is returned after the job is submitted and can be queried by `squeue`."
   ]
  },
  {
   "cell_type": "code",
   "execution_count": 7,
   "id": "a616ffdc-3618-4ad1-9d76-1ffe97fede95",
   "metadata": {},
   "outputs": [
    {
     "name": "stdout",
     "output_type": "stream",
     "text": [
      "scancel: error: Invalid job id [job_ID]\n"
     ]
    }
   ],
   "source": [
    "!scancel [job_ID]"
   ]
  }
 ],
 "metadata": {
  "kernelspec": {
   "display_name": "Python 3 (ipykernel)",
   "language": "python",
   "name": "python3"
  },
  "language_info": {
   "codemirror_mode": {
    "name": "ipython",
    "version": 3
   },
   "file_extension": ".py",
   "mimetype": "text/x-python",
   "name": "python",
   "nbconvert_exporter": "python",
   "pygments_lexer": "ipython3",
   "version": "3.8.10"
  }
 },
 "nbformat": 4,
 "nbformat_minor": 5
}
