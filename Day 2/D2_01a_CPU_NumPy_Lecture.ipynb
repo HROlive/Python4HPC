{
 "cells": [
  {
   "cell_type": "markdown",
   "id": "da5811ac",
   "metadata": {},
   "source": [
    "# __NumPy__"
   ]
  },
  {
   "cell_type": "markdown",
   "id": "5b2058d1-21a7-400c-920d-4d4eea4752b9",
   "metadata": {},
   "source": [
    "NumPy is the fundamental Python package for scientific computing and data science that implements __multi-dimensional, homogeneous arrays__, together with a wide variety of mathematical functions, linear algebra routines, random number generators, and more. The central data structure is the `ndarray` object (n-dimensional array) that wraps arrays of arbitrary structure with a coherent interface that allows to express most array operations in a rather __mathematical syntax__, i.e. without loops, independent of the number and size of dimensions. These operations are executed with __compiled and vectorized code__ that relieves the programmer from the burden of tedious low-level optimization."
   ]
  },
  {
   "cell_type": "code",
   "execution_count": null,
   "id": "8c5d58a6-6b5c-4694-971b-16a139eeccbf",
   "metadata": {},
   "outputs": [],
   "source": [
    "import numpy as np"
   ]
  },
  {
   "cell_type": "markdown",
   "id": "cd155a14",
   "metadata": {
    "tags": []
   },
   "source": [
    "## Motivation"
   ]
  },
  {
   "cell_type": "markdown",
   "id": "40b6fbf2-7c27-411a-ab3f-198f6de92d8b",
   "metadata": {},
   "source": [
    "__Naive Python__ matrix multiplication"
   ]
  },
  {
   "cell_type": "code",
   "execution_count": null,
   "id": "57d877b9",
   "metadata": {
    "tags": []
   },
   "outputs": [],
   "source": [
    "def matrix_multiplication(A, B, C):\n",
    "    for k in range(len(A[0])):\n",
    "        for i in range(len(A)):\n",
    "            t = A[i][k]\n",
    "            for j in range(len(B[0])):\n",
    "                C[i][j] += t * B[k][j]"
   ]
  },
  {
   "cell_type": "markdown",
   "id": "eaa943af-c5b5-40d4-971d-26b9da5352bc",
   "metadata": {
    "tags": []
   },
   "source": [
    "__Dot-product NumPy__ matrix multiplication"
   ]
  },
  {
   "cell_type": "code",
   "execution_count": null,
   "id": "24a87bf7-a355-4498-aec6-9f48aec90830",
   "metadata": {
    "tags": []
   },
   "outputs": [],
   "source": [
    "def matrix_multiplication_dot(A, B, C):\n",
    "    for i in range(np.shape(A)[0]):\n",
    "        for j in range(np.shape(B)[1]):\n",
    "            C[i,j] = np.dot(A[i,:], B[:,j])"
   ]
  },
  {
   "cell_type": "markdown",
   "id": "a040286c-af64-41b3-941c-482f5a75c4a9",
   "metadata": {},
   "source": [
    "__Matmul Numpy__ matrix multiplication"
   ]
  },
  {
   "cell_type": "code",
   "execution_count": null,
   "id": "b03c7b40",
   "metadata": {
    "tags": []
   },
   "outputs": [],
   "source": [
    "def matrix_multiplication_matmul(A, B, C):\n",
    "    return A@B # np.matmul(A, B, out=C)"
   ]
  },
  {
   "cell_type": "markdown",
   "id": "e996f676-16aa-47c3-aac9-96538c5140e8",
   "metadata": {},
   "source": [
    "__Benchmark__"
   ]
  },
  {
   "cell_type": "code",
   "execution_count": null,
   "id": "6e107405-acba-415e-885f-10cbdae5dc01",
   "metadata": {},
   "outputs": [],
   "source": [
    "%timeit matrix_multiplication_matmul(An, Bn, Cn)"
   ]
  },
  {
   "cell_type": "code",
   "execution_count": null,
   "id": "ababebb4-d939-4546-833e-e16edea79d38",
   "metadata": {},
   "outputs": [],
   "source": [
    "%timeit matrix_multiplication_dot(An, Bn, Cn)"
   ]
  },
  {
   "cell_type": "code",
   "execution_count": null,
   "id": "216ca3d1-5dd7-4d13-a9f7-a4b65eab2eb0",
   "metadata": {},
   "outputs": [],
   "source": [
    "%timeit matrix_multiplication(Ap, Bp, Cp)"
   ]
  },
  {
   "cell_type": "markdown",
   "id": "447eb366",
   "metadata": {
    "tags": []
   },
   "source": [
    "## Array Creation\n",
    "\n",
    "Numpy provides a large number of methods to create arrays of any structure and data type, be it native array creation, converting other data structures, or joining existing arrays. A complete list of them is given here [array creation routines](https://numpy.org/doc/stable/reference/routines.array-creation.html). Routines such as `empty`, `ones`, and `full` create arrays from scratch with a given __value__ and __shape__. The __shape__ of an array stores its dimensional structure in a tuple of integers, such that the n-th number stands for the number of elements in the n-th dimension, e.g. the shape `(1,2,3)` stands for a three-dimensional array with one, two, and three elements in the first, second, and third dimension, respectively. The initial __value__ is either given by the function's name, e.g. `ones`, or passed as a parameter to `full`. Uninitialized arrays can be created with `empty`."
   ]
  },
  {
   "cell_type": "code",
   "execution_count": null,
   "id": "f5d73c1b",
   "metadata": {
    "tags": []
   },
   "outputs": [],
   "source": [
    "a = np.empty((10))\n",
    "b = np.ones((5,5))\n",
    "c = np.full((1,2,3), 7)"
   ]
  },
  {
   "cell_type": "code",
   "execution_count": null,
   "id": "c4d923f5-24f2-4fc8-9d3f-8fe2e72d5a25",
   "metadata": {
    "tags": []
   },
   "outputs": [],
   "source": [
    "print(a)"
   ]
  },
  {
   "cell_type": "code",
   "execution_count": null,
   "id": "bff48372-6b63-4a7e-a86a-ac4eeb01eb6e",
   "metadata": {
    "tags": []
   },
   "outputs": [],
   "source": [
    "print(c.shape)"
   ]
  },
  {
   "cell_type": "markdown",
   "id": "1141a35d-ecc7-4554-8d4d-5a8670c87333",
   "metadata": {},
   "source": [
    "***\n",
    "Functions such as `ones_like` are provided in order to create an array with a given data type and the same shape as an already existing array. Specifically, these functions expect an __array-like__ object, which is essentially anything that can be read as an ordinary array, whether it is a NumPy array, a Python scalar, or a list of lists. NumPy tries its best to convert arbitrary objects into arrays."
   ]
  },
  {
   "cell_type": "code",
   "execution_count": null,
   "id": "6e37dda6-be33-4828-ad8e-3aa5a24b79f6",
   "metadata": {},
   "outputs": [],
   "source": [
    "d = np.ones_like(c)"
   ]
  },
  {
   "cell_type": "code",
   "execution_count": null,
   "id": "6278f4b7-4b31-42ff-b560-7d261cc9ef1c",
   "metadata": {},
   "outputs": [],
   "source": [
    "print(d)\n",
    "print(d.shape)"
   ]
  },
  {
   "cell_type": "code",
   "execution_count": null,
   "id": "3155f657-a0db-4236-86e2-be83082245a1",
   "metadata": {},
   "outputs": [],
   "source": [
    "dic = {'a': 1, 'b': 2, 'c': 3}\n",
    "print(dic)\n",
    "print(np.array(dic.items()))"
   ]
  },
  {
   "cell_type": "markdown",
   "id": "81c1d92b-b115-4a25-87f2-7992743cda81",
   "metadata": {
    "tags": []
   },
   "source": [
    "***\n",
    "Additionally to filling a newly created array with a given value, arrays can also be created by specifying a __sequence__.\n",
    "\n",
    "* `arange` returns evenly spaced values in the interval [`start`, `stop`) with `step` between consecutive values,\n",
    "* `linspace` returns `num` evenly spaced values in the interval [`start`, `stop`), and \n",
    "* `logspace` return numbers spaced evenly on a `base` log scale in the interval `start`, `stop`).\n",
    "\n",
    "These functions also work in multiple dimensions by expanding these parameters to shape-like tuples."
   ]
  },
  {
   "cell_type": "code",
   "execution_count": null,
   "id": "4b2e1ce4-f4b7-4b91-8771-29c1410c9944",
   "metadata": {},
   "outputs": [],
   "source": [
    "m = np.linspace((1,2,3), (8,16,24), 8)\n",
    "print(m)"
   ]
  },
  {
   "cell_type": "markdown",
   "id": "bf973009-57fb-4c70-b3b2-2afa89aaa4ef",
   "metadata": {},
   "source": [
    "***\n",
    "Conveniently, arrays can be __created from Python sequences__ with `np.array`. A list, a list of lists or even deeper nested lists, result in a one-dimensional, a two-dimensional, or a higher-dimensional NumPy array, respectively. Numpy does not differntiate between __lists and tuples__ in this case, however, ragged nested sequences sould be handled with care."
   ]
  },
  {
   "cell_type": "code",
   "execution_count": null,
   "id": "3dfa5487-66a0-4c7f-ba8d-d449e73836d8",
   "metadata": {},
   "outputs": [],
   "source": [
    "t = ((1,3), (6,7))\n",
    "npt = np.array(t)\n",
    "print(npt)"
   ]
  },
  {
   "cell_type": "code",
   "execution_count": null,
   "id": "508f1cc6-4bce-4e7e-859c-e987deef38db",
   "metadata": {},
   "outputs": [],
   "source": [
    "lt = [(1,3), [8,7]]\n",
    "print(np.array(lt))"
   ]
  },
  {
   "cell_type": "code",
   "execution_count": null,
   "id": "692c2a8f-33ca-43ca-ad27-ccba8de2b2f5",
   "metadata": {},
   "outputs": [],
   "source": [
    "l = [[1,2], [[4,5], [6, 7]]]\n",
    "print(np.array(l, dtype=object))"
   ]
  },
  {
   "cell_type": "code",
   "execution_count": null,
   "id": "95659321-764e-4694-bc6b-9698fdf67f49",
   "metadata": {},
   "outputs": [],
   "source": [
    "rns = [(1,2,3), [4]]\n",
    "print(np.array(rns, dtype=object))"
   ]
  },
  {
   "cell_type": "markdown",
   "id": "1b7ce8e4",
   "metadata": {},
   "source": [
    "***\n",
    "The following __array properties__ can be queried directly:\n",
    "\n",
    "* numeric type of elements,\n",
    "* number of dimensions,\n",
    "* array shape,\n",
    "* number of bytes per element, and\n",
    "* number of bytes for whole array,\n",
    "\n",
    "while several others are available via the `flags` property."
   ]
  },
  {
   "cell_type": "code",
   "execution_count": null,
   "id": "29f78b02",
   "metadata": {
    "tags": []
   },
   "outputs": [],
   "source": [
    "a.dtype"
   ]
  },
  {
   "cell_type": "code",
   "execution_count": null,
   "id": "a97e3998-84f8-4adf-8cac-a0cc1da7f2b0",
   "metadata": {},
   "outputs": [],
   "source": [
    "a.ndim"
   ]
  },
  {
   "cell_type": "code",
   "execution_count": null,
   "id": "b2b94ac9",
   "metadata": {},
   "outputs": [],
   "source": [
    "a.shape"
   ]
  },
  {
   "cell_type": "code",
   "execution_count": null,
   "id": "7fad6dc9",
   "metadata": {},
   "outputs": [],
   "source": [
    "a.itemsize"
   ]
  },
  {
   "cell_type": "code",
   "execution_count": null,
   "id": "fa8c04aa",
   "metadata": {
    "tags": []
   },
   "outputs": [],
   "source": [
    "a.nbytes"
   ]
  },
  {
   "cell_type": "code",
   "execution_count": null,
   "id": "dabf63bc-96f4-43f8-afb1-3129edf130c5",
   "metadata": {},
   "outputs": [],
   "source": [
    "a.flags"
   ]
  },
  {
   "cell_type": "markdown",
   "id": "a65b5bc5-7204-4df7-b28c-6cfa6b4d05e2",
   "metadata": {},
   "source": [
    "***"
   ]
  },
  {
   "cell_type": "markdown",
   "id": "98b1d01e-42fd-42e1-9593-cda4092cbed1",
   "metadata": {
    "tags": []
   },
   "source": [
    "## Array Manipulation: Reshaping, Joining, and Splitting\n",
    "\n",
    "While NumPy arrays have a __fixed size at creation__, they can be reshaped, extended, and separated by implicitly creating a new array and deleting the old one or simply creating a `view` on an array. __Reshaping__ allows to give an array a new dimensional structure without changing its underlying memory layout (if possible). One-dimensional arrays can be reshaped arbitrarily and naturally multi-dimensional ones can be __flattened__ into one dimension as well."
   ]
  },
  {
   "cell_type": "code",
   "execution_count": null,
   "id": "7de98cd6-08a3-44f1-ab87-92aa7b8f31ca",
   "metadata": {},
   "outputs": [],
   "source": [
    "a = np.arange(0, 20)\n",
    "b = np.reshape(a, (4,5))\n",
    "print(b)"
   ]
  },
  {
   "cell_type": "code",
   "execution_count": 38,
   "id": "e52001a4-6587-404d-a15d-7365048259d4",
   "metadata": {},
   "outputs": [
    {
     "name": "stdout",
     "output_type": "stream",
     "text": [
      "[[ 0  2  4  6  8 10 12 14 16 18]\n",
      " [ 1  3  5  7  9 11 13 15 17 19]]\n"
     ]
    }
   ],
   "source": [
    "c = np.reshape(a, (2,10), 'F')\n",
    "print(c)"
   ]
  },
  {
   "cell_type": "markdown",
   "id": "b0d5dab5-9841-44a7-b76d-96594dd6c304",
   "metadata": {},
   "source": [
    "To flatten an array, either `flatten` or `ravel` can be used. The former creates a copy, while the latter returns a view."
   ]
  },
  {
   "cell_type": "code",
   "execution_count": null,
   "id": "890931d1-2a08-47b1-b81f-32a7b54a8b54",
   "metadata": {},
   "outputs": [],
   "source": [
    "f = a.ravel()\n",
    "print(f)"
   ]
  },
  {
   "cell_type": "code",
   "execution_count": null,
   "id": "1ac7ce3c-0b6f-4430-9f61-b0eec7abef0a",
   "metadata": {},
   "outputs": [],
   "source": [
    "f[3] = 666\n",
    "print(f)\n",
    "print(a)"
   ]
  },
  {
   "cell_type": "markdown",
   "id": "a3ad08ef-5cc1-4272-a3f9-e5ab6d8b373a",
   "metadata": {},
   "source": [
    "__Additional axis__ can be added to an array with `newaxis`."
   ]
  },
  {
   "cell_type": "code",
   "execution_count": null,
   "id": "b0dcb338-bf64-4f3c-825b-ae1107ef7f0d",
   "metadata": {},
   "outputs": [],
   "source": [
    "print(a)\n",
    "b = a[:,np.newaxis]\n",
    "print(b)"
   ]
  },
  {
   "cell_type": "markdown",
   "id": "7618a6a1-d4c7-4c5f-987a-5ba8e5a0c722",
   "metadata": {},
   "source": [
    "Naturally, combining and splitting existing arrays is possible as well. Joining arrays along certain axes is done with `concatenate`, `stack` and others, but note that most of them are simply convenience functions built on top of the former. `concatenate` joins arrays along existing axis, while `stack` inserts a new axis. The inverse operation `split` separates an array into multiple subarrays."
   ]
  },
  {
   "cell_type": "code",
   "execution_count": null,
   "id": "ff022769-53a6-407b-a96c-8960298fe63a",
   "metadata": {},
   "outputs": [],
   "source": [
    "a = np.array([1, 2, 3])\n",
    "b = np.array([4, 5, 6])\n",
    "aa = np.array([[1, 2, 3], [4, 5, 6]])\n",
    "bb = np.array([[7, 8, 9], [10, 11, 12]])"
   ]
  },
  {
   "cell_type": "code",
   "execution_count": null,
   "id": "655d08d1-01f7-4531-ab00-bf30261dca62",
   "metadata": {},
   "outputs": [],
   "source": [
    "np.concatenate((a, b))"
   ]
  },
  {
   "cell_type": "code",
   "execution_count": null,
   "id": "98add0c7-2c92-416a-9e50-b4163e0cd7bf",
   "metadata": {},
   "outputs": [],
   "source": [
    "np.stack((a, b), axis=0)"
   ]
  },
  {
   "cell_type": "code",
   "execution_count": null,
   "id": "94c446e7-5570-4468-a117-512603e90e5a",
   "metadata": {},
   "outputs": [],
   "source": [
    "np.stack((a, b), axis=1)"
   ]
  },
  {
   "cell_type": "code",
   "execution_count": null,
   "id": "037b09c1-077d-4a76-a0a0-9d34033a5d88",
   "metadata": {},
   "outputs": [],
   "source": [
    "np.vstack([a, b])"
   ]
  },
  {
   "cell_type": "code",
   "execution_count": null,
   "id": "fccb70c8-907f-47a7-872f-b6dbef4b4ab6",
   "metadata": {},
   "outputs": [],
   "source": [
    "np.hstack([a, b])"
   ]
  },
  {
   "cell_type": "markdown",
   "id": "2171fde2-5e4c-45a2-888b-fb2376657b2b",
   "metadata": {
    "tags": []
   },
   "source": [
    "## Indexing\n",
    "\n",
    "__Indexing__ allows to extract or referenece (non-)contiguous segments of an array. Numpy generalizes Python's native indexing from one-dimensional to multi-dimensional arrays and also distinguishes between basic and advanced indexing. __Basic indexing__ (a.k.a slicing) creates __views__ of an array with the help of slice objects `[start:stop:step]`, just as in native Python. Views behave like references to the array from which they are created and thus writing to a view means directly writing to the underlying array. __Advanced indexing__ returns a __copy__ of the segment and is used whenever the selection is not performed with slice objects, e.g. with an integer array."
   ]
  },
  {
   "cell_type": "code",
   "execution_count": null,
   "id": "6d2027bb-d6c7-459c-beea-94db92d38254",
   "metadata": {},
   "outputs": [],
   "source": [
    "a = np.arange(0, 10)"
   ]
  },
  {
   "cell_type": "code",
   "execution_count": null,
   "id": "7042e354-dadc-40d7-8129-ad357818b66c",
   "metadata": {},
   "outputs": [],
   "source": [
    "b = a[2:7]\n",
    "print(b)"
   ]
  },
  {
   "cell_type": "code",
   "execution_count": null,
   "id": "beaafba9-40c0-4fc7-810e-796a35aec587",
   "metadata": {},
   "outputs": [],
   "source": [
    "b[3] = 123\n",
    "print(a)"
   ]
  },
  {
   "cell_type": "code",
   "execution_count": null,
   "id": "0a1fb661-5f89-4835-baef-caeaac1ef21d",
   "metadata": {},
   "outputs": [],
   "source": [
    "c = a[0:4:2]\n",
    "print(c)"
   ]
  },
  {
   "cell_type": "markdown",
   "id": "78bcf673-0d21-4a80-8405-613167218a2c",
   "metadata": {},
   "source": [
    "__Negative indices__ are a convenient way to index arrays in reverse, i.e. beginning from the last element."
   ]
  },
  {
   "cell_type": "code",
   "execution_count": null,
   "id": "a0d48c68-7264-41c4-8777-56825b78cab2",
   "metadata": {},
   "outputs": [],
   "source": [
    "last = a[-1]\n",
    "print(last)"
   ]
  },
  {
   "cell_type": "markdown",
   "id": "d6a06aea-2e25-4a36-8ce3-49db2604a532",
   "metadata": {},
   "source": [
    "As in native Python, a __semicolon__ can be used instead of a specific start or end index. "
   ]
  },
  {
   "cell_type": "code",
   "execution_count": null,
   "id": "9647d4bf-fcf4-4cf0-830f-b90559a0228e",
   "metadata": {},
   "outputs": [],
   "source": [
    "print(a[:5])\n",
    "print(a[3::3])"
   ]
  },
  {
   "cell_type": "markdown",
   "id": "678d7653-9add-45a1-8fc1-37f1cdc99395",
   "metadata": {},
   "source": [
    "With __boolean indexing__ each array element can be tested for a given condition. The result is a boolean array."
   ]
  },
  {
   "cell_type": "code",
   "execution_count": null,
   "id": "b4fed624-9dbc-409a-ba9c-0ce9f066fdc6",
   "metadata": {},
   "outputs": [],
   "source": [
    "aleqfive = (a <= 5)\n",
    "print(aleqfive)"
   ]
  },
  {
   "cell_type": "markdown",
   "id": "864655fe-3d34-40c1-a32f-be206ea26c3b",
   "metadata": {},
   "source": [
    "Such boolean arrays can serve as a selection __mask__."
   ]
  },
  {
   "cell_type": "code",
   "execution_count": null,
   "id": "8452cbd5-82b2-4a32-a4a5-a35df3882607",
   "metadata": {},
   "outputs": [],
   "source": [
    "agrtfive = np.invert(aleqfive)\n",
    "print(a[agrtfive])"
   ]
  },
  {
   "cell_type": "code",
   "execution_count": null,
   "id": "af22e03a-8b7c-4ad6-8bda-06f025fe20c5",
   "metadata": {},
   "outputs": [],
   "source": [
    "ind = [1, 3, 9]\n",
    "aind = a[ind]\n",
    "print(aind)"
   ]
  },
  {
   "cell_type": "code",
   "execution_count": null,
   "id": "59250c17-be7a-43f3-8802-6f8fd32f199f",
   "metadata": {},
   "outputs": [],
   "source": [
    "aind[1] = 1337\n",
    "print(aind)\n",
    "print(a)"
   ]
  },
  {
   "cell_type": "markdown",
   "id": "c83ba652-b0b7-440b-b3e1-d8cbc0612c0d",
   "metadata": {},
   "source": [
    "These indexing techniques naturally generalize to multidimensional arrays by using __commas__ to seperate dimensions."
   ]
  },
  {
   "cell_type": "code",
   "execution_count": null,
   "id": "c443d407-b626-412d-a965-4fdf21ba4e4f",
   "metadata": {},
   "outputs": [],
   "source": [
    "b = np.array([np.arange(0,5),np.arange(5,10),np.arange(10,15),np.arange(15,20),np.arange(20,25)])\n",
    "print(b)"
   ]
  },
  {
   "cell_type": "code",
   "execution_count": null,
   "id": "21757ceb-ffd8-4dfd-9865-c2f70f84cb60",
   "metadata": {},
   "outputs": [],
   "source": [
    "print(b[::2,::2])"
   ]
  },
  {
   "cell_type": "code",
   "execution_count": null,
   "id": "83daa681-6bc0-4b5c-9992-7c48db868f79",
   "metadata": {},
   "outputs": [],
   "source": [
    "print(b[1::3,1::3])"
   ]
  },
  {
   "cell_type": "markdown",
   "id": "8a9c4d45-ff57-4f67-bc3a-ffd4e5a45d30",
   "metadata": {},
   "source": [
    "__Fancy indexing__ facilitates access and modification of complicated subarrays by using arrays instead of scalars as indices. The resulting array has the same shape as the index array rather than the shape of the accessed array."
   ]
  },
  {
   "cell_type": "code",
   "execution_count": null,
   "id": "5daad2ef-ad71-4b79-82f5-bb511538a68c",
   "metadata": {},
   "outputs": [],
   "source": [
    "a = np.arange(0, 20)\n",
    "ind = [1, 3, 15]\n",
    "print(a[ind])"
   ]
  },
  {
   "cell_type": "markdown",
   "id": "66cee6fd-d7d8-4659-be12-ce420aeaa4a6",
   "metadata": {},
   "source": [
    "An __ellipsis__ expands the number of semicolons such that all dimensions are indexed."
   ]
  },
  {
   "cell_type": "code",
   "execution_count": null,
   "id": "25bd1f75-f439-4732-aff2-92b327780c25",
   "metadata": {},
   "outputs": [],
   "source": [
    "c = np.array([[[1, 2],\n",
    "               [3, 4]],\n",
    "              [[5, 6],\n",
    "               [7, 8]]])\n",
    "print(c[0])"
   ]
  },
  {
   "cell_type": "code",
   "execution_count": null,
   "id": "60cb1357-150b-4f0c-93d1-a2606545d84f",
   "metadata": {},
   "outputs": [],
   "source": [
    "print(c[..., 1])"
   ]
  },
  {
   "cell_type": "code",
   "execution_count": null,
   "id": "07a2000c-9576-4097-be5b-940dc6bb6e79",
   "metadata": {},
   "outputs": [],
   "source": [
    "print(c[:,:,1])"
   ]
  },
  {
   "cell_type": "markdown",
   "id": "f7bca407-6306-426d-a6e6-2fd9adce22fd",
   "metadata": {
    "tags": []
   },
   "source": [
    "## Data Types\n",
    "\n",
    "NumPy extends Python's type system by several variations of [numerical data types](https://numpy.org/doc/stable/reference/arrays.scalars.html). Most of them have platform-specific definitions which is why they are represented by fixed-size aliases. With some exposure to C or C++, these types are quite familiar. Per default, a Python `int` gets converted to a `np.int32` or `np.int64` type, depending on the operating system and the Python version. Python's `float` is an IEEE 754-standardized C `double` and therefpre represented in NumPy as `np.float64`."
   ]
  },
  {
   "cell_type": "markdown",
   "id": "fd5011ca-85c9-4b9f-9685-f2e9ecd9c0fe",
   "metadata": {},
   "source": [
    "NumPy's array creation functions have a keyword argument `dtype` that allows to set the data type."
   ]
  },
  {
   "cell_type": "code",
   "execution_count": null,
   "id": "9314edee-e50b-438b-a8fe-a012e232937f",
   "metadata": {},
   "outputs": [],
   "source": [
    "np.array([2, 3, 4], dtype=np.uint16).nbytes"
   ]
  },
  {
   "cell_type": "markdown",
   "id": "736be42a-d462-4200-a292-89323f6d6787",
   "metadata": {},
   "source": [
    "Booleans in NumPy are much faster then native Python booleans. NumPy requires 1 byte for each boolean value, while Python stores a pointer to constant and therefore requires 4 to 8 bytes per value."
   ]
  },
  {
   "cell_type": "code",
   "execution_count": null,
   "id": "fec7cc26-bd37-4dfb-b5b6-204c40119816",
   "metadata": {},
   "outputs": [],
   "source": [
    "import sys\n",
    "\n",
    "sys.getsizeof([True, False, False])"
   ]
  },
  {
   "cell_type": "code",
   "execution_count": null,
   "id": "71626a5f-89a3-430b-85cc-cd8208cff3f2",
   "metadata": {},
   "outputs": [],
   "source": [
    "np.array([True, False, False]).nbytes"
   ]
  },
  {
   "cell_type": "markdown",
   "id": "de810518",
   "metadata": {
    "tags": []
   },
   "source": [
    "## Array Computations and Universal Functions\n",
    "\n",
    "A great deal of reductions on arrays are already included in NumPy. \n",
    "Universal functions are functions that operate element-wise on arrays, i.e. they essentially vectorize functions over arrays  that usuallyusually operate on scalars. Arithmetic operations are an example of such functions. Additional universal functions can also be implemented either as a C extension of NumPy or by the help of `np.vectorize`."
   ]
  },
  {
   "cell_type": "markdown",
   "id": "8d42939c-64e5-4abc-909f-cbb307b30456",
   "metadata": {},
   "source": [
    "In order to deal with arrays whose shapes do not match, NumPy __broadcasts__ the smaller array across the larger one. NumPy compares the arrays' shapes element-wise by working from right to left through the dimension. Two dimensions are compatible if they are equal or one of them is 1, but arrays do not need to have the same number of dimensions. "
   ]
  },
  {
   "cell_type": "code",
   "execution_count": null,
   "id": "cf4665ed-06e9-4b22-bea7-490bbc7bed01",
   "metadata": {},
   "outputs": [],
   "source": [
    "a = np.array([1, 2, 3])\n",
    "b = 5\n",
    "a * b"
   ]
  },
  {
   "cell_type": "code",
   "execution_count": null,
   "id": "22225b43-d093-4576-bb78-a678d6bbd2e5",
   "metadata": {},
   "outputs": [],
   "source": [
    "a = np.array([[1, 2, 3], [4, 5, 6]])\n",
    "b = np.array([1, 2, 3])\n",
    "a * b"
   ]
  },
  {
   "cell_type": "code",
   "execution_count": null,
   "id": "f47b5f34-9851-4486-bb5a-9497db6a4f98",
   "metadata": {},
   "outputs": [],
   "source": [
    "a = np.array([1, 2, 3])\n",
    "b = np.array([1, 2, 3, 4])\n",
    "a * b"
   ]
  },
  {
   "cell_type": "markdown",
   "id": "88470ba7-9a7e-406b-aa40-85f01422c7a2",
   "metadata": {},
   "source": [
    "Writing a new universal functions is done by first defining the function and the converting it with `np.vectorize`.\n",
    "\n",
    "However, the following statement is taken from the [NumPy documentation](https://numpy.org/doc/stable/reference/generated/numpy.vectorize.html):\n",
    "> “The `vectorize` function is provided primarily for convenience, not for performance. The implementation is essentially a for loop.”"
   ]
  },
  {
   "cell_type": "code",
   "execution_count": null,
   "id": "cdd8c9cb-2c5a-4dde-b498-5253c7be332d",
   "metadata": {},
   "outputs": [],
   "source": [
    "def addTo(x, y):\n",
    "    return x+y\n",
    "\n",
    "\n",
    "vaddTo = np.vectorize(addTo)\n",
    "\n",
    "a = np.array([[1, 2, 3], [4, 5, 6]])\n",
    "vaddTo(a, 5)"
   ]
  },
  {
   "cell_type": "code",
   "execution_count": null,
   "id": "ce5d2393-52b1-4845-8a2b-f274a261f915",
   "metadata": {
    "tags": []
   },
   "outputs": [],
   "source": [
    "def someFun(v, ls):\n",
    "    rst = v\n",
    "    for x in ls:\n",
    "        rst = rst + x\n",
    "    for x in ls:\n",
    "        rst = rst * x\n",
    "    return rst\n",
    "\n",
    "\n",
    "vsomeFun = np.vectorize(someFun, excluded=['ls'])\n",
    "\n",
    "a = np.array([[1, 2, 3], [4, 5, 6]])\n",
    "vsomeFun(v=a, ls=[1, 1, 2])"
   ]
  },
  {
   "cell_type": "markdown",
   "id": "6d71959f-d297-4136-b39b-97e414a82b16",
   "metadata": {
    "tags": []
   },
   "source": [
    "## Matrices\n",
    "\n",
    "`np.matrix` is a strictly two-dimensional subclass of the the n-dimensional`np.ndarray` and thus inherits all attributes and methods. However, some methods are overwritten to be more convenient for matrix operations. Several matrix-specific operations are also and form a small [Matrix library](https://numpy.org/doc/stable/reference/routines.matlib.htmlhttps://numpy.org/doc/stable/reference/routines.matlib.html). NumPy's documentation recommends to use `np.ndarray` wherever possible and switch to `np.matrix` only for very good reasons; a decision guide can be found here: [Matrix or Array?](https://numpy.org/devdocs/user/numpy-for-matlab-users.html#array-or-matrix-which-should-i-use)"
   ]
  },
  {
   "cell_type": "code",
   "execution_count": null,
   "id": "7cea477a-dca3-469d-b299-d0d29be5ee70",
   "metadata": {},
   "outputs": [],
   "source": [
    "m = np.mat([[1, 2, 3], [4, 9, 6], [7, 8, 9]])\n",
    "n = np.mat([[7, 9, 8], [3, 1, 2], [5, 6, 94]])\n",
    "assert issubclass(np.matrix, np.ndarray)"
   ]
  },
  {
   "cell_type": "code",
   "execution_count": null,
   "id": "f13b411d-6024-490f-8ff2-744f83ba08d9",
   "metadata": {},
   "outputs": [],
   "source": [
    "m.T"
   ]
  },
  {
   "cell_type": "code",
   "execution_count": null,
   "id": "3dd23b5c-c836-4f24-9d40-0c2b20e15d69",
   "metadata": {},
   "outputs": [],
   "source": [
    "m.I"
   ]
  },
  {
   "cell_type": "code",
   "execution_count": null,
   "id": "19d9762d-255c-4d5c-99af-883d153f956a",
   "metadata": {},
   "outputs": [],
   "source": [
    "m.H"
   ]
  },
  {
   "cell_type": "code",
   "execution_count": null,
   "id": "7a64fa09-068f-4826-9a6c-a742dc633c29",
   "metadata": {},
   "outputs": [],
   "source": [
    "m**2"
   ]
  },
  {
   "cell_type": "code",
   "execution_count": null,
   "id": "fa9f597f-9c31-40f4-adfe-26063486cfda",
   "metadata": {},
   "outputs": [],
   "source": [
    "m*n"
   ]
  }
 ],
 "metadata": {
  "kernelspec": {
   "display_name": "Python 3 (ipykernel)",
   "language": "python",
   "name": "python3"
  },
  "language_info": {
   "codemirror_mode": {
    "name": "ipython",
    "version": 3
   },
   "file_extension": ".py",
   "mimetype": "text/x-python",
   "name": "python",
   "nbconvert_exporter": "python",
   "pygments_lexer": "ipython3",
   "version": "3.10.6"
  }
 },
 "nbformat": 4,
 "nbformat_minor": 5
}
