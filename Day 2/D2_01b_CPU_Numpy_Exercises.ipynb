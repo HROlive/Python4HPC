{
 "cells": [
  {
   "cell_type": "markdown",
   "id": "0121233e-52d7-4516-9f39-634e1ef3ae50",
   "metadata": {},
   "source": [
    "# NumPy - Exercises"
   ]
  },
  {
   "cell_type": "markdown",
   "id": "a5e0e62f-b90a-4591-b87b-d63ea603e16c",
   "metadata": {
    "jp-MarkdownHeadingCollapsed": true,
    "tags": []
   },
   "source": [
    "## NumPy - 1st Exercise\n",
    "\n",
    "Given two vectors $a$ and $b$, compute $((a+b)*(-a/2))$ without creating any copies, i.e. by exclusively using in-place operations."
   ]
  },
  {
   "cell_type": "code",
   "execution_count": 22,
   "id": "8039ead2-b649-4801-b6a8-dc060bcee887",
   "metadata": {},
   "outputs": [
    {
     "name": "stdout",
     "output_type": "stream",
     "text": [
      "[6. 6. 6. 6. 6. 6. 6. 6. 6. 6.]\n",
      "[18. 18. 18. 18. 18. 18. 18. 18. 18. 18.]\n"
     ]
    }
   ],
   "source": [
    "import numpy as np\n",
    "\n",
    "\n",
    "a = np.full(10, 6.0)\n",
    "b = np.full(10, 18.0)\n",
    "print(a)\n",
    "print(b)"
   ]
  },
  {
   "cell_type": "markdown",
   "id": "af5c2cc0-31bb-43d4-a800-899a9f8befc9",
   "metadata": {
    "jp-MarkdownHeadingCollapsed": true,
    "tags": []
   },
   "source": [
    "#### Solution Proposal"
   ]
  },
  {
   "cell_type": "code",
   "execution_count": 23,
   "id": "75e9b52b-b966-4009-b7db-81bd24516de3",
   "metadata": {},
   "outputs": [
    {
     "name": "stdout",
     "output_type": "stream",
     "text": [
      "[6. 6. 6. 6. 6. 6. 6. 6. 6. 6.]\n",
      "[18. 18. 18. 18. 18. 18. 18. 18. 18. 18.]\n",
      "[-72. -72. -72. -72. -72. -72. -72. -72. -72. -72.]\n"
     ]
    }
   ],
   "source": [
    "import numpy as np\n",
    "\n",
    "\n",
    "a = np.full(10, 6.0)\n",
    "b = np.full(10, 18.0)\n",
    "print(a)\n",
    "print(b)\n",
    "\n",
    "np.add(a, b, out=b)\n",
    "np.divide(a, 2.0, out=a)\n",
    "np.negative(a, out=a)\n",
    "np.multiply(a, b, out=a)\n",
    "print(a)"
   ]
  },
  {
   "cell_type": "markdown",
   "id": "22c8e69d-c718-4b83-95af-f850e045fc1e",
   "metadata": {
    "jp-MarkdownHeadingCollapsed": true,
    "tags": []
   },
   "source": [
    "## NumPy - 2nd Exercise\n",
    "\n",
    "Given a random 10x2 matrix that represents cartesian coordinates, convert them to polar coordinates.\n",
    "\n",
    "__HINTS__: Use `np.arctan2` and $(r, \\varphi) = (\\sqrt{x^2 + y^2}, \\arctan{\\frac{y}{x}})$."
   ]
  },
  {
   "cell_type": "code",
   "execution_count": 24,
   "id": "8d826f65-4804-49eb-afb9-1fb60231d898",
   "metadata": {},
   "outputs": [],
   "source": [
    "import numpy as np\n",
    "\n",
    "\n",
    "pts = np.random.random((10, 2))"
   ]
  },
  {
   "cell_type": "markdown",
   "id": "6cfe0a15-cf70-444f-9d12-1b07c7069e65",
   "metadata": {
    "jp-MarkdownHeadingCollapsed": true,
    "tags": []
   },
   "source": [
    "#### Solution Proposal"
   ]
  },
  {
   "cell_type": "code",
   "execution_count": 25,
   "id": "0bcee053-5199-4ae1-aff3-1ec1185e4311",
   "metadata": {},
   "outputs": [
    {
     "name": "stdout",
     "output_type": "stream",
     "text": [
      "[1.03002096 0.97664995 1.06368085 0.76390283 0.50819685 0.79887796\n",
      " 0.89780071 0.09941149 1.06447049 1.04375398]\n",
      "[1.26574704 0.65357064 1.14039322 1.45495252 0.85446572 0.30560653\n",
      " 0.7415068  1.16005112 0.36184602 0.925016  ]\n"
     ]
    }
   ],
   "source": [
    "import numpy as np\n",
    "\n",
    "\n",
    "pts = np.random.random((10, 2))\n",
    "\n",
    "xs = pts[:,0]\n",
    "ys = pts[:,1]\n",
    "r = np.sqrt(xs**2 + ys**2)\n",
    "phi = np.arctan2(ys, xs)\n",
    "print(r)\n",
    "print(phi)"
   ]
  },
  {
   "cell_type": "markdown",
   "id": "f1929855-22a9-4e46-a6da-489773688dec",
   "metadata": {
    "jp-MarkdownHeadingCollapsed": true,
    "tags": []
   },
   "source": [
    "## NumPy - 3rd Exercise\n",
    "\n",
    "Define a ufunc that checks whether a given number is square and apply it to the array `nums`, then use the resulting boolean array as a mask to show only the square numbers from `nums`.\n",
    "\n",
    "__HINTS__: Use `np.frompyfunc` and `np.ndarray.astype`."
   ]
  },
  {
   "cell_type": "code",
   "execution_count": 26,
   "id": "bbd3a814-bc6b-4183-89c2-9f8255df2526",
   "metadata": {},
   "outputs": [],
   "source": [
    "import numpy as np\n",
    "\n",
    "\n",
    "nums = np.arange(100)\n",
    "\n",
    "def square(x):\n",
    "    return False"
   ]
  },
  {
   "cell_type": "markdown",
   "id": "59e57ae5-80c9-41e5-93d8-cdc904301db2",
   "metadata": {
    "jp-MarkdownHeadingCollapsed": true,
    "tags": []
   },
   "source": [
    "#### Solution Proposal"
   ]
  },
  {
   "cell_type": "code",
   "execution_count": 27,
   "id": "2e8f1059-ca2b-45d1-aec7-0f8d475eefea",
   "metadata": {},
   "outputs": [
    {
     "name": "stdout",
     "output_type": "stream",
     "text": [
      "[ 0  1  2  3  4  5  6  7  8  9 10 11 12 13 14 15 16 17 18 19 20 21 22 23\n",
      " 24 25 26 27 28 29 30 31 32 33 34 35 36 37 38 39 40 41 42 43 44 45 46 47\n",
      " 48 49 50 51 52 53 54 55 56 57 58 59 60 61 62 63 64 65 66 67 68 69 70 71\n",
      " 72 73 74 75 76 77 78 79 80 81 82 83 84 85 86 87 88 89 90 91 92 93 94 95\n",
      " 96 97 98 99]\n",
      "[ 0  1  4  9 16 25 36 49 64 81]\n"
     ]
    }
   ],
   "source": [
    "import numpy as np\n",
    "\n",
    "\n",
    "nums = np.arange(100)\n",
    "\n",
    "def square(x):\n",
    "    return (x**(1/2)).is_integer()\n",
    " \n",
    "ufunc_square = np.frompyfunc(square, 1, 1)\n",
    "square_nums_mask = ufunc_square(nums).astype(bool)\n",
    "\n",
    "print(nums)\n",
    "print(nums[square_nums_mask])"
   ]
  },
  {
   "cell_type": "markdown",
   "id": "9ab5fcc5-164b-4722-a271-bbfe637c096e",
   "metadata": {
    "jp-MarkdownHeadingCollapsed": true,
    "tags": []
   },
   "source": [
    "## NumPy - 4th Exercise\n",
    "\n",
    "The midpoint Riemann sum gives a simple approximation for an integral. Compute this approximation for the sine function over the intervall [$0$, $2\\pi$] with the resolution `dx`.\n",
    "\n",
    "$\\int_{a}^b f(x)dx = \\sum\\limits_{i=0}^n f(\\frac{x_i + x_{i-1}}{2}) \\Delta x$ with $x_0 = a, x_n = b$"
   ]
  },
  {
   "cell_type": "code",
   "execution_count": 28,
   "id": "44d9cee4-d27d-4bff-bd13-1bd8c0aa7bd0",
   "metadata": {},
   "outputs": [],
   "source": [
    "import numpy as np\n",
    "\n",
    "\n",
    "dx = 0.001\n",
    "xs = np.arange(0, 2*np.pi, dx)"
   ]
  },
  {
   "cell_type": "markdown",
   "id": "8ca6b141-5996-40d3-8994-271380682027",
   "metadata": {
    "jp-MarkdownHeadingCollapsed": true,
    "tags": []
   },
   "source": [
    "#### Solution Proposal"
   ]
  },
  {
   "cell_type": "code",
   "execution_count": 29,
   "id": "a1c98cf2-d8d2-4948-9c35-71eccdb0b833",
   "metadata": {},
   "outputs": [
    {
     "name": "stdout",
     "output_type": "stream",
     "text": [
      "Riemann sum over [0, 2pi]: -0.000699\n"
     ]
    }
   ],
   "source": [
    "import numpy as np\n",
    "\n",
    "\n",
    "dx = 0.1\n",
    "xs = np.arange(0, 2*np.pi, dx)\n",
    "\n",
    "xsm = (xi[1:] + xi[:-1]) / 2\n",
    "rs = np.sum(np.sin(xi) * dx)\n",
    "\n",
    "print(f\"Riemann sum over [{0}, 2pi]: {rs:.6f}\")"
   ]
  },
  {
   "cell_type": "markdown",
   "id": "b8191f08-de81-4d6c-968a-1c3efde182d4",
   "metadata": {
    "jp-MarkdownHeadingCollapsed": true,
    "tags": []
   },
   "source": [
    "## NumPy - 5th Exercise\n",
    "\n",
    "* First create two random, symmetric matrices $A_s$ and $B_s$, then\n",
    "* compute the matrix product $C$ of $A_s$ and $B_s$, then\n",
    "* compute the eigenvalues of $C$, and finally \n",
    "* compute the determinante of $C$.\n",
    "\n",
    "__HINTS__: $A_s = A + A^T$ gives you a symmetric matrix from $A$."
   ]
  },
  {
   "cell_type": "code",
   "execution_count": 30,
   "id": "3d857f1e-8449-434a-a328-a70d10cddc77",
   "metadata": {},
   "outputs": [],
   "source": [
    "import numpy as np\n",
    "\n",
    "\n",
    "A = np.random.random((5, 5))\n",
    "B = np.random.random((5, 5))"
   ]
  },
  {
   "cell_type": "markdown",
   "id": "ff61ec3d-774d-4008-8d7a-3d69b55d02ce",
   "metadata": {
    "jp-MarkdownHeadingCollapsed": true,
    "tags": []
   },
   "source": [
    "#### Solution Proposal"
   ]
  },
  {
   "cell_type": "code",
   "execution_count": 32,
   "id": "45aeb50f-d972-4062-9aab-ad03d96f4730",
   "metadata": {},
   "outputs": [
    {
     "name": "stdout",
     "output_type": "stream",
     "text": [
      "C = [[6.55758569 6.08903394 4.74339947 4.4773704  7.23213939]\n",
      " [3.90229503 3.55158646 2.89236803 1.86948116 5.06070868]\n",
      " [6.42323036 4.59659897 4.71098187 3.47911565 6.36990692]\n",
      " [5.9612812  5.60764753 4.5171865  3.9059854  7.77199224]\n",
      " [5.63776579 3.5867468  4.1315447  2.79413242 5.58567229]]\n",
      "eigs(C) = [24.11231638+0.j         -0.09275176+1.12428579j -0.09275176-1.12428579j\n",
      "  0.04549555+0.j          0.33950332+0.j        ]\n",
      "det(C) = 0.4739702276748588\n"
     ]
    }
   ],
   "source": [
    "import numpy as np\n",
    "\n",
    "\n",
    "A = np.random.random((5, 5))\n",
    "B = np.random.random((5, 5))\n",
    "As = A + A.T\n",
    "Bs = B + B.T\n",
    "C = np.matmul(As, Bs)\n",
    "eigs = np.linalg.eigvals(C)\n",
    "det = np.linalg.det(C)\n",
    "\n",
    "print(f\"C = {C}\")\n",
    "print(f\"eigs(C) = {eigs}\")\n",
    "print(f\"det(C) = {det}\")"
   ]
  },
  {
   "cell_type": "markdown",
   "id": "e135c9bf-5321-4ad0-bf29-4a3a16e6016a",
   "metadata": {
    "jp-MarkdownHeadingCollapsed": true,
    "tags": []
   },
   "source": [
    "## NumPy - 6th Exercise\n",
    "\n",
    "Finite differences can be used to compute numerical derivatives. Use this to approximate the derivative of te sine function over the intervall [$0$, $2\\pi$] with the resolution `dx` and compare this against the cosine. Finally, compute the [root-mean-square error](https://en.wikipedia.org/wiki/Root-mean-square_deviation) of these functions.\n",
    "\n",
    "$f'(x_i) = \\frac{f(x_i + \\Delta x) - f(x_i - \\Delta x)}{2 \\Delta x}$"
   ]
  },
  {
   "cell_type": "code",
   "execution_count": 33,
   "id": "95cf5a18-b796-45c7-ade5-371a5202883f",
   "metadata": {},
   "outputs": [],
   "source": [
    "import numpy as np\n",
    "\n",
    "\n",
    "dx = 0.001\n",
    "xs = np.arange(0, 2*np.pi, dx)"
   ]
  },
  {
   "cell_type": "markdown",
   "id": "2fce01d3-87af-452d-9e5d-89439678a692",
   "metadata": {
    "jp-MarkdownHeadingCollapsed": true,
    "tags": []
   },
   "source": [
    "#### Solution Proposal"
   ]
  },
  {
   "cell_type": "code",
   "execution_count": 34,
   "id": "7cbd6cba-5369-4906-a6e2-0e4682c80610",
   "metadata": {},
   "outputs": [
    {
     "name": "stdout",
     "output_type": "stream",
     "text": [
      "RMSE = 0.001160232964046785\n"
     ]
    }
   ],
   "source": [
    "import numpy as np\n",
    "\n",
    "\n",
    "dx = 0.1\n",
    "xi = np.arange(0, 2*np.pi, dx)\n",
    "\n",
    "fxi = np.sin(xi)\n",
    "df = (fxi[2:] - fxi[:-2]) / (2.0*dx)\n",
    "\n",
    "fcmp = np.cos(xi[1:-1])\n",
    "rmse = np.sqrt(np.mean((df - fcmp)**2))\n",
    "print(f\"RMSE = {rmse}\")"
   ]
  }
 ],
 "metadata": {
  "kernelspec": {
   "display_name": "Python 3 (ipykernel)",
   "language": "python",
   "name": "python3"
  },
  "language_info": {
   "codemirror_mode": {
    "name": "ipython",
    "version": 3
   },
   "file_extension": ".py",
   "mimetype": "text/x-python",
   "name": "python",
   "nbconvert_exporter": "python",
   "pygments_lexer": "ipython3",
   "version": "3.8.10"
  }
 },
 "nbformat": 4,
 "nbformat_minor": 5
}
