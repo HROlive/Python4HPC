{
 "cells": [
  {
   "cell_type": "markdown",
   "id": "863b977d-2a39-4b40-aaf4-3c6981d9b08c",
   "metadata": {},
   "source": [
    "# Bindings - Exercises"
   ]
  },
  {
   "cell_type": "markdown",
   "id": "5ff0c9b9-3bcf-4f6b-bef3-ccb94a057bc7",
   "metadata": {
    "tags": []
   },
   "source": [
    "## CFFI - Exercise\n",
    "\n",
    "You are convinced that writing the number-crunchy loops of your Pi approximation as a CFFI extension is a good idea. Implement the necessary parts to prove your point.\n",
    "\n",
    "___Remarks:___ You do not need to write any C code, that is already done for you. Only the 5th and the 7th cells below require some Python code."
   ]
  },
  {
   "cell_type": "code",
   "execution_count": null,
   "id": "ace53466-d4a0-4a07-8df2-9da2e9bc5366",
   "metadata": {},
   "outputs": [],
   "source": [
    "%%writefile bindings/cffi/exercises/shoot.c\n",
    "\n",
    "# include <math.h>\n",
    "\n",
    "\n",
    "void shoot(double *x, double *y, int *h, int n) {\n",
    "    for (int i = 0; i < n; i++) {\n",
    "            h[i] = (sqrt(x[i]*x[i] + y[i]*y[i]) <= 1.0) ? 1 : 0;\n",
    "    }\n",
    "}"
   ]
  },
  {
   "cell_type": "code",
   "execution_count": null,
   "id": "0d5b3dd0-5312-45ca-b646-a7fba9d13982",
   "metadata": {},
   "outputs": [],
   "source": [
    "%%writefile bindings/cffi/exercises/count.c\n",
    "\n",
    "int count(int *h, int n) {\n",
    "    int hits = 0;\n",
    "    \n",
    "    for (int i = 0; i < n; i++) {\n",
    "        hits += h[i];\n",
    "    }\n",
    "    \n",
    "    return hits;\n",
    "}"
   ]
  },
  {
   "cell_type": "code",
   "execution_count": null,
   "id": "6eb09689-7e4d-4958-b688-6cdfefb7e90f",
   "metadata": {},
   "outputs": [],
   "source": [
    "%%writefile bindings/cffi/exercises/shoot.h\n",
    "\n",
    "void shoot(double *x, double *y, int *h, int n);"
   ]
  },
  {
   "cell_type": "code",
   "execution_count": null,
   "id": "555b940f-a693-4063-8e21-1872f2b3dcb2",
   "metadata": {},
   "outputs": [],
   "source": [
    "%%writefile bindings/cffi/exercises/count.h\n",
    "\n",
    "int count(int *h, int n);"
   ]
  },
  {
   "cell_type": "code",
   "execution_count": null,
   "id": "f9cb5b8a-b631-448d-aca2-4a06d2624995",
   "metadata": {},
   "outputs": [],
   "source": [
    "%%writefile bindings/cffi/exercises/piapprox.py\n",
    "\n",
    "from cffi import FFI\n",
    "ffibuilder = FFI()\n",
    "\n",
    "ffibuilder.cdef(\"\"\" \"\"\")\n",
    "\n",
    "ffibuilder.set_source(\"_pi_approx\",\n",
    "\"\"\"\n",
    "\n",
    "\"\"\",\n",
    "    sources=[', ''],\n",
    "    libraries=['']) \n",
    "\n",
    "if __name__ == \"__main__\":\n",
    "    ffibuilder.compile(verbose=True)"
   ]
  },
  {
   "cell_type": "code",
   "execution_count": null,
   "id": "46d68de3-5385-473d-9de4-3a10ae9db8fe",
   "metadata": {},
   "outputs": [],
   "source": [
    "! cd bindings/cffi/exercises/; python3 piapprox.py"
   ]
  },
  {
   "cell_type": "code",
   "execution_count": null,
   "id": "2d514b16-834b-42db-8823-9f9260cf70d6",
   "metadata": {},
   "outputs": [],
   "source": [
    "%%writefile bindings/cffi/exercises/main.py\n",
    "\n",
    "import numpy as np\n",
    "from _pi_approx import ffi, lib\n",
    "\n",
    "\n",
    "n = 1_000\n",
    "x = np.random.rand(n)\n",
    "y = np.random.rand(n)\n",
    "h = np.zeros(n)\n",
    "\n",
    "xptr = None\n",
    "yptr = None\n",
    "hptr = None\n",
    "lib.shoot(xptr, yptr, hptr, n)\n",
    "pi = 4*lib.count(hptr, n)/n\n",
    "\n",
    "print(pi)"
   ]
  },
  {
   "cell_type": "markdown",
   "id": "ca13ca80-ac2f-4d1f-b3fa-1c3d8a6a0cb2",
   "metadata": {
    "tags": []
   },
   "source": [
    "#### CFFI - Solution Proposal"
   ]
  },
  {
   "cell_type": "code",
   "execution_count": null,
   "id": "6850ff35-80ec-4e92-a3bc-22c758709523",
   "metadata": {},
   "outputs": [],
   "source": [
    "%%writefile bindings/cffi/exercises/shoot.c\n",
    "\n",
    "# include <math.h>\n",
    "\n",
    "\n",
    "void shoot(double *x, double *y, int *h, int n) {\n",
    "    for (int i = 0; i < n; i++) {\n",
    "            h[i] = (sqrt(x[i]*x[i] + y[i]*y[i]) <= 1.0) ? 1 : 0;\n",
    "    }\n",
    "}"
   ]
  },
  {
   "cell_type": "code",
   "execution_count": null,
   "id": "ef6aac8a-5a27-44e6-bccb-71f8b27a9d6d",
   "metadata": {},
   "outputs": [],
   "source": [
    "%%writefile bindings/cffi/exercises/piapprox.py\n",
    "\n",
    "from cffi import FFI\n",
    "ffibuilder = FFI()\n",
    "\n",
    "ffibuilder.cdef(\"\"\"void shoot(double *x, double *y, int *h, int n);\n",
    "                   int count(int *h, int n);\"\"\")\n",
    "\n",
    "ffibuilder.set_source(\"_pi_approx\",\n",
    "\"\"\"\n",
    "    #include \"shoot.h\"\n",
    "    #include \"count.h\"\n",
    "\"\"\",\n",
    "    sources=['shoot.c', 'count.c'],\n",
    "    libraries=['m']) \n",
    "\n",
    "if __name__ == \"__main__\":\n",
    "    ffibuilder.compile(verbose=True)"
   ]
  },
  {
   "cell_type": "code",
   "execution_count": null,
   "id": "f7912a8c-a062-4194-8aa1-952c6bff4d95",
   "metadata": {},
   "outputs": [],
   "source": [
    "%%writefile bindings/cffi/exercises/count.c\n",
    "\n",
    "int count(int *h, int n) {\n",
    "    int hits = 0;\n",
    "    \n",
    "    for (int i = 0; i < n; i++) {\n",
    "        hits += h[i];\n",
    "    }\n",
    "    \n",
    "    return hits;\n",
    "}"
   ]
  },
  {
   "cell_type": "code",
   "execution_count": null,
   "id": "f342dbe8-c512-43ce-806b-434f82417a99",
   "metadata": {},
   "outputs": [],
   "source": [
    "%%writefile bindings/cffi/exercises/shoot.h\n",
    "\n",
    "void shoot(double *x, double *y, int *h, int n);"
   ]
  },
  {
   "cell_type": "code",
   "execution_count": null,
   "id": "0a354375-58b3-49ed-b10d-92974f4364ed",
   "metadata": {},
   "outputs": [],
   "source": [
    "%%writefile bindings/cffi/exercises/count.h\n",
    "\n",
    "int count(int *h, int n);"
   ]
  },
  {
   "cell_type": "code",
   "execution_count": null,
   "id": "acad7753-3c18-45bd-98e8-6f3eb667b446",
   "metadata": {},
   "outputs": [],
   "source": [
    "%%writefile bindings/cffi/exercises/piapprox.py\n",
    "\n",
    "from cffi import FFI\n",
    "ffibuilder = FFI()\n",
    "\n",
    "ffibuilder.cdef(\"\"\"void shoot(double *x, double *y, int *h, int n);\n",
    "                   int count(int *h, int n);\"\"\")\n",
    "\n",
    "ffibuilder.set_source(\"_pi_approx\",\n",
    "\"\"\"\n",
    "    #include \"shoot.h\"\n",
    "    #include \"count.h\"\n",
    "\"\"\",\n",
    "    sources=['shoot.c', 'count.c'],\n",
    "    libraries=['m']) \n",
    "\n",
    "if __name__ == \"__main__\":\n",
    "    ffibuilder.compile(verbose=True)"
   ]
  },
  {
   "cell_type": "code",
   "execution_count": null,
   "id": "3647eab2-9081-4e34-abdd-0cb06b7ea3c6",
   "metadata": {},
   "outputs": [],
   "source": [
    "! cd bindings/cffi/exercises/; python3 piapprox.py"
   ]
  },
  {
   "cell_type": "code",
   "execution_count": null,
   "id": "ec18ee6c-8542-461b-ad9f-c1a4e0794c77",
   "metadata": {},
   "outputs": [],
   "source": [
    "%%writefile bindings/cffi/exercises/main.py\n",
    "\n",
    "import numpy as np\n",
    "from _pi_approx import ffi, lib\n",
    "\n",
    "\n",
    "n = 1_000_000\n",
    "x = np.random.rand(n)\n",
    "y = np.random.rand(n)\n",
    "h = np.zeros(n)\n",
    "\n",
    "xptr = ffi.cast(\"double *\", ffi.from_buffer(x))\n",
    "yptr = ffi.cast(\"double *\", ffi.from_buffer(y))\n",
    "hptr = ffi.cast(\"int *\", ffi.from_buffer(h))\n",
    "lib.shoot(xptr, yptr, hptr, n)\n",
    "pi = 4*lib.count(hptr, n)/n\n",
    "\n",
    "print(pi)"
   ]
  },
  {
   "cell_type": "markdown",
   "id": "c7e3f711-af34-4831-a951-0294463e3c96",
   "metadata": {
    "tags": []
   },
   "source": [
    "## Cython - Exercise\n",
    "\n",
    "The way CFFI treats your code does not suite you, therefore, you want to give Cython a chance. Implement the necessary parts now for Cython.\n",
    "\n",
    "___Remarks:___ Again you do not need to write any C code. Only the 5th, 6th, and 7th cells below require some Python code."
   ]
  },
  {
   "cell_type": "code",
   "execution_count": null,
   "id": "b2e82171-f738-45f1-9a93-d0665b4fae6d",
   "metadata": {},
   "outputs": [],
   "source": [
    "%%writefile bindings/cython/exercises/shoot.c\n",
    "\n",
    "# include <math.h>\n",
    "\n",
    "\n",
    "void shoot(double *x, double *y, int *h, int n) {\n",
    "    for (int i = 0; i < n; i++) {\n",
    "            h[i] = (sqrt(x[i]*x[i] + y[i]*y[i]) <= 1.0) ? 1 : 0;\n",
    "    }\n",
    "}"
   ]
  },
  {
   "cell_type": "code",
   "execution_count": null,
   "id": "f86c43b9-253b-4ed1-b3c0-96933f553b31",
   "metadata": {},
   "outputs": [],
   "source": [
    "%%writefile bindings/cython/exercises/count.c\n",
    "\n",
    "int count(int *h, int n) {\n",
    "    int hits = 0;\n",
    "    \n",
    "    for (int i = 0; i < n; i++) {\n",
    "        hits += h[i];\n",
    "    }\n",
    "    \n",
    "    return hits;\n",
    "}"
   ]
  },
  {
   "cell_type": "code",
   "execution_count": null,
   "id": "0ce35a7b-9937-4347-b912-c248a6c0c04f",
   "metadata": {},
   "outputs": [],
   "source": [
    "%%writefile bindings/cython/exercises/shoot.h\n",
    "\n",
    "void shoot(double *x, double *y, int *h, int n);"
   ]
  },
  {
   "cell_type": "code",
   "execution_count": null,
   "id": "6b7e23e4-341b-4d6e-84f5-f406b4bbbf65",
   "metadata": {},
   "outputs": [],
   "source": [
    "%%writefile bindings/cython/exercises/count.h\n",
    "\n",
    "int count(int *h, int n);"
   ]
  },
  {
   "cell_type": "code",
   "execution_count": null,
   "id": "7c119cda-8752-40ec-ae1b-a80c4682d1c5",
   "metadata": {},
   "outputs": [],
   "source": [
    "%%writefile bindings/cython/exercises/c_shoot.pxd\n",
    "\n",
    "\n",
    "    void shoot(double *x, double *y, int *h, int n)"
   ]
  },
  {
   "cell_type": "code",
   "execution_count": null,
   "id": "092a7da6-085b-4265-b15c-be6de30ecc21",
   "metadata": {},
   "outputs": [],
   "source": [
    "%%writefile bindings/cython/exercises/c_count.pxd\n",
    "\n",
    "\n",
    "    int count(int *h, int n)"
   ]
  },
  {
   "cell_type": "code",
   "execution_count": null,
   "id": "5f985a28-68de-43a0-88af-2f1b56a9d8d6",
   "metadata": {},
   "outputs": [],
   "source": [
    "%%writefile bindings/cython/exercises/py_piapprox.pyx\n",
    "\n",
    "from c_shoot cimport shoot\n",
    "from c_count cimport count\n",
    "\n",
    "cimport numpy as np\n",
    "np.import_array()\n",
    "\n",
    "\n",
    "def piapprox_py():\n",
    "    return None"
   ]
  },
  {
   "cell_type": "code",
   "execution_count": null,
   "id": "42f92ba0-51a4-458b-a92c-a72bc9bb8995",
   "metadata": {},
   "outputs": [],
   "source": [
    "%%writefile bindings/cython/exercises/setup.py\n",
    "\n",
    "import numpy as np\n",
    "from distutils.core import setup\n",
    "from distutils.extension import Extension\n",
    "from Cython.Build import cythonize\n",
    "\n",
    "\n",
    "sourcefiles = ['py_piapprox.pyx', 'shoot.c', 'count.c']\n",
    "extensions = [Extension(\"piapprox\", sourcefiles, include_dirs=[np.get_include()])]\n",
    "\n",
    "setup(\n",
    "    ext_modules=cythonize(extensions),\n",
    "    include_dirs=[np.get_include()]\n",
    ")"
   ]
  },
  {
   "cell_type": "code",
   "execution_count": null,
   "id": "229dc242-7c0f-453e-9d9c-9e6db0437d8a",
   "metadata": {},
   "outputs": [],
   "source": [
    "! cd bindings/cython/exercises ; python3 setup.py build_ext --inplace"
   ]
  },
  {
   "cell_type": "code",
   "execution_count": null,
   "id": "81de38dc-b803-4d87-b622-3cd722729a5a",
   "metadata": {},
   "outputs": [],
   "source": [
    "%%writefile bindings/cython/exercises/main.py\n",
    "\n",
    "import numpy as np\n",
    "from piapprox import piapprox_py\n",
    "\n",
    "\n",
    "n = 1_000_000\n",
    "x = np.random.rand(n)\n",
    "y = np.random.rand(n)\n",
    "h = np.zeros(n, dtype=np.intc)\n",
    "pi = 4*piapprox_py(x, y, h)/n\n",
    "\n",
    "print(pi)"
   ]
  },
  {
   "cell_type": "code",
   "execution_count": null,
   "id": "3eae4b5c-5a15-4943-b4c7-98e929fb35c5",
   "metadata": {},
   "outputs": [],
   "source": [
    "! cd bindings/cython/exercises ; python3 main.py"
   ]
  },
  {
   "cell_type": "markdown",
   "id": "3e557c8a-3f9d-4ba0-acc8-47bb0815b942",
   "metadata": {
    "jp-MarkdownHeadingCollapsed": true,
    "tags": []
   },
   "source": [
    "#### Cython - Solution Proposal"
   ]
  },
  {
   "cell_type": "code",
   "execution_count": null,
   "id": "a82ca501-b046-4462-a101-fefbf1b14604",
   "metadata": {},
   "outputs": [],
   "source": [
    "%%writefile bindings/cython/exercises/shoot.c\n",
    "\n",
    "# include <math.h>\n",
    "\n",
    "\n",
    "void shoot(double *x, double *y, int *h, int n) {\n",
    "    for (int i = 0; i < n; i++) {\n",
    "            h[i] = (sqrt(x[i]*x[i] + y[i]*y[i]) <= 1.0) ? 1 : 0;\n",
    "    }\n",
    "}"
   ]
  },
  {
   "cell_type": "code",
   "execution_count": null,
   "id": "e73253da-38a8-49b7-a634-16aa86292a4e",
   "metadata": {},
   "outputs": [],
   "source": [
    "%%writefile bindings/cython/exercises/count.c\n",
    "\n",
    "int count(int *h, int n) {\n",
    "    int hits = 0;\n",
    "    \n",
    "    for (int i = 0; i < n; i++) {\n",
    "        hits += h[i];\n",
    "    }\n",
    "    \n",
    "    return hits;\n",
    "}"
   ]
  },
  {
   "cell_type": "code",
   "execution_count": null,
   "id": "b9779059-9b2e-466d-8530-153e83d79c3f",
   "metadata": {},
   "outputs": [],
   "source": [
    "%%writefile bindings/cython/exercises/shoot.h\n",
    "\n",
    "void shoot(double *x, double *y, int *h, int n);"
   ]
  },
  {
   "cell_type": "code",
   "execution_count": null,
   "id": "8498c0d4-8039-4ecf-a42f-79129e9865cf",
   "metadata": {},
   "outputs": [],
   "source": [
    "%%writefile bindings/cython/exercises/count.h\n",
    "\n",
    "int count(int *h, int n);"
   ]
  },
  {
   "cell_type": "code",
   "execution_count": null,
   "id": "ef08d1c3-80b7-4848-bd22-00671f104627",
   "metadata": {},
   "outputs": [],
   "source": [
    "%%writefile bindings/cython/exercises/c_shoot.pxd\n",
    "\n",
    "cdef extern from \"shoot.h\":\n",
    "    void shoot(double *x, double *y, int *h, int n)"
   ]
  },
  {
   "cell_type": "code",
   "execution_count": null,
   "id": "08455787-008b-4fd8-ab90-c1f93c3ff37e",
   "metadata": {},
   "outputs": [],
   "source": [
    "%%writefile bindings/cython/exercises/c_count.pxd\n",
    "\n",
    "cdef extern from \"count.h\":\n",
    "    int count(int *h, int n)"
   ]
  },
  {
   "cell_type": "code",
   "execution_count": null,
   "id": "7169782b-7b88-4b5e-94cf-7309ca448df0",
   "metadata": {},
   "outputs": [],
   "source": [
    "%%writefile bindings/cython/exercises/py_piapprox.pyx\n",
    "\n",
    "from c_shoot cimport shoot\n",
    "from c_count cimport count\n",
    "\n",
    "cimport numpy as np\n",
    "np.import_array()\n",
    "\n",
    "\n",
    "def piapprox_py(np.ndarray[double, ndim=1, mode=\"c\"] x not None,\n",
    "                np.ndarray[double, ndim=1, mode=\"c\"] y not None,\n",
    "                np.ndarray[int, ndim=1, mode=\"c\"] h not None):\n",
    "    shoot(&x[0], &y[0], &h[0], x.shape[0])\n",
    "    return count(&h[0], x.shape[0])"
   ]
  },
  {
   "cell_type": "code",
   "execution_count": null,
   "id": "fe9acae5-ace3-4f26-99bd-8622442e81cd",
   "metadata": {},
   "outputs": [],
   "source": [
    "%%writefile bindings/cython/exercises/setup.py\n",
    "\n",
    "import numpy as np\n",
    "from distutils.core import setup\n",
    "from distutils.extension import Extension\n",
    "from Cython.Build import cythonize\n",
    "\n",
    "\n",
    "sourcefiles = ['py_piapprox.pyx', 'shoot.c', 'count.c']\n",
    "extensions = [Extension(\"piapprox\", sourcefiles, include_dirs=[np.get_include()])]\n",
    "\n",
    "setup(\n",
    "    ext_modules=cythonize(extensions),\n",
    "    include_dirs=[np.get_include()]\n",
    ")"
   ]
  },
  {
   "cell_type": "code",
   "execution_count": null,
   "id": "6992cfd7-3ee8-43f5-a147-0bc438392032",
   "metadata": {},
   "outputs": [],
   "source": [
    "! cd bindings/cython/exercises ; python3 setup.py build_ext --inplace"
   ]
  },
  {
   "cell_type": "code",
   "execution_count": null,
   "id": "ab010d4a-d89e-4219-a2c1-7a0d8e039aa3",
   "metadata": {},
   "outputs": [],
   "source": [
    "%%writefile bindings/cython/exercises/main.py\n",
    "\n",
    "import numpy as np\n",
    "from piapprox import piapprox_py\n",
    "\n",
    "\n",
    "n = 1_000_000\n",
    "x = np.random.rand(n)\n",
    "y = np.random.rand(n)\n",
    "h = np.zeros(n, dtype=np.intc)\n",
    "pi = 4*piapprox_py(x, y, h)/n\n",
    "\n",
    "print(pi)"
   ]
  },
  {
   "cell_type": "code",
   "execution_count": null,
   "id": "abe59328-73e6-40fa-95cd-097bdb752854",
   "metadata": {},
   "outputs": [],
   "source": [
    "! cd bindings/cython/exercises ; python3 main.py"
   ]
  },
  {
   "cell_type": "markdown",
   "id": "964d1055-7072-424a-adcc-b62d00e4078a",
   "metadata": {
    "tags": []
   },
   "source": [
    "# f2py - Exercise\n",
    "\n",
    "As a relaxation exercise, generate wrappers with `f2py` for the Fortran file below and call them.\n",
    "\n",
    "___Remarks:___ It is not necessary to write any Fortran code. Only the 2nd and 3rd cells below require adaptation."
   ]
  },
  {
   "cell_type": "code",
   "execution_count": null,
   "id": "fdf9578c-0720-42ec-b7dc-278a19745acc",
   "metadata": {},
   "outputs": [],
   "source": [
    "%%writefile bindings/f2py/exercises/add.f90\n",
    "\n",
    "subroutine add(a, b, c, n)\n",
    "\n",
    " implicit none\n",
    "\n",
    " real(kind=8), intent(in) :: a(n)\n",
    " real(kind=8), intent(in) :: b(n)\n",
    " real(kind=8), intent(out) :: c(n)\n",
    " integer :: n\n",
    "\n",
    " c = a + b\n",
    "\n",
    "end subroutine"
   ]
  },
  {
   "cell_type": "code",
   "execution_count": null,
   "id": "e676499e-9e10-4ce7-9bc3-1eced57a751e",
   "metadata": {},
   "outputs": [],
   "source": [
    "! cd bindings/f2py/exercises ; f2py3 ..."
   ]
  },
  {
   "cell_type": "code",
   "execution_count": null,
   "id": "a1496f8a-f689-4e7f-8bfb-38a9c4ecc11e",
   "metadata": {},
   "outputs": [],
   "source": [
    "%%writefile bindings/f2py/exercises/addpy.py\n",
    "\n",
    "import numpy as np\n",
    "from fmadd import add\n",
    "\n",
    "x = np.arange(10.)\n",
    "y = np.arange(10.)\n",
    "z = None\n",
    "print(z)"
   ]
  },
  {
   "cell_type": "code",
   "execution_count": null,
   "id": "7e5d96da-81cd-425b-bfc8-3d8145024e98",
   "metadata": {},
   "outputs": [],
   "source": [
    "! python3 bindings/f2py/fibpy.py"
   ]
  },
  {
   "cell_type": "markdown",
   "id": "72e61a99-0921-407d-bd4e-b26fe9fe44f0",
   "metadata": {
    "jp-MarkdownHeadingCollapsed": true,
    "tags": []
   },
   "source": [
    "#### f2py - Solution Proposal"
   ]
  },
  {
   "cell_type": "code",
   "execution_count": null,
   "id": "23dc7b93-f3ce-4fe0-9333-9427c0c98eee",
   "metadata": {},
   "outputs": [],
   "source": [
    "%%writefile bindings/f2py/exercises/add.f90\n",
    "\n",
    "subroutine add(a, b, c, n)\n",
    "\n",
    " implicit none\n",
    "\n",
    " real(kind=8), intent(in) :: a(n)\n",
    " real(kind=8), intent(in) :: b(n)\n",
    " real(kind=8), intent(out) :: c(n)\n",
    " integer :: n\n",
    "\n",
    " c = a + b\n",
    "\n",
    "end subroutine"
   ]
  },
  {
   "cell_type": "code",
   "execution_count": null,
   "id": "a3e499ac-1412-463f-971b-5e60de703783",
   "metadata": {},
   "outputs": [],
   "source": [
    "! cd bindings/f2py/exercises ; f2py3 -c add.f90 -m fmadd"
   ]
  },
  {
   "cell_type": "code",
   "execution_count": null,
   "id": "cd5a11bf-b5a6-4ea3-94af-93e2d0436100",
   "metadata": {},
   "outputs": [],
   "source": [
    "%%writefile bindings/f2py/exercises/addpy.py\n",
    "\n",
    "import numpy as np\n",
    "from fmadd import add\n",
    "\n",
    "x = np.arange(10.)\n",
    "y = np.arange(10.)\n",
    "z = add(x, y)\n",
    "print(z)"
   ]
  },
  {
   "cell_type": "code",
   "execution_count": null,
   "id": "c9b81a38-92f7-45c0-bd5e-66e2ffdc6b43",
   "metadata": {},
   "outputs": [],
   "source": [
    "! python3 bindings/f2py/fibpy.py"
   ]
  }
 ],
 "metadata": {
  "kernelspec": {
   "display_name": "Python 3 (ipykernel)",
   "language": "python",
   "name": "python3"
  },
  "language_info": {
   "codemirror_mode": {
    "name": "ipython",
    "version": 3
   },
   "file_extension": ".py",
   "mimetype": "text/x-python",
   "name": "python",
   "nbconvert_exporter": "python",
   "pygments_lexer": "ipython3",
   "version": "3.10.6"
  }
 },
 "nbformat": 4,
 "nbformat_minor": 5
}
