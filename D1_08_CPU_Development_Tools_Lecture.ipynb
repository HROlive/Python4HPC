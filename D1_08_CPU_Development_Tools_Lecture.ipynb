{
 "cells": [
  {
   "cell_type": "markdown",
   "id": "60a86372",
   "metadata": {},
   "source": [
    "# Development Tools"
   ]
  },
  {
   "cell_type": "markdown",
   "id": "408deb07",
   "metadata": {},
   "source": [
    "## Python Virtual Environments\n",
    "\n",
    "Many Unix/Linux systems come preinstalled with python nowadays. However in most systems the installation of new packages requires superuser privileges. Furthermore the version that is provided by the system may not be the one you want or need. If you have multiple projects, depending on different versions of libraries can be even more cumbersome to maintain."
   ]
  },
  {
   "cell_type": "markdown",
   "id": "fb83dddf",
   "metadata": {},
   "source": [
    "### Python venv\n",
    "\n",
    "*More information in the ___[Venv Docs](https://docs.python.org/3/library/venv.html)___*\n",
    "\n",
    "For this reason python 3 (since version 3.3) comes with the builtin module **venv** that supports having so called *virtual environments*. This allows a user to install the exact version of the libraries they want to use without needing any superuser privileges. Especially when you work together on projects or use different machines this is a very valueable tool.\n",
    "\n",
    "To create a new **venv** simply `python -m venv <directory>` to create a new one in the local directory *<directory>*. To simplify the usage the `venv` comes with an activation script that sets up the local environment for usage of the `venv`. For this bash's builtin `source` command is used to activate the environment. Consecutive `pip install` commands will install the packages into this local directory. See the example below."
   ]
  },
  {
   "cell_type": "code",
   "execution_count": 1,
   "id": "e6a3d31d",
   "metadata": {},
   "outputs": [
    {
     "name": "stdout",
     "output_type": "stream",
     "text": [
      "Requirement already satisfied: pip in ./venv/lib/python3.10/site-packages (22.2.1)\n",
      "Collecting pip\n",
      "  Downloading pip-22.2.2-py3-none-any.whl (2.0 MB)\n",
      "     ━━━━━━━━━━━━━━━━━━━━━━━━━━━━━━━━━━━━━━━━ 2.0/2.0 MB 24.6 MB/s eta 0:00:00\n",
      "Requirement already satisfied: setuptools in ./venv/lib/python3.10/site-packages (63.2.0)\n",
      "Collecting setuptools\n",
      "  Downloading setuptools-65.3.0-py3-none-any.whl (1.2 MB)\n",
      "     ━━━━━━━━━━━━━━━━━━━━━━━━━━━━━━━━━━━━━━━━ 1.2/1.2 MB 25.3 MB/s eta 0:00:00\n",
      "Installing collected packages: setuptools, pip\n",
      "  Attempting uninstall: setuptools\n",
      "    Found existing installation: setuptools 63.2.0\n",
      "    Uninstalling setuptools-63.2.0:\n",
      "      Successfully uninstalled setuptools-63.2.0\n",
      "  Attempting uninstall: pip\n",
      "    Found existing installation: pip 22.2.1\n",
      "    Uninstalling pip-22.2.1:\n",
      "      Successfully uninstalled pip-22.2.1\n",
      "Successfully installed pip-22.2.2 setuptools-65.3.0\n",
      "Collecting numba\n",
      "  Downloading numba-0.56.0-cp310-cp310-manylinux2014_x86_64.manylinux_2_17_x86_64.whl (3.5 MB)\n",
      "     ━━━━━━━━━━━━━━━━━━━━━━━━━━━━━━━━━━━━━━━━ 3.5/3.5 MB 68.6 MB/s eta 0:00:00\n",
      "Collecting numpy<1.23,>=1.18\n",
      "  Downloading numpy-1.22.4-cp310-cp310-manylinux_2_17_x86_64.manylinux2014_x86_64.whl (16.8 MB)\n",
      "     ━━━━━━━━━━━━━━━━━━━━━━━━━━━━━━━━━━━━━━━━ 16.8/16.8 MB 59.4 MB/s eta 0:00:00\n",
      "Collecting llvmlite<0.40,>=0.39.0dev0\n",
      "  Downloading llvmlite-0.39.0-cp310-cp310-manylinux_2_17_x86_64.manylinux2014_x86_64.whl (34.6 MB)\n",
      "     ━━━━━━━━━━━━━━━━━━━━━━━━━━━━━━━━━━━━━━━━ 34.6/34.6 MB 65.7 MB/s eta 0:00:00\n",
      "Requirement already satisfied: setuptools in ./venv/lib/python3.10/site-packages (from numba->-r requirements.txt (line 1)) (65.3.0)\n",
      "Installing collected packages: numpy, llvmlite, numba\n",
      "Successfully installed llvmlite-0.39.0 numba-0.56.0 numpy-1.22.4\n",
      "Python 3.10.6\n"
     ]
    }
   ],
   "source": [
    "%%bash -e\n",
    "\n",
    "cd tooling/development/trainvenv\n",
    "\n",
    "# create a new virtual env in folder 'venv' and update pip & setuptools\n",
    "python -m venv venv --upgrade-deps\n",
    "\n",
    "# activate 'venv'\n",
    "source venv/bin/activate\n",
    "\n",
    "# install all requirements into this environment\n",
    "pip install -r requirements.txt\n",
    "\n",
    "python --version"
   ]
  },
  {
   "cell_type": "markdown",
   "id": "c0bf39e2",
   "metadata": {},
   "source": [
    "The biggest benefit of using this solution is that it already comes bundled with the python standard library (since python 3.3) so it should be available on most systems nowadays."
   ]
  },
  {
   "cell_type": "markdown",
   "id": "f4e081ed",
   "metadata": {},
   "source": [
    "### Pipenv (and virtualenv)\n",
    "\n",
    "*More information in the ___[Pipenv Docs](https://pipenv.pypa.io/en/latest/)___*\n",
    "\n",
    "`venv` is nice and does its job very well, but if you're coming from the JavaScript/TypeScript world you will most likely want to have a tool such as `npm` to manage your project dependencies. \n",
    "\n",
    "Python does in fact have an equivalent named **Pipenv**. Pipenv internally uses `pip` and the `virtualenv` package, which is a more advanced virtual environment management tool than `venv` behind the scenes as well as other packages to deliver one whole user experience.\n",
    "\n",
    "It solves a lot of problems for the user:\n",
    "- Use one tool to manage the environment instead of multiple (`pip`, `virtualenv`, `Pipfile` ...)\n",
    "- Hashes are used everywhere for security reasons\n",
    "- You can get insight into the dependency graph (`pipenv graph`)\n",
    "- Can automatically load `.env` files\n",
    "\n",
    "#### Installation\n",
    "\n",
    "You can either install `pipenv` using your operating systems tools (e.g. `homebrew`, `chocolatey`, `apt`, `dnf` ...) or, since **pipenv** is itself a python tool, by using `pip` itself: \n",
    "\n",
    "```bash\n",
    "pip install --user pipenv\n",
    "```\n",
    "\n",
    "Omit the `--user` flag if you want to install it system wide. \n",
    "\n",
    "Attention: Depending on your installation (e.g. homebrew) it may be necessary to manually add the user package directory to the `PATH` environment variable to make use of the `pipenv` command.\n",
    "\n",
    "#### Pipfile and package management\n",
    "\n",
    "*pipenv* uses a file called `Pipfile` to describe the environment. Different sections can be defined to shape your virtual environemnt. \n",
    "\n",
    "See below an exanple `Pipfile`:\n",
    "\n",
    "```Pipfile\n",
    "[[source]]\n",
    "url = \"https://pypi.org/simple\"\n",
    "verify_ssl = true\n",
    "name = \"pypi\"\n",
    "\n",
    "[packages]\n",
    "numba = \"*\"\n",
    "\n",
    "[dev-packages]\n",
    "pytest = \"*\"\n",
    "faker = \"*\"\n",
    "autopep8 = \"*\"\n",
    "\n",
    "[requires]\n",
    "python_version = \"3.10\"\n",
    "```\n",
    "\n",
    "To create a new virtualenv and an empty `Pipfile` enter the project directory and execute the following command to create both by using the currently active python3 version:"
   ]
  },
  {
   "cell_type": "code",
   "execution_count": 2,
   "id": "98b15436",
   "metadata": {
    "tags": []
   },
   "outputs": [
    {
     "name": "stderr",
     "output_type": "stream",
     "text": [
      "Warning: the environment variable LANG is not set!\n",
      "We recommend setting this in ~/.profile (or equivalent) for proper expected behavior.\n",
      "Creating a virtualenv for this project...\n",
      "Pipfile: /home/fs70824/trainee19/python4hpc/tooling/development/pipenv/Pipfile\n",
      "Using /opt/sw/vsc4/VSC/x86_64/generic/jupyterhub-envs/conda/envs/jupyterhub-dask/bin/python (3.10.6) to create virtualenv...\n",
      "⠇ Creating virtual environment...created virtual environment CPython3.10.6.final.0-64 in 1734ms\n",
      "  creator CPython3Posix(dest=/home/fs70824/trainee19/.local/share/virtualenvs/pipenv-8RiZaKDn, clear=False, no_vcs_ignore=False, global=False)\n",
      "  seeder FromAppData(download=False, pip=bundle, setuptools=bundle, wheel=bundle, via=copy, app_data_dir=/home/fs70824/trainee19/.local/share/virtualenv)\n",
      "    added seed packages: pip==22.2.2, setuptools==65.3.0, wheel==0.37.1\n",
      "  activators BashActivator,CShellActivator,FishActivator,NushellActivator,PowerShellActivator,PythonActivator\n",
      "\n",
      "\b✔ Successfully created virtual environment! \n",
      "Virtualenv location: /home/fs70824/trainee19/.local/share/virtualenvs/pipenv-8RiZaKDn\n",
      "Creating a Pipfile for this project...\n",
      "Pipfile.lock not found, creating...\n",
      "Locking [packages] dependencies...\n",
      "Locking [dev-packages] dependencies...\n",
      "Updated Pipfile.lock (e4eef2)!\n"
     ]
    },
    {
     "name": "stdout",
     "output_type": "stream",
     "text": [
      "Installing dependencies from Pipfile.lock (e4eef2)...\n"
     ]
    },
    {
     "name": "stderr",
     "output_type": "stream",
     "text": [
      "  🐍   \u001b[1m▉\u001b[0m\u001b[1m▉\u001b[0m\u001b[1m▉\u001b[0m\u001b[1m▉\u001b[0m\u001b[1m▉\u001b[0m\u001b[1m▉\u001b[0m\u001b[1m▉\u001b[0m\u001b[1m▉\u001b[0m\u001b[1m▉\u001b[0m\u001b[1m▉\u001b[0m\u001b[1m▉\u001b[0m\u001b[1m▉\u001b[0m\u001b[1m▉\u001b[0m\u001b[1m▉\u001b[0m\u001b[1m▉\u001b[0m\u001b[1m▉\u001b[0m\u001b[1m▉\u001b[0m\u001b[1m▉\u001b[0m\u001b[1m▉\u001b[0m\u001b[1m▉\u001b[0m\u001b[1m▉\u001b[0m\u001b[1m▉\u001b[0m\u001b[1m▉\u001b[0m\u001b[1m▉\u001b[0m\u001b[1m▉\u001b[0m\u001b[1m▉\u001b[0m\u001b[1m▉\u001b[0m\u001b[1m▉\u001b[0m\u001b[1m▉\u001b[0m\u001b[1m▉\u001b[0m\u001b[1m▉\u001b[0m\u001b[1m▉\u001b[0m 0/0 — \u001b[30m00:00:00\u001b[0m\n"
     ]
    },
    {
     "name": "stdout",
     "output_type": "stream",
     "text": [
      "To activate this project's virtualenv, run pipenv shell.\n",
      "Alternatively, run a command inside the virtualenv with pipenv run.\n",
      "\n",
      ">>> Resulting Pipfile\n",
      "\n",
      "[[source]]\n",
      "url = \"https://pypi.org/simple\"\n",
      "verify_ssl = true\n",
      "name = \"pypi\"\n",
      "\n",
      "[packages]\n",
      "\n",
      "[dev-packages]\n",
      "\n",
      "[requires]\n",
      "python_version = \"3.10\"\n"
     ]
    }
   ],
   "source": [
    "%%bash -e \n",
    "\n",
    "cd ./tooling/development/pipenv/\n",
    "# ignore conda env\n",
    "export PIPENV_IGNORE_VIRTUALENVS=1\n",
    "# ignore previously set virtual env var\n",
    "export VIRTUAL_ENV=\n",
    "# cleanup old stuff\n",
    "rm -f Pipfile Pipfile.lock requirements.txt\n",
    "pipenv --rm >/dev/null 2>/dev/null || true\n",
    "\n",
    "# specify e.g. --python 3.9 if you want to use a specific python version\n",
    "pipenv install \n",
    "\n",
    "echo\n",
    "echo \">>> Resulting Pipfile\"\n",
    "echo\n",
    "cat Pipfile"
   ]
  },
  {
   "cell_type": "markdown",
   "id": "182df7ed",
   "metadata": {},
   "source": [
    "Please note that this will also create a file called `Pipfile.lock` to track the exact versions and the dependencies of the installed packages. \n",
    "\n",
    "If pipenv recognizes an already existing `requirements.txt` file in the local directory it will automatically migrate all the packages into the `Pipfile`. If you want to do this manually you can also just use `pipenv install -r requirements.txt`"
   ]
  },
  {
   "cell_type": "code",
   "execution_count": 3,
   "id": "a6c02167",
   "metadata": {},
   "outputs": [
    {
     "name": "stdout",
     "output_type": "stream",
     "text": [
      "Writing ./tooling/development/pipenv/requirements.txt\n"
     ]
    }
   ],
   "source": [
    "%%writefile ./tooling/development/pipenv/requirements.txt\n",
    "numba"
   ]
  },
  {
   "cell_type": "code",
   "execution_count": 4,
   "id": "fa6fd382",
   "metadata": {},
   "outputs": [
    {
     "name": "stderr",
     "output_type": "stream",
     "text": [
      "Warning: the environment variable LANG is not set!\n",
      "We recommend setting this in ~/.profile (or equivalent) for proper expected behavior.\n",
      "Creating a virtualenv for this project...\n",
      "Pipfile: /home/fs70824/trainee19/python4hpc/tooling/development/pipenv/Pipfile\n",
      "Using /opt/sw/vsc4/VSC/x86_64/generic/jupyterhub-envs/conda/envs/jupyterhub-dask/bin/python (3.10.6) to create virtualenv...\n",
      "⠹ Creating virtual environment...created virtual environment CPython3.10.6.final.0-64 in 523ms\n",
      "  creator CPython3Posix(dest=/home/fs70824/trainee19/.local/share/virtualenvs/pipenv-8RiZaKDn, clear=False, no_vcs_ignore=False, global=False)\n",
      "  seeder FromAppData(download=False, pip=bundle, setuptools=bundle, wheel=bundle, via=copy, app_data_dir=/home/fs70824/trainee19/.local/share/virtualenv)\n",
      "    added seed packages: pip==22.2.2, setuptools==65.3.0, wheel==0.37.1\n",
      "  activators BashActivator,CShellActivator,FishActivator,NushellActivator,PowerShellActivator,PythonActivator\n",
      "\n",
      "\b✔ Successfully created virtual environment! \n",
      "Virtualenv location: /home/fs70824/trainee19/.local/share/virtualenvs/pipenv-8RiZaKDn\n"
     ]
    },
    {
     "name": "stdout",
     "output_type": "stream",
     "text": [
      "requirements.txt found in /home/fs70824/trainee19/python4hpc/tooling/development/pipenv instead of Pipfile! Converting...\n"
     ]
    },
    {
     "name": "stderr",
     "output_type": "stream",
     "text": [
      "⠹ Importing requirements..✔ Success! \n"
     ]
    },
    {
     "name": "stdout",
     "output_type": "stream",
     "text": [
      "Warning: Your Pipfile now contains pinned versions, if your requirements.txt did. \n",
      "We recommend updating your Pipfile to specify the \"*\" version, instead.\n"
     ]
    },
    {
     "name": "stderr",
     "output_type": "stream",
     "text": [
      "Pipfile.lock not found, creating...\n",
      "Locking [packages] dependencies...\n",
      "Building requirements...\n",
      "Resolving dependencies...\n",
      "⠙ Locking..✔ Success! \n",
      "Locking [dev-packages] dependencies...\n",
      "Updated Pipfile.lock (c8cd67)!\n"
     ]
    },
    {
     "name": "stdout",
     "output_type": "stream",
     "text": [
      "Installing dependencies from Pipfile.lock (c8cd67)...\n"
     ]
    },
    {
     "name": "stderr",
     "output_type": "stream",
     "text": [
      "  🐍   \u001b[1m▉\u001b[0m\u001b[1m▉\u001b[0m\u001b[1m▉\u001b[0m\u001b[1m▉\u001b[0m\u001b[1m▉\u001b[0m\u001b[1m▉\u001b[0m\u001b[1m▉\u001b[0m\u001b[1m▉\u001b[0m\u001b[1m▉\u001b[0m\u001b[1m▉\u001b[0m\u001b[1m▉\u001b[0m\u001b[1m▉\u001b[0m\u001b[1m▉\u001b[0m\u001b[1m▉\u001b[0m\u001b[1m▉\u001b[0m\u001b[1m▉\u001b[0m\u001b[1m▉\u001b[0m\u001b[1m▉\u001b[0m\u001b[1m▉\u001b[0m\u001b[1m▉\u001b[0m\u001b[1m▉\u001b[0m\u001b[1m▉\u001b[0m\u001b[1m▉\u001b[0m\u001b[1m▉\u001b[0m\u001b[1m▉\u001b[0m\u001b[1m▉\u001b[0m\u001b[1m▉\u001b[0m\u001b[1m▉\u001b[0m\u001b[1m▉\u001b[0m\u001b[1m▉\u001b[0m\u001b[1m▉\u001b[0m\u001b[1m▉\u001b[0m 3/3 — \u001b[30m00:00:00\u001b[0m[0m\u001b[38;5;1m▉\u001b[0m\u001b[38;5;1m▉\u001b[0m 2/3 — \u001b[30m00:00:00\u001b[0m[0m\u001b[38;5;1m▉\u001b[0m\u001b[38;5;1m▉\u001b[0m 1/3 — \u001b[30m00:00:00\u001b[0m38;5;1m▉\u001b[0m\u001b[38;5;1m▉\u001b[0m 0/3 — \u001b[30m00:00:00\u001b[0m\n"
     ]
    },
    {
     "name": "stdout",
     "output_type": "stream",
     "text": [
      "To activate this project's virtualenv, run pipenv shell.\n",
      "Alternatively, run a command inside the virtualenv with pipenv run.\n",
      "\n",
      ">>> Resulting Pipfile\n",
      "\n",
      "[[source]]\n",
      "url = \"https://pypi.org/simple\"\n",
      "verify_ssl = true\n",
      "name = \"pypi\"\n",
      "\n",
      "[packages]\n",
      "numba = \"*\"\n",
      "\n",
      "[dev-packages]\n",
      "\n",
      "[requires]\n",
      "python_version = \"3.10\"\n"
     ]
    }
   ],
   "source": [
    "%%bash -e \n",
    "\n",
    "cd ./tooling/development/pipenv/\n",
    "# ignore conda env\n",
    "export PIPENV_IGNORE_VIRTUALENVS=1\n",
    "# ignore previously set virtual env var\n",
    "export VIRTUAL_ENV=\n",
    "# cleanup old stuff\n",
    "rm -f Pipfile Pipfile.lock\n",
    "pipenv --rm >/dev/null 2>/dev/null || true\n",
    "\n",
    "# install again; now with requirements.txt\n",
    "pipenv install\n",
    "\n",
    "echo\n",
    "echo \">>> Resulting Pipfile\"\n",
    "echo\n",
    "cat Pipfile"
   ]
  },
  {
   "cell_type": "markdown",
   "id": "15eac461",
   "metadata": {
    "notebookRunGroups": {
     "groupValue": "1"
    }
   },
   "source": [
    "If there is no pre-existing `requirements.txt` file, the packages can just be added to the empty `Pipfile` in the `[packages]` seciton. Another run of `pipenv install` will then install all packages at once. \n",
    "\n",
    "Alternatively it is also possible to install each package separately by using the syntax `pipenv install <package>`. If pipenv should install a specific version it can be specified by using the corresponding `pip` syntax (e.g. `pipenv install requests~=2.2` or `pipenv install requests>=2.2`). \n",
    "\n",
    "To find out which packages can be upgraded run `pipenv update --outdated`. Please note that this will only show updates if its allowed by the version specifications (e.g. if you pinned a package to a specific version it won't show new versions, since the version is fixed). To actually run the update use `pipenv update`."
   ]
  },
  {
   "cell_type": "code",
   "execution_count": 5,
   "id": "4987b206",
   "metadata": {},
   "outputs": [
    {
     "name": "stderr",
     "output_type": "stream",
     "text": [
      " Locking...Building requirements...\n",
      "Resolving dependencies...\n",
      "⠴ Locking..✔ Success! \n",
      "Skipped Update of Package setuptools: 65.3.0 installed,, 65.3.0 available.\n",
      "Skipped Update of Package numpy: 1.22.4 installed,, 1.23.2 available.\n",
      "Skipped Update of Package numba: 0.56.0 installed, 0.56.0 required (Unpinned in Pipfile), 0.56.0 available.\n",
      "Skipped Update of Package llvmlite: 0.39.0 installed,, 0.39.0 available.\n"
     ]
    },
    {
     "name": "stdout",
     "output_type": "stream",
     "text": [
      "All packages are up to date!\n",
      "Running $ pipenv lock then $ pipenv sync.\n"
     ]
    },
    {
     "name": "stderr",
     "output_type": "stream",
     "text": [
      "Locking [packages] dependencies...\n",
      " Locking...Building requirements...\n",
      "Resolving dependencies...\n",
      "⠸ Locking..✔ Success! \n",
      "Locking [dev-packages] dependencies...\n",
      "Updated Pipfile.lock (c8cd67)!\n"
     ]
    },
    {
     "name": "stdout",
     "output_type": "stream",
     "text": [
      "Installing dependencies from Pipfile.lock (c8cd67)...\n"
     ]
    },
    {
     "name": "stderr",
     "output_type": "stream",
     "text": [
      "  🐍   \u001b[1m▉\u001b[0m\u001b[1m▉\u001b[0m\u001b[1m▉\u001b[0m\u001b[1m▉\u001b[0m\u001b[1m▉\u001b[0m\u001b[1m▉\u001b[0m\u001b[1m▉\u001b[0m\u001b[1m▉\u001b[0m\u001b[1m▉\u001b[0m\u001b[1m▉\u001b[0m\u001b[1m▉\u001b[0m\u001b[1m▉\u001b[0m\u001b[1m▉\u001b[0m\u001b[1m▉\u001b[0m\u001b[1m▉\u001b[0m\u001b[1m▉\u001b[0m\u001b[1m▉\u001b[0m\u001b[1m▉\u001b[0m\u001b[1m▉\u001b[0m\u001b[1m▉\u001b[0m\u001b[1m▉\u001b[0m\u001b[1m▉\u001b[0m\u001b[1m▉\u001b[0m\u001b[1m▉\u001b[0m\u001b[1m▉\u001b[0m\u001b[1m▉\u001b[0m\u001b[1m▉\u001b[0m\u001b[1m▉\u001b[0m\u001b[1m▉\u001b[0m\u001b[1m▉\u001b[0m\u001b[1m▉\u001b[0m\u001b[1m▉\u001b[0m 0/0 — \u001b[30m00:00:00\u001b[0m\n"
     ]
    },
    {
     "name": "stdout",
     "output_type": "stream",
     "text": [
      "To activate this project's virtualenv, run pipenv shell.\n",
      "Alternatively, run a command inside the virtualenv with pipenv run.\n",
      "All dependencies are now up-to-date!\n"
     ]
    }
   ],
   "source": [
    "%%bash -e \n",
    "\n",
    "cd ./tooling/development/pipenv/\n",
    "# ignore conda env\n",
    "export PIPENV_IGNORE_VIRTUALENVS=1\n",
    "# ignore previously set virtual env var\n",
    "export VIRTUAL_ENV=\n",
    "\n",
    "# find outdated packages\n",
    "pipenv update --outdated\n",
    "\n",
    "# actually update packages\n",
    "pipenv update"
   ]
  },
  {
   "cell_type": "markdown",
   "id": "25b95204",
   "metadata": {},
   "source": [
    "In order to remove the packages from the virtual environment without altering the `Pipfile` one can run `pipenv uninstall --all` ."
   ]
  },
  {
   "cell_type": "markdown",
   "id": "872a0475",
   "metadata": {},
   "source": [
    "#### Enter the environment\n",
    "\n",
    "To enter the newly built environment run `pipenv shell`. Every command after this will be executed in the subshell and `python` and `pip` executables from the virtual environment will be used. \n",
    "\n",
    "For example a `pip list` will show the packages installed in the virtual environment. Alternatively also try `pipenv graph` to get a dependency graph of all installed packages.\n",
    "\n",
    "```bash\n",
    "$ cd ./tooling/development/pipenv/\n",
    "$ export PIPENV_IGNORE_VIRTUALENVS=1    # to ignore conda env\n",
    "$ export VIRTUAL_ENV=                   # reset the virtual env var\n",
    "$ pipenv shell\n",
    "(pipenv)$ which python\n",
    "~/.local/share/virtualenvs/pipenv-Escyejvs/bin/python\n",
    "(pipenv)$ pip list\n",
    "Package    Version\n",
    "---------- -------\n",
    "mpi4py     3.1.3\n",
    "pip        22.2.2\n",
    "setuptools 65.3.0\n",
    "wheel      0.37.1\n",
    "```\n",
    "\n",
    "You can try this out interactively using a terminal launcher in the jupyter notebook and entering the commands above. To leave the subshell just use `exit`.\n",
    "\n",
    "Instead of opening a shell you can also just execute a command in the environment by using `pipenv run`"
   ]
  },
  {
   "cell_type": "code",
   "execution_count": 6,
   "id": "46bcaeda-93db-4414-b351-17e6908ddf21",
   "metadata": {},
   "outputs": [
    {
     "name": "stdout",
     "output_type": "stream",
     "text": [
      "/home/fs70824/trainee19/.local/share/virtualenvs/pipenv-8RiZaKDn/bin/python\n"
     ]
    }
   ],
   "source": [
    "%%bash -e \n",
    "\n",
    "cd ./tooling/development/pipenv/\n",
    "# ignore conda env\n",
    "export PIPENV_IGNORE_VIRTUALENVS=1\n",
    "# ignore previously set virtual env var\n",
    "export VIRTUAL_ENV=\n",
    "\n",
    "pipenv run which python"
   ]
  },
  {
   "cell_type": "markdown",
   "id": "f2962aaf",
   "metadata": {},
   "source": [
    "#### Environment and scripts\n",
    "\n",
    "With `pipenv` it is also possible to register certain commands for project management as well as set specific environment variables automatically when entering the virtual env or add small scripts that can be run through pipenv. \n",
    "\n",
    "Run the following code to add a simple script to the Pipfile."
   ]
  },
  {
   "cell_type": "code",
   "execution_count": 7,
   "id": "f6397e0d",
   "metadata": {},
   "outputs": [],
   "source": [
    "%%bash -e\n",
    "if grep \"scripts\" ./tooling/development/pipenv/Pipfile > /dev/null\n",
    "then\n",
    "    exit 0\n",
    "fi\n",
    "\n",
    "cat <<EOT >> ./tooling/development/pipenv/Pipfile\n",
    "\n",
    "[scripts]\n",
    "echospam = \"echo I am really a very silly example\"\n",
    "EOT"
   ]
  },
  {
   "cell_type": "markdown",
   "id": "99529dff-0022-401b-a092-7582e9dc8200",
   "metadata": {},
   "source": [
    "The command can now be executed by using its name together with the run command."
   ]
  },
  {
   "cell_type": "code",
   "execution_count": 8,
   "id": "93d6a154",
   "metadata": {},
   "outputs": [
    {
     "name": "stdout",
     "output_type": "stream",
     "text": [
      "I am really a very silly example\n"
     ]
    }
   ],
   "source": [
    "%%bash -e \n",
    "\n",
    "cd ./tooling/development/pipenv/\n",
    "# ignore conda env\n",
    "export PIPENV_IGNORE_VIRTUALENVS=1\n",
    "# ignore previously set virtual env var\n",
    "export VIRTUAL_ENV=\n",
    "\n",
    "pipenv run echospam"
   ]
  },
  {
   "cell_type": "code",
   "execution_count": 9,
   "id": "7783db40-8251-4ac9-abb7-1b12e30b85d9",
   "metadata": {
    "tags": []
   },
   "outputs": [
    {
     "name": "stdout",
     "output_type": "stream",
     "text": [
      "Removing virtualenv (/home/fs70824/trainee19/.local/share/virtualenvs/pipenv-8RiZaKDn)...\n"
     ]
    },
    {
     "name": "stderr",
     "output_type": "stream",
     "text": [
      "⠧ Running.."
     ]
    }
   ],
   "source": [
    "%%bash -e \n",
    "\n",
    "cd ./tooling/development/pipenv/\n",
    "# ignore conda env\n",
    "export PIPENV_IGNORE_VIRTUALENVS=1\n",
    "# ignore previously set virtual env var\n",
    "export VIRTUAL_ENV=\n",
    "\n",
    "# remove the created env to cleanup\n",
    "pipenv --rm || true"
   ]
  },
  {
   "cell_type": "markdown",
   "id": "7f9684a5",
   "metadata": {},
   "source": [
    "### Anaconda / Conda\n",
    "\n",
    "*More information in the __[Conda User Guide](https://docs.conda.io/projects/conda/en/latest/user-guide/index.html)__*\n",
    "\n",
    "**Anaconda** is a software distribution for python and R and provided by Anaconda Inc. \n",
    "\n",
    "`conda` itself is actually only the package manager and language-agnostic. `conda` was deemed necessary because there were certain problems with `pip` the default python package installer regarding dependency resolution of packages and security issues. It is mainly used to install matching versions of precompiled scientific libraries for python without going through the trouble of compiling them yourself.\n",
    "\n",
    "It is also possible to start with the `Miniconda` installer instead of the full `Anaconda` distribution and download the specific packages that are needed afterwards. There is also another (community) installer named `Miniforge` that has `conda-forge` as main channel per default.\n",
    "\n",
    "#### Channels\n",
    "\n",
    "Conda is similar to other package managers and offers different repositories for installing packages. In conda these repositories are called `channel`. By default conda installs packages from the `default` channel (which is Anaconda Inc's own channel). \n",
    "\n",
    "A very popular conda channel is also the previously mentioned community driven __[conda-forge](https://conda-forge.org/)__ that hosts more recent versions of many packages.\n",
    "\n",
    "`conda` has a highest to lowest channel priority. This means that if a package is found in a higher priority channel (e.g. `default`) and the package satisfies the installation specifications, the packages in the lower priority channels are ignored. If you want to force the install of a version from a lower priority channel you need to use the additional install switch e.g. `--channel conda-forge`. \n",
    "\n",
    "If you always want to install the newest version available you can also disable the channel priority via `conda config --set channel_priority false`. For more infos on channels see __[Managing channels](https://docs.conda.io/projects/conda/en/latest/user-guide/tasks/manage-channels.html#)__.\n",
    "\n",
    "#### Environments\n",
    "\n",
    "`conda` also supports having different environments to manage different installations. However `conda` can do a bit more than the other virtual environments: with conda it is possible to directly install a specific python version for your environment as well as other binary dependencies. \n",
    "\n",
    "After installing `conda` only the `base` environment is usually available. From there you can create other environments, clone environments, install packages and also export environment settings to a file.\n",
    "\n",
    "For example to create a new environment using the latest available python 3.10 and tensorflow you can write:"
   ]
  },
  {
   "cell_type": "code",
   "execution_count": 10,
   "id": "72fb6977",
   "metadata": {},
   "outputs": [
    {
     "name": "stdout",
     "output_type": "stream",
     "text": [
      "Collecting package metadata (current_repodata.json): done\n",
      "Solving environment: done\n",
      "\n",
      "\n",
      "==> WARNING: A newer version of conda exists. <==\n",
      "  current version: 4.12.0\n",
      "  latest version: 4.14.0\n",
      "\n",
      "Please update conda by running\n",
      "\n",
      "    $ conda update -n base -c defaults conda\n",
      "\n",
      "\n",
      "\n",
      "## Package Plan ##\n",
      "\n",
      "  environment location: /home/fs70824/trainee19/.conda/envs/test-env\n",
      "\n",
      "  added / updated specs:\n",
      "    - numba\n",
      "    - python=3.10\n",
      "\n",
      "\n",
      "The following packages will be downloaded:\n",
      "\n",
      "    package                    |            build\n",
      "    ---------------------------|-----------------\n",
      "    openssl-3.0.5              |       h166bdaf_1         2.8 MB  conda-forge\n",
      "    python-3.10.6              |ha86cf86_0_cpython        29.0 MB  conda-forge\n",
      "    ------------------------------------------------------------\n",
      "                                           Total:        31.8 MB\n",
      "\n",
      "The following NEW packages will be INSTALLED:\n",
      "\n",
      "  _libgcc_mutex      conda-forge/linux-64::_libgcc_mutex-0.1-conda_forge\n",
      "  _openmp_mutex      conda-forge/linux-64::_openmp_mutex-4.5-2_gnu\n",
      "  bzip2              conda-forge/linux-64::bzip2-1.0.8-h7f98852_4\n",
      "  ca-certificates    conda-forge/linux-64::ca-certificates-2022.6.15-ha878542_0\n",
      "  ld_impl_linux-64   conda-forge/linux-64::ld_impl_linux-64-2.36.1-hea4e1c9_2\n",
      "  libblas            conda-forge/linux-64::libblas-3.9.0-16_linux64_openblas\n",
      "  libcblas           conda-forge/linux-64::libcblas-3.9.0-16_linux64_openblas\n",
      "  libffi             conda-forge/linux-64::libffi-3.4.2-h7f98852_5\n",
      "  libgcc-ng          conda-forge/linux-64::libgcc-ng-12.1.0-h8d9b700_16\n",
      "  libgfortran-ng     conda-forge/linux-64::libgfortran-ng-12.1.0-h69a702a_16\n",
      "  libgfortran5       conda-forge/linux-64::libgfortran5-12.1.0-hdcd56e2_16\n",
      "  libgomp            conda-forge/linux-64::libgomp-12.1.0-h8d9b700_16\n",
      "  liblapack          conda-forge/linux-64::liblapack-3.9.0-16_linux64_openblas\n",
      "  libllvm11          conda-forge/linux-64::libllvm11-11.1.0-hf817b99_3\n",
      "  libnsl             conda-forge/linux-64::libnsl-2.0.0-h7f98852_0\n",
      "  libopenblas        conda-forge/linux-64::libopenblas-0.3.21-pthreads_h78a6416_2\n",
      "  libsqlite          conda-forge/linux-64::libsqlite-3.39.2-h753d276_1\n",
      "  libstdcxx-ng       conda-forge/linux-64::libstdcxx-ng-12.1.0-ha89aaad_16\n",
      "  libuuid            conda-forge/linux-64::libuuid-2.32.1-h7f98852_1000\n",
      "  libzlib            conda-forge/linux-64::libzlib-1.2.12-h166bdaf_2\n",
      "  llvmlite           conda-forge/linux-64::llvmlite-0.38.1-py310h58363a5_0\n",
      "  ncurses            conda-forge/linux-64::ncurses-6.3-h27087fc_1\n",
      "  numba              conda-forge/linux-64::numba-0.55.2-py310ha5257ce_0\n",
      "  numpy              conda-forge/linux-64::numpy-1.22.4-py310h4ef5377_0\n",
      "  openssl            conda-forge/linux-64::openssl-3.0.5-h166bdaf_1\n",
      "  pip                conda-forge/noarch::pip-22.2.2-pyhd8ed1ab_0\n",
      "  python             conda-forge/linux-64::python-3.10.6-ha86cf86_0_cpython\n",
      "  python_abi         conda-forge/linux-64::python_abi-3.10-2_cp310\n",
      "  readline           conda-forge/linux-64::readline-8.1.2-h0f457ee_0\n",
      "  setuptools         conda-forge/noarch::setuptools-65.3.0-pyhd8ed1ab_1\n",
      "  tk                 conda-forge/linux-64::tk-8.6.12-h27826a3_0\n",
      "  tzdata             conda-forge/noarch::tzdata-2022c-h191b570_0\n",
      "  wheel              conda-forge/noarch::wheel-0.37.1-pyhd8ed1ab_0\n",
      "  xz                 conda-forge/linux-64::xz-5.2.6-h166bdaf_0\n",
      "  zlib               conda-forge/linux-64::zlib-1.2.12-h166bdaf_2\n",
      "\n",
      "\n",
      "\n",
      "Downloading and Extracting Packages\n",
      "python-3.10.6        | 29.0 MB   | ##################################### | 100% \n",
      "openssl-3.0.5        | 2.8 MB    | ##################################### | 100% \n",
      "Preparing transaction: done\n",
      "Verifying transaction: done\n",
      "Executing transaction: done\n",
      "#\n",
      "# To activate this environment, use\n",
      "#\n",
      "#     $ conda activate test-env\n",
      "#\n",
      "# To deactivate an active environment, use\n",
      "#\n",
      "#     $ conda deactivate\n",
      "\n"
     ]
    }
   ],
   "source": [
    "!conda create -y --name test-env --channel conda-forge python=3.10 numba"
   ]
  },
  {
   "cell_type": "markdown",
   "id": "88fb1f51",
   "metadata": {},
   "source": [
    "After conda has solved the constraints and installed all dependencies the environment can be activated with\n",
    "\n",
    "```bash\n",
    "$ conda activate test-env\n",
    "(test-env) $ python3 --version\n",
    "Python 3.10.6\n",
    "```\n",
    "\n",
    "Note: You may need to run `conda init bash` first to add the conda environment to your local bash installation (the command adds code to `~/.bash_profile`). Alternatively you can also just get the init code by using the `--dry-run` flag."
   ]
  },
  {
   "cell_type": "code",
   "execution_count": 11,
   "id": "84fcc580-5fc9-4537-b9b4-740a3b181afb",
   "metadata": {},
   "outputs": [
    {
     "name": "stdout",
     "output_type": "stream",
     "text": [
      " \n",
      "\n",
      "# >>> conda initialize >>>\n",
      "# !! Contents within this block are managed by 'conda init' !!\n",
      "__conda_setup=\"$('/opt/sw/spack-0.12.1/opt/spack/linux-centos7-x86_64/gcc-10.2.0/miniconda3-4.12.0-3rfhbkjuejkik573qn7rlz754x4bfut6/bin/conda' 'shell.bash' 'hook' 2> /dev/null)\"\n",
      "if [ $? -eq 0 ]; then\n",
      "    eval \"$__conda_setup\"\n",
      "else\n",
      "    if [ -f \"/opt/sw/spack-0.12.1/opt/spack/linux-centos7-x86_64/gcc-10.2.0/miniconda3-4.12.0-3rfhbkjuejkik573qn7rlz754x4bfut6/etc/profile.d/conda.sh\" ]; then\n",
      "        . \"/opt/sw/spack-0.12.1/opt/spack/linux-centos7-x86_64/gcc-10.2.0/miniconda3-4.12.0-3rfhbkjuejkik573qn7rlz754x4bfut6/etc/profile.d/conda.sh\"\n",
      "    else\n",
      "        export PATH=\"/opt/sw/spack-0.12.1/opt/spack/linux-centos7-x86_64/gcc-10.2.0/miniconda3-4.12.0-3rfhbkjuejkik573qn7rlz754x4bfut6/bin:$PATH\"\n",
      "    fi\n",
      "fi\n",
      "unset __conda_setup\n",
      "# <<< conda initialize <<<\n",
      "\n"
     ]
    }
   ],
   "source": [
    "%%bash -e\n",
    "\n",
    "conda init bash --dry-run --verbose | grep -E \"^\\+\" | sed 's/+//g' > ./tooling/development/conda/conda-init.sh\n",
    "\n",
    "cat ./tooling/development/conda/conda-init.sh"
   ]
  },
  {
   "cell_type": "markdown",
   "id": "f00e7bf2",
   "metadata": {},
   "source": [
    "#### Environment File\n",
    "\n",
    "To get reproducible environments you should always pin the specific versions you want to use. Apart from listing each package on the commandline its is also possible to create an environment file and use it to setup a conda environment.\n",
    "\n",
    "If you already have an environment named e.g. `test` you can export the currently installed packages with"
   ]
  },
  {
   "cell_type": "code",
   "execution_count": 12,
   "id": "fb3e8dca-dbb3-485f-8860-d844b03dc5f4",
   "metadata": {},
   "outputs": [
    {
     "name": "stdout",
     "output_type": "stream",
     "text": [
      "YAML export fo base conda environment:\n",
      "name: base\n",
      "channels:\n",
      "  - defaults\n",
      "dependencies:\n",
      "  - conda\n",
      "  - python=3.9\n",
      "prefix: /opt/sw/spack-0.12.1/opt/spack/linux-centos7-x86_64/gcc-10.2.0/miniconda3-4.12.0-3rfhbkjuejkik573qn7rlz754x4bfut6\n"
     ]
    }
   ],
   "source": [
    "%%bash -e\n",
    "\n",
    "# use the conda init code to setup env correctly for export\n",
    "source ./tooling/development/conda/conda-init.sh\n",
    "\n",
    "# export the current environment\n",
    "conda env export --from-history --file ./tooling/development/conda/base-env.yaml\n",
    "\n",
    "echo 'YAML export fo base conda environment:'\n",
    "cat ./tooling/development/conda/base-env.yaml"
   ]
  },
  {
   "cell_type": "markdown",
   "id": "5428d2c1-048b-45a2-b06c-917774cfbe7a",
   "metadata": {},
   "source": [
    "To make use of the environment we use the `conda env create` command instead and instead of listing each package we just specify the python version and the environment file.\n",
    "\n",
    "Note that the `prefix` entry will be ignored when using the environment file to create a new environment."
   ]
  },
  {
   "cell_type": "code",
   "execution_count": 13,
   "id": "da247636-7331-4908-b3ad-be93edbfa782",
   "metadata": {},
   "outputs": [
    {
     "name": "stdout",
     "output_type": "stream",
     "text": [
      "Writing ./tooling/development/conda/example-env.yaml\n"
     ]
    }
   ],
   "source": [
    "%%writefile ./tooling/development/conda/example-env.yaml\n",
    "name: example\n",
    "channels:\n",
    "  - defaults\n",
    "  - conda-forge\n",
    "dependencies:\n",
    "  - conda\n",
    "  - python=3.8"
   ]
  },
  {
   "cell_type": "code",
   "execution_count": 14,
   "id": "1357e9e8-6425-49aa-81a2-fafca72210e2",
   "metadata": {},
   "outputs": [
    {
     "name": "stdout",
     "output_type": "stream",
     "text": [
      "Collecting package metadata (repodata.json): ...working... done\n",
      "Solving environment: ...working... done\n"
     ]
    },
    {
     "name": "stderr",
     "output_type": "stream",
     "text": [
      "\n",
      "\n",
      "==> WARNING: A newer version of conda exists. <==\n",
      "  current version: 4.12.0\n",
      "  latest version: 4.14.0\n",
      "\n",
      "Please update conda by running\n",
      "\n",
      "    $ conda update -n base -c defaults conda\n",
      "\n",
      "\n"
     ]
    },
    {
     "name": "stdout",
     "output_type": "stream",
     "text": [
      "\n",
      "Downloading and Extracting Packages\n",
      "libgcc-ng-11.2.0     | 5.3 MB    | ########## | 100% \n",
      "cryptography-37.0.1  | 1.3 MB    | ########## | 100% \n",
      "setuptools-63.4.1    | 1.1 MB    | ########## | 100% \n",
      "urllib3-1.26.11      | 182 KB    | ########## | 100% \n",
      "pip-22.1.2           | 2.5 MB    | ########## | 100% \n",
      "pycosat-0.6.3        | 82 KB     | ########## | 100% \n",
      "pysocks-1.7.1        | 31 KB     | ########## | 100% \n",
      "brotlipy-0.7.0       | 323 KB    | ########## | 100% \n",
      "libstdcxx-ng-11.2.0  | 4.7 MB    | ########## | 100% \n",
      "toolz-0.11.2         | 49 KB     | ########## | 100% \n",
      "cytoolz-0.11.0       | 345 KB    | ########## | 100% \n",
      "tqdm-4.64.0          | 126 KB    | ########## | 100% \n",
      "ca-certificates-2022 | 124 KB    | ########## | 100% \n",
      "conda-package-handli | 885 KB    | ########## | 100% \n",
      "conda-4.14.0         | 916 KB    | ########## | 100% \n",
      "certifi-2022.6.15    | 153 KB    | ########## | 100% \n",
      "requests-2.28.1      | 92 KB     | ########## | 100% \n",
      "ruamel_yaml-0.15.100 | 258 KB    | ########## | 100% \n",
      "sqlite-3.39.2        | 1.1 MB    | ########## | 100% \n",
      "xz-5.2.5             | 339 KB    | ########## | 100% \n",
      "_openmp_mutex-5.1    | 21 KB     | ########## | 100% \n",
      "zlib-1.2.12          | 106 KB    | ########## | 100% \n",
      "libgomp-11.2.0       | 474 KB    | ########## | 100% \n",
      "openssl-1.1.1q       | 2.5 MB    | ########## | 100% \n",
      "cffi-1.15.1          | 228 KB    | ########## | 100% \n",
      "tk-8.6.12            | 3.0 MB    | ########## | 100% \n",
      "ld_impl_linux-64-2.3 | 654 KB    | ########## | 100% \n",
      "python-3.8.13        | 18.8 MB   | ########## | 100% \n",
      "ncurses-6.3          | 781 KB    | ########## | 100% \n",
      "Preparing transaction: ...working... done\n",
      "Verifying transaction: ...working... done\n",
      "Executing transaction: ...working... done\n",
      "#\n",
      "# To activate this environment, use\n",
      "#\n",
      "#     $ conda activate /home/fs70824/trainee19/python4hpc/tooling/development/conda/example-env\n",
      "#\n",
      "# To deactivate an active environment, use\n",
      "#\n",
      "#     $ conda deactivate\n",
      "\n"
     ]
    }
   ],
   "source": [
    "%%bash -e\n",
    "\n",
    "# use the conda init code to setup env correctly for export\n",
    "source ./tooling/development/conda/conda-init.sh\n",
    "\n",
    "conda env create --file ./tooling/development/conda/example-env.yaml --force --prefix ./tooling/development/conda/example-env"
   ]
  },
  {
   "cell_type": "code",
   "execution_count": 15,
   "id": "8b2465db-00e4-4c0c-91b1-6663ad4109e1",
   "metadata": {},
   "outputs": [
    {
     "name": "stdout",
     "output_type": "stream",
     "text": [
      "/home/fs70824/trainee19/python4hpc/tooling/development/conda/example-env/bin/python\n",
      "Package                Version   Location                                                                                                                                     Installer\n",
      "---------------------- --------- -------------------------------------------------------------------------------------------------------------------------------------------- ---------\n",
      "brotlipy               0.7.0     /home/fs70824/trainee19/python4hpc/tooling/development/conda/example-env/lib/python3.8/site-packages\n",
      "certifi                2022.6.15 /home/fs70824/trainee19/python4hpc/tooling/development/conda/example-env/lib/python3.8/site-packages                                         conda\n",
      "cffi                   1.15.1    /home/fs70824/trainee19/python4hpc/tooling/development/conda/example-env/lib/python3.8/site-packages                                         conda\n",
      "charset-normalizer     2.0.4     /home/fs70824/trainee19/python4hpc/tooling/development/conda/example-env/lib/python3.8/site-packages                                         conda\n",
      "conda                  4.14.0    /home/fs70824/trainee19/python4hpc/tooling/development/conda/example-env/lib/python3.8/site-packages\n",
      "conda-package-handling 1.8.1     /home/fs70824/trainee19/python4hpc/tooling/development/conda/example-env/lib/python3.8/site-packages                                         conda\n",
      "cryptography           37.0.1    /home/fs70824/trainee19/python4hpc/tooling/development/conda/example-env/lib/python3.8/site-packages                                         conda\n",
      "cytoolz                0.11.0    /home/fs70824/trainee19/python4hpc/tooling/development/conda/example-env/lib/python3.8/site-packages\n",
      "idna                   3.3       /home/fs70824/trainee19/python4hpc/tooling/development/conda/example-env/lib/python3.8/site-packages                                         conda\n",
      "mpi4py                 3.1.3     /opt/sw/spack-0.12.1/opt/spack/linux-centos7-x86_64/gcc-10.2.0/py-mpi4py-3.1.3-zoxw7teru6j7zjsb3synnj2jzft6w5qr/lib/python3.10/site-packages\n",
      "pip                    22.1.2    /home/fs70824/trainee19/python4hpc/tooling/development/conda/example-env/lib/python3.8/site-packages\n",
      "pycosat                0.6.3     /home/fs70824/trainee19/python4hpc/tooling/development/conda/example-env/lib/python3.8/site-packages\n",
      "pycparser              2.21      /home/fs70824/trainee19/python4hpc/tooling/development/conda/example-env/lib/python3.8/site-packages                                         conda\n",
      "pyOpenSSL              22.0.0    /home/fs70824/trainee19/python4hpc/tooling/development/conda/example-env/lib/python3.8/site-packages                                         conda\n",
      "PySocks                1.7.1     /home/fs70824/trainee19/python4hpc/tooling/development/conda/example-env/lib/python3.8/site-packages                                         conda\n",
      "requests               2.28.1    /home/fs70824/trainee19/python4hpc/tooling/development/conda/example-env/lib/python3.8/site-packages                                         conda\n",
      "ruamel-yaml-conda      0.15.100  /home/fs70824/trainee19/python4hpc/tooling/development/conda/example-env/lib/python3.8/site-packages                                         conda\n",
      "setuptools             63.4.1    /home/fs70824/trainee19/python4hpc/tooling/development/conda/example-env/lib/python3.8/site-packages\n",
      "toolz                  0.11.2    /home/fs70824/trainee19/python4hpc/tooling/development/conda/example-env/lib/python3.8/site-packages                                         conda\n",
      "tqdm                   4.64.0    /home/fs70824/trainee19/python4hpc/tooling/development/conda/example-env/lib/python3.8/site-packages                                         conda\n",
      "urllib3                1.26.11   /home/fs70824/trainee19/python4hpc/tooling/development/conda/example-env/lib/python3.8/site-packages                                         conda\n",
      "wheel                  0.37.1    /home/fs70824/trainee19/python4hpc/tooling/development/conda/example-env/lib/python3.8/site-packages\n"
     ]
    }
   ],
   "source": [
    "%%bash -e\n",
    "\n",
    "# use the conda init code to setup env correctly for export\n",
    "source ./tooling/development/conda/conda-init.sh\n",
    "\n",
    "conda activate ./tooling/development/conda/example-env\n",
    "\n",
    "which python\n",
    "\n",
    "pip list -v"
   ]
  },
  {
   "cell_type": "markdown",
   "id": "5939278f-e615-4d87-b80e-d5cfdc08c2bf",
   "metadata": {},
   "source": [
    "## Creating python packages\n",
    "\n",
    "*More information in the docs at __[Packaging and distributing projects](https://packaging.python.org/en/latest/guides/distributing-packages-using-setuptools/)__ and __[Setuptools](https://setuptools.pypa.io/en/latest/userguide/index.html)__*\n",
    "\n",
    "### A minimal package (or: the traditional way)\n",
    "\n",
    "Creating a basic python package that can be installed with pip from e.g. a repository is fairly easy. All you need for starters is a file called `setup.py` in the root directory of your project. Remember there are lots of other settings so have a look at the __[sampleproject](https://github.com/pypa/sampleproject)__ and the rest of the documentation to get started.\n"
   ]
  },
  {
   "cell_type": "code",
   "execution_count": 16,
   "id": "d2bd2fde-629a-4d10-ac34-7f6c88559bdf",
   "metadata": {},
   "outputs": [
    {
     "name": "stdout",
     "output_type": "stream",
     "text": [
      "Writing ./tooling/development/minimal-pkg/setup.py\n"
     ]
    }
   ],
   "source": [
    "%%writefile ./tooling/development/minimal-pkg/setup.py\n",
    "\n",
    "import os\n",
    "\n",
    "# always prefer setuptools over the deprecated distutils\n",
    "from setuptools import setup, find_packages\n",
    "\n",
    "username = os.getenv('USER', 'dev')\n",
    "\n",
    "setup(\n",
    "    # the name of the package that will be shown everywhere\n",
    "    name=f'python4hpc-{username}',\n",
    "    # package version\n",
    "    version='1.0.0',\n",
    "    # optional: author of the package\n",
    "    author='VSC',\n",
    "    # optional: author's e-mail\n",
    "    author_email='service@vsc.ac.at',\n",
    "    # when the sources are in a subdirectory e.g. `src/` it is necessary to specify this argument\n",
    "    package_dir={'': 'src'}, \n",
    "    # find_packages searches the 'src' directory for subdirs that contain an '__init__.py' file (=packages) and simply adds them\n",
    "    packages=find_packages(where='src'),\n",
    "    # optional: python version requirement e.g. if any features of newer versions are used\n",
    "    python_requires=\">=3.7, <4\",\n",
    "    # optional: setup console scripts\n",
    "    entry_points={  # Optional\n",
    "        \"console_scripts\": [\n",
    "            \"sample=python4hpc.sample:main\",\n",
    "        ],\n",
    "    },\n",
    ")"
   ]
  },
  {
   "cell_type": "code",
   "execution_count": 17,
   "id": "d2bfd668-dd2f-4f2c-ac8a-075242679b0f",
   "metadata": {},
   "outputs": [
    {
     "name": "stdout",
     "output_type": "stream",
     "text": [
      "Defaulting to user installation because normal site-packages is not writeable\n",
      "Processing ./tooling/development/minimal-pkg\n",
      "  Preparing metadata (setup.py) ... \u001b[?25ldone\n",
      "\u001b[?25hBuilding wheels for collected packages: python4hpc-trainee19\n",
      "  Building wheel for python4hpc-trainee19 (setup.py) ... \u001b[?25ldone\n",
      "\u001b[?25h  Created wheel for python4hpc-trainee19: filename=python4hpc_trainee19-1.0.0-py3-none-any.whl size=2004 sha256=7fb01ad9b585f93eb10514802c4173d9a932cdeb434947652800689b2c1cd96a\n",
      "  Stored in directory: /home/fs70824/trainee19/.cache/pip/wheels/68/84/78/2721b36a3808db33ec12459afc2814f586b65ece932e48584c\n",
      "Successfully built python4hpc-trainee19\n",
      "Installing collected packages: python4hpc-trainee19\n",
      "\u001b[33m  WARNING: The script sample is installed in '/home/fs70824/trainee19/.local/bin' which is not on PATH.\n",
      "  Consider adding this directory to PATH or, if you prefer to suppress this warning, use --no-warn-script-location.\u001b[0m\u001b[33m\n",
      "\u001b[0mSuccessfully installed python4hpc-trainee19-1.0.0\n"
     ]
    }
   ],
   "source": [
    "!pip install ./tooling/development/minimal-pkg"
   ]
  },
  {
   "cell_type": "code",
   "execution_count": 18,
   "id": "70911442-d347-42c7-b32a-485410383326",
   "metadata": {},
   "outputs": [
    {
     "name": "stdout",
     "output_type": "stream",
     "text": [
      "python4hpc-trainee19              1.0.0\n"
     ]
    }
   ],
   "source": [
    "!pip list | grep python4hpc"
   ]
  },
  {
   "cell_type": "code",
   "execution_count": 19,
   "id": "01ff3e12-cf3d-4583-8f6e-4777414b6f97",
   "metadata": {},
   "outputs": [
    {
     "name": "stdout",
     "output_type": "stream",
     "text": [
      "sample\n"
     ]
    }
   ],
   "source": [
    "# we need to use the direct path here since the `bin` dir is most likely not on the PATH of the current user\n",
    "!~/.local/bin/sample"
   ]
  },
  {
   "cell_type": "code",
   "execution_count": 20,
   "id": "76886c3c-7f74-4551-9692-0cdae14e565a",
   "metadata": {},
   "outputs": [
    {
     "name": "stdout",
     "output_type": "stream",
     "text": [
      "Found existing installation: python4hpc-trainee19 1.0.0\n",
      "Uninstalling python4hpc-trainee19-1.0.0:\n",
      "  Successfully uninstalled python4hpc-trainee19-1.0.0\n"
     ]
    }
   ],
   "source": [
    "!pip uninstall --yes python4hpc-$USER"
   ]
  },
  {
   "cell_type": "markdown",
   "id": "f913dcd8-cfd9-4c4b-981e-1a1f994259ec",
   "metadata": {
    "tags": []
   },
   "source": [
    "### Packaging projects\n",
    "\n",
    "*Taken mostly from __[Packaging Projects](https://packaging.python.org/en/latest/tutorials/packaging-projects/)__*\n",
    "\n",
    "If you're working on a bigger project and you want to share it with other users its also possible to build a package and upload it to the main python package repository: __[PyPi.org](https://pypi.org)__\n",
    "\n",
    "The official packaging tutorial suggests to use a `pyproject.toml` to describe the package instead of a `setup.py` and assumes a `src` directory with packages as subdirectories as default. Most of the arguments are very similar to what we have already seen in the case of the `setup.py`.\n"
   ]
  },
  {
   "cell_type": "code",
   "execution_count": 21,
   "id": "f36ea06f-4878-45b1-9c13-719e1333d08f",
   "metadata": {},
   "outputs": [
    {
     "name": "stdout",
     "output_type": "stream",
     "text": [
      "Writing ./tooling/development/project-pkg/pyproject.toml\n"
     ]
    }
   ],
   "source": [
    "%%writefile ./tooling/development/project-pkg/pyproject.toml\n",
    "\n",
    "[build-system]\n",
    "requires = [\"setuptools>=61.0\"]\n",
    "build-backend = \"setuptools.build_meta\"\n",
    "\n",
    "[project]\n",
    "# don't change this name - will be automatically changed later\n",
    "name = \"python4hpc-pyproject-YOUR_USERNAME_HERE\"\n",
    "version = \"1.0.0\"\n",
    "authors = [\n",
    "  { name=\"Example Author\", email=\"author@example.com\" },\n",
    "]\n",
    "description = \"A small example package\"\n",
    "readme = \"README.md\"\n",
    "license = { file=\"LICENSE\" }\n",
    "requires-python = \">=3.7\"\n",
    "classifiers = [\n",
    "    \"Programming Language :: Python :: 3\",\n",
    "    \"License :: OSI Approved :: MIT License\",\n",
    "    \"Operating System :: OS Independent\",\n",
    "]\n",
    "\n",
    "[project.urls]\n",
    "\"Homepage\" = \"https://github.com/pypa/sampleproject\"\n",
    "\"Bug Tracker\" = \"https://github.com/pypa/sampleproject/issues\"\n"
   ]
  },
  {
   "cell_type": "markdown",
   "id": "dd735bb0-fc68-45a0-bbda-5e9929f118cc",
   "metadata": {
    "tags": []
   },
   "source": [
    "The following command is only used to replace the default package name with a user specific one so that we don't have name clashes on upload."
   ]
  },
  {
   "cell_type": "code",
   "execution_count": 22,
   "id": "1465c8a2-17f7-45d4-9972-bd8b46eb27a0",
   "metadata": {},
   "outputs": [],
   "source": [
    "!sed -i \"s/python4hpc-pyproject-YOUR_USERNAME_HERE/python4hpc-pyproject-$USER/g\" ./tooling/development/project-pkg/pyproject.toml"
   ]
  },
  {
   "cell_type": "markdown",
   "id": "efe4bb2c-a465-421e-a7bf-7c579787a970",
   "metadata": {
    "tags": []
   },
   "source": [
    "Now build the project using the `build` package - this will create a source distribution and a wheel in the `dist` subdirectory of `/tooling/development/project-pkg`."
   ]
  },
  {
   "cell_type": "code",
   "execution_count": 23,
   "id": "10242e18-0559-413e-9d47-3d88a01bf143",
   "metadata": {},
   "outputs": [
    {
     "name": "stdout",
     "output_type": "stream",
     "text": [
      "* Creating virtualenv isolated environment...\n",
      "* Installing packages in isolated environment... (setuptools>=61.0)\n",
      "* Getting dependencies for sdist...\n",
      "running egg_info\n",
      "creating src/python4hpc_pyproject_trainee19.egg-info\n",
      "writing src/python4hpc_pyproject_trainee19.egg-info/PKG-INFO\n",
      "writing dependency_links to src/python4hpc_pyproject_trainee19.egg-info/dependency_links.txt\n",
      "writing top-level names to src/python4hpc_pyproject_trainee19.egg-info/top_level.txt\n",
      "writing manifest file 'src/python4hpc_pyproject_trainee19.egg-info/SOURCES.txt'\n",
      "reading manifest file 'src/python4hpc_pyproject_trainee19.egg-info/SOURCES.txt'\n",
      "adding license file 'LICENSE'\n",
      "writing manifest file 'src/python4hpc_pyproject_trainee19.egg-info/SOURCES.txt'\n",
      "* Building sdist...\n",
      "running sdist\n",
      "running egg_info\n",
      "writing src/python4hpc_pyproject_trainee19.egg-info/PKG-INFO\n",
      "writing dependency_links to src/python4hpc_pyproject_trainee19.egg-info/dependency_links.txt\n",
      "writing top-level names to src/python4hpc_pyproject_trainee19.egg-info/top_level.txt\n",
      "reading manifest file 'src/python4hpc_pyproject_trainee19.egg-info/SOURCES.txt'\n",
      "adding license file 'LICENSE'\n",
      "writing manifest file 'src/python4hpc_pyproject_trainee19.egg-info/SOURCES.txt'\n",
      "running check\n",
      "creating python4hpc-pyproject-trainee19-1.0.0\n",
      "creating python4hpc-pyproject-trainee19-1.0.0/src\n",
      "creating python4hpc-pyproject-trainee19-1.0.0/src/python4hpc\n",
      "creating python4hpc-pyproject-trainee19-1.0.0/src/python4hpc_pyproject_trainee19.egg-info\n",
      "copying files to python4hpc-pyproject-trainee19-1.0.0...\n",
      "copying LICENSE -> python4hpc-pyproject-trainee19-1.0.0\n",
      "copying README.md -> python4hpc-pyproject-trainee19-1.0.0\n",
      "copying pyproject.toml -> python4hpc-pyproject-trainee19-1.0.0\n",
      "copying src/python4hpc/__init__.py -> python4hpc-pyproject-trainee19-1.0.0/src/python4hpc\n",
      "copying src/python4hpc/example.py -> python4hpc-pyproject-trainee19-1.0.0/src/python4hpc\n",
      "copying src/python4hpc_pyproject_trainee19.egg-info/PKG-INFO -> python4hpc-pyproject-trainee19-1.0.0/src/python4hpc_pyproject_trainee19.egg-info\n",
      "copying src/python4hpc_pyproject_trainee19.egg-info/SOURCES.txt -> python4hpc-pyproject-trainee19-1.0.0/src/python4hpc_pyproject_trainee19.egg-info\n",
      "copying src/python4hpc_pyproject_trainee19.egg-info/dependency_links.txt -> python4hpc-pyproject-trainee19-1.0.0/src/python4hpc_pyproject_trainee19.egg-info\n",
      "copying src/python4hpc_pyproject_trainee19.egg-info/top_level.txt -> python4hpc-pyproject-trainee19-1.0.0/src/python4hpc_pyproject_trainee19.egg-info\n",
      "Writing python4hpc-pyproject-trainee19-1.0.0/setup.cfg\n",
      "Creating tar archive\n",
      "removing 'python4hpc-pyproject-trainee19-1.0.0' (and everything under it)\n",
      "* Building wheel from sdist\n",
      "* Creating virtualenv isolated environment...\n",
      "* Installing packages in isolated environment... (setuptools>=61.0)\n",
      "* Getting dependencies for wheel...\n",
      "running egg_info\n",
      "writing src/python4hpc_pyproject_trainee19.egg-info/PKG-INFO\n",
      "writing dependency_links to src/python4hpc_pyproject_trainee19.egg-info/dependency_links.txt\n",
      "writing top-level names to src/python4hpc_pyproject_trainee19.egg-info/top_level.txt\n",
      "reading manifest file 'src/python4hpc_pyproject_trainee19.egg-info/SOURCES.txt'\n",
      "adding license file 'LICENSE'\n",
      "writing manifest file 'src/python4hpc_pyproject_trainee19.egg-info/SOURCES.txt'\n",
      "* Installing packages in isolated environment... (wheel)\n",
      "* Building wheel...\n",
      "running bdist_wheel\n",
      "running build\n",
      "running build_py\n",
      "creating build\n",
      "creating build/lib\n",
      "creating build/lib/python4hpc\n",
      "copying src/python4hpc/example.py -> build/lib/python4hpc\n",
      "copying src/python4hpc/__init__.py -> build/lib/python4hpc\n",
      "running egg_info\n",
      "writing src/python4hpc_pyproject_trainee19.egg-info/PKG-INFO\n",
      "writing dependency_links to src/python4hpc_pyproject_trainee19.egg-info/dependency_links.txt\n",
      "writing top-level names to src/python4hpc_pyproject_trainee19.egg-info/top_level.txt\n",
      "reading manifest file 'src/python4hpc_pyproject_trainee19.egg-info/SOURCES.txt'\n",
      "adding license file 'LICENSE'\n",
      "writing manifest file 'src/python4hpc_pyproject_trainee19.egg-info/SOURCES.txt'\n",
      "installing to build/bdist.linux-x86_64/wheel\n",
      "running install\n",
      "running install_lib\n",
      "creating build/bdist.linux-x86_64\n",
      "creating build/bdist.linux-x86_64/wheel\n",
      "creating build/bdist.linux-x86_64/wheel/python4hpc\n",
      "copying build/lib/python4hpc/__init__.py -> build/bdist.linux-x86_64/wheel/python4hpc\n",
      "copying build/lib/python4hpc/example.py -> build/bdist.linux-x86_64/wheel/python4hpc\n",
      "running install_egg_info\n",
      "Copying src/python4hpc_pyproject_trainee19.egg-info to build/bdist.linux-x86_64/wheel/python4hpc_pyproject_trainee19-1.0.0-py3.10.egg-info\n",
      "running install_scripts\n",
      "adding license file \"LICENSE\" (matched pattern \"LICEN[CS]E*\")\n",
      "creating build/bdist.linux-x86_64/wheel/python4hpc_pyproject_trainee19-1.0.0.dist-info/WHEEL\n",
      "creating '/home/fs70824/trainee19/python4hpc/tooling/development/project-pkg/dist/tmp7qr4d0rj/python4hpc_pyproject_trainee19-1.0.0-py3-none-any.whl' and adding 'build/bdist.linux-x86_64/wheel' to it\n",
      "adding 'python4hpc/__init__.py'\n",
      "adding 'python4hpc/example.py'\n",
      "adding 'python4hpc_pyproject_trainee19-1.0.0.dist-info/LICENSE'\n",
      "adding 'python4hpc_pyproject_trainee19-1.0.0.dist-info/METADATA'\n",
      "adding 'python4hpc_pyproject_trainee19-1.0.0.dist-info/WHEEL'\n",
      "adding 'python4hpc_pyproject_trainee19-1.0.0.dist-info/top_level.txt'\n",
      "adding 'python4hpc_pyproject_trainee19-1.0.0.dist-info/RECORD'\n",
      "removing build/bdist.linux-x86_64/wheel\n",
      "Successfully built python4hpc-pyproject-trainee19-1.0.0.tar.gz and python4hpc_pyproject_trainee19-1.0.0-py3-none-any.whl\n"
     ]
    }
   ],
   "source": [
    "%%bash -e\n",
    "cd ./tooling/development/project-pkg\n",
    "python -m build"
   ]
  },
  {
   "cell_type": "markdown",
   "id": "61ef3c5c-cc9c-47bd-a1c9-d37bd986c900",
   "metadata": {
    "tags": []
   },
   "source": [
    "For our example package we will use the tool **twine** and upload it to `test.pypi.org` using precreated credentials from the VSC team."
   ]
  },
  {
   "cell_type": "code",
   "execution_count": 24,
   "id": "aeac2adf-0b5d-4d6a-8178-86eeb33418a6",
   "metadata": {},
   "outputs": [
    {
     "name": "stdout",
     "output_type": "stream",
     "text": [
      "Writing /home/fs70824/trainee19/.pypirc\n"
     ]
    }
   ],
   "source": [
    "%%writefile ~/.pypirc\n",
    "[testpypi]\n",
    "  username = __token__\n",
    "  password = pypi-AgENdGVzdC5weXBpLm9yZwIkODM1NGNmYTgtOGM3OS00NzljLWFhMzYtNzRiM2RkNjI1MWZiAAIqWzMsIjAzYTJjMDhkLTNmYjItNGViYi05ODAxLWIzOGRmY2MxZTZhMiJdAAAGIDPzCoWp8zA_-kRt_SXMifu_E6bcW1TysunwC46_fh24"
   ]
  },
  {
   "cell_type": "code",
   "execution_count": 25,
   "id": "db9d06f0-cb9d-43ac-af58-172a9165711c",
   "metadata": {},
   "outputs": [
    {
     "name": "stdout",
     "output_type": "stream",
     "text": [
      "Uploading distributions to https://test.pypi.org/legacy/\n",
      "Uploading python4hpc_pyproject_trainee19-1.0.0-py3-none-any.whl\n",
      "\u001b[2K\u001b[35m100%\u001b[0m \u001b[90m━━━━━━━━━━━━━━━━━━━━━━━━━━━━━━━━━━━━━━━━\u001b[0m \u001b[32m7.9/7.9 kB\u001b[0m • \u001b[33m00:00\u001b[0m • \u001b[31m?\u001b[0m\n",
      "\u001b[?25hUploading python4hpc-pyproject-trainee19-1.0.0.tar.gz\n",
      "\u001b[2K\u001b[35m100%\u001b[0m \u001b[90m━━━━━━━━━━━━━━━━━━━━━━━━━━━━━━━━━━━━━━━━\u001b[0m \u001b[32m6.9/6.9 kB\u001b[0m • \u001b[33m00:00\u001b[0m • \u001b[31m?\u001b[0m\n",
      "\u001b[?25h\n",
      "\u001b[32mView at:\u001b[0m\n",
      "https://test.pypi.org/project/python4hpc-pyproject-trainee19/1.0.0/\n"
     ]
    }
   ],
   "source": [
    "%%bash -e\n",
    "\n",
    "cd ./tooling/development/project-pkg\n",
    "python3 -m twine upload --repository testpypi dist/*"
   ]
  },
  {
   "cell_type": "code",
   "execution_count": 26,
   "id": "53bf7250-7b60-47b8-8905-22570b8b2b79",
   "metadata": {},
   "outputs": [
    {
     "name": "stdout",
     "output_type": "stream",
     "text": [
      "Defaulting to user installation because normal site-packages is not writeable\n",
      "Looking in indexes: https://test.pypi.org/simple/\n",
      "Collecting python4hpc-pyproject-trainee19\n",
      "  Downloading https://test-files.pythonhosted.org/packages/66/86/20a52f141b77c692dc80ca65ff2a1e4c1f9ed7ae3669602266b72b477617/python4hpc_pyproject_trainee19-1.0.0-py3-none-any.whl (3.3 kB)\n",
      "Installing collected packages: python4hpc-pyproject-trainee19\n",
      "Successfully installed python4hpc-pyproject-trainee19-1.0.0\n",
      "\n",
      "List installed packages:\n",
      "python4hpc-pyproject-trainee19    1.0.0       /home/fs70824/trainee19/.local/lib/python3.10/site-packages                                                                                  pip\n"
     ]
    }
   ],
   "source": [
    "%%bash -e\n",
    "\n",
    "pip install -i https://test.pypi.org/simple/ python4hpc-pyproject-$USER\n",
    "echo\n",
    "\n",
    "echo \"List installed packages:\"\n",
    "pip -v list | grep python4hpc-pyproject"
   ]
  },
  {
   "cell_type": "code",
   "execution_count": 27,
   "id": "c9c22ad9-1e3e-4115-973b-2cba4363be83",
   "metadata": {},
   "outputs": [
    {
     "name": "stdout",
     "output_type": "stream",
     "text": [
      "Found existing installation: python4hpc-pyproject-trainee19 1.0.0\n",
      "Uninstalling python4hpc-pyproject-trainee19-1.0.0:\n",
      "  Successfully uninstalled python4hpc-pyproject-trainee19-1.0.0\n"
     ]
    }
   ],
   "source": [
    "%%bash -e\n",
    "\n",
    "pip uninstall --yes python4hpc-pyproject-$USER\n",
    "rm -f ./tooling/development/project-pkg/dist/*"
   ]
  },
  {
   "cell_type": "markdown",
   "id": "e55b9e41",
   "metadata": {},
   "source": [
    "## Development IDE's"
   ]
  },
  {
   "cell_type": "markdown",
   "id": "fe82f9cc",
   "metadata": {},
   "source": [
    "### Visual Studio Code (Microsoft)\n",
    "\n",
    "At its core VS Code is 'just' a simple open-source code editor. However lots of available extensions support a variety of use cases of this IDE. Code gained immensely in popularity in the past years and has a very active community. It is very well equipped for developing and debugging with many programming languages and is available for free on Windows, Mac & Linux (see __[Download Visual Studio Code](https://code.visualstudio.com/download)__).\n",
    "\n",
    "The recommended way to get started with VS Code & Python Development is to install e.g. the *Python Extension Pack* by Don Jayamanne which already contains a collection of all major extensions you need to give it a go (also see __[Python in VS Code](https://code.visualstudio.com/docs/languages/python)__)\n",
    "\n",
    "There are also many other extensions to check out e.g.: *Remote Development*, *Docker Extension Pack*, *Singularity*, *GitLens* and so on ...\n",
    "\n",
    "With the extensions frome the *Python Extension Pack* VS Code recognizes python, venv, pipenv and even conda installations and lets the user select the right environment. It also possible to run python programs interactively or debug them by using the integrated debugger UI, run scripts and manage code through your VCS. \n",
    "\n",
    "<img src=\"images/development/vscode_debugging.png\" width=\"550\">"
   ]
  },
  {
   "cell_type": "markdown",
   "id": "38f89497",
   "metadata": {},
   "source": [
    "### PyCharm (JetBrains)\n",
    "\n",
    "PyCharm is a commercial product from JetBrains and compared to VS Code a ready to go all-in-one solution for python development. It is based on JetBrains IntelliJ IDEA Platform which was originally conceived for Java Development.\n",
    "\n",
    "It comes in two major editions: \n",
    "- Community: has all the main features (editor, debugger, refactoring, vcs support) and is free to use as well as open-source\n",
    "- Professional: has additional features for scientific python, web development and specific python frameworks as well as a profiler & remote development\n",
    "\n",
    "The IDE is known for its support and integration of tools as well as its refactoring and smart code navigation capabilities and is also available for Windows, Mac & Linux.\n",
    "\n",
    "There is also an option for educational/classroom licenses for students and academic staff (see __[Educational Licenses](https://www.jetbrains.com/community/education)__) - however please note that it is explicity stated that it may only be used for training purposes.\n",
    "\n",
    "Of course PyCharm also comes with its own plugin system and a marketplace - however it is not as extensive as the Visual Studio Code Marketplace.\n",
    "\n",
    "Especially the builtin (professional edition) Scientific mode and the Jupyter notebook support may be interesting because it allows the user to peak interactively into dataframes and also has a special tool for data plots (SciView).\n",
    "\n",
    "<img src=\"images/development/pycharm_scientific_mode.jpg\" width=\"550\">\n",
    "\n",
    "see __[Scientific mode tutorial](https://www.jetbrains.com/help/pycharm/matplotlib-tutorial.html#run)__\n",
    "\n",
    "### Other IDE's\n",
    "\n",
    "There are also lots of other IDE's to check out that shouldn't go unmentioned as they are officially referred to in the official python FAQ (see __[Python IDE's for debugging](https://docs.python.org/3.10/faq/programming.html#is-there-a-source-code-level-debugger-with-breakpoints-single-stepping-etc)__)\n",
    "\n",
    "* __[Spyder](https://www.spyder-ide.org/)__ (also part of the Anaconda distribution)\n",
    "* __[Wing Python IDE](https://wingware.com/)__\n",
    "* __[Komodo IDE](https://www.activestate.com/products/komodo-ide/)__\n"
   ]
  },
  {
   "cell_type": "markdown",
   "id": "12009cb7",
   "metadata": {},
   "source": [
    "## Singularity\n",
    "\n",
    "Singularity is a container platform, similar to docker. However compared to docker, singularity favors integration over isolation. For example does singularity not isolate the systems user ids from the containers user ids. The container usually just runs with the users privileges - in addition the home directory is also automatically mounted into the container instance."
   ]
  },
  {
   "cell_type": "markdown",
   "id": "5eb58584",
   "metadata": {},
   "source": [
    "### Build a singularity container\n",
    "\n",
    "Singularity uses so called __definition files__ to describe what should end up in a container image."
   ]
  },
  {
   "cell_type": "markdown",
   "id": "748bc298",
   "metadata": {},
   "source": [
    "Definition files can contain multiple sections such as *files*, which simply describes files to copy into the container as well as *test% to run automated tests after the container has been built. Please refer to the __[documentation](https://docs.sylabs.io/guides/latest/user-guide/definition_files.html)__ for an in-depth description of each section.\n",
    "\n",
    "```singularity\n",
    "Bootstrap: docker\n",
    "From: ubuntu:18.04\n",
    "\n",
    "%post\n",
    "    apt-get -y update\n",
    "    apt-get -y install cowsay lolcat\n",
    "\n",
    "%environment\n",
    "    export LC_ALL=C\n",
    "    export PATH=/usr/games:$PATH\n",
    "\n",
    "%runscript\n",
    "    date | cowsay | lolcat\n",
    "\n",
    "%test\n",
    "    grep -q NAME=\\\"Ubuntu\\\" /etc/os-release\n",
    "    if [ $? -eq 0 ]; then\n",
    "        echo \"Container base is Ubuntu as expected.\"\n",
    "    else\n",
    "        echo \"Container base is not Ubuntu.\"\n",
    "        exit 1\n",
    "    fi\n",
    "\n",
    "%help\n",
    "    This is a demo container used to illustrate a def file that uses all\n",
    "    supported sections.\n",
    "```\n",
    "\n",
    "Once a definition file has been written you can then use it with\n",
    "\n",
    "```bash\n",
    "$ sudo singularity build ./singularity/test.sif ./singularity/test.def\n",
    "```\n",
    "\n",
    "This will produce the image file `./singularity/test.sif`"
   ]
  },
  {
   "cell_type": "markdown",
   "id": "8a3a3cf2",
   "metadata": {},
   "source": [
    "It is necessary to use `sudo` for building a singularity image - **hence its not possible to build a singularity image on our cluster at the moment**.\n",
    "\n",
    "To execute the test script after building the container you can run\n",
    "\n",
    "```bash\n",
    "$ sudo singularity test ./singularity/test.sif\n",
    "```"
   ]
  },
  {
   "cell_type": "markdown",
   "id": "38690d27",
   "metadata": {},
   "source": [
    "### Build a singularity image from a docker image\n",
    "\n",
    "Most people just want to convert a docker image into the singularity container format. Luckily this can be easily done by executing the following command\n",
    "\n",
    "```bash\n",
    "$ sudo singularity build lolcow.sif docker://sylabsio/lolcow\n",
    "```\n",
    "\n",
    "<img src=\"images/development/singularity_build.png\" width=\"500\">\n"
   ]
  },
  {
   "cell_type": "markdown",
   "id": "9d2ff98e-9065-42fc-b03d-61a4fdd040c1",
   "metadata": {},
   "source": [
    "### Run the image\n",
    "\n",
    "After the image has been built successfully, you can run a container instance (if it has a runscript) with\n",
    "\n",
    "```bash\n",
    "$ singularity run lolcow.sif\n",
    "```\n",
    "\n",
    "<img src=\"images/development/singularity_run.png\" width=\"400\">\n",
    "\n",
    "or execute a command in the container environment with\n",
    "\n",
    "```bash\n",
    "$ singularity exec lolcow.sif <command>\n",
    "```\n"
   ]
  },
  {
   "cell_type": "code",
   "execution_count": null,
   "id": "b2c8e0a9-2c2e-4b12-9abe-68456b55647e",
   "metadata": {},
   "outputs": [],
   "source": []
  }
 ],
 "metadata": {
  "kernelspec": {
   "display_name": "Python 3 (ipykernel)",
   "language": "python",
   "name": "python3"
  },
  "language_info": {
   "codemirror_mode": {
    "name": "ipython",
    "version": 3
   },
   "file_extension": ".py",
   "mimetype": "text/x-python",
   "name": "python",
   "nbconvert_exporter": "python",
   "pygments_lexer": "ipython3",
   "version": "3.10.6"
  },
  "vscode": {
   "interpreter": {
    "hash": "7b25d2c9fa4339ca9c2d1c2c36fe6a22cc165ea5d14612a218506569477642ae"
   }
  }
 },
 "nbformat": 4,
 "nbformat_minor": 5
}
