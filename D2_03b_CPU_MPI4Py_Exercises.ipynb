{
 "cells": [
  {
   "cell_type": "markdown",
   "id": "ef7db25a-5017-4c25-b264-92eb4b004519",
   "metadata": {},
   "source": [
    "# MPI4Py - Exercises"
   ]
  },
  {
   "cell_type": "markdown",
   "id": "d8fca862-8831-43ec-b2f9-30d29fa30a35",
   "metadata": {
    "jp-MarkdownHeadingCollapsed": true,
    "tags": []
   },
   "source": [
    "## MPI4Py - 1st Exercise - WarmUp\n",
    "\n",
    "Write a program that first queries the communicator's size and name, as well the processor's name and each processes' rank.\n",
    "\n",
    "Then, each process shall print its rank and the communicator's size and name. Additionally, the root process shall indicate that it is indeed the root, e.g. by printing \"I am root!\".\n",
    "\n",
    "__HINTS__: Communication is not necessary here, just two `print` statements, the variable assignments, and conditional expressions. Use `MPI.Get_processor_name()` to get the processor's name and `comm.Get_name()` to get the communicator's name."
   ]
  },
  {
   "cell_type": "code",
   "execution_count": null,
   "id": "4376140d-26ae-444e-abe5-187fa93c34f1",
   "metadata": {},
   "outputs": [],
   "source": [
    "%%writefile mpi4py/mpi01_warmup.py\n",
    "#!/usr/bin/python3\n",
    "\n",
    "from mpi4py import MPI\n",
    "\n",
    "\n",
    "comm = None # world communicator\n",
    "size = None # commuicator size\n",
    "rank = None # process rank\n",
    "procname = None # processor name\n",
    "commname = None # communicator name\n",
    "\n",
    "if (True):\n",
    "    print(f\"I am the root process out of {size} on processor {procname} in communicator {commname}.\")\n",
    "else:\n",
    "    print(f\"I am process {rank} out of {size} on processor {procname} in communicator {commname}.\")"
   ]
  },
  {
   "cell_type": "code",
   "execution_count": null,
   "id": "c17ba9a8-6183-4530-bea8-7e5f5f803b14",
   "metadata": {
    "tags": []
   },
   "outputs": [],
   "source": [
    "!mpirun -report-bindings --bind-to core --np 4 python3 mpi4py/mpi01_warmup.py"
   ]
  },
  {
   "cell_type": "code",
   "execution_count": null,
   "id": "4220bd30-70be-4647-8265-0bb027d2b1c4",
   "metadata": {
    "tags": []
   },
   "outputs": [],
   "source": [
    "!mpirun --oversubscribe --np 4 python3 mpi4py/mpi01_warmup.py"
   ]
  },
  {
   "cell_type": "markdown",
   "id": "9db2e4d8-e3a7-41ad-b8d3-9462d228128f",
   "metadata": {
    "jp-MarkdownHeadingCollapsed": true,
    "tags": []
   },
   "source": [
    "#### Solution Proposal"
   ]
  },
  {
   "cell_type": "code",
   "execution_count": null,
   "id": "3ef58c22-f173-4318-a506-b749d2f4809d",
   "metadata": {},
   "outputs": [],
   "source": [
    "%%writefile mpi4py/ex01sol_warmup.py\n",
    "#!/usr/bin/python3\n",
    "\n",
    "from mpi4py import MPI\n",
    "\n",
    "\n",
    "comm = MPI.COMM_WORLD # world communicator\n",
    "size = comm.Get_size() # commuicator size\n",
    "rank = comm.Get_rank() # process rank\n",
    "procname = MPI.Get_processor_name() # processor name\n",
    "commname = comm.Get_name() # communicator name\n",
    "\n",
    "if (rank == 0):\n",
    "    print(f\"I am the root process out of {size} on processor {procname} in communicator {commname}.\")\n",
    "else:\n",
    "    print(f\"I am process {rank} out of {size} on processor {procname} in communicator {commname}.\")"
   ]
  },
  {
   "cell_type": "code",
   "execution_count": null,
   "id": "cc380a6e-133e-42fb-accf-339bd7a1231f",
   "metadata": {},
   "outputs": [],
   "source": [
    "!mpiexec -report-bindings --bind-to core --np 4 python3 mpi4py/mpi01_warmup.py"
   ]
  },
  {
   "cell_type": "code",
   "execution_count": null,
   "id": "e8468fe0-3f7e-4c76-87d1-7e539ffac60b",
   "metadata": {},
   "outputs": [],
   "source": [
    "!mpiexec --oversubscribe --np 4 python3 mpi4py/ex01sol_warmup.py"
   ]
  },
  {
   "cell_type": "markdown",
   "id": "7af1e003-3569-4e93-beb8-6b720aadc48f",
   "metadata": {
    "jp-MarkdownHeadingCollapsed": true,
    "tags": []
   },
   "source": [
    "## MPI4Py - 2nd Exercise - Point-to-Point Communication - Blocking Send & Receive\n",
    "\n",
    "Write a program that performs a so-called __ping-pong exchange__ between __two processes__.\n",
    "\n",
    "First the __ping__:\n",
    "* Process 0 sends an empty message to process 1.\n",
    "* Process 1 receives the empty message from process 0.\n",
    "\n",
    "Then the __pong__:\n",
    "* Process 1 sends an empty message to process 0.\n",
    "* Process 0 receives the empty message from process 1.\n",
    "\n",
    "__HINTS__: `comm.Send` and `comm.Recv` might be useful for this."
   ]
  },
  {
   "cell_type": "code",
   "execution_count": null,
   "id": "b070fd8f-361e-4867-9015-9b187fa41cfb",
   "metadata": {
    "tags": []
   },
   "outputs": [],
   "source": [
    "%%writefile mpi4py/mpi02_pingpong.py\n",
    "#!/usr/bin/python3\n",
    "\n",
    "from mpi4py import MPI\n",
    "\n",
    "\n",
    "comm = MPI.COMM_WORLD # communicator\n",
    "rank = comm.Get_rank() # process rank\n",
    "buf = None # send/receive buffer\n",
    "\n",
    "if (True):\n",
    "    partner = 1 # partner process rank\n",
    "    print(f\"Process {rank} sending ping to {partner}.\")\n",
    "    pass\n",
    "    pass\n",
    "    print(f\"Process {rank} receiving pong from {partner}.\")\n",
    "elif (True):\n",
    "    partner = 0 # partner process rank\n",
    "    pass\n",
    "    print(f\"Process {rank} receiving ping from {partner}.\")\n",
    "    print(f\"Process {rank} sending pong to {partner}.\")\n",
    "    pass"
   ]
  },
  {
   "cell_type": "code",
   "execution_count": null,
   "id": "0b89da9a-c74f-4ff0-ae80-80b42d47f576",
   "metadata": {},
   "outputs": [],
   "source": [
    "!mpirun -report-bindings --bind-to core --np 4 python3 mpi4py/mpi02_pingpong.py"
   ]
  },
  {
   "cell_type": "code",
   "execution_count": null,
   "id": "d0b114bd-307a-417f-a4a9-dbc1037d5320",
   "metadata": {},
   "outputs": [],
   "source": [
    "!mpirun --np 2 python3 mpi4py/mpi02_pingpong.py"
   ]
  },
  {
   "cell_type": "markdown",
   "id": "ccebb6db-ceb2-4c92-98ab-2f1ba69d7fd2",
   "metadata": {
    "jp-MarkdownHeadingCollapsed": true,
    "tags": []
   },
   "source": [
    "#### Solution Proposal"
   ]
  },
  {
   "cell_type": "code",
   "execution_count": null,
   "id": "9d3affbe-8f6a-4584-8c94-4fcf66f23c9d",
   "metadata": {},
   "outputs": [],
   "source": [
    "%%writefile mpi4py/ex02sol_pingpong.py\n",
    "#!/usr/bin/python3\n",
    "\n",
    "import numpy as np\n",
    "from mpi4py import MPI\n",
    "\n",
    "\n",
    "comm = MPI.COMM_WORLD # communicator\n",
    "rank = comm.Get_rank() # process rank\n",
    "buf = np.empty(()) # send/receive buffer\n",
    "\n",
    "if (rank == 0):\n",
    "    partner = 1 # partner process rank\n",
    "    print(f\"Process {rank} sending ping to {partner}.\")\n",
    "    comm.Send(buf, dest=partner, tag=5)\n",
    "    comm.Recv(buf, source=partner, tag=7)\n",
    "    print(f\"Process {rank} receiving pong from {partner}.\")\n",
    "elif (rank == 1):\n",
    "    partner = 0 # partner process rank\n",
    "    comm.Recv(buf, source=partner, tag=5)\n",
    "    print(f\"Process {rank} receiving ping from {partner}.\")\n",
    "    print(f\"Process {rank} sending pong to {partner}.\")\n",
    "    comm.Send(buf, dest=partner, tag=7)"
   ]
  },
  {
   "cell_type": "code",
   "execution_count": null,
   "id": "0d9e07b1-a631-4407-a013-2e9401c3d248",
   "metadata": {
    "tags": []
   },
   "outputs": [],
   "source": [
    "!mpiexec -report-bindings --bind-to core --np 4 python3 mpi4py/ex02sol_pingpong.py"
   ]
  },
  {
   "cell_type": "code",
   "execution_count": null,
   "id": "48ce4466-a777-4ff9-92fc-394e9e505746",
   "metadata": {},
   "outputs": [],
   "source": [
    "!mpiexec --oversubscribe --np 4 python3 mpi4py/ex02sol_pingpong.py"
   ]
  },
  {
   "cell_type": "markdown",
   "id": "bd4027dd-6a16-47cf-ae0f-c4b8f34870bc",
   "metadata": {
    "jp-MarkdownHeadingCollapsed": true,
    "tags": []
   },
   "source": [
    "## MPI4Py - 3rd Exercise - Collective Communication - Scatter\n",
    "\n",
    "Scatter an array on process $0$ with numbers from $0$ to $n$ such that process $i$ receives number $i$."
   ]
  },
  {
   "cell_type": "code",
   "execution_count": null,
   "id": "1a455b09-575d-4629-b77e-ae9fa68e0b87",
   "metadata": {},
   "outputs": [],
   "source": [
    "%%writefile mpi4py/mpi03_scatter.py\n",
    "#!/usr/bin/python3\n",
    "\n",
    "import numpy as np\n",
    "from mpi4py import MPI\n",
    "\n",
    "\n",
    "comm = MPI.COMM_WORLD\n",
    "rank = comm.Get_rank()\n",
    "commsize = comm.Get_size()\n",
    "\n",
    "rcvbuf = np.empty([1], dtype=np.intc)\n",
    "sndbuf = None\n",
    "\n",
    "if (rank == 0):\n",
    "    pass\n",
    "    print(f\"Process {rank} scatters {sndbuf}\")\n",
    "\n",
    "pass\n",
    "    \n",
    "print(f\"Process {rank} receives {rcvbuf}\")"
   ]
  },
  {
   "cell_type": "code",
   "execution_count": null,
   "id": "d03c0a65-3741-4535-9f6d-04d0894282f9",
   "metadata": {},
   "outputs": [],
   "source": [
    "!mpirun -report-bindings --bind-to core --np 4 python3 mpi4py/mpi03_scatter.py"
   ]
  },
  {
   "cell_type": "code",
   "execution_count": null,
   "id": "933710eb-dcea-4cd8-afdb-977581468d2b",
   "metadata": {},
   "outputs": [],
   "source": [
    "!mpirun --oversubscribe --np 4 python3 mpi4py/mpi03_scatter.py"
   ]
  },
  {
   "cell_type": "markdown",
   "id": "689c56ae-0418-415f-88e6-5aef16b33889",
   "metadata": {
    "jp-MarkdownHeadingCollapsed": true,
    "tags": []
   },
   "source": [
    "#### Solution Proposal"
   ]
  },
  {
   "cell_type": "code",
   "execution_count": null,
   "id": "22c24625-d645-4051-b72a-00367fc96c8d",
   "metadata": {},
   "outputs": [],
   "source": [
    "%%writefile mpi4py/mpi03sol_scatter.py\n",
    "#!/usr/bin/python3\n",
    "\n",
    "import numpy as np\n",
    "from mpi4py import MPI\n",
    "\n",
    "\n",
    "comm = MPI.COMM_WORLD\n",
    "rank = comm.Get_rank()\n",
    "commsize = comm.Get_size()\n",
    "\n",
    "rcvbuf = np.empty([1], dtype=np.intc)\n",
    "sndbuf = None\n",
    "\n",
    "if (rank == 0):\n",
    "    sndbuf = np.arange(start=0, stop=commsize, step=1, dtype=np.intc)\n",
    "    print(f\"Process {rank} scatters {sndbuf}\")\n",
    "\n",
    "comm.Scatter(sndbuf, rcvbuf, root=0)\n",
    "    \n",
    "print(f\"Process {rank} receives {rcvbuf}\")"
   ]
  },
  {
   "cell_type": "code",
   "execution_count": null,
   "id": "2b65d5c5-8541-40a4-8c39-524c3ec40451",
   "metadata": {},
   "outputs": [],
   "source": [
    "!mpiexec -report-bindings --bind-to core --np 4 python3 mpi4py/mpi03sol_scatter.py"
   ]
  },
  {
   "cell_type": "code",
   "execution_count": null,
   "id": "74b16cf9-0044-4ba0-8c10-43b95f0be068",
   "metadata": {},
   "outputs": [],
   "source": [
    "!mpiexec --oversubscribe --np 4 python3 mpi4py/mpi03sol_scatter.py"
   ]
  },
  {
   "cell_type": "markdown",
   "id": "5daa8efa-7020-46f4-93f6-63ac1dd74c6b",
   "metadata": {
    "jp-MarkdownHeadingCollapsed": true,
    "tags": []
   },
   "source": [
    "## MPI4Py - 4th Exercise - Collective Communication - Allreduce\n",
    "\n",
    "Each process holds two variables: `xi` contains its rank and `yi` contains its rank multiplied by two. Perform an all-reduction such that each process receives the sum of the products of these two variables over all processes, i.e. $s = x_0y_0 + x_1y_1 + ... x_ny_n$."
   ]
  },
  {
   "cell_type": "code",
   "execution_count": null,
   "id": "0554e44e-3e79-4f45-aa33-b00c553eaefa",
   "metadata": {},
   "outputs": [],
   "source": [
    "%%writefile mpi4py/mpi04_allreduce.py\n",
    "#!/usr/bin/python3\n",
    "\n",
    "import numpy as np\n",
    "from mpi4py import MPI\n",
    "\n",
    "\n",
    "comm = MPI.COMM_WORLD\n",
    "rank = comm.Get_rank()\n",
    "commsize = comm.Get_size()\n",
    "\n",
    "xi = rank\n",
    "yi = 2*rank\n",
    "rcvbuf = None\n",
    "sndbuf = None\n",
    "\n",
    "pass\n",
    "    \n",
    "print(f\"Process {rank} sends {xi*yi} xi={rank}, yi={2*rank}\")\n",
    "print(f\"Process {rank} receives {rcvbuf}\")"
   ]
  },
  {
   "cell_type": "code",
   "execution_count": null,
   "id": "4e64d57d-8626-4758-a3a1-a44aa21e43f3",
   "metadata": {},
   "outputs": [],
   "source": [
    "!mpirun -report-bindings --bind-to core --np 4 python3 mpi4py/mpi04_allreduce.py"
   ]
  },
  {
   "cell_type": "code",
   "execution_count": null,
   "id": "2146f23c-96c4-43bc-bfdd-1005952df739",
   "metadata": {},
   "outputs": [],
   "source": [
    "!mpirun --oversubscribe --np 4 python3 mpi4py/mpi04_allreduce.py"
   ]
  },
  {
   "cell_type": "markdown",
   "id": "4cfe4dfc-824c-4a74-8903-798222f01c48",
   "metadata": {
    "jp-MarkdownHeadingCollapsed": true,
    "tags": []
   },
   "source": [
    "#### Solution Proposal"
   ]
  },
  {
   "cell_type": "code",
   "execution_count": null,
   "id": "a2968e28-6698-49aa-9998-116ca5262145",
   "metadata": {},
   "outputs": [],
   "source": [
    "%%writefile mpi4py/mpi04sol_allreduce.py\n",
    "#!/usr/bin/python3\n",
    "\n",
    "import numpy as np\n",
    "from mpi4py import MPI\n",
    "\n",
    "\n",
    "comm = MPI.COMM_WORLD\n",
    "rank = comm.Get_rank()\n",
    "commsize = comm.Get_size()\n",
    "\n",
    "xi = rank\n",
    "yi = 2*rank\n",
    "rcvbuf = np.empty([1], dtype=np.intc)\n",
    "sndbuf = np.array([xi*yi], dtype=np.intc)\n",
    "\n",
    "comm.Allreduce(sndbuf, rcvbuf, op=MPI.SUM)\n",
    "    \n",
    "print(f\"Process {rank} sends {xi*yi} xi={rank}, yi={2*rank}\")\n",
    "print(f\"Process {rank} receives {rcvbuf}\")"
   ]
  },
  {
   "cell_type": "code",
   "execution_count": null,
   "id": "2e1024da-af90-4642-93dd-2076c7c88d5a",
   "metadata": {},
   "outputs": [],
   "source": [
    "!mpiexec -report-bindings --bind-to core --np 4 python3 mpi4py/mpi04sol_allreduce.py"
   ]
  },
  {
   "cell_type": "code",
   "execution_count": null,
   "id": "c9a34dea-cb35-4ed2-913d-a2669d74ccaf",
   "metadata": {},
   "outputs": [],
   "source": [
    "!mpiexec --oversubscribe --np 4 python3 mpi4py/mpi04sol_allreduce.py"
   ]
  }
 ],
 "metadata": {
  "kernelspec": {
   "display_name": "Python 3 (ipykernel)",
   "language": "python",
   "name": "python3"
  },
  "language_info": {
   "codemirror_mode": {
    "name": "ipython",
    "version": 3
   },
   "file_extension": ".py",
   "mimetype": "text/x-python",
   "name": "python",
   "nbconvert_exporter": "python",
   "pygments_lexer": "ipython3",
   "version": "3.8.10"
  },
  "vscode": {
   "interpreter": {
    "hash": "9d2533a8417e93bb270061fddcf202607a399e1158d66c4e8746479fc11cda46"
   }
  }
 },
 "nbformat": 4,
 "nbformat_minor": 5
}
