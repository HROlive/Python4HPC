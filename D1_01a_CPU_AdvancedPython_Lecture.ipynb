{
 "cells": [
  {
   "cell_type": "markdown",
   "id": "a54ce074-c06d-491e-87ea-edb7641f9fb1",
   "metadata": {},
   "source": [
    "# Advanced Python <img src=\"images/advanced/python-logo.png\" style=\"align: right; width: 220px\" />\n",
    "\n",
    "Before we explore the more advanced toolkits and libraries we first want to give you an overview of topics such as\n",
    "- builtin python collections and when to use them\n",
    "- deep dive into object-oriented programming behind the scenes,\n",
    "- what are the functional programming parts of python and how to use them\n",
    "- a few words about the garbage collector and finally\n",
    "- tools python has for simple caching strategies"
   ]
  },
  {
   "cell_type": "markdown",
   "id": "682d1046-c351-4138-b113-656d1e9904ed",
   "metadata": {},
   "source": [
    "## Collections\n",
    "\n",
    "Python comes with some builtin base collection types everybody should know about\n",
    "\n",
    "- `tuple` - fixed size list of arbitrary items\n",
    "- `list` - simple dynamic list of arbitrary items\n",
    "- `set` - unordered collection of hashable values that supports mathematical operations\n",
    "- `frozenset` - same as set but immutable and thus hashable\n",
    "- `dict` - the default mapping type for key-value storage\n",
    "\n",
    "However there are also more advanced lesser known collection types and helpful utilities within the python library\n",
    "\n",
    "Overview of the classes in the collection package:\n",
    "- `namedtuple` - a factory function to create tuple subclasses with named fields\n",
    "- `deque` - a double-ended queue\n",
    "- `ChainMap` - a proxy class to provide a common view to multiple mapping instances\n",
    "- `Counter` - simple helper class for counting hashable objects\n",
    "- `OrderedDict` - contrary to the general dict this class tracks insertion order and is also optimized for reordering\n",
    "- `defaultdict` - dict that provides default values for keys\n",
    "- `UserDict`, `UserList`, `UserStr` - base classes for implementations of dict, list or str subclasses\n",
    "\n",
    "Also have a look at the following pages in the python documentation and the python wiki:\n",
    "* __[Sequence types](https://docs.python.org/3/library/stdtypes.html#sequence-types-list-tuple-range)__\n",
    "* __[Collection package docs](https://docs.python.org/3/library/collections.html)__\n",
    "* __[TimeComplexity of Python Collections](https://wiki.python.org/moin/TimeComplexity)__\n"
   ]
  },
  {
   "cell_type": "markdown",
   "id": "66bf4887",
   "metadata": {},
   "source": [
    "### Tuple\n",
    "\n",
    "A `tuple` is a simple immutable fixed-size sequence type of arbitrary values. \n",
    "\n",
    "It is often used implictly (e.g. in returns), when the number of elements is fixed and ease of use is important. Since tuples are immutable they are hashable and can be used in all cases where a hashable datatype is required (e.g. keys in dicts)"
   ]
  },
  {
   "cell_type": "code",
   "execution_count": 1,
   "id": "0ccfa0d9",
   "metadata": {
    "tags": []
   },
   "outputs": [
    {
     "name": "stdout",
     "output_type": "stream",
     "text": [
      "(1, 'string', 32)\n",
      "1 string 32\n",
      "1, 32\n",
      "tuple in return value: (1, 2, 3)\n",
      "tuple hashed:  8337702907702286626\n"
     ]
    }
   ],
   "source": [
    "a_tuple = (1, 'string', 32, )           # parentheses are actually optional but often used for clarity\n",
    "a_tuple = tuple([1, 'string', 32, ])    # alternative creation via iterable e.g. from a list\n",
    "print(a_tuple)\n",
    "\n",
    "a, b, c = a_tuple                       # deconstruction into values\n",
    "print(a, b, c)\n",
    "\n",
    "print(f'{a_tuple[0]}, {a_tuple[2]}')    # indexed access\n",
    "\n",
    "def calc():\n",
    "    return 1, 2, 3                      # can be used to easily return values from a function\n",
    "\n",
    "print('tuple in return value:', calc())\n",
    "\n",
    "print('tuple hashed: ', hash(a_tuple))"
   ]
  },
  {
   "cell_type": "markdown",
   "id": "b3c685ce",
   "metadata": {},
   "source": [
    "### List\n",
    "\n",
    "The default python collection for storing items in a consecutive list that can dynamically grow and shrink. \n",
    "\n",
    "Contrary to the name, lists are internally represented as an array of references and not as e.g. a linked list. As all things in python the elements are stored indirectly (by reference) to account for the arbitrary types that can be stored. The largest runtime costs come from growing beyond the current size and inserting/deleting elements at the start because in these cases the underlying array of references needs to be resized or the references need to be moved.\n",
    "\n",
    "A list can easily be used as a stack by using `append` and `pop` methods but if you need e.g. a FIFO queue other types are preferrable (see `deque`). The same goes for frequent lookups where other datatypes are more performant e.g. set or dict."
   ]
  },
  {
   "cell_type": "code",
   "execution_count": 2,
   "id": "acf0b4de",
   "metadata": {},
   "outputs": [
    {
     "name": "stdout",
     "output_type": "stream",
     "text": [
      "list: ['Hello', 'World', '!']\n",
      "a, b, c:  Hello World !\n",
      "after insert: ['Hello', 'World', 'Johnny', '!']\n",
      "after append: ['Hello', 'World', 'Johnny', '!', '!']\n",
      "indexed access: World !\n",
      "b_list: ['Hello', '!']\n",
      "c_list (copy): ['Hello', '!']\n",
      "c_list (reversed): ['!', 'Hello']\n"
     ]
    }
   ],
   "source": [
    "# use square brackets and comma separated values to initialize a list\n",
    "b_list = ['Hello', 'World', '!']\n",
    "\n",
    "# alternative creation via constructor using an iterable e.g. here from a tuple\n",
    "b_list = list(('Hello', 'World', '!'))\n",
    "print('list:', b_list)\n",
    "\n",
    "# deconstructiong a list into variables works too\n",
    "a, b, c = b_list                            \n",
    "print('a, b, c: ', a, b, c)\n",
    "\n",
    "# insert element at index\n",
    "b_list.insert(2, 'Johnny')   \n",
    "print('after insert:', b_list)\n",
    "\n",
    "# append to the end\n",
    "b_list.append('!')\n",
    "print('after append:', b_list)\n",
    "\n",
    "# indexed access of elements\n",
    "print('indexed access:', f'{b_list[1]} {b_list[4]}')\n",
    "\n",
    "# remove item via index\n",
    "del b_list[2] \n",
    "\n",
    "# remove item by value\n",
    "b_list.remove('World')\n",
    "\n",
    "# remove last item\n",
    "b_list.pop()\n",
    "print('b_list:', b_list)\n",
    "\n",
    "# copy whole list\n",
    "c_list = b_list.copy()\n",
    "print('c_list (copy):', c_list)\n",
    "\n",
    "# reverse list\n",
    "c_list.reverse()\n",
    "print('c_list (reversed):', c_list)\n"
   ]
  },
  {
   "cell_type": "markdown",
   "id": "077309d5",
   "metadata": {},
   "source": [
    "### Set (Frozenset)\n",
    "\n",
    "If the uniqueness of items needs to be guaranteed and/or set operations such as `union`, `intersection` etc are needed, the `set` collection is your datatype of choice. In addition membership tests are also usually cheap to perform.\n",
    "\n",
    "Internally a `set` can be thought of as an unordered hashmap so please note that a `set` can only be used with hashable items (they are not allowed to change or else the set will break). Sets also have operators such as '&', '|' and '^' defined.\n",
    "\n",
    "A `frozenset` is basically the same as `set` but it is immutable so that it can be used as a key for e.g. a dictionary. However performance-wise they are equivalent."
   ]
  },
  {
   "cell_type": "code",
   "execution_count": 3,
   "id": "3da77c03",
   "metadata": {},
   "outputs": [
    {
     "name": "stdout",
     "output_type": "stream",
     "text": [
      "{'!', ' ', 'O', 'H', 'L', 'D', 'E', 'R', 'W'}\n",
      "{'Y', 'A', 'T', ' ', 'O', 'U', 'H', 'D', 'E', '?', 'R', 'W'}\n",
      "elements in both sets:  {' ', 'O', 'H', 'D', 'E', 'R', 'W'}\n",
      "elements in a but not in b:  {'!', 'L'}\n",
      "elements in b but not in a:  {'A', 'T', 'U', '?', 'Y'}\n",
      "all elements:  {' ', 'O', 'U', 'H', 'L', 'E', '!', 'Y', 'A', 'T', 'D', '?', 'R', 'W'}\n",
      "Cannot add unhashable items -  unhashable type: 'list'\n"
     ]
    }
   ],
   "source": [
    "a_set = set('Hello World!'.upper())\n",
    "print(a_set)\n",
    "\n",
    "b_set = set('How are you today?'.upper())\n",
    "print(b_set)\n",
    "\n",
    "elements_in_both = a_set.intersection(b_set)\n",
    "print('elements in both sets: ', elements_in_both)\n",
    "\n",
    "elements_in_a_but_not_in_b = a_set.difference(b_set)\n",
    "print('elements in a but not in b: ', elements_in_a_but_not_in_b)\n",
    "\n",
    "elements_in_b_but_not_in_a = b_set.difference(a_set)\n",
    "print('elements in b but not in a: ', elements_in_b_but_not_in_a)\n",
    "\n",
    "all_elements = a_set.union(b_set)\n",
    "print('all elements: ', all_elements)\n",
    "\n",
    "# demonstrate that e.g. lists cannot be added to a set\n",
    "try:\n",
    "    set(([1, 2, 3], [4, 5, 6]))\n",
    "except Exception as e:\n",
    "    print('Cannot add unhashable items - ', e)"
   ]
  },
  {
   "cell_type": "markdown",
   "id": "ce60b194",
   "metadata": {},
   "source": [
    "### Dict\n",
    "\n",
    "Dicts are also a basic datatype in python. It contains unique keys that point to a certain value. Lookup via key is usually fast - so membership tests & retrieving a value is considerably cheap. Again a key needs to be hashable so that it can be used in a `dict`."
   ]
  },
  {
   "cell_type": "code",
   "execution_count": 4,
   "id": "2bca66c2",
   "metadata": {},
   "outputs": [
    {
     "name": "stdout",
     "output_type": "stream",
     "text": [
      "{'a': 1, 'b': 2}\n",
      "{'a': 1, 'b': 3, 'c': 4}\n",
      "{'a': 0, 'b': 3, 'c': 4, 'd': 5}\n"
     ]
    }
   ],
   "source": [
    "# initialize from kwargs\n",
    "a_dict = dict(a=1, b=2)\n",
    "\n",
    "# initialize with {}\n",
    "a_dict = {'a': 1, 'b': 2}           \n",
    "print(a_dict)\n",
    "\n",
    "# update dict from another dict\n",
    "a_dict.update({'b': 3, 'c': 4})     \n",
    "print(a_dict)\n",
    "\n",
    "# insert a new key-value pair\n",
    "a_dict['d'] = 5                     \n",
    "\n",
    "# change an existing value\n",
    "a_dict['a'] -= 1                    \n",
    "print(a_dict)"
   ]
  },
  {
   "cell_type": "markdown",
   "id": "a9030272",
   "metadata": {},
   "source": [
    "### Namedtuple\n",
    "\n",
    "Named tuples were primarily created to improve readability. Behind the scenes it is actually a factory function that creates a new type with the fields given as arguments and the `tuple` type as base class. The implementation of the new type makes sure that all necessary values are there upon initialization and that an access to a non-existing element raises an exception. It supports all the operations a regular `tuple` would plus access to the attributes by name.\n",
    "\n",
    "Regarding performance a `namedtuple` is usually always worse than a regular `tuple` since there is additional code running to realise the checks behind the scenes."
   ]
  },
  {
   "cell_type": "code",
   "execution_count": 5,
   "id": "6a7d3ed0-2f44-40cd-80e1-7bbc75e4a224",
   "metadata": {},
   "outputs": [
    {
     "name": "stdout",
     "output_type": "stream",
     "text": [
      "Inheritance chain:  [<class '__main__.TupleFG'>, <class 'tuple'>, <class 'object'>]\n",
      "Instance of TupleFG:  TupleFG(f=1, g=2)\n",
      "Instance of TupleXY:  TupleXY(x=3, y=4)\n",
      "Instance of TupleXY via factory function:  TupleXY(x=1, y=2)\n"
     ]
    }
   ],
   "source": [
    "from collections import namedtuple\n",
    "from typing import NamedTuple\n",
    "\n",
    "# create a named tuple by using the factory function `namedtuple`\n",
    "TupleFG = namedtuple('TupleFG', ('f', 'g'))\n",
    "print('Inheritance chain: ', TupleFG.mro())\n",
    "\n",
    "x = TupleFG(1, 2)\n",
    "print('Instance of TupleFG: ', x)\n",
    "\n",
    "# alternative way of creating a named tuple type\n",
    "# this way it is possible to easily add type hints for the IDE\n",
    "class TupleXY(NamedTuple):\n",
    "    x: int\n",
    "    y: int\n",
    "    \n",
    "y = TupleXY(3, 4)\n",
    "print('Instance of TupleXY: ', y)\n",
    "\n",
    "# use the factory function to create a named tuple\n",
    "z = TupleXY._make((1, 2,))\n",
    "print('Instance of TupleXY via factory function: ', z)"
   ]
  },
  {
   "cell_type": "markdown",
   "id": "0b4cd2ee",
   "metadata": {},
   "source": [
    "### Deque\n",
    "\n",
    "The name `deque` stands for double ended queue and already tells a lot about the desired use case of this class. If there is the need to quickly insert and remove from the beginning/end of the data structure this collection can be used (FIFO / LIFO). It provides the necessary methods and is optimized for this very purpose.\n",
    "\n",
    "In addition to that a `deque` can also be used with a `maxlen` argument. This means that when new items are added to one side, the collection discards as many items from the other side to satisfy the `maxlen` count again."
   ]
  },
  {
   "cell_type": "code",
   "execution_count": 6,
   "id": "36ccb148",
   "metadata": {},
   "outputs": [
    {
     "name": "stdout",
     "output_type": "stream",
     "text": [
      "deque([10, 1])\n",
      "deque([6, 5, 4, 10, 1])\n",
      "deque([5, 4, 10])\n",
      "deque([10, 5, 4])\n",
      "deque([1, 2, 3], maxlen=3)\n",
      "deque([2, 3, 4], maxlen=3)\n",
      "deque([10, 2, 3], maxlen=3)\n"
     ]
    }
   ],
   "source": [
    "from collections import deque\n",
    "\n",
    "a_deque = deque()\n",
    "\n",
    "# append on the right side\n",
    "a_deque.append(1)                       \n",
    "\n",
    "# append single element on the left side\n",
    "a_deque.appendleft(10)                  \n",
    "print(a_deque)\n",
    "\n",
    "# extend from iterable on the left side\n",
    "# note: adds the iterable in reverse\n",
    "a_deque.extendleft((4, 5, 6, ))         \n",
    "print(a_deque)                          \n",
    "\n",
    "# pop an item from the left isde\n",
    "a_deque.popleft()\n",
    "\n",
    "# pop an item from the right side\n",
    "a_deque.pop()                           \n",
    "print(a_deque)\n",
    "\n",
    "# rotate elements right by 1 element\n",
    "a_deque.rotate(1)                       \n",
    "print(a_deque)\n",
    "\n",
    "# create a deque with maxlength of 3\n",
    "b_deque = deque(maxlen=3)\n",
    "b_deque.extend((1, 2, 3, ))\n",
    "print(b_deque)\n",
    "\n",
    "# appending on the right side shifts out an element from the beginning\n",
    "b_deque.append(4)                       \n",
    "print(b_deque)\n",
    "\n",
    "# appending on the left side shifts out an element from the end\n",
    "b_deque.appendleft(10)                  \n",
    "print(b_deque)"
   ]
  },
  {
   "cell_type": "markdown",
   "id": "61438c9f-429e-4835-81d8-e60f0ff20e8e",
   "metadata": {
    "tags": []
   },
   "source": [
    "Find a simple performance comparison between list & deque below"
   ]
  },
  {
   "cell_type": "code",
   "execution_count": 7,
   "id": "24bafc5b-127c-49ca-a1e2-78fa64557cb6",
   "metadata": {},
   "outputs": [
    {
     "name": "stdout",
     "output_type": "stream",
     "text": [
      "FIFO with list\n",
      "203 µs ± 1.18 µs per loop (mean ± std. dev. of 5 runs, 100 loops each)\n",
      "FIFO with deqeue\n",
      "86 µs ± 1.01 µs per loop (mean ± std. dev. of 5 runs, 100 loops each)\n",
      "LIFO with list\n",
      "86.1 µs ± 1.54 µs per loop (mean ± std. dev. of 5 runs, 100 loops each)\n",
      "LIFO with deqeue\n",
      "86 µs ± 1.37 µs per loop (mean ± std. dev. of 5 runs, 100 loops each)\n"
     ]
    }
   ],
   "source": [
    "def fifo_list():\n",
    "    l = []\n",
    "    for i in range(1000):\n",
    "        l.append(i)\n",
    "    while l:\n",
    "        item = l[0]\n",
    "        del l[0] \n",
    "        \n",
    "print('FIFO with list')\n",
    "%timeit -n 100 -r 5 fifo_list()\n",
    "        \n",
    "def fifo_deque():\n",
    "    d = deque()\n",
    "    for i in range(1000):\n",
    "        d.append(i)\n",
    "    while d:\n",
    "        item = d.popleft()\n",
    "    \n",
    "print('FIFO with deqeue')\n",
    "%timeit -n 100 -r 5 fifo_deque()\n",
    "\n",
    "def lifo_list():\n",
    "    l = []\n",
    "    for i in range(1000):\n",
    "        l.append(i)\n",
    "    while l:\n",
    "        item = l.pop()\n",
    "        \n",
    "print('LIFO with list')\n",
    "%timeit -n 100 -r 5 lifo_list()\n",
    "\n",
    "def lifo_deque():\n",
    "    d = deque()\n",
    "    for i in range(1000):\n",
    "        d.append(i)\n",
    "    while d:\n",
    "        item = d.pop()\n",
    "    \n",
    "print('LIFO with deqeue')\n",
    "%timeit -n 100 -r 5 lifo_deque()"
   ]
  },
  {
   "cell_type": "markdown",
   "id": "b02a167b",
   "metadata": {},
   "source": [
    "### ChainMap\n",
    "\n",
    "A `ChainMap` can be used to virtually link multiple dictionaries together without discarding the original dicts. If a value gets updated it stores the updates in the first dict argument, lookups however search the full chain (from left to right)."
   ]
  },
  {
   "cell_type": "code",
   "execution_count": 8,
   "id": "37727b75",
   "metadata": {},
   "outputs": [
    {
     "name": "stdout",
     "output_type": "stream",
     "text": [
      "runtime_arguments: {}\n",
      "cmdline_arguments: {'b': False, 'c': 6.283}\n",
      "default_arguments: {'a': 0, 'b': True, 'c': 3.1415}\n",
      "ChainMap:  ChainMap({}, {'b': False, 'c': 6.283}, {'a': 0, 'b': True, 'c': 3.1415})\n",
      "param a (from default_arguments): 0\n",
      "param b (from cmdline_arguments): False\n",
      "param c (from cmdline_arguments): 6.283\n",
      "ChainMap({'c': 10.0}, {'b': False, 'c': 6.283}, {'a': 0, 'b': True, 'c': 3.1415})\n",
      "runtime_arguments: {'c': 10.0}\n",
      "cmdline_arguments: {'b': False, 'c': 6.283}\n",
      "default_arguments: {'a': 0, 'b': True, 'c': 3.1415}\n",
      "param c (now from runtime_arguments): 10.0\n"
     ]
    }
   ],
   "source": [
    "from collections import ChainMap\n",
    "\n",
    "# create three different dictionaries for this example\n",
    "runtime_arguments = {}\n",
    "cmdline_arguments = {'b': False, 'c': 6.2830}\n",
    "default_arguments = {'a': 0, 'b': True, 'c': 3.1415}\n",
    "print('runtime_arguments:', runtime_arguments)        \n",
    "print('cmdline_arguments:', cmdline_arguments)\n",
    "print('default_arguments:', default_arguments)\n",
    "\n",
    "# put them in a ChainMap (order matters)\n",
    "c_map = ChainMap(runtime_arguments, cmdline_arguments, default_arguments)\n",
    "print('ChainMap: ', c_map)\n",
    "\n",
    "# lookup keys and see how the value resolution works\n",
    "print('param a (from default_arguments):', c_map['a'])\n",
    "print('param b (from cmdline_arguments):', c_map['b'])\n",
    "print('param c (from cmdline_arguments):', c_map['c'])\n",
    "\n",
    "# adding an override via ChainMap for \"c\" sets the value in \"runtime_arguments\"\n",
    "c_map['c'] = 10.0\n",
    "print(c_map)\n",
    "\n",
    "print('runtime_arguments:', runtime_arguments)        \n",
    "print('cmdline_arguments:', cmdline_arguments)\n",
    "print('default_arguments:', default_arguments)\n",
    "\n",
    "print('param c (now from runtime_arguments):', c_map['c'])"
   ]
  },
  {
   "cell_type": "markdown",
   "id": "f90c1920",
   "metadata": {},
   "source": [
    "### Counter\n",
    "\n",
    "A `Counter` class can be used to quickly count the occurences of (hashable) items in a list. It works like a dict, where the keys are the items and the values are the counts."
   ]
  },
  {
   "cell_type": "code",
   "execution_count": 9,
   "id": "a1f80bc1",
   "metadata": {},
   "outputs": [
    {
     "name": "stdout",
     "output_type": "stream",
     "text": [
      "cnt1:  Counter({'l': 3, 'o': 2, 'H': 1, 'e': 1, ' ': 1, 'W': 1, 'r': 1, 'd': 1, '!': 1})\n",
      "[('l', 3)]\n",
      "cnt2:  Counter({'red': 3, 'blue': 1, 'green': 0})\n",
      "[('red', 3)]\n",
      "4\n",
      "cnt3:  Counter({'blue': 2, 'green': 1, 'yellow': 1})\n",
      "cnt4:  Counter({'red': 3, 'blue': 3, 'green': 1, 'yellow': 1})\n"
     ]
    }
   ],
   "source": [
    "from collections import Counter\n",
    "\n",
    "cnt1 = Counter('Hello World!')                      # feed in a string (=iterable) and count the occurences of each character\n",
    "print('cnt1: ', cnt1)\n",
    "print(cnt1.most_common(1))                          # print out the most common character\n",
    "\n",
    "cnt2 = Counter({'red': 3, 'blue': 1, 'green': 0})   # can also take in a mapping that already has counts\n",
    "print('cnt2: ', cnt2)\n",
    "print(cnt2.most_common(1))\n",
    "print(cnt2.total())\n",
    "\n",
    "cnt3 = Counter(('green', 'blue', 'yellow', 'blue'))\n",
    "print('cnt3: ', cnt3)\n",
    "\n",
    "cnt4 = cnt2 + cnt3                                  # combine two counters\n",
    "print('cnt4: ', cnt4)\n"
   ]
  },
  {
   "cell_type": "markdown",
   "id": "fae01b26",
   "metadata": {},
   "source": [
    "### OrderedDict\n",
    "\n",
    "`OrderedDict` is very different from the default `dict` implementation. It shines when insertion order is crucial and frequent reordering operations are necessary. However it has considerable drawbacks when space efficiency, iteration speed and update operations is of importance - in these cases a standard `dict` should be used instead."
   ]
  },
  {
   "cell_type": "code",
   "execution_count": 10,
   "id": "881d5736",
   "metadata": {},
   "outputs": [
    {
     "name": "stdout",
     "output_type": "stream",
     "text": [
      "odict_keys(['c', 'a', 'b'])\n",
      "odict_keys(['a', 'b', 'c'])\n",
      "odict_keys(['a', 'b'])\n"
     ]
    }
   ],
   "source": [
    "from collections import OrderedDict\n",
    "\n",
    "# create a new ordered dict form a dict argument\n",
    "o_dict = OrderedDict({'c': 10, 'a': 2, 'b': 3})\n",
    "print(o_dict.keys())\n",
    "\n",
    "# move the key 'c' to the end of the ordered dict\n",
    "o_dict.move_to_end('c')             \n",
    "print(o_dict.keys())\n",
    "\n",
    "# remove an item from the back\n",
    "o_dict.popitem()                    \n",
    "print(o_dict.keys())"
   ]
  },
  {
   "cell_type": "markdown",
   "id": "a1a951b0",
   "metadata": {},
   "source": [
    "### Defaultdict\n",
    "\n",
    "`defaultdict` is a subclass of `dict` and behaves just like regular dictionaries. The main difference is that you can provide a factory function for values. Whenever a key is not yet in the dictionary it is created using the default factory function."
   ]
  },
  {
   "cell_type": "code",
   "execution_count": 11,
   "id": "5a24f97c",
   "metadata": {},
   "outputs": [
    {
     "name": "stdout",
     "output_type": "stream",
     "text": [
      "dict_keys([])\n",
      "110\n",
      "dict_keys(['a'])\n",
      "60\n",
      "dict_keys(['a', 'b'])\n",
      "defaultdict(<function <lambda> at 0x7f134ae77520>, {'a': 110, 'b': 60})\n",
      "defaultdict(<class 'list'>, {'foo': ['bar', 'baz'], 'bar': ['boo']})\n"
     ]
    }
   ],
   "source": [
    "from collections import defaultdict\n",
    "\n",
    "a_dict = defaultdict(lambda: 100)\n",
    "print(a_dict.keys())\n",
    "a_dict['a'] += 10\n",
    "print(a_dict['a'])\n",
    "print(a_dict.keys())\n",
    "a_dict['b'] -= 40\n",
    "print(a_dict['b'])\n",
    "print(a_dict.keys())\n",
    "print(a_dict)\n",
    "\n",
    "b_dict = defaultdict(list)\n",
    "for name, value in [('foo', 'bar'), ('foo', 'baz'), ('bar', 'boo')]:\n",
    "    b_dict[name].append(value)\n",
    "print(b_dict)\n"
   ]
  },
  {
   "cell_type": "markdown",
   "id": "91f4eb99",
   "metadata": {},
   "source": [
    "### UserDict, UserList, UserStr\n",
    "\n",
    "These classes exist to simplify user defined implementations of `dict`, `list` as well as `str`. They make their content available in the `data` attribute and thus allow operating on the data for e.g. custom implementations of existing functions or new functions."
   ]
  },
  {
   "cell_type": "code",
   "execution_count": 12,
   "id": "e3c310a2",
   "metadata": {},
   "outputs": [
    {
     "name": "stdout",
     "output_type": "stream",
     "text": [
      "Initial list: [1, 2, 3, 4, 5, 6, 7, 8]\n",
      "After executing custom method:  [2, 4, 6, 8]\n"
     ]
    }
   ],
   "source": [
    "from collections import UserList\n",
    "\n",
    "class MyUserList(UserList):    \n",
    "    def clear_odd(self):\n",
    "        \"\"\" Add a simple custom function to clear the add values (assumes that the items are int). \"\"\"\n",
    "        self.data = [v for v in self.data if v % 2 == 0]\n",
    "        \n",
    "l = MyUserList([1, 2, 3, 4, 5, 6, 7, 8])\n",
    "print('Initial list:', l)\n",
    "l.clear_odd()\n",
    "print('After executing custom method: ', l)"
   ]
  },
  {
   "cell_type": "markdown",
   "id": "062481af",
   "metadata": {},
   "source": [
    "### Dataclasses\n",
    "\n",
    "Dataclasses where introduced in Python 3.7 and allow the user to quickly put together simple data container classes with type hints. \n",
    "\n",
    "The supported methods can be customized by specifying flags in the decorator.\n",
    "\n",
    "Regarding performance and memory requirements dataclasses can be as fast as slotted classes (depending on the creation arguments in the decorator)."
   ]
  },
  {
   "cell_type": "code",
   "execution_count": 13,
   "id": "54d72460",
   "metadata": {},
   "outputs": [],
   "source": [
    "from dataclasses import dataclass\n",
    "from typing import Any\n",
    "\n",
    "@dataclass(repr=False, eq=False, order=False, slots=True)\n",
    "class DataclassDemo:\n",
    "    x: int\n",
    "    y: int\n",
    "    value: Any\n",
    "    \n",
    "data = DataclassDemo(10, 12, dict())\n"
   ]
  },
  {
   "cell_type": "markdown",
   "id": "84a5c1d2",
   "metadata": {},
   "source": [
    "## Object-oriented Programming\n",
    "\n",
    "Also see: __[Python Datamodel](https://docs.python.org/3/reference/datamodel.html)__\n",
    "\n",
    "A class in python is simply put a template object (a type) to create a class instance comprised of certain attributes & methods to operate on these attributes.\n",
    "\n",
    "The most simple way a class can be defined is like this `class C: pass`. The previous code is actually equivalent to the following `C = type('C', (), dict())`"
   ]
  },
  {
   "cell_type": "markdown",
   "id": "71dea14f",
   "metadata": {},
   "source": [
    "### Special attributes and methods"
   ]
  },
  {
   "cell_type": "markdown",
   "id": "361bdcd9-56f7-4695-aa30-5686b92c7999",
   "metadata": {},
   "source": [
    "When you create a new instance of the `Test` class python first calls the `__new__` method, which is implicitly a static method of the class type itself. `__new__`'s job is to actually create a new object instance and then call the `__init__` method on the instance.\n",
    "\n",
    "Internally attributes are saved in the private attribute `__dict__`.\n",
    "\n",
    "Whenever the official string representation of class instance is needed or when `repr` is directly called, the method `__repr__` is invoked on the instance to generate this string. If there is no `__str__` method defined `__repr__` is also used to generate the informal string representation of the instance.\n",
    "\n",
    "Other often used special methods are the comparison methods (`__lt__`, `__eq__`, `__gt__`, etc ...) the hash method `__hash__` and the attribute access method (`__getattr__`, `__getattribute__`, `__setattr__`, ...). Please refer to the python documentation for a complete list and description of those methods."
   ]
  },
  {
   "cell_type": "code",
   "execution_count": 14,
   "id": "8a6b52c7-fbe9-48c0-8e38-3ce008f787a9",
   "metadata": {},
   "outputs": [
    {
     "name": "stdout",
     "output_type": "stream",
     "text": [
      "new instance: __new__\n",
      "new instance: __init__\n",
      "Test()\n",
      "{'test_attribute': 10}\n",
      "8732552570355\n"
     ]
    }
   ],
   "source": [
    "# create a new class\n",
    "class Test:\n",
    "    def __new__(cls, *args, **kwargs):\n",
    "        print('new instance: __new__')\n",
    "        return super().__new__(cls)\n",
    "        \n",
    "    def __init__(self, *args, **kwargs):\n",
    "        print('new instance: __init__')\n",
    "        super().__init__()\n",
    "        self.test_attribute = 10\n",
    "        \n",
    "    def __repr__(self):\n",
    "        return 'Test()'\n",
    "    \n",
    "    \n",
    "# create a new instance of `Test` class\n",
    "t = Test()\n",
    "print(t)\n",
    "print(t.__dict__)\n",
    "print(t.__hash__())"
   ]
  },
  {
   "cell_type": "markdown",
   "id": "a8dac14a",
   "metadata": {},
   "source": [
    "Attributes, Methods and most of the charcteristics of a class can be changed at runtime."
   ]
  },
  {
   "cell_type": "code",
   "execution_count": 15,
   "id": "4e5985b2-4a6f-42b7-90e6-a86eca74baeb",
   "metadata": {},
   "outputs": [
    {
     "name": "stdout",
     "output_type": "stream",
     "text": [
      "Class name:  Test\n",
      "Empty class instance:  {'test_attribute': 10}\n",
      "Class instance afterwards:  {'test_attribute': 10, 'new_attribute': 'foo'}\n",
      "Default repr of class instance:  Test()\n",
      "New repr of class instance:  <Test new_attribute=foo>\n",
      "new instance: __new__\n",
      "With new constructor:  {'other_attribute': 'other'}\n",
      "new instance: __new__\n",
      "Caught TypeError after setting new \"__init__\" method\n"
     ]
    }
   ],
   "source": [
    "# print class name\n",
    "print('Class name: ', t.__class__.__name__)\n",
    "\n",
    "# dict is empty\n",
    "print('Empty class instance: ', t.__dict__)\n",
    "\n",
    "# dynamically add a new attribute\n",
    "t.new_attribute = 'foo'\n",
    "\n",
    "# dict contains 'new_attribute' afterwards\n",
    "print('Class instance afterwards: ', t.__dict__)\n",
    "\n",
    "# print default representation\n",
    "print('Default repr of class instance: ', repr(t))\n",
    "\n",
    "# change __repr__ method at runtime for all instances\n",
    "Test.__repr__ = lambda self: f'<Test new_attribute={self.new_attribute}>'     \n",
    "\n",
    "# print new representation\n",
    "print('New repr of class instance: ',repr(t))\n",
    "\n",
    "# dynamically replace constructor\n",
    "def new_init(self, other_attribute):\n",
    "    self.other_attribute = other_attribute\n",
    "    \n",
    "Test.__init__ = new_init\n",
    "\n",
    "# create new instance using new constructor\n",
    "u = Test('other')\n",
    "\n",
    "# dict contains 'other_attribute'\n",
    "print('With new constructor: ', u.__dict__)\n",
    "\n",
    "try:\n",
    "    # creating a new instance now requires the new attribute\n",
    "    Test()\n",
    "except TypeError:\n",
    "    print('Caught TypeError after setting new \"__init__\" method')"
   ]
  },
  {
   "cell_type": "markdown",
   "id": "63d4911c",
   "metadata": {},
   "source": [
    "### Slots\n",
    "\n",
    "If arbitrary attributes are not necessary a class can be restricted to only allow certain attributes by using so called slots. In addition to having a check in place that an attribute is really existing it can also save memory and improve lookup speeds because the class does not need to have an internal `dict` to store possible additional attributes.\n",
    "\n",
    "The attribute lookup usually works by taking the attribute name and translating it into a lookup into the internal `__dict__`. Using slots creates descriptors for those attributes and prevents python from creating the `__dict__` attribute."
   ]
  },
  {
   "cell_type": "code",
   "execution_count": 16,
   "id": "33f1776f",
   "metadata": {},
   "outputs": [
    {
     "name": "stdout",
     "output_type": "stream",
     "text": [
      "Size of class with __dict__:  48\n",
      "Actual size of class with __dict__:  236\n",
      "Size of class with __slots__:  56\n",
      "Actual size of class with __dict__:  140\n",
      "Caught AttributeError - assignment of new attributes is not possible when slots are used.\n"
     ]
    }
   ],
   "source": [
    "from sys import getsizeof\n",
    "from tooling.getsize import getsize\n",
    "\n",
    "class ClassExample:\n",
    "    def __init__(self, x, y, z):\n",
    "        self.x = x\n",
    "        self.y = y\n",
    "        self.z = z\n",
    "        \n",
    "class_example = ClassExample(1, 2, 3)\n",
    "print('Size of class with __dict__: ', getsizeof(class_example))\n",
    "print('Actual size of class with __dict__: ', getsize(class_example))\n",
    "\n",
    "\n",
    "class SlotExample:\n",
    "    __slots__ = ('x', 'y', 'z')\n",
    "    \n",
    "    def __init__(self, x, y, z):\n",
    "        self.x = x\n",
    "        self.y = y\n",
    "        self.z = z       \n",
    "\n",
    "slot_example = SlotExample(1, 2, 3)\n",
    "print('Size of class with __slots__: ', getsizeof(slot_example))\n",
    "print('Actual size of class with __dict__: ', getsize(slot_example))\n",
    "\n",
    "try:\n",
    "    slot_example.new_attribute = 'bar'\n",
    "except AttributeError:\n",
    "    print('Caught AttributeError - assignment of new attributes is not possible when slots are used.')"
   ]
  },
  {
   "cell_type": "markdown",
   "id": "4bc4b4b9",
   "metadata": {},
   "source": [
    "### Inheritance \n",
    "\n",
    "Python also supports polymorphism and (multiple) inheritance. The inheritance hierarchy is defined by the MRO (method resolution order) and can be looked up at runtime by using the method `mro`. \n",
    "\n",
    "Regarding method resolution order - consider the following example:"
   ]
  },
  {
   "cell_type": "code",
   "execution_count": 17,
   "id": "1ed1d2fe",
   "metadata": {},
   "outputs": [
    {
     "name": "stdout",
     "output_type": "stream",
     "text": [
      "MRO of C:  [<class '__main__.DogCat'>, <class '__main__.Dog'>, <class '__main__.Cat'>, <class '__main__.Animal'>, <class 'object'>]\n",
      "is \"kotpies\" an instance of Animal:  True\n",
      "is \"kotpies\" an instance of Dog:  True\n",
      "kotpies says: bark\n"
     ]
    }
   ],
   "source": [
    "class Animal: \n",
    "    def speak(self):\n",
    "        raise NotImplementedError\n",
    "\n",
    "class Dog(Animal): \n",
    "    def speak(self):\n",
    "        return 'bark'\n",
    "    \n",
    "class Cat(Animal):\n",
    "    def speak(self):\n",
    "        return 'meow'\n",
    "\n",
    "class DogCat(Dog, Cat):\n",
    "    pass\n",
    "\n",
    "kotpies = DogCat()\n",
    "print('MRO of C: ', type(kotpies).mro())\n",
    "\n",
    "# use 'isinstance' to check if an instance is of a given type\n",
    "print('is \"kotpies\" an instance of Animal: ', isinstance(kotpies, Animal)) \n",
    "print('is \"kotpies\" an instance of Dog: ', isinstance(kotpies, Dog))    \n",
    "\n",
    "print('kotpies says:', kotpies.speak())"
   ]
  },
  {
   "cell_type": "markdown",
   "id": "d85a52c7",
   "metadata": {},
   "source": [
    "From the above example we can see that the MRO works by going from subclass(es) to baseclass until it stops at the implicit `object` base class every python type inherits from. Note that the order of the classes in the definition of `DogCat` matters (`Dog` before `Cat`).\n",
    "\n",
    "Classes also can have static attributes, static methods and class methods."
   ]
  },
  {
   "cell_type": "code",
   "execution_count": 18,
   "id": "cd8946ff",
   "metadata": {},
   "outputs": [
    {
     "name": "stdout",
     "output_type": "stream",
     "text": [
      "10 10 10\n",
      "5 5 5\n",
      "4 5 5\n",
      "static count is: \"5\"\n",
      "class: \"Static\" bar - static count is \"5\"\n",
      "static count is: \"5\"\n",
      "class: \"Static\" bar - static count is \"5\"\n"
     ]
    }
   ],
   "source": [
    "class Static:\n",
    "    count = 10\n",
    "    \n",
    "    @staticmethod\n",
    "    def static_method():\n",
    "        return f'static count is: \"{Static.count}\"'\n",
    "    \n",
    "    @classmethod\n",
    "    def class_method(cls):\n",
    "        return f'class: \"{cls.__name__}\" bar - static count is \"{cls.count}\"'\n",
    "    \n",
    "a, b = Static(), Static()\n",
    "print(a.count, b.count, Static.count)\n",
    "\n",
    "Static.count = 5\n",
    "print(a.count, b.count, Static.count)\n",
    "\n",
    "# however be aware! when trying to access a static attribute like this, it creates a new instance attribute instead\n",
    "a.count = 4                                 \n",
    "print(a.count, b.count, Static.count)\n",
    "\n",
    "# call the static method, it has access to static attributes\n",
    "print(Static.static_method())\n",
    "\n",
    "# call the class method, which is similar to static method but gets the type as first argument\n",
    "print(Static.class_method())\n",
    "\n",
    "# you can also call static and class methods via an instance\n",
    "print(a.static_method())\n",
    "print(b.class_method())"
   ]
  },
  {
   "cell_type": "markdown",
   "id": "a7459286",
   "metadata": {},
   "source": [
    "### Metaclasses / Metaprogramming\n",
    "\n",
    "In python everything is an object - even types themselves are objects. So creating a class derived from `type` can be used to add additional behaviour to instances created by this class. This class that creates other class instances is called a `metaclass`. \n",
    "\n",
    "This kind of mechanism is often used e.g. to realize ORM systems or to generate additional methods or code for definitions in classes. \n",
    "\n",
    "Note that every class in python can only have one metaclass."
   ]
  },
  {
   "cell_type": "code",
   "execution_count": 19,
   "id": "2ad0ccbc-3745-4b39-a6e6-3d862a3bc333",
   "metadata": {},
   "outputs": [
    {
     "name": "stdout",
     "output_type": "stream",
     "text": [
      "using \"TheMetaclass\" TheClass ()\n",
      "__module__: __main__\n",
      "__qualname__: TheClass\n",
      "blub: {}\n",
      "<__main__.TheClass object at 0x7f134b1a73d0>\n"
     ]
    }
   ],
   "source": [
    "class TheMetaclass(type):\n",
    "    def __new__(cls, name, bases=None, namespace=None):\n",
    "        print('using \"TheMetaclass\"', name, bases)\n",
    "        for key, value in namespace.items():\n",
    "            print(f'{key}: {value}')\n",
    "        return type.__new__(cls, name, bases, namespace)\n",
    "\n",
    "class TheClass(metaclass=TheMetaclass):\n",
    "    blub = dict()\n",
    "\n",
    "c = TheClass()\n",
    "print(c)"
   ]
  },
  {
   "cell_type": "markdown",
   "id": "4f5cc5ff-bed6-4db2-bed6-86cccbe89a99",
   "metadata": {},
   "source": [
    "## Functional Programming\n",
    "\n",
    "**Functional programming** can be a very powerful tool in python. The basic idea is that we use functions as if they were mathematical transformations that are applied to data. Thus we can easily stack them together to produce the results we want. \n",
    "\n",
    "### Generators\n",
    "\n",
    "To understand how this works in python it is necessary to first understand generator functions: A generator function is a special function that does not just return a value but instead returns an **iterator** which can be used to process a sequence of values. This is done by using `yield` instead of `return` to return the `next` result. \n",
    "\n",
    "If big amounts of input data, that do not fit into memory, need to be processed, the concept of generator functions can be very useful as it allows processing a value (or a chunk of values) at a time (stream processing)."
   ]
  },
  {
   "cell_type": "code",
   "execution_count": 20,
   "id": "21cd1856",
   "metadata": {},
   "outputs": [
    {
     "name": "stdout",
     "output_type": "stream",
     "text": [
      "[1, 4, 9, 16]\n"
     ]
    }
   ],
   "source": [
    "def square(input_sequence):\n",
    "    for item in input_sequence:\n",
    "        yield item*item\n",
    "\n",
    "# use the list constructor to evaluate the sequence for printing\n",
    "data = (1, 2, 3, 4, )\n",
    "print(list(square(data)))"
   ]
  },
  {
   "cell_type": "markdown",
   "id": "a0e84fac",
   "metadata": {},
   "source": [
    "### Using built-in generator functions\n",
    "\n",
    "In the above example we could already see how such a generator function can be used to square the input data, yielding one result at a time. Python already comes with a lot of built-in functions you probably already used that are actually generator functions - for example think about `range`. Other often used examples are `all`, `any`, `filter`, `map`, `max`, `min`, `reversed`, `sorted`, `sum` and `zip`.\n",
    "\n",
    "Compared to simply looping over the data in python code, the build-in function can also quite considerably lead to speed-ups because they do not need to be interpreted first."
   ]
  },
  {
   "cell_type": "code",
   "execution_count": 21,
   "id": "6f31e45f-ceeb-49b4-af23-f4cadb7eea5c",
   "metadata": {},
   "outputs": [],
   "source": [
    "import dis\n",
    "\n",
    "# create a list of test data\n",
    "test_data = []\n",
    "for i in range(10000):\n",
    "    test_data.append(i)"
   ]
  },
  {
   "cell_type": "code",
   "execution_count": 22,
   "id": "081c94f5-bc7f-40e5-80f2-80c31ad0f272",
   "metadata": {},
   "outputs": [
    {
     "name": "stdout",
     "output_type": "stream",
     "text": [
      "sum data using for loop\n",
      "354 µs ± 1.96 µs per loop (mean ± std. dev. of 3 runs, 1,000 loops each)\n",
      "49995000\n",
      "  2           0 LOAD_CONST               1 (0)\n",
      "              2 STORE_FAST               1 (s)\n",
      "\n",
      "  3           4 LOAD_FAST                0 (input_list)\n",
      "              6 GET_ITER\n",
      "        >>    8 FOR_ITER                 6 (to 22)\n",
      "             10 STORE_FAST               2 (element)\n",
      "\n",
      "  4          12 LOAD_FAST                1 (s)\n",
      "             14 LOAD_FAST                2 (element)\n",
      "             16 INPLACE_ADD\n",
      "             18 STORE_FAST               1 (s)\n",
      "             20 JUMP_ABSOLUTE            4 (to 8)\n",
      "\n",
      "  5     >>   22 LOAD_FAST                1 (s)\n",
      "             24 RETURN_VALUE\n"
     ]
    }
   ],
   "source": [
    "def sum_data_loop(input_list):\n",
    "    s = 0\n",
    "    for element in input_list:\n",
    "        s += element\n",
    "    return s\n",
    "\n",
    "print('sum data using for loop')\n",
    "%timeit -n 1000 -r 3 sum_data_loop(test_data)\n",
    "print(sum_data_loop(test_data))\n",
    "dis.dis(sum_data_loop)"
   ]
  },
  {
   "cell_type": "code",
   "execution_count": 23,
   "id": "fa5194c1-9df6-48cf-b7c9-6066d2cf15a5",
   "metadata": {},
   "outputs": [
    {
     "name": "stdout",
     "output_type": "stream",
     "text": [
      "sum data using \"sum\" function\n",
      "82 µs ± 365 ns per loop (mean ± std. dev. of 3 runs, 1,000 loops each)\n",
      "49995000\n",
      "  2           0 LOAD_GLOBAL              0 (sum)\n",
      "              2 LOAD_FAST                0 (input_list)\n",
      "              4 CALL_FUNCTION            1\n",
      "              6 RETURN_VALUE\n"
     ]
    }
   ],
   "source": [
    "def sum_data_fn(input_list):        # use a function so we can disassemble it\n",
    "    return sum(input_list)\n",
    "\n",
    "print('sum data using \"sum\" function')\n",
    "%timeit -n 1000 -r 3 sum_data_fn(test_data)\n",
    "print(sum_data_fn(test_data))\n",
    "dis.dis(sum_data_fn)"
   ]
  },
  {
   "cell_type": "markdown",
   "id": "86e5ea3e-efbb-4a91-89cb-7ef7f50b4be0",
   "metadata": {},
   "source": [
    "It can be seen that in the first function `sum_data_loop` the interpreter needs to go through all of the instructions which is a lot more compared to the second function `sum_data_fn` which simply calls a built-in C-function behind the scenes.\n",
    "\n",
    "The complete list of built-in functions can be found here: __[Built-in Functions](https://docs.python.org/3/library/functions.html)__."
   ]
  },
  {
   "cell_type": "markdown",
   "id": "3d7a6d01",
   "metadata": {},
   "source": [
    "### Lambdas\n",
    "\n",
    "When using functional programming programmers often run into the problem that they need to define functions that can be applied to e.g. `map` or `filter`."
   ]
  },
  {
   "cell_type": "code",
   "execution_count": 24,
   "id": "d10a351c",
   "metadata": {},
   "outputs": [
    {
     "name": "stdout",
     "output_type": "stream",
     "text": [
      "[2, 4]\n"
     ]
    }
   ],
   "source": [
    "def is_even(number):\n",
    "    return number % 2 == 0\n",
    "\n",
    "a_list = [1, 2, 3, 4]\n",
    "print(list(filter(is_even, a_list)))"
   ]
  },
  {
   "cell_type": "markdown",
   "id": "2846fd2a",
   "metadata": {},
   "source": [
    "Instead of first definining and using the method `is_even` like above we can also just write a so-called **lambda expressoin**. \n",
    "\n",
    "Lambdas are in-place functions that are defined by using the syntax `lambda [list of arguments]: <expression>`. \n",
    "\n",
    "Since lambdas are itself objects, they can also be assigned and used multiple times if desired."
   ]
  },
  {
   "cell_type": "code",
   "execution_count": 25,
   "id": "a08f14ff",
   "metadata": {},
   "outputs": [
    {
     "name": "stdout",
     "output_type": "stream",
     "text": [
      "[2, 4]\n",
      "[True, False, True, False, True, False, True]\n"
     ]
    }
   ],
   "source": [
    "a_list = [1, 2, 3, 4]\n",
    "print(list(filter(lambda number: number % 2 == 0, a_list)))\n",
    "\n",
    "is_even_lambda = lambda number: number % 2 == 0\n",
    "b_list = [4, 5, 6, 7, 8, 9, 10]\n",
    "print(list(map(is_even_lambda, b_list)))"
   ]
  },
  {
   "cell_type": "code",
   "execution_count": 26,
   "id": "89d034b5",
   "metadata": {},
   "outputs": [
    {
     "name": "stdout",
     "output_type": "stream",
     "text": [
      "767 ns ± 1.04 ns per loop (mean ± std. dev. of 3 runs, 100,000 loops each)\n"
     ]
    }
   ],
   "source": [
    "%timeit -n 100000 -r 3 list(filter(is_even, b_list))\n"
   ]
  },
  {
   "cell_type": "code",
   "execution_count": 27,
   "id": "b1c839f5",
   "metadata": {},
   "outputs": [
    {
     "name": "stdout",
     "output_type": "stream",
     "text": [
      "832 ns ± 6.58 ns per loop (mean ± std. dev. of 3 runs, 100,000 loops each)\n"
     ]
    }
   ],
   "source": [
    "%timeit -n 100000 -r 3 list(filter(lambda number: number % 2 == 0, b_list))\n"
   ]
  },
  {
   "cell_type": "code",
   "execution_count": 28,
   "id": "d83e849a",
   "metadata": {},
   "outputs": [
    {
     "name": "stdout",
     "output_type": "stream",
     "text": [
      "795 ns ± 5.78 ns per loop (mean ± std. dev. of 3 runs, 100,000 loops each)\n"
     ]
    }
   ],
   "source": [
    "%timeit -n 100000 -r 3 list(filter(is_even_lambda, b_list))\n"
   ]
  },
  {
   "cell_type": "markdown",
   "id": "ae3b414e",
   "metadata": {},
   "source": [
    "It is worth noting that a function and a lambda actually produce the same code. Depending on the use-case it can however help to pre-define to lambda to omit multiple evaluations.\n"
   ]
  },
  {
   "cell_type": "code",
   "execution_count": 29,
   "id": "bc6d564a",
   "metadata": {},
   "outputs": [
    {
     "name": "stdout",
     "output_type": "stream",
     "text": [
      "function\n",
      "  2           0 LOAD_FAST                0 (number)\n",
      "              2 LOAD_CONST               1 (2)\n",
      "              4 BINARY_MODULO\n",
      "              6 LOAD_CONST               2 (0)\n",
      "              8 COMPARE_OP               2 (==)\n",
      "             10 RETURN_VALUE\n",
      "lambda\n",
      "  4           0 LOAD_FAST                0 (number)\n",
      "              2 LOAD_CONST               1 (2)\n",
      "              4 BINARY_MODULO\n",
      "              6 LOAD_CONST               2 (0)\n",
      "              8 COMPARE_OP               2 (==)\n",
      "             10 RETURN_VALUE\n"
     ]
    }
   ],
   "source": [
    "import dis\n",
    "print('function')\n",
    "dis.dis(is_even)\n",
    "print('lambda')\n",
    "dis.dis(is_even_lambda)"
   ]
  },
  {
   "cell_type": "markdown",
   "id": "ed30c059",
   "metadata": {},
   "source": [
    "### Putting it together\n",
    "\n",
    "Now that the basics have been explained lets have a look at a more complicated example and see how functional programming can help us here. \n",
    "\n",
    "Suppose we want to write a function that creates a list of numbers from 0 to 9999, squares them and filters out the odd numbers. We could start with the following code:"
   ]
  },
  {
   "cell_type": "code",
   "execution_count": 30,
   "id": "d977ff5a",
   "metadata": {},
   "outputs": [
    {
     "name": "stdout",
     "output_type": "stream",
     "text": [
      "3.76 ms ± 8.44 µs per loop (mean ± std. dev. of 5 runs, 100 loops each)\n"
     ]
    }
   ],
   "source": [
    "max_numbers = 10000\n",
    "\n",
    "def get_even_squared_numbers():     \n",
    "    input_numbers = []\n",
    "    for i in range(max_numbers):\n",
    "        input_numbers.append(i)\n",
    "    \n",
    "    squared_numbers = []\n",
    "    for i in input_numbers:\n",
    "        i_squared = i**2\n",
    "        squared_numbers.append(i_squared)\n",
    "        \n",
    "    even_squared_numbers = []\n",
    "    for i in squared_numbers:        \n",
    "        if i % 2 == 0:\n",
    "            even_squared_numbers.append(i)\n",
    "    \n",
    "    return even_squared_numbers\n",
    "    \n",
    "%timeit -n 100 -r 5 get_even_squared_numbers()"
   ]
  },
  {
   "cell_type": "markdown",
   "id": "fcb0a4d5",
   "metadata": {},
   "source": [
    "How could the above code be rewritten into a chain of functions?"
   ]
  },
  {
   "cell_type": "code",
   "execution_count": 31,
   "id": "ae47c9ca",
   "metadata": {},
   "outputs": [
    {
     "name": "stdout",
     "output_type": "stream",
     "text": [
      "3.62 ms ± 6.45 µs per loop (mean ± std. dev. of 3 runs, 200 loops each)\n"
     ]
    }
   ],
   "source": [
    "max_numbers = 10000\n",
    "\n",
    "%timeit -n 200 -r 3 list(filter(lambda i: i % 2 == 0, map(lambda i: i**2, range(max_numbers))))"
   ]
  },
  {
   "cell_type": "markdown",
   "id": "86214847",
   "metadata": {},
   "source": [
    "There are also other helpful tools for functional programming in the `functools` package e.g. binding arguments. \n",
    "\n",
    "With this we can also rewrite the example from above to use e.g. `pow` by binding the argument "
   ]
  },
  {
   "cell_type": "code",
   "execution_count": 32,
   "id": "5e873640",
   "metadata": {},
   "outputs": [
    {
     "name": "stdout",
     "output_type": "stream",
     "text": [
      "4.66 ms ± 10.6 µs per loop (mean ± std. dev. of 3 runs, 200 loops each)\n"
     ]
    }
   ],
   "source": [
    "from functools import partial\n",
    "\n",
    "max_numbers = 10000\n",
    "\n",
    "pow_two = partial(pow, exp=2)\n",
    "\n",
    "%timeit -n 200 -r 3 list(filter(lambda i: i % 2 == 0, map(pow_two, range(max_numbers))))"
   ]
  },
  {
   "cell_type": "markdown",
   "id": "58e6d72c-2907-416c-8fb8-80537185798c",
   "metadata": {},
   "source": [
    "Please note that the runtime actually gets longer after we started using the partial function and the built in `pow` but this has nothing to do with `partial` - its simply that the implementation of `pow` is much slower as the previously used lambda.\n",
    "\n",
    "So can the above code be further optimized (apart from the pow)?"
   ]
  },
  {
   "cell_type": "markdown",
   "id": "fe3605be",
   "metadata": {},
   "source": [
    "#### Further improvements\n"
   ]
  },
  {
   "cell_type": "markdown",
   "id": "fa0007ae",
   "metadata": {
    "notebookRunGroups": {
     "groupValue": "1"
    }
   },
   "source": [
    "Yes, definitely! \n",
    "\n",
    "What actually happens when you define a `lambda` and pass it into the `filter` function is that a lambda expression gets created and evaluated as a function. This function is then passed into the `filter` function and used to filter the input sequence. So by defining them up-front we can save this cost. \n",
    "\n",
    "However this is not even the major part of where the runtime is spent. The culprit is actually the `**` operator which is much slower (and generic) than simply multiplying the two values.\n",
    "\n",
    "The last thing we can improve should actually have been the most obvious thing: Instead of filtering after the costly operation we could filter the values up-front since even values were even before the are squared as well."
   ]
  },
  {
   "cell_type": "code",
   "execution_count": 33,
   "id": "902cc86a",
   "metadata": {},
   "outputs": [
    {
     "name": "stdout",
     "output_type": "stream",
     "text": [
      "3.63 ms ± 2.58 µs per loop (mean ± std. dev. of 3 runs, 200 loops each)\n"
     ]
    }
   ],
   "source": [
    "max_numbers = 10000\n",
    "pow_two = lambda i: i ** 2\n",
    "is_even = lambda i: i % 2 == 0\n",
    "%timeit -n 200 -r 3 list(filter(is_even, map(pow_two, range(max_numbers))))"
   ]
  },
  {
   "cell_type": "code",
   "execution_count": 34,
   "id": "93e939fa",
   "metadata": {},
   "outputs": [
    {
     "name": "stdout",
     "output_type": "stream",
     "text": [
      "1.57 ms ± 1.13 µs per loop (mean ± std. dev. of 3 runs, 500 loops each)\n"
     ]
    }
   ],
   "source": [
    "max_numbers = 10000\n",
    "pow_two = lambda i: i * i\n",
    "is_even = lambda i: i % 2 == 0\n",
    "%timeit -n 500 -r 3 list(filter(is_even, map(pow_two, range(max_numbers))))"
   ]
  },
  {
   "cell_type": "code",
   "execution_count": 35,
   "id": "7aa547c4",
   "metadata": {},
   "outputs": [
    {
     "name": "stdout",
     "output_type": "stream",
     "text": [
      "1.14 ms ± 933 ns per loop (mean ± std. dev. of 3 runs, 500 loops each)\n"
     ]
    }
   ],
   "source": [
    "max_numbers = 10000\n",
    "pow_two = lambda i: i * i\n",
    "is_even = lambda i: i % 2 == 0\n",
    "input_data = list(range(max_numbers))\n",
    "%timeit -n 500 -r 3 list(map(pow_two, filter(is_even, input_data)))"
   ]
  },
  {
   "cell_type": "markdown",
   "id": "db45bdfc-5458-4264-921a-1d553e9ff093",
   "metadata": {},
   "source": [
    "### List comprehensions\n",
    "\n",
    "Instead of using functions python also offers the possibility to use so called **list comprehensions**. This is a special python syntax that allows for easy transformation of collections - most of the time its also one of the fastest options. "
   ]
  },
  {
   "cell_type": "code",
   "execution_count": 36,
   "id": "1ed7cdff",
   "metadata": {},
   "outputs": [
    {
     "name": "stdout",
     "output_type": "stream",
     "text": [
      "['Hello', 'World', 'How', 'are', 'you', '?']\n",
      "['Hello', 'World', 'How', 'you']\n",
      "[5, 5, 3, 3, 3, 1]\n",
      "{'Hello': 5, 'World': 5, 'How': 3, 'are': 3, 'you': 3, '?': 1}\n",
      "{'Hello': 25, 'World': 25, 'How': 9, 'are': 9, 'you': 9, '?': 1}\n"
     ]
    }
   ],
   "source": [
    "# create a list as data input\n",
    "my_list = ['Hello', 'World', 'How', 'are', 'you', '?']\n",
    "print(my_list)\n",
    "\n",
    "# use list comprehension to filter the list\n",
    "my_filtered_list = [element \n",
    "                    for element in my_list \n",
    "                    if 'o' in element]\n",
    "print(my_filtered_list)\n",
    "\n",
    "# use for mapping map elements into new elements\n",
    "word_lenghts = [len(element) for element in my_list]\n",
    "print(word_lenghts)\n",
    "\n",
    "# list comprehensions can also produce dictionaries\n",
    "as_dict = {element: len(element) for element in my_list}\n",
    "print(as_dict)\n",
    "\n",
    "# or you can use a dictionary as input \n",
    "calculated_values = {key: value*value for key, value in as_dict.items()}\n",
    "print(calculated_values)"
   ]
  },
  {
   "cell_type": "markdown",
   "id": "71622b24",
   "metadata": {},
   "source": [
    "List comprehensions can also be nested. See the following example where the first `for` iterates over the items of the outer list (the `sublist`) and the second `for` then iterates over the elements in the sublist."
   ]
  },
  {
   "cell_type": "code",
   "execution_count": 37,
   "id": "a6d8cf30",
   "metadata": {},
   "outputs": [
    {
     "name": "stdout",
     "output_type": "stream",
     "text": [
      "[[1, 2, 3, 4, 5], [4, 3, 1], [1, 3]]\n",
      "[1, 2, 3, 4, 5, 4, 3, 1, 1, 3]\n"
     ]
    }
   ],
   "source": [
    "nested_list = [[1, 2, 3, 4, 5],\n",
    "               [4, 3, 1],\n",
    "               [1, 3]]\n",
    "print(nested_list)\n",
    "\n",
    "flat_list = [element              \n",
    "             for sublist in nested_list\n",
    "             for element in sublist]\n",
    "print(flat_list)"
   ]
  },
  {
   "cell_type": "markdown",
   "id": "6ab1c270",
   "metadata": {},
   "source": [
    "Lets take the example from earlier with all the optimizations applied and rewrite it using a list comprehension:"
   ]
  },
  {
   "cell_type": "code",
   "execution_count": 38,
   "id": "2d9b701c",
   "metadata": {},
   "outputs": [
    {
     "name": "stdout",
     "output_type": "stream",
     "text": [
      "568 µs ± 718 ns per loop (mean ± std. dev. of 3 runs, 500 loops each)\n"
     ]
    }
   ],
   "source": [
    "max_numbers = 10000\n",
    "input_data = list(range(max_numbers))\n",
    "%timeit -n 500 -r 3 [i*i for i in input_data if i % 2 == 0]"
   ]
  },
  {
   "cell_type": "markdown",
   "id": "8209f1e8",
   "metadata": {},
   "source": [
    "Please note: even though it can be very elegant and even faster than (or equal to) functional programming there are also situations where you just simply cannot use list comprehensions because the control flow limitations don't allow it. So always consider all your options!"
   ]
  },
  {
   "cell_type": "markdown",
   "id": "dd8e77f1",
   "metadata": {},
   "source": [
    "# Garbage Collection\n",
    "\n",
    "Python uses a garbage collector behind the scenes to keep track of its used memory. \n",
    "\n",
    "The algorithm mainly relies on reference counting which already works very well on its own. However with reference counting alone the garbage collector would not be able to detect reference cycles or references in unreachable objects (once an object that holds a reference to another object becomes unreachable the count of the referenced object will never go down to zero). \n",
    "\n",
    "To be able to collect these references as well python also has an additional cyclically running generational garbage collector (see __[Garbage Collector Design](https://devguide.python.org/internals/garbage-collector/)__).\n",
    "\n",
    "Python objects do come with a `__del__` method but be aware: **this method will only be called when the instance actually gets garbage collected**, so this is not a reliable way to clean up any resources!"
   ]
  },
  {
   "cell_type": "code",
   "execution_count": 39,
   "id": "f1992db5",
   "metadata": {},
   "outputs": [],
   "source": [
    "import sys\n",
    "\n",
    "class A:    \n",
    "    def __init__(self):\n",
    "        print(self, 'created')\n",
    "        \n",
    "    def __del__(self):                      # __del__ is a special method that gets called when an object instace is collected by the GC\n",
    "        print(self, 'deleted')    "
   ]
  },
  {
   "cell_type": "code",
   "execution_count": 40,
   "id": "22054c6f",
   "metadata": {},
   "outputs": [
    {
     "name": "stdout",
     "output_type": "stream",
     "text": [
      "<__main__.A object at 0x7f134b194550> created\n",
      "rc: 2\n",
      "rc: 3\n",
      "rc: 4\n",
      "rc: 3\n",
      "rc: 2\n",
      "<__main__.A object at 0x7f134b194550> deleted\n"
     ]
    }
   ],
   "source": [
    "reference = A()\n",
    "print('rc:', sys.getrefcount(reference))    # instance created and referenced by 'reference' and by passing it to getrefcount -> 2\n",
    "\n",
    "second_reference = reference\n",
    "print('rc:', sys.getrefcount(reference))    # instance referenced by reference, second_reference and in getrefcount -> 3\n",
    "\n",
    "l = [reference]\n",
    "print('rc:', sys.getrefcount(reference))    # reference appended to list -> 4\n",
    "\n",
    "del l[0]\n",
    "print('rc:', sys.getrefcount(reference))    # element deleted from list -> 3\n",
    "\n",
    "del second_reference                    \n",
    "print('rc:', sys.getrefcount(reference))    # explicitly removed the second_reference -> 2\n",
    "\n",
    "del reference                               # remove last reference -> 0 (object gets collected, __del__ gets called)"
   ]
  },
  {
   "cell_type": "markdown",
   "id": "f1047cc6",
   "metadata": {},
   "source": [
    "The garbage collector module `gc` provides access to garbage collector settings and its also possible to explicitly trigger garbage collection runs or to disable automatic garbage collection through it."
   ]
  },
  {
   "cell_type": "code",
   "execution_count": 41,
   "id": "dec76e14",
   "metadata": {},
   "outputs": [
    {
     "name": "stdout",
     "output_type": "stream",
     "text": [
      "Generation thresholds:  (700, 10, 10)\n",
      "230\n"
     ]
    }
   ],
   "source": [
    "import gc\n",
    "\n",
    "# retrieve the thresholds of each GC generation\n",
    "print('Generation thresholds: ', gc.get_threshold())\n",
    "\n",
    "# disable automatic garbage collection\n",
    "gc.disable()    \n",
    "\n",
    "# run a full collection over all generations, manually\n",
    "# result returned is the number of unreachable objects found\n",
    "result = gc.collect()    \n",
    "print(result)\n",
    "\n",
    "# enable automatic garbage collection again\n",
    "gc.enable()"
   ]
  },
  {
   "cell_type": "markdown",
   "id": "0013298c",
   "metadata": {},
   "source": [
    "As mentioned earlier the garbage collector can detect cyclic references but needs a full run to do so. See the following example for a demonstration."
   ]
  },
  {
   "cell_type": "code",
   "execution_count": 42,
   "id": "ae04a2b4",
   "metadata": {},
   "outputs": [
    {
     "name": "stdout",
     "output_type": "stream",
     "text": [
      "<__main__.A object at 0x7f134b30d570> created\n",
      "<__main__.A object at 0x7f134b30d690> created\n",
      "rc: 3 3\n",
      "explicit call to gc\n",
      "<__main__.A object at 0x7f134b30d570> deleted\n",
      "<__main__.A object at 0x7f134b30d690> deleted\n",
      "gc result: 4\n"
     ]
    }
   ],
   "source": [
    "import gc\n",
    "import sys\n",
    "\n",
    "c1 = A()\n",
    "c2 = A()\n",
    "c1.ref = c2\n",
    "c2.ref = c1\n",
    "\n",
    "# object references itself (+1 temp from getrefcount), so ref count is -> 3\n",
    "print('rc:', sys.getrefcount(c1), sys.getrefcount(c2))\n",
    "\n",
    "# deleting the references decreases the ref count only to 1\n",
    "# they are still holding a reference to each other and thus the instances\n",
    "# cannot be collected that easily\n",
    "del c1\n",
    "del c2\n",
    "\n",
    "# we can however explictly call the garbage collector to collect the instances \n",
    "# (or instead wait for python to do the same on its own)\n",
    "print('explicit call to gc')\n",
    "print('gc result:', gc.collect())"
   ]
  },
  {
   "cell_type": "markdown",
   "id": "08d2c9ed",
   "metadata": {},
   "source": [
    "In order to make cleanup more deterministic in terms of memory usage and releasing resources, it can be a good strategy (depending on the problem) to define methods which can be used to trigger specific cleanup actions e.g. close ressources such as files or devices and/or delete references to other instances.\n",
    "\n",
    "This way the programmer can use the reference counting mechanism to his advantage to make python collect object instances whenever its possible."
   ]
  },
  {
   "cell_type": "code",
   "execution_count": 43,
   "id": "72066057",
   "metadata": {},
   "outputs": [
    {
     "name": "stdout",
     "output_type": "stream",
     "text": [
      "<__main__.A object at 0x7f134b2f0c40> created\n",
      "<__main__.A object at 0x7f134b2f3e50> created\n",
      "rc: 3 3\n",
      "rc: 2 2\n",
      "<__main__.A object at 0x7f134b2f0c40> deleted\n",
      "<__main__.A object at 0x7f134b2f3e50> deleted\n"
     ]
    }
   ],
   "source": [
    "import sys\n",
    "\n",
    "class A:    \n",
    "    def __init__(self):\n",
    "        self.ref = None\n",
    "        print(self, 'created')\n",
    "        \n",
    "    def __del__(self):\n",
    "        self.cleanup()              # make sure that cleanup gets called in every case\n",
    "        print(self, 'deleted')    \n",
    "        \n",
    "    def cleanup(self):\n",
    "        if self.ref:\n",
    "            self.ref = None\n",
    "\n",
    "# define two instances that reference each other\n",
    "c1 = A()\n",
    "c2 = A()\n",
    "c1.ref = c2\n",
    "c2.ref = c1\n",
    "\n",
    "# printing the refcount actually shows us that both objects have a ref count of `3`\n",
    "print('rc:', sys.getrefcount(c1), sys.getrefcount(c2))\n",
    "\n",
    "# ... do stuff ...\n",
    "\n",
    "# explicitly call cleanup to release resources at this point\n",
    "c1.cleanup()\n",
    "c2.cleanup()\n",
    "\n",
    "# ref count has now dropped to `2` since the internal references have been cleaned up\n",
    "print('rc:', sys.getrefcount(c1), sys.getrefcount(c2))\n",
    "\n",
    "# deleting the last remaining references, the instances can now be collected immediately\n",
    "del c1\n",
    "del c2"
   ]
  },
  {
   "cell_type": "markdown",
   "id": "b2c19f1a",
   "metadata": {},
   "source": [
    "## Caching\n",
    "\n",
    "Python also comes with built-in tools to cache method results (also often called `memoizing`). \n",
    "\n",
    "Caching can be a simple and effective technique to speed up certain computations - with the trade off of using more memory. \n",
    "\n",
    "These tools can also be found in the already mentioned `functools` package (see __[functools](https://docs.python.org/3/library/functools.html)__).\n"
   ]
  },
  {
   "cell_type": "code",
   "execution_count": 44,
   "id": "a2013824",
   "metadata": {},
   "outputs": [
    {
     "name": "stdout",
     "output_type": "stream",
     "text": [
      "uncached\n",
      "1.36 µs ± 4.45 ns per loop (mean ± std. dev. of 5 runs, 100,000 loops each)\n",
      "cached\n",
      "99.1 ns ± 1.26 ns per loop (mean ± std. dev. of 5 runs, 100,000 loops each)\n"
     ]
    }
   ],
   "source": [
    "import math\n",
    "from functools import cache\n",
    "\n",
    "def compute(a, b):\n",
    "    return math.sqrt(pow(a, 2) + pow(b, 2)) / math.sqrt(pow(a, 3) + pow(b, 3))\n",
    "\n",
    "@cache\n",
    "def cached_compute(a, b):\n",
    "    return math.sqrt(pow(a, 2) + pow(b, 2)) / math.sqrt(pow(a, 3) + pow(b, 3))\n",
    "\n",
    "print('uncached')\n",
    "%timeit -n 100000 -r 5 compute(1234, 5678)\n",
    "\n",
    "print('cached')\n",
    "%timeit -n 100000 -r 5 cached_compute(1234, 5678)"
   ]
  },
  {
   "cell_type": "markdown",
   "id": "9b0e0d84",
   "metadata": {},
   "source": [
    "Always be aware that this may take a lot of the systems memory! \n",
    "\n",
    "If there are a lot of possible input combinations it may be better to limit the number or stored results e.g. if only recent computation results are important it is possible to use `lru_cache` instead. LRU (last recently used) caching is slightly slower, since it needs to maintain the maxsize of the cache."
   ]
  },
  {
   "cell_type": "code",
   "execution_count": 45,
   "id": "b38e75ad",
   "metadata": {},
   "outputs": [
    {
     "name": "stdout",
     "output_type": "stream",
     "text": [
      "lru cache\n",
      "93.2 ns ± 1.59 ns per loop (mean ± std. dev. of 5 runs, 100,000 loops each)\n"
     ]
    }
   ],
   "source": [
    "import math\n",
    "from functools import lru_cache\n",
    "\n",
    "@lru_cache(maxsize = 128)\n",
    "def lrucompute(a, b):\n",
    "    return math.sqrt(pow(a, 2) + pow(b, 2)) / math.sqrt(pow(a, 3) + pow(b, 3))\n",
    "\n",
    "print('lru cache')\n",
    "%timeit -n 100000 -r 5 lrucompute(1234, 5678)"
   ]
  },
  {
   "cell_type": "markdown",
   "id": "696fa5df",
   "metadata": {},
   "source": [
    "## Summary\n",
    "\n",
    "Regardless of the things presented in this chapter: **always consider your problem space, measure things and think about algorithmic performance first**\n",
    "\n",
    "Then:\n",
    "- Choose the right collection for your problem\n",
    "- Use functions (e.g. sum, map) or list comprehensions instead of plain loops to speed up computations\n",
    "- Look into your class / object layout \n",
    "- Consider the garbage collector if you run into ressource problems\n",
    "- Think about trading memory space for speed or vice-versa"
   ]
  }
 ],
 "metadata": {
  "kernelspec": {
   "display_name": "Python 3 (ipykernel)",
   "language": "python",
   "name": "python3"
  },
  "language_info": {
   "codemirror_mode": {
    "name": "ipython",
    "version": 3
   },
   "file_extension": ".py",
   "mimetype": "text/x-python",
   "name": "python",
   "nbconvert_exporter": "python",
   "pygments_lexer": "ipython3",
   "version": "3.10.6"
  },
  "vscode": {
   "interpreter": {
    "hash": "7b25d2c9fa4339ca9c2d1c2c36fe6a22cc165ea5d14612a218506569477642ae"
   }
  }
 },
 "nbformat": 4,
 "nbformat_minor": 5
}
