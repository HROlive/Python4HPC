{
 "cells": [
  {
   "cell_type": "markdown",
   "id": "44761b03-caab-498f-b7a3-db1dc0598db0",
   "metadata": {},
   "source": [
    "# Python for HPC"
   ]
  },
  {
   "cell_type": "markdown",
   "id": "ac371c5f-da0a-4c3c-adec-89a6632d82f1",
   "metadata": {},
   "source": [
    "**Welcome to the course on Python for High Performance Computing.**"
   ]
  },
  {
   "cell_type": "markdown",
   "id": "60132ac4-8d0c-4f11-b615-87bc5eec23ac",
   "metadata": {},
   "source": [
    "## Outset\n",
    "\n",
    "Python is a highly expressive, easy to learn and widely popular programming language. There are many built in libraries and even more made available by third parties.\n",
    "However, this comes at a cost: Python is notoriously slow.\n",
    "This is mainly owed to the fact that Python uses the infamous Global Interpreter Lock (GIL). The GIL acts like a lock that allows only one thread to hold the control of the Python interpreter. As a result only one thread can be executed at a time. This actually results in a performance boost for single threaded programs, but poses a crucial bottleneck in parallel code.\n",
    "\n",
    "So why use Python?\n",
    "The versatility and ease of use of the language still makes it a great starting point for almost any project that involves code. Properly utilized libraries and techniques speed up parallel Python considerably. Overall we could argue that what you loose in performance compared to languages like C or Fortran, is probably negligible to what you gain in time by using a simple to understand programming language."
   ]
  },
  {
   "cell_type": "markdown",
   "id": "9c098a0e-5de4-4394-b709-648b5d60b808",
   "metadata": {},
   "source": [
    "## Contents of this Course\n",
    "\n",
    "In this course we will look at workarounds and tools to improve Python's parallel performance."
   ]
  },
  {
   "cell_type": "markdown",
   "id": "6b1c32a9-29dd-41f1-8cc0-e9fae220c456",
   "metadata": {
    "tags": []
   },
   "source": [
    "### Day 1"
   ]
  },
  {
   "cell_type": "markdown",
   "id": "9504f9c9-13a3-4e82-84f2-62caac857066",
   "metadata": {},
   "source": [
    "* Advanced Python\n",
    "* Tooling\n",
    "* Matplotlib\n",
    "* Profiling\n",
    "* Lunch Break at 12:30 CEST\n",
    "* Bindings\n",
    "* Compiled Python\n",
    "* Development Tools"
   ]
  },
  {
   "cell_type": "markdown",
   "id": "711b3d02-9998-40f4-ad72-7ecf88c2edf1",
   "metadata": {},
   "source": [
    "### Day 2"
   ]
  },
  {
   "cell_type": "markdown",
   "id": "c1689e29-a849-4ba4-9be6-6afa2f6e534e",
   "metadata": {},
   "source": [
    "* NumPy\n",
    "* SciPy\n",
    "* MPI4Py\n",
    "* Lunch Break at 12:30 CEST\n",
    "* Pandas\n",
    "* Dask/cuDF"
   ]
  },
  {
   "cell_type": "markdown",
   "id": "a5c37b04-c98e-459b-95ca-d101ef7bfb05",
   "metadata": {},
   "source": [
    "## Jupyter Lab"
   ]
  },
  {
   "cell_type": "markdown",
   "id": "a16dd96e-fa09-43ff-906e-5c7e73820f65",
   "metadata": {},
   "source": [
    "You can hit the plus symbol on the top left to get to the launcher page. From there you can start a Jupyter Notebook, a Python console or a standard terminal. If you want to open an existing notebook, double click on it in the Files tab of the JupyterLab window."
   ]
  },
  {
   "cell_type": "markdown",
   "id": "944563c5-0608-4bd5-9002-7ddcb0b87adc",
   "metadata": {},
   "source": [
    "A Jupyter notebook consists of cells. The two main types of cells you will use are **code cells** and **markdown cells**.\n",
    "\n",
    "A **code cell** contains actual code that you want to run. You can specify a cell as a code cell using the pulldown menu in the toolbar of your Jupyter notebook. Otherwise, you can can hit `Esc` and then `y` while a cell is selected to specify that it is a code cell. Note that you will have to hit `enter` after doing this to start editing it.\n",
    "\n",
    "If you want to execute the code in a code cell, hit `Enter` while holding down the `Shift` key (denoted Shift + Enter). Note that code cells are executed in the order you shift-enter them. That is to say, the ordering of the cells for which you hit Shift + Enter is the order in which the code is executed. If you did not explicitly execute a cell early in the document, its results are not known to the Python interpreter.\n",
    "\n",
    "**Markdown cells** contain text. The text is written in markdown, a lightweight markup language. You can read about its syntax here. Note that you can also insert HTML into markdown cells, and this will be rendered properly. As you are typing the contents of these cells, the results appear as text. Hitting `Shift + Enter` renders the text in the formatting you specify.\n",
    "\n",
    "You can specify a cell as being a markdown cell in the Jupyter toolbar, or by hitting `Esc m` in the cell. Again, you have to hit enter after using the quick keys to bring the cell into edit mode.\n",
    "\n",
    "In general, when you want to add a **new cell**, you can click the `+` icon on the notebook toolbar. The shortcut to insert a cell below is `Esc b` and to insert a cell above is `Esc a`. Alternatively, you can execute a cell and automatically add a new one below it by hitting `Alt Enter`.\n",
    "\n",
    "Make sure you shut down the kernel in use after completing a Notebook. You do this by klicking on the `Stop` symbol on the left and then `x-ing` the notebook for which you want to shut down the kernel. This releases the memory you used when running the notebook."
   ]
  },
  {
   "cell_type": "code",
   "execution_count": null,
   "id": "1b3cc727-3a1d-4fea-bf90-6f0b106b55ad",
   "metadata": {},
   "outputs": [],
   "source": []
  }
 ],
 "metadata": {
  "kernelspec": {
   "display_name": "Python 3 (ipykernel)",
   "language": "python",
   "name": "python3"
  },
  "language_info": {
   "codemirror_mode": {
    "name": "ipython",
    "version": 3
   },
   "file_extension": ".py",
   "mimetype": "text/x-python",
   "name": "python",
   "nbconvert_exporter": "python",
   "pygments_lexer": "ipython3",
   "version": "3.10.6"
  }
 },
 "nbformat": 4,
 "nbformat_minor": 5
}
