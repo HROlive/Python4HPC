{
 "cells": [
  {
   "cell_type": "markdown",
   "id": "cc8ef88c",
   "metadata": {},
   "source": [
    "# Numba"
   ]
  },
  {
   "cell_type": "markdown",
   "id": "873af641-c300-41f1-94e4-adb394cbf846",
   "metadata": {},
   "source": [
    "Numba is a just-in-time compiler (__JIT__) for Python that aims at speeding up array-orianted and math-heavy programs. In contrast to Cython, which follows an ahead-of-time approach and depends on additional type information, Numba tries to gather type information via __type inference__ during the first execution of a function and then uses this information to generate optimized machine code for subsequent executions. In the backend, the [__LLVM__](https://llvm.org/) compiler infrastructure is working hard to generate machine code targeted at the currently used CPU."
   ]
  },
  {
   "cell_type": "markdown",
   "id": "da3b402c",
   "metadata": {
    "tags": []
   },
   "source": [
    "## Motivation"
   ]
  },
  {
   "cell_type": "code",
   "execution_count": 1,
   "id": "e5266c67-acb2-4145-8934-ea6b78fb2a9f",
   "metadata": {},
   "outputs": [],
   "source": [
    "import numba\n",
    "from numba import float32, float64, int8, int32, void, prange\n",
    "import numpy as np\n",
    "import random\n",
    "import timeit\n",
    "from math import sqrt"
   ]
  },
  {
   "cell_type": "code",
   "execution_count": 2,
   "id": "b919aafa",
   "metadata": {},
   "outputs": [],
   "source": [
    "def monte_carlo_pi_python(n):\n",
    "    hits = 0\n",
    "\n",
    "    for i in range(n):\n",
    "        x = random.random()\n",
    "        y = random.random()\n",
    "\n",
    "        if (sqrt(x**2 + y**2) <= 1.0):\n",
    "            hits += 1\n",
    "\n",
    "    return 4*hits/n"
   ]
  },
  {
   "cell_type": "code",
   "execution_count": 3,
   "id": "f186c98e-8cb3-4f68-a6db-1add704ce8b8",
   "metadata": {},
   "outputs": [
    {
     "name": "stdout",
     "output_type": "stream",
     "text": [
      "3.66 ms ± 61 µs per loop (mean ± std. dev. of 10 runs, 30 loops each)\n"
     ]
    }
   ],
   "source": [
    "%timeit -r 10 -n 30 monte_carlo_pi_python(10_000)"
   ]
  },
  {
   "cell_type": "code",
   "execution_count": 4,
   "id": "b48d727f-2874-4765-a050-1bf718112cea",
   "metadata": {},
   "outputs": [
    {
     "data": {
      "text/plain": [
       "3.141298"
      ]
     },
     "execution_count": 4,
     "metadata": {},
     "output_type": "execute_result"
    }
   ],
   "source": [
    "monte_carlo_pi_python(2000_000)"
   ]
  },
  {
   "cell_type": "code",
   "execution_count": 5,
   "id": "c74312a1",
   "metadata": {},
   "outputs": [],
   "source": [
    "@numba.jit\n",
    "def monte_carlo_pi_numba(n):\n",
    "    hits = 0\n",
    "\n",
    "    for i in range(n):\n",
    "        x = random.random()\n",
    "        y = random.random()\n",
    "\n",
    "        if ((x**2 + y**2) < 1.0):\n",
    "            hits += 1\n",
    "\n",
    "    return 4*hits/n"
   ]
  },
  {
   "cell_type": "code",
   "execution_count": 6,
   "id": "763be0e6-4d1c-4729-85a6-c6a82252d75a",
   "metadata": {},
   "outputs": [
    {
     "name": "stdout",
     "output_type": "stream",
     "text": [
      "The slowest run took 147.17 times longer than the fastest. This could mean that an intermediate result is being cached.\n",
      "1.67 ms ± 4.69 ms per loop (mean ± std. dev. of 10 runs, 30 loops each)\n"
     ]
    }
   ],
   "source": [
    "%timeit -r 10 -n 30 monte_carlo_pi_numba(10_000)"
   ]
  },
  {
   "cell_type": "markdown",
   "id": "a6e78a07-399a-412a-8d51-8f3748803fc2",
   "metadata": {
    "tags": []
   },
   "source": [
    "## Type Inference\n",
    "\n",
    "The primary mechanism by which Numba is invoked is the decorator `@jit`. By simply putting this decorator above a function definition, the compiler will automatically try to optimize it with the first program execution. Naturally, if Numba can infer enough enough information and succeeds with the optimization, this very first execution is significantly slower than the subsequent ones. Depending on how the optimized function is called, Numba might generate different versions of each function. Furthermore, all functions called by Numba-optimized functions need to be Numba-optimized themselves in order to gain the full potential."
   ]
  },
  {
   "cell_type": "code",
   "execution_count": 7,
   "id": "d8273b02-58f7-4810-b924-b1e846d6be02",
   "metadata": {},
   "outputs": [],
   "source": [
    "@numba.jit()\n",
    "def multlist(xs, y, i):\n",
    "    xs[i] = xs[i]*y\n",
    "\n",
    "    \n",
    "@numba.jit()\n",
    "def domath(xs, a, b, c):\n",
    "    for i in range(xs.shape[0]):\n",
    "        multlist(xs, a+b, i)\n",
    "        multlist(xs, c, i)"
   ]
  },
  {
   "cell_type": "code",
   "execution_count": 8,
   "id": "3a528e82-a842-4fc7-b5b1-ff1618c9ecf7",
   "metadata": {
    "tags": []
   },
   "outputs": [
    {
     "name": "stdout",
     "output_type": "stream",
     "text": [
      "The slowest run took 453.29 times longer than the fastest. This could mean that an intermediate result is being cached.\n",
      "121 µs ± 613 µs per loop (mean ± std. dev. of 30 runs, 30 loops each)\n"
     ]
    }
   ],
   "source": [
    "a = 1\n",
    "b = 2\n",
    "c = 3\n",
    "xs = np.ones(100_000, dtype=np.int32)\n",
    "\n",
    "%timeit -r 30 -n 30 domath(xs, a, b, c)"
   ]
  },
  {
   "cell_type": "code",
   "execution_count": 9,
   "id": "b013ef96-6bbd-499d-8bc6-129ef6a92fa6",
   "metadata": {
    "tags": []
   },
   "outputs": [
    {
     "name": "stdout",
     "output_type": "stream",
     "text": [
      "domath (array(int32, 1d, C), int64, int64, int64)\n",
      "--------------------------------------------------------------------------------\n",
      "# File: /tmp/ipykernel_318802/3499217220.py\n",
      "# --- LINE 6 --- \n",
      "\n",
      "@numba.jit()\n",
      "\n",
      "# --- LINE 7 --- \n",
      "\n",
      "def domath(xs, a, b, c):\n",
      "\n",
      "    # --- LINE 8 --- \n",
      "    # label 0\n",
      "    #   xs = arg(0, name=xs)  :: array(int32, 1d, C)\n",
      "    #   a = arg(1, name=a)  :: int64\n",
      "    #   b = arg(2, name=b)  :: int64\n",
      "    #   c = arg(3, name=c)  :: int64\n",
      "    #   $2load_global.0 = global(range: <class 'range'>)  :: Function(<class 'range'>)\n",
      "    #   $6load_attr.2 = getattr(value=xs, attr=shape)  :: UniTuple(int64 x 1)\n",
      "    #   $const8.3 = const(int, 0)  :: Literal[int](0)\n",
      "    #   $10binary_subscr.4 = static_getitem(value=$6load_attr.2, index=0, index_var=$const8.3, fn=<built-in function getitem>)  :: int64\n",
      "    #   del $const8.3\n",
      "    #   del $6load_attr.2\n",
      "    #   $12call_function.5 = call $2load_global.0($10binary_subscr.4, func=$2load_global.0, args=[Var($10binary_subscr.4, 3499217220.py:8)], kws=(), vararg=None, target=None)  :: (int64,) -> range_state_int64\n",
      "    #   del $2load_global.0\n",
      "    #   del $10binary_subscr.4\n",
      "    #   $14get_iter.6 = getiter(value=$12call_function.5)  :: range_iter_int64\n",
      "    #   del $12call_function.5\n",
      "    #   $phi16.0 = $14get_iter.6  :: range_iter_int64\n",
      "    #   del $14get_iter.6\n",
      "    #   jump 16\n",
      "    # label 16\n",
      "    #   $16for_iter.1 = iternext(value=$phi16.0)  :: pair<int64, bool>\n",
      "    #   $16for_iter.2 = pair_first(value=$16for_iter.1)  :: int64\n",
      "    #   $16for_iter.3 = pair_second(value=$16for_iter.1)  :: bool\n",
      "    #   del $16for_iter.1\n",
      "    #   $phi18.1 = $16for_iter.2  :: int64\n",
      "    #   del $16for_iter.2\n",
      "    #   branch $16for_iter.3, 18, 50\n",
      "    # label 18\n",
      "    #   del $16for_iter.3\n",
      "    #   i = $phi18.1  :: int64\n",
      "    #   del $phi18.1\n",
      "    # label 50\n",
      "    #   del xs\n",
      "    #   del c\n",
      "    #   del b\n",
      "    #   del a\n",
      "    #   del $phi18.1\n",
      "    #   del $phi16.0\n",
      "    #   del $16for_iter.3\n",
      "    #   $const50.0 = const(NoneType, None)  :: none\n",
      "    #   $52return_value.1 = cast(value=$const50.0)  :: none\n",
      "    #   del $const50.0\n",
      "    #   return $52return_value.1\n",
      "\n",
      "    for i in range(xs.shape[0]):\n",
      "\n",
      "        # --- LINE 9 --- \n",
      "        #   $20load_global.2 = global(multlist: CPUDispatcher(<function multlist at 0x7f799ecc6050>))  :: type(CPUDispatcher(<function multlist at 0x7f799ecc6050>))\n",
      "        #   $28binary_add.6 = a + b  :: int64\n",
      "        #   $32call_function.8 = call $20load_global.2(xs, $28binary_add.6, i, func=$20load_global.2, args=[Var(xs, 3499217220.py:8), Var($28binary_add.6, 3499217220.py:9), Var(i, 3499217220.py:8)], kws=(), vararg=None, target=None)  :: (array(int32, 1d, C), int64, int64) -> none\n",
      "        #   del $32call_function.8\n",
      "        #   del $28binary_add.6\n",
      "        #   del $20load_global.2\n",
      "\n",
      "        multlist(xs, a+b, i)\n",
      "\n",
      "        # --- LINE 10 --- \n",
      "        #   $36load_global.9 = global(multlist: CPUDispatcher(<function multlist at 0x7f799ecc6050>))  :: type(CPUDispatcher(<function multlist at 0x7f799ecc6050>))\n",
      "        #   $44call_function.13 = call $36load_global.9(xs, c, i, func=$36load_global.9, args=[Var(xs, 3499217220.py:8), Var(c, 3499217220.py:8), Var(i, 3499217220.py:8)], kws=(), vararg=None, target=None)  :: (array(int32, 1d, C), int64, int64) -> none\n",
      "        #   del i\n",
      "        #   del $44call_function.13\n",
      "        #   del $36load_global.9\n",
      "        #   jump 16\n",
      "\n",
      "        multlist(xs, c, i)\n",
      "\n",
      "\n",
      "================================================================================\n"
     ]
    }
   ],
   "source": [
    "domath.inspect_types()"
   ]
  },
  {
   "cell_type": "code",
   "execution_count": 10,
   "id": "8b402893-3f9a-45fe-8251-176bcc6b034c",
   "metadata": {
    "tags": []
   },
   "outputs": [
    {
     "name": "stdout",
     "output_type": "stream",
     "text": [
      "multlist (array(int32, 1d, C), int64, int64)\n",
      "--------------------------------------------------------------------------------\n",
      "# File: /tmp/ipykernel_318802/3499217220.py\n",
      "# --- LINE 1 --- \n",
      "\n",
      "@numba.jit()\n",
      "\n",
      "# --- LINE 2 --- \n",
      "\n",
      "def multlist(xs, y, i):\n",
      "\n",
      "    # --- LINE 3 --- \n",
      "    # label 0\n",
      "    #   xs = arg(0, name=xs)  :: array(int32, 1d, C)\n",
      "    #   y = arg(1, name=y)  :: int64\n",
      "    #   i = arg(2, name=i)  :: int64\n",
      "    #   $6binary_subscr.2 = getitem(value=xs, index=i, fn=<built-in function getitem>)  :: int32\n",
      "    #   $10binary_multiply.4 = $6binary_subscr.2 * y  :: int64\n",
      "    #   del y\n",
      "    #   del $6binary_subscr.2\n",
      "    #   xs[i] = $10binary_multiply.4  :: (array(int32, 1d, C), int64, int64) -> none\n",
      "    #   del xs\n",
      "    #   del i\n",
      "    #   del $10binary_multiply.4\n",
      "    #   $const18.7 = const(NoneType, None)  :: none\n",
      "    #   $20return_value.8 = cast(value=$const18.7)  :: none\n",
      "    #   del $const18.7\n",
      "    #   return $20return_value.8\n",
      "\n",
      "    xs[i] = xs[i]*y\n",
      "\n",
      "\n",
      "================================================================================\n"
     ]
    }
   ],
   "source": [
    "multlist.inspect_types()"
   ]
  },
  {
   "cell_type": "markdown",
   "id": "9aa4e557-6d7a-4705-9d31-f340de2cf29d",
   "metadata": {
    "tags": []
   },
   "source": [
    "## Lazy versus Eager Compilation\n",
    "\n",
    "Even though Numba is mostly able to infer enough type information by itself, sometimes it is preferable to add type information to the source code. Without any given type information, Numba necessarily deferrs compilation until the first function execution, because only then are the types of the function parameters , i.e. the function signature, known. This is called __lazy compilation__. On the other hand, with __eager compilation__ Numba compiles as soon as the function is imported and uses the given function signature and compiles the function only for the given signature, which might be useful if tight control over the chosen types is desired, e.g. floats are preferred ovder doubles."
   ]
  },
  {
   "cell_type": "code",
   "execution_count": 11,
   "id": "5193f139-ba06-431f-ad41-269e1dd0fe33",
   "metadata": {},
   "outputs": [],
   "source": [
    "@numba.jit(void(float64, float64[:]))\n",
    "def multy(y, xs):\n",
    "    for i in range(len(xs)):\n",
    "        xs[i] = y*xs[i]"
   ]
  },
  {
   "cell_type": "code",
   "execution_count": 12,
   "id": "7c2f66bc-1130-4273-8bd9-6fd276e7eea3",
   "metadata": {},
   "outputs": [],
   "source": [
    "@numba.jit(void(int32, int32[:]))\n",
    "def multy(y, xs):\n",
    "    for i in range(len(xs)):\n",
    "        xs[i] = y*xs[i]"
   ]
  },
  {
   "cell_type": "code",
   "execution_count": 13,
   "id": "c822c761-490b-4038-8530-128d62223fff",
   "metadata": {
    "tags": []
   },
   "outputs": [
    {
     "name": "stdout",
     "output_type": "stream",
     "text": [
      "multy (int32, array(int32, 1d, A))\n",
      "--------------------------------------------------------------------------------\n",
      "# File: /tmp/ipykernel_318802/2525040080.py\n",
      "# --- LINE 1 --- \n",
      "\n",
      "@numba.jit(void(int32, int32[:]))\n",
      "\n",
      "# --- LINE 2 --- \n",
      "\n",
      "def multy(y, xs):\n",
      "\n",
      "    # --- LINE 3 --- \n",
      "    # label 0\n",
      "    #   y = arg(0, name=y)  :: int32\n",
      "    #   xs = arg(1, name=xs)  :: array(int32, 1d, A)\n",
      "    #   $2load_global.0 = global(range: <class 'range'>)  :: Function(<class 'range'>)\n",
      "    #   $4load_global.1 = global(len: <built-in function len>)  :: Function(<built-in function len>)\n",
      "    #   $8call_function.3 = call $4load_global.1(xs, func=$4load_global.1, args=[Var(xs, 2525040080.py:3)], kws=(), vararg=None, target=None)  :: (array(int32, 1d, A),) -> int64\n",
      "    #   del $4load_global.1\n",
      "    #   $10call_function.4 = call $2load_global.0($8call_function.3, func=$2load_global.0, args=[Var($8call_function.3, 2525040080.py:3)], kws=(), vararg=None, target=None)  :: (int64,) -> range_state_int64\n",
      "    #   del $8call_function.3\n",
      "    #   del $2load_global.0\n",
      "    #   $12get_iter.5 = getiter(value=$10call_function.4)  :: range_iter_int64\n",
      "    #   del $10call_function.4\n",
      "    #   $phi14.0 = $12get_iter.5  :: range_iter_int64\n",
      "    #   del $12get_iter.5\n",
      "    #   jump 14\n",
      "    # label 14\n",
      "    #   $14for_iter.1 = iternext(value=$phi14.0)  :: pair<int64, bool>\n",
      "    #   $14for_iter.2 = pair_first(value=$14for_iter.1)  :: int64\n",
      "    #   $14for_iter.3 = pair_second(value=$14for_iter.1)  :: bool\n",
      "    #   del $14for_iter.1\n",
      "    #   $phi16.1 = $14for_iter.2  :: int64\n",
      "    #   del $14for_iter.2\n",
      "    #   branch $14for_iter.3, 16, 36\n",
      "    # label 16\n",
      "    #   del $14for_iter.3\n",
      "    #   i = $phi16.1  :: int64\n",
      "    #   del $phi16.1\n",
      "    # label 36\n",
      "    #   del y\n",
      "    #   del xs\n",
      "    #   del $phi16.1\n",
      "    #   del $phi14.0\n",
      "    #   del $14for_iter.3\n",
      "    #   $const36.0 = const(NoneType, None)  :: none\n",
      "    #   $38return_value.1 = cast(value=$const36.0)  :: none\n",
      "    #   del $const36.0\n",
      "    #   return $38return_value.1\n",
      "\n",
      "    for i in range(len(xs)):\n",
      "\n",
      "        # --- LINE 4 --- \n",
      "        #   $24binary_subscr.5 = getitem(value=xs, index=i, fn=<built-in function getitem>)  :: int32\n",
      "        #   $26binary_multiply.6 = y * $24binary_subscr.5  :: int64\n",
      "        #   del $24binary_subscr.5\n",
      "        #   xs[i] = $26binary_multiply.6  :: (array(int32, 1d, A), int64, int64) -> none\n",
      "        #   del i\n",
      "        #   del $26binary_multiply.6\n",
      "        #   jump 14\n",
      "\n",
      "        xs[i] = y*xs[i]\n",
      "\n",
      "\n",
      "================================================================================\n"
     ]
    }
   ],
   "source": [
    "multy.inspect_types()"
   ]
  },
  {
   "cell_type": "code",
   "execution_count": null,
   "id": "4746c9a3-f569-4867-abcb-26736227b124",
   "metadata": {},
   "outputs": [],
   "source": [
    "xs = np.ones(100_000, np.float64)\n",
    "\n",
    "%timeit -r 30 -n 100 multy(np.float64('2'), xs)"
   ]
  },
  {
   "cell_type": "code",
   "execution_count": 15,
   "id": "ccaeec3c-4528-4696-9272-13fadb7e4bbe",
   "metadata": {
    "tags": []
   },
   "outputs": [
    {
     "name": "stdout",
     "output_type": "stream",
     "text": [
      "43.3 µs ± 1.54 µs per loop (mean ± std. dev. of 30 runs, 100 loops each)\n"
     ]
    }
   ],
   "source": [
    "xs = np.ones(100_000, np.int32)\n",
    "\n",
    "%timeit -r 30 -n 100 multy(np.int32('2'), xs)"
   ]
  },
  {
   "cell_type": "code",
   "execution_count": null,
   "id": "130e0d30-f478-403c-ab96-f30058ea3047",
   "metadata": {
    "tags": []
   },
   "outputs": [],
   "source": [
    "xs = np.ones(100_000, np.int8)\n",
    "\n",
    "%timeit -r 30 -n 100 multy(np.int8('2'), xs)"
   ]
  },
  {
   "cell_type": "markdown",
   "id": "38e1774b-96de-428d-b836-e2d3efafd98f",
   "metadata": {
    "tags": []
   },
   "source": [
    "## Compilation Modes"
   ]
  },
  {
   "cell_type": "markdown",
   "id": "6f07a11a-3fd4-49f7-96b3-eb81a289ba25",
   "metadata": {},
   "source": [
    "Numba comes with two compilation modes: `object` and `nopython` mode. In `nopython` mode the behaviour is such that decorated function will run entirely without involvement of the Python interpreter but it requires that the types of all variables in the function can be unambiguously inferred. The best-performing code will generally be produced in this mode. Compilation in `object` mode means that the Numba compiler generates code under the assumption that all values are Python objects and involves the Python interpreter for operations on those objects. While this code in general runs faster than native, interpreted Python code, it will be less performant than `nopython` code."
   ]
  },
  {
   "cell_type": "code",
   "execution_count": 17,
   "id": "f1e92fe6-b224-4c98-8195-43ce00768967",
   "metadata": {},
   "outputs": [],
   "source": [
    "@numba.jit(\"void(int32[:])\", nopython=True)\n",
    "def bubblesort(xs):\n",
    "    n = xs.shape[0]\n",
    "    for i in range(n-1):\n",
    "        for j in range(n-i-1):\n",
    "            if xs[j + 1] < xs[j]:\n",
    "                xs[j], xs[j + 1] = xs[j + 1], xs[j]"
   ]
  },
  {
   "cell_type": "code",
   "execution_count": 18,
   "id": "5157b414-ab2f-45ae-8f84-0577fa2c400c",
   "metadata": {},
   "outputs": [
    {
     "name": "stdout",
     "output_type": "stream",
     "text": [
      "11.3 µs ± 707 ns per loop (mean ± std. dev. of 30 runs, 100 loops each)\n"
     ]
    }
   ],
   "source": [
    "xs = np.random.randint(0, high=1000, size=100, dtype=np.int32)\n",
    "\n",
    "%timeit -r 30 -n 100 bubblesort(xs)"
   ]
  },
  {
   "cell_type": "code",
   "execution_count": 19,
   "id": "eb14c8b9-7c3e-419d-91cf-1f2a9e23e972",
   "metadata": {},
   "outputs": [
    {
     "name": "stderr",
     "output_type": "stream",
     "text": [
      "/tmp/ipykernel_318802/3977328882.py:4: NumbaWarning: \u001b[1m\n",
      "Compilation is falling back to object mode WITH looplifting enabled because Function \"bubblesort\" failed type inference due to: \u001b[1mUntyped global name 'Decimal':\u001b[0m \u001b[1m\u001b[1mCannot determine Numba type of <class 'type'>\u001b[0m\n",
      "\u001b[1m\n",
      "File \"../../../../tmp/ipykernel_318802/3977328882.py\", line 7:\u001b[0m\n",
      "\u001b[1m<source missing, REPL/exec in use?>\u001b[0m\n",
      "\u001b[0m\u001b[0m\n",
      "  @numba.jit(\"void(int32[:])\", nopython=False)\n",
      "/tmp/ipykernel_318802/3977328882.py:4: NumbaWarning: \u001b[1m\n",
      "Compilation is falling back to object mode WITHOUT looplifting enabled because Function \"bubblesort\" failed type inference due to: \u001b[1mUntyped global name 'Decimal':\u001b[0m \u001b[1m\u001b[1mCannot determine Numba type of <class 'type'>\u001b[0m\n",
      "\u001b[1m\n",
      "File \"../../../../tmp/ipykernel_318802/3977328882.py\", line 7:\u001b[0m\n",
      "\u001b[1m<source missing, REPL/exec in use?>\u001b[0m\n",
      "\u001b[0m\u001b[0m\n",
      "  @numba.jit(\"void(int32[:])\", nopython=False)\n",
      "/opt/sw/vsc4/VSC/x86_64/generic/jupyterhub-envs/conda/envs/jupyterhub-dask/lib/python3.10/site-packages/numba/core/object_mode_passes.py:151: NumbaWarning: \u001b[1mFunction \"bubblesort\" was compiled in object mode without forceobj=True, but has lifted loops.\n",
      "\u001b[1m\n",
      "File \"../../../../tmp/ipykernel_318802/3977328882.py\", line 6:\u001b[0m\n",
      "\u001b[1m<source missing, REPL/exec in use?>\u001b[0m\n",
      "\u001b[0m\n",
      "  warnings.warn(errors.NumbaWarning(warn_msg,\n",
      "/opt/sw/vsc4/VSC/x86_64/generic/jupyterhub-envs/conda/envs/jupyterhub-dask/lib/python3.10/site-packages/numba/core/object_mode_passes.py:161: NumbaDeprecationWarning: \u001b[1m\n",
      "Fall-back from the nopython compilation path to the object mode compilation path has been detected, this is deprecated behaviour.\n",
      "\n",
      "For more information visit https://numba.readthedocs.io/en/stable/reference/deprecation.html#deprecation-of-object-mode-fall-back-behaviour-when-using-jit\n",
      "\u001b[1m\n",
      "File \"../../../../tmp/ipykernel_318802/3977328882.py\", line 6:\u001b[0m\n",
      "\u001b[1m<source missing, REPL/exec in use?>\u001b[0m\n",
      "\u001b[0m\n",
      "  warnings.warn(errors.NumbaDeprecationWarning(msg,\n"
     ]
    }
   ],
   "source": [
    "from decimal import Decimal\n",
    "\n",
    "\n",
    "@numba.jit(\"void(int32[:])\", nopython=False)\n",
    "def bubblesort(xs):\n",
    "    n = xs.shape[0]\n",
    "    d = Decimal(0)\n",
    "    for i in range(n-1):\n",
    "        for j in range(n-i-1):\n",
    "            if xs[j + 1] < xs[j]:\n",
    "                xs[j], xs[j + 1] = xs[j + 1], xs[j]"
   ]
  },
  {
   "cell_type": "markdown",
   "id": "a13f0355-af72-4e61-8b1f-84101ae05cc0",
   "metadata": {
    "tags": []
   },
   "source": [
    "## Parallelization\n",
    "\n",
    "Numba also tries its best to fullfill the dream of every programmer, namely automatic parallelization. By setting the parameter `parallel=True` in the `jit` decorator, Numba performs program transformations that introduce parallelism to a noticable degree. The documentation lists all [supported operations with parallel semantics](https://numba.readthedocs.io/en/stable/user/parallel.html#supported-operations) for which Numba attempts to parallelize.\n",
    "In order to hint to Numba that a loop can be parallelized, the `prange` loop is used instead of Python's native `range` loop and it is the programmer's responsibility to prevent dependencies across iterations of parallel loops."
   ]
  },
  {
   "cell_type": "code",
   "execution_count": 20,
   "id": "630745e1-d3c4-42d8-a4a9-6f1ec95ae779",
   "metadata": {},
   "outputs": [],
   "source": [
    "@numba.jit(\"void(float64[:], float64[:], float64[:], float64[:])\", nopython=True, parallel=True)\n",
    "def diffquots(xs, fdxs, cdxs, bdxs):\n",
    "    fdxs[0] = 0\n",
    "    cdxs[0] = 0\n",
    "    bdxs[0] = 0\n",
    "    for i in prange(1, xs.shape[0]-1):\n",
    "        fdxs[i] = np.exp(-0.5*(xs[i-1] - xs[i]))\n",
    "        cdxs[i] = np.exp(-0.5*((xs[i+1] + xs[i-1])/2.0))\n",
    "        bdxs[i] = np.exp(-0.5*(xs[i] - xs[i-1]))"
   ]
  },
  {
   "cell_type": "code",
   "execution_count": 21,
   "id": "878fa535-3ff3-41bb-80a0-bc5ddb372dad",
   "metadata": {},
   "outputs": [],
   "source": [
    "n = 10**4\n",
    "xs = np.random.rand(n)\n",
    "fdxs = np.empty_like(xs)\n",
    "cdxs = np.empty_like(xs)\n",
    "bdxs = np.empty_like(xs)\n",
    "\n",
    "diffquots(xs, fdxs, cdxs, bdxs)"
   ]
  },
  {
   "cell_type": "code",
   "execution_count": 22,
   "id": "13b3c1c5-22f2-4d86-9abd-1f8ee8ff462e",
   "metadata": {},
   "outputs": [
    {
     "name": "stdout",
     "output_type": "stream",
     "text": [
      "The slowest run took 146.63 times longer than the fastest. This could mean that an intermediate result is being cached.\n",
      "538 µs ± 2.4 ms per loop (mean ± std. dev. of 30 runs, 10 loops each)\n"
     ]
    }
   ],
   "source": [
    "%timeit -r 30 -n 10 diffquots(xs, fdxs, cdxs, bdxs)"
   ]
  },
  {
   "cell_type": "code",
   "execution_count": 23,
   "id": "8264f3c6-353a-4119-826d-9a154307c6da",
   "metadata": {},
   "outputs": [],
   "source": [
    "@numba.jit(parallel=True)\n",
    "def addsmt(xs):\n",
    "    for i in prange(1, xs.shape[0]):\n",
    "        xs[i] += xs[i-1]"
   ]
  },
  {
   "cell_type": "code",
   "execution_count": 24,
   "id": "38663124-6c8d-469b-bf3b-c83f7402a2bb",
   "metadata": {},
   "outputs": [
    {
     "name": "stdout",
     "output_type": "stream",
     "text": [
      "[ 1.  2.  3.  4.  5.  6.  7.  8.  9. 10. 11. 12. 13. 14. 15. 16. 17. 18.\n",
      " 19. 20. 21. 22. 23. 24. 25. 26. 27. 28.  2.  3.  4.  5.  6.  7.  8.  9.\n",
      " 10. 11. 12. 13. 14. 15. 16. 17. 18. 19. 20. 21. 22. 23. 24. 25.  2.  3.\n",
      "  4.  5.  6.  7.  8.  9.  2.  3.  4.  5.  6.  7.  8.  9. 10. 11. 12. 13.\n",
      " 14. 15. 16. 17. 18. 19. 20. 21. 22. 23. 24. 25. 26. 27. 28. 29. 30. 31.\n",
      " 32. 33.  2.  3.  4.  5.  6.  7.  8.  9.]\n"
     ]
    }
   ],
   "source": [
    "xs = np.ones(100)\n",
    "addsmt(xs)\n",
    "print(xs)"
   ]
  },
  {
   "cell_type": "markdown",
   "id": "1df76aab-8305-4f05-84a1-5c589cb23314",
   "metadata": {
    "tags": []
   },
   "source": [
    "## Numba & NumPy's ufuncs\n",
    "\n",
    "Two types of universal functions are supported by Numba: universal functions that work on scalars and generalized universal functions that work on multi-dimensional arrays as well.\n",
    "For universal functions, the decorator `@vectorize` is required and it supports eager compilation with several signatures as well as lazy compilation. \n",
    "\n",
    "\n",
    "The decorator `@guvectorize` for generalized universal functions allows to write universal functions that work on any number of elements in an inpute array and return arrays with different dimensions as the input arrays. These functions do not return any values, instead their output must be written to a given array. Just as the simpler `@vectorize` functions, `@guvectorize` functions can be compiled eagerly or lazyl."
   ]
  },
  {
   "cell_type": "code",
   "execution_count": 25,
   "id": "1b8b3b22-f96b-4912-ace7-97caf3c5868e",
   "metadata": {},
   "outputs": [],
   "source": [
    "@numba.vectorize([float64(float64, float64)])\n",
    "def f(x, y):\n",
    "    return x + y + 7"
   ]
  },
  {
   "cell_type": "code",
   "execution_count": 26,
   "id": "2135a5df-5b3d-486c-a822-61bf37eecbff",
   "metadata": {},
   "outputs": [
    {
     "name": "stdout",
     "output_type": "stream",
     "text": [
      "147 µs ± 12.9 µs per loop (mean ± std. dev. of 30 runs, 10 loops each)\n"
     ]
    }
   ],
   "source": [
    "ls = np.ones(100_000)\n",
    "ks = np.ones(100_000)\n",
    "\n",
    "%timeit -r 30 -n 10 f(ls, ks)"
   ]
  },
  {
   "cell_type": "code",
   "execution_count": 27,
   "id": "0e933eba-7ee6-4f2b-952f-531c57e2d618",
   "metadata": {},
   "outputs": [],
   "source": [
    "@numba.vectorize([int8(int8, int8),\n",
    "                  int32(int32, int32),\n",
    "                  float32(float32, float32),\n",
    "                  float64(float64, float64)])\n",
    "def g(x, y):\n",
    "    return x * y * 5"
   ]
  },
  {
   "cell_type": "code",
   "execution_count": 28,
   "id": "35b54f61-f999-4a93-9428-74f663d0c10b",
   "metadata": {},
   "outputs": [
    {
     "name": "stdout",
     "output_type": "stream",
     "text": [
      "151 µs ± 4.99 µs per loop (mean ± std. dev. of 30 runs, 10 loops each)\n"
     ]
    }
   ],
   "source": [
    "ls = np.ones(100_000, dtype=np.int64)\n",
    "ks = np.ones(100_000, dtype=np.float64)\n",
    "\n",
    "%timeit -r 30 -n 10 g(ls, ks)"
   ]
  },
  {
   "cell_type": "code",
   "execution_count": 29,
   "id": "8ea83186-5eed-44dd-8f89-2ffb3e8e7a4c",
   "metadata": {},
   "outputs": [],
   "source": [
    "@numba.guvectorize([(int32[:], int32, int32[:])], '(n),()->(n)')\n",
    "def h(x, y, res):\n",
    "    for i in range(x.shape[0]):\n",
    "        res[i] = x[i] + y"
   ]
  },
  {
   "cell_type": "code",
   "execution_count": 30,
   "id": "b525987b-5dd2-495b-a1fe-7140a39aafe7",
   "metadata": {},
   "outputs": [
    {
     "name": "stdout",
     "output_type": "stream",
     "text": [
      "47.4 µs ± 7.43 µs per loop (mean ± std. dev. of 30 runs, 10 loops each)\n"
     ]
    }
   ],
   "source": [
    "x = np.ones(100_000, dtype=np.int32)\n",
    "y = 1\n",
    "res = np.empty_like(x)\n",
    "\n",
    "%timeit -r 30 -n 10 h(x, y, res)"
   ]
  },
  {
   "cell_type": "markdown",
   "id": "4fe771c9-9fc2-4839-8739-e1107339b2ae",
   "metadata": {
    "tags": []
   },
   "source": [
    "## Danger Zone\n",
    "\n",
    "Despite Numba's extensive support for Python and Numpy features, two unapparent \n",
    "\n",
    "* Python's containers are not thread-safe and therefore must be handled with care in parallel programs.\n",
    "* The loop variable introduced into the program by `prange` loops must not be used as an index, since the compiler does not make any guarantees about which indices are assigned to which threads or the execution order of the iterations."
   ]
  },
  {
   "cell_type": "code",
   "execution_count": 31,
   "id": "eb3a1b2d-a858-45bd-a8e9-f8dbd217805b",
   "metadata": {},
   "outputs": [],
   "source": [
    "@numba.jit(parallel=True)\n",
    "def parappend():\n",
    "    ls = []\n",
    "    for i in prange(10**6):\n",
    "        ls.append(i)\n",
    "    return ls"
   ]
  },
  {
   "cell_type": "code",
   "execution_count": 32,
   "id": "ae147c33-aa7a-4959-acb4-733224696299",
   "metadata": {},
   "outputs": [],
   "source": [
    "@numba.jit(parallel=True)\n",
    "def invalid():\n",
    "    n = get_num_threads()\n",
    "    z = [0 for _ in range(n)]\n",
    "    for i in prange(100):\n",
    "        z[i % n] += i\n",
    "    return z"
   ]
  },
  {
   "cell_type": "code",
   "execution_count": null,
   "id": "f67cbdf2-f7c4-4894-98d9-ca9fae88e095",
   "metadata": {},
   "outputs": [],
   "source": []
  }
 ],
 "metadata": {
  "kernelspec": {
   "display_name": "Python 3 (ipykernel)",
   "language": "python",
   "name": "python3"
  },
  "language_info": {
   "codemirror_mode": {
    "name": "ipython",
    "version": 3
   },
   "file_extension": ".py",
   "mimetype": "text/x-python",
   "name": "python",
   "nbconvert_exporter": "python",
   "pygments_lexer": "ipython3",
   "version": "3.10.6"
  },
  "vscode": {
   "interpreter": {
    "hash": "9d2533a8417e93bb270061fddcf202607a399e1158d66c4e8746479fc11cda46"
   }
  }
 },
 "nbformat": 4,
 "nbformat_minor": 5
}
