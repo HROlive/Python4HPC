{
 "cells": [
  {
   "cell_type": "markdown",
   "id": "cc8ef88c",
   "metadata": {},
   "source": [
    "# Numba - Exercises\n",
    "\n",
    "We're dealing again with the [Mandelbrot set](https://en.wikipedia.org/wiki/Mandelbrot_set), but now try to optimize it with Numba."
   ]
  },
  {
   "cell_type": "code",
   "execution_count": 1,
   "id": "556f1112-b654-4875-8cbe-5033d8daf1a3",
   "metadata": {},
   "outputs": [],
   "source": [
    "import numpy as np\n",
    "\n",
    "\n",
    "def pymandelbrot(m, size, iterations):\n",
    "    for i in range(size):\n",
    "        for j in range(size):\n",
    "            c = -2 + 3./size*j + 1j*(1.5-3./size*i)\n",
    "            z = 0\n",
    "            for n in range(iterations):\n",
    "                if np.abs(z) <= 10:\n",
    "                    z = z*z + c\n",
    "                    m[i, j] = n\n",
    "                else:\n",
    "                    break"
   ]
  },
  {
   "cell_type": "code",
   "execution_count": 2,
   "id": "759c9a55-8081-4f74-9637-01850869c51e",
   "metadata": {},
   "outputs": [
    {
     "name": "stdout",
     "output_type": "stream",
     "text": [
      "4.81 s ± 198 ms per loop (mean ± std. dev. of 7 runs, 1 loop each)\n"
     ]
    }
   ],
   "source": [
    "size = 400\n",
    "iterations = 100\n",
    "m = np.zeros((size, size), dtype=np.int32)\n",
    "\n",
    "# this takes a couple seconds\n",
    "%timeit pymandelbrot(m, size, iterations)"
   ]
  },
  {
   "cell_type": "markdown",
   "id": "327338a2-2925-4343-8cbe-d8cc5857cc33",
   "metadata": {
    "tags": []
   },
   "source": [
    "#### Numba Mandelbrot - Solution Proposal"
   ]
  },
  {
   "cell_type": "code",
   "execution_count": 4,
   "id": "bd7dc52a-8376-47e7-bd17-85a3a493b4c4",
   "metadata": {},
   "outputs": [],
   "source": [
    "import numpy as np\n",
    "import numba\n",
    "from numba import float64, int32, void\n",
    "\n",
    "\n",
    "@numba.jit(\"void(float64[:,:], int32, int32)\", nopython=True)\n",
    "def numbandelbrot(m, size, iterations):\n",
    "    for i in range(size):\n",
    "        for j in range(size):\n",
    "            c = -2 + 3./size*j + 1j*(1.5-3./size*i)\n",
    "            z = 0\n",
    "            for n in range(iterations):\n",
    "                if np.abs(z) <= 10:\n",
    "                    z = z*z + c\n",
    "                    m[i, j] = n\n",
    "                else:\n",
    "                    break"
   ]
  },
  {
   "cell_type": "code",
   "execution_count": 5,
   "id": "5b3c4700-3271-46c3-9942-4e6d4a40a94c",
   "metadata": {},
   "outputs": [
    {
     "name": "stdout",
     "output_type": "stream",
     "text": [
      "50.8 ms ± 14.2 µs per loop (mean ± std. dev. of 7 runs, 10 loops each)\n"
     ]
    }
   ],
   "source": [
    "size = 400\n",
    "iterations = 100\n",
    "m = np.zeros((size, size), dtype=np.float64)\n",
    "\n",
    "\n",
    "%timeit numbandelbrot(m, size, iterations)"
   ]
  },
  {
   "cell_type": "code",
   "execution_count": null,
   "id": "bc4e7ecc-72eb-4d68-9623-9219b6beaf15",
   "metadata": {},
   "outputs": [],
   "source": []
  }
 ],
 "metadata": {
  "kernelspec": {
   "display_name": "Python 3 (ipykernel)",
   "language": "python",
   "name": "python3"
  },
  "language_info": {
   "codemirror_mode": {
    "name": "ipython",
    "version": 3
   },
   "file_extension": ".py",
   "mimetype": "text/x-python",
   "name": "python",
   "nbconvert_exporter": "python",
   "pygments_lexer": "ipython3",
   "version": "3.10.6"
  },
  "vscode": {
   "interpreter": {
    "hash": "9d2533a8417e93bb270061fddcf202607a399e1158d66c4e8746479fc11cda46"
   }
  }
 },
 "nbformat": 4,
 "nbformat_minor": 5
}
