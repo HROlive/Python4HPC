{
 "cells": [
  {
   "cell_type": "markdown",
   "id": "db418fc8-079a-42ac-ab7b-fc9ce7486841",
   "metadata": {},
   "source": [
    "# Profiling"
   ]
  },
  {
   "cell_type": "markdown",
   "id": "bbb921a9-da9f-4969-8e9e-06c508ae7b74",
   "metadata": {
    "tags": []
   },
   "source": [
    "## `timeit` - Exercise\n",
    "\n",
    "Four different ways to generate an integer sequence $(x_i)_{0 \\leq i < n}$ are given. Use `timeit` to find out which one is the fastest."
   ]
  },
  {
   "cell_type": "code",
   "execution_count": 1,
   "id": "97e2c12d-4dfd-4d5b-801a-cfd80bbda004",
   "metadata": {},
   "outputs": [],
   "source": [
    "import numpy as np\n",
    "import array as ary\n",
    "\n",
    "\n",
    "n = 100_000"
   ]
  },
  {
   "cell_type": "code",
   "execution_count": 2,
   "id": "d757c3b9-8bb9-4fba-b2c4-284ced45f2a5",
   "metadata": {},
   "outputs": [],
   "source": [
    "ls = []\n",
    "for i in range(n):\n",
    "    ls.append(i)"
   ]
  },
  {
   "cell_type": "code",
   "execution_count": 3,
   "id": "5b9b764c-75ba-4239-8de9-8e50ef359b85",
   "metadata": {},
   "outputs": [],
   "source": [
    "ls = list(range(n))"
   ]
  },
  {
   "cell_type": "code",
   "execution_count": 4,
   "id": "c199e30b-3bb9-443f-a6f8-20f1c3e70423",
   "metadata": {},
   "outputs": [],
   "source": [
    "ls = ary.array('i', range(n))"
   ]
  },
  {
   "cell_type": "code",
   "execution_count": 5,
   "id": "c7810899-cc1e-4a3d-a679-782950c81bc5",
   "metadata": {},
   "outputs": [],
   "source": [
    "ls = np.arange(n, dtype=np.intc)"
   ]
  },
  {
   "cell_type": "markdown",
   "id": "6f39dcac-0cb6-47ae-9822-3e2c67d8d59c",
   "metadata": {
    "tags": []
   },
   "source": [
    "### `timeit` - Solution Proposal"
   ]
  },
  {
   "cell_type": "code",
   "execution_count": 6,
   "id": "26f0fd07-97f9-4f03-be8f-6ba5f9b1073d",
   "metadata": {},
   "outputs": [],
   "source": [
    "import numpy as np\n",
    "import array as ary\n",
    "\n",
    "\n",
    "n = 100_000"
   ]
  },
  {
   "cell_type": "code",
   "execution_count": 7,
   "id": "7957d8a1-c0dd-42fb-babf-238264cc7703",
   "metadata": {},
   "outputs": [
    {
     "name": "stdout",
     "output_type": "stream",
     "text": [
      "4.88684 ms ± 28.2721 µs per loop (mean ± std. dev. of 10 runs, 30 loops each)\n"
     ]
    }
   ],
   "source": [
    "%%timeit -n 30 -r 10 -p 6\n",
    "\n",
    "ls = []\n",
    "for i in range(n):\n",
    "    ls.append(i)"
   ]
  },
  {
   "cell_type": "code",
   "execution_count": 8,
   "id": "da57ee2a-e558-4b83-aaad-26dd13b1c480",
   "metadata": {},
   "outputs": [
    {
     "name": "stdout",
     "output_type": "stream",
     "text": [
      "1.66545 ms ± 20.1937 µs per loop (mean ± std. dev. of 10 runs, 30 loops each)\n"
     ]
    }
   ],
   "source": [
    "%%timeit -n 30 -r 10 -p 6\n",
    "\n",
    "ls = list(range(n))"
   ]
  },
  {
   "cell_type": "code",
   "execution_count": 9,
   "id": "10bd76cf-9c94-45c1-b8a2-016fabc5ffc0",
   "metadata": {},
   "outputs": [
    {
     "name": "stdout",
     "output_type": "stream",
     "text": [
      "6.66227 ms ± 32.6887 µs per loop (mean ± std. dev. of 10 runs, 30 loops each)\n"
     ]
    }
   ],
   "source": [
    "%%timeit -n 30 -r 10 -p 6\n",
    "\n",
    "ls = ary.array('i', range(n))"
   ]
  },
  {
   "cell_type": "code",
   "execution_count": 10,
   "id": "9311b2a4-37c1-4025-a18e-4b1bd0441129",
   "metadata": {},
   "outputs": [
    {
     "name": "stdout",
     "output_type": "stream",
     "text": [
      "40.5057 µs ± 7.42367 µs per loop (mean ± std. dev. of 10 runs, 30 loops each)\n"
     ]
    }
   ],
   "source": [
    "%%timeit -n 30 -r 10 -p 6\n",
    "\n",
    "ls = np.arange(n, dtype=np.intc)"
   ]
  },
  {
   "cell_type": "markdown",
   "id": "5e4f553a-0264-4eb3-be7a-d51b136b68d6",
   "metadata": {
    "tags": []
   },
   "source": [
    "## `cProfile` - Exercise\n",
    "\n",
    "Use `cProfile` on the given bubblesort implementation to verify that the overhead for function calls is already significant in this trivial example."
   ]
  },
  {
   "cell_type": "code",
   "execution_count": 11,
   "id": "56ac72f8-687b-45fa-aacc-e31a21ffae40",
   "metadata": {},
   "outputs": [],
   "source": [
    "import numpy as np\n",
    "\n",
    "\n",
    "def compare(x, y):\n",
    "    return x < y\n",
    "\n",
    "\n",
    "def swap(xs, i, j):\n",
    "    temp = xs[i]\n",
    "    xs[i] = xs[j]\n",
    "    xs[j] = temp\n",
    "\n",
    "\n",
    "def bubblesort(xs):\n",
    "    n = xs.shape[0]\n",
    "    for i in range(n-1):\n",
    "        for j in range(n-i-1):\n",
    "            if compare(xs[j + 1], xs[j]):\n",
    "                swap(xs, j, j+1)"
   ]
  },
  {
   "cell_type": "code",
   "execution_count": 12,
   "id": "ca080de5-9e47-4923-9c1f-23a8d9fb4616",
   "metadata": {},
   "outputs": [
    {
     "name": "stdout",
     "output_type": "stream",
     "text": [
      "2.26 ms ± 11.6 µs per loop (mean ± std. dev. of 30 runs, 30 loops each)\n"
     ]
    }
   ],
   "source": [
    "%timeit -n 30 -r 30 bubblesort(np.random.rand(100))"
   ]
  },
  {
   "cell_type": "code",
   "execution_count": 13,
   "id": "d517061a-dec6-44bf-b483-28036bee8533",
   "metadata": {
    "tags": []
   },
   "outputs": [
    {
     "name": "stdout",
     "output_type": "stream",
     "text": [
      "         751162 function calls in 0.397 seconds\n",
      "\n",
      "   Ordered by: standard name\n",
      "\n",
      "   ncalls  tottime  percall  cumtime  percall filename:lineno(function)\n",
      "        1    0.232    0.232    0.397    0.397 2483865622.py:14(bubblesort)\n",
      "   499500    0.055    0.000    0.055    0.000 2483865622.py:4(compare)\n",
      "   251658    0.110    0.000    0.110    0.000 2483865622.py:8(swap)\n",
      "        1    0.000    0.000    0.397    0.397 <string>:1(<module>)\n",
      "        1    0.000    0.000    0.397    0.397 {built-in method builtins.exec}\n",
      "        1    0.000    0.000    0.000    0.000 {method 'disable' of '_lsprof.Profiler' objects}\n",
      "\n",
      "\n"
     ]
    }
   ],
   "source": [
    "import cProfile\n",
    "\n",
    "xs = np.random.rand(1000)\n",
    "cProfile.run('bubblesort(xs)')"
   ]
  },
  {
   "cell_type": "markdown",
   "id": "b03a1ad4-a005-44e2-91fb-3c3b16253a63",
   "metadata": {
    "tags": []
   },
   "source": [
    "#### `cProfile` - Solution Proposal"
   ]
  },
  {
   "cell_type": "code",
   "execution_count": 14,
   "id": "b85b1740-bd64-4cf4-84fc-611c9e3dfcb9",
   "metadata": {},
   "outputs": [],
   "source": [
    "def bubblesort(xs):\n",
    "    n = xs.shape[0]\n",
    "    for i in range(n-1):\n",
    "        for j in range(n-i-1):\n",
    "            if xs[j + 1] < xs[j]:\n",
    "                xs[j], xs[j + 1] = xs[j + 1], xs[j]"
   ]
  },
  {
   "cell_type": "code",
   "execution_count": 15,
   "id": "efa2d3d2-3e2e-4d75-aba3-70e7f6f32f7e",
   "metadata": {},
   "outputs": [
    {
     "name": "stdout",
     "output_type": "stream",
     "text": [
      "1.86 ms ± 14.7 µs per loop (mean ± std. dev. of 30 runs, 30 loops each)\n"
     ]
    }
   ],
   "source": [
    "%timeit -n 30 -r 30 bubblesort(np.random.rand(100))"
   ]
  },
  {
   "cell_type": "code",
   "execution_count": 16,
   "id": "a718b751-cf0f-4374-bd10-89b08ee236df",
   "metadata": {},
   "outputs": [
    {
     "name": "stdout",
     "output_type": "stream",
     "text": [
      "         4 function calls in 0.002 seconds\n",
      "\n",
      "   Ordered by: standard name\n",
      "\n",
      "   ncalls  tottime  percall  cumtime  percall filename:lineno(function)\n",
      "        1    0.002    0.002    0.002    0.002 2182074548.py:1(bubblesort)\n",
      "        1    0.000    0.000    0.002    0.002 <string>:1(<module>)\n",
      "        1    0.000    0.000    0.002    0.002 {built-in method builtins.exec}\n",
      "        1    0.000    0.000    0.000    0.000 {method 'disable' of '_lsprof.Profiler' objects}\n",
      "\n",
      "\n"
     ]
    }
   ],
   "source": [
    "import cProfile\n",
    "\n",
    "xs = np.random.rand(100)\n",
    "cProfile.run('bubblesort(xs)')"
   ]
  },
  {
   "cell_type": "markdown",
   "id": "696cf03e-2cb1-4beb-8664-ed05a14d6023",
   "metadata": {
    "tags": []
   },
   "source": [
    "## `memory_profiler` - Exercise\n",
    "\n",
    "The given function that computes the n-th Fibonacci number is using too much memory. Verify this with `memory_profiler` and find a way to reduce memory consumption."
   ]
  },
  {
   "cell_type": "code",
   "execution_count": 17,
   "id": "cf8b7201-985f-4d8f-a7a3-2bb4e999d8f8",
   "metadata": {},
   "outputs": [],
   "source": [
    "%load_ext memory_profiler"
   ]
  },
  {
   "cell_type": "code",
   "execution_count": null,
   "id": "9e20ec4b-e8b2-4490-a891-f90bc2a8f07d",
   "metadata": {},
   "outputs": [],
   "source": [
    "%%writefile profiling/exercises/fibonacci.py\n",
    "\n",
    "def fibonacci(n):\n",
    "    if (n < 0):\n",
    "        return None\n",
    "    elif (n == 0):\n",
    "        return 0\n",
    "    elif (n == 1):\n",
    "        return 1\n",
    "    else:\n",
    "        fibs = [0, 1]\n",
    "        for i in range(1, n):\n",
    "            s = fibs[-2] + fibs[-1]\n",
    "            fibs.append(s)\n",
    "        return fibs[-1]"
   ]
  },
  {
   "cell_type": "code",
   "execution_count": null,
   "id": "c1027f59-842a-436d-9f84-1bae8c7716b9",
   "metadata": {
    "tags": []
   },
   "outputs": [],
   "source": [
    "from profiling.exercises.fibonacci import fibonacci\n",
    "\n",
    "\n",
    "%mprun -f fibonacci fibonacci(50_000)"
   ]
  },
  {
   "cell_type": "markdown",
   "id": "dbe3e773-8638-4746-a9b7-fd61b7d88413",
   "metadata": {
    "tags": []
   },
   "source": [
    "#### `memory_profiler` - Solution Proposal"
   ]
  },
  {
   "cell_type": "code",
   "execution_count": null,
   "id": "2a4b5f26-75f7-4137-8ad6-8a7fe5351022",
   "metadata": {},
   "outputs": [],
   "source": [
    "%%writefile profiling/exercises/fibonaccimini.py\n",
    "\n",
    "def fibonaccimini(n):\n",
    "    if (n < 0):\n",
    "        return None\n",
    "    elif (n == 0):\n",
    "        return 0\n",
    "    elif (n == 1):\n",
    "        return 1\n",
    "    else:\n",
    "        a = 0\n",
    "        b = 1\n",
    "        for i in range(1, n):\n",
    "            t = a + b\n",
    "            a = b\n",
    "            b = t\n",
    "        return t"
   ]
  },
  {
   "cell_type": "code",
   "execution_count": null,
   "id": "5c4ac87c-cfb9-4b7a-920a-da2f5cf5c9ec",
   "metadata": {},
   "outputs": [],
   "source": [
    "from profiling.exercises.fibonaccimini import fibonaccimini\n",
    "\n",
    "\n",
    "%mprun -f fibonaccimini fibonaccimini(50_000)"
   ]
  },
  {
   "cell_type": "code",
   "execution_count": null,
   "id": "c73d3d03-bb40-4779-89ba-7fd03dd73016",
   "metadata": {},
   "outputs": [],
   "source": []
  }
 ],
 "metadata": {
  "kernelspec": {
   "display_name": "Python 3 (ipykernel)",
   "language": "python",
   "name": "python3"
  },
  "language_info": {
   "codemirror_mode": {
    "name": "ipython",
    "version": 3
   },
   "file_extension": ".py",
   "mimetype": "text/x-python",
   "name": "python",
   "nbconvert_exporter": "python",
   "pygments_lexer": "ipython3",
   "version": "3.10.6"
  }
 },
 "nbformat": 4,
 "nbformat_minor": 5
}
