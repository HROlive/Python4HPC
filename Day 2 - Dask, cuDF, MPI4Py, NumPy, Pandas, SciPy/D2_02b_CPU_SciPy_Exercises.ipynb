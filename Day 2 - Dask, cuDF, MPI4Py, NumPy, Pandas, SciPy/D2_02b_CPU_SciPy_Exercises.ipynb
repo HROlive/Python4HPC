{
 "cells": [
  {
   "cell_type": "markdown",
   "id": "ee2c23c5-c22a-43e0-b291-a75c91255b30",
   "metadata": {},
   "source": [
    "# SciPy - Exercises"
   ]
  },
  {
   "cell_type": "markdown",
   "id": "10b63f3e-701c-491c-b982-589265f74b83",
   "metadata": {
    "jp-MarkdownHeadingCollapsed": true,
    "tags": []
   },
   "source": [
    "## Optimization - Exercise\n",
    "\n",
    "Take a look at the [`scipy.optimize`](https://docs.scipy.org/doc/scipy/reference/optimize.html#module-scipy.optimize) module, minimize the given function, and plot the result."
   ]
  },
  {
   "cell_type": "code",
   "execution_count": null,
   "id": "072caca8-0526-4b6e-b906-3026d44feac7",
   "metadata": {},
   "outputs": [],
   "source": [
    "import numpy as np\n",
    "import matplotlib.pyplot as plt\n",
    "\n",
    "\n",
    "def f(x):\n",
    "    return x**2 + 20*np.sin(2*x) + 5*x - 8\n",
    "\n",
    "x = np.arange(-20, 20, 0.1)\n",
    "plt.plot(x, f(x))"
   ]
  },
  {
   "cell_type": "markdown",
   "id": "cdd4c02b-ef77-49d7-b053-24b80a01a66d",
   "metadata": {},
   "source": [
    "#### Optimization - Solution Proposal"
   ]
  },
  {
   "cell_type": "code",
   "execution_count": null,
   "id": "c55274a8-a9c9-418c-8223-18abbeef415f",
   "metadata": {},
   "outputs": [],
   "source": [
    "from scipy import optimize\n",
    "\n",
    "\n",
    "opt = optimize.minimize(f, x0=0)\n",
    "print(opt)\n",
    "\n",
    "plt.plot(x, f(x))\n",
    "plt.plot(opt.x, f(opt.x), marker='o', color='r')"
   ]
  },
  {
   "cell_type": "markdown",
   "id": "6576d65b-e00e-4b43-9059-6701f9bc08a5",
   "metadata": {
    "jp-MarkdownHeadingCollapsed": true,
    "tags": []
   },
   "source": [
    "## Interpolation - Exercise\n",
    "\n",
    "Inspect the [`scipy.interpolate`](https://docs.scipy.org/doc/scipy/reference/interpolate.html) module and try to interpolate the given noisy 1D-function with linear, quadratic, and cubic polynomials.\n",
    "\n",
    "___Hints___: `t` is the list of measurement times $t$ and `ft` contains the measured samples $f(t)$.  "
   ]
  },
  {
   "cell_type": "code",
   "execution_count": null,
   "id": "15455e3b-ccb1-404a-b76a-b27c107f39bd",
   "metadata": {},
   "outputs": [],
   "source": [
    "import numpy as np\n",
    "from matplotlib import pyplot as plt\n",
    "\n",
    "n = 10\n",
    "np.random.seed(int(time.time()))\n",
    "t = np.linspace(0, 1, n)\n",
    "nt = np.random.random(n)/2\n",
    "ft = nt + np.sin(2*np.pi*t0)\n",
    "\n",
    "plt.figure(figsize=(10, 5))\n",
    "plt.plot(t, ft, 'o', label='measures')\n",
    "plt.xlabel('Time')\n",
    "plt.ylabel('Samples')"
   ]
  },
  {
   "cell_type": "markdown",
   "id": "f9e7e613-c2b8-47da-9b76-4027fff5d3f3",
   "metadata": {
    "jp-MarkdownHeadingCollapsed": true,
    "tags": []
   },
   "source": [
    "#### Interpolation - Solution Proposal"
   ]
  },
  {
   "cell_type": "code",
   "execution_count": null,
   "id": "0df795a3-a859-4e17-9876-f874969906f1",
   "metadata": {},
   "outputs": [],
   "source": [
    "import numpy as np\n",
    "from scipy.interpolate import interp1d\n",
    "from matplotlib import pyplot as plt\n",
    "\n",
    "\n",
    "nips = 5*n # number of interpolation points\n",
    "ippts = np.linspace(0, 1, nips) # interpolation points\n",
    "\n",
    "ipln = interp1d(t, ft, kind='linear') # linear interpolation\n",
    "ipqd = interp1d(t, ft, kind='quadratic') # quadratic interpolation\n",
    "ipcb = interp1d(t, ft, kind='cubic') # cubic interpolation\n",
    "\n",
    "rsln = ipln(ippts) # linear interpolation results\n",
    "rsqd = ipqd(ippts) # quadratic interpolation results\n",
    "rscb = ipcb(ippts) # cubic interpolation results\n",
    "\n",
    "plt.figure(figsize=(10, 5))\n",
    "plt.plot(t, ft, marker='o', label='Samples')\n",
    "plt.plot(ippts, rsln, label='Linear Interpolation')\n",
    "plt.plot(ippts, rsqd, label='Quadratic Interpolation')\n",
    "plt.plot(ippts, rscb, label='Cubic Interpolation')\n",
    "plt.xlabel('Time')\n",
    "plt.ylabel('Samples')\n",
    "plt.legend()\n",
    "plt.show()"
   ]
  }
 ],
 "metadata": {
  "kernelspec": {
   "display_name": "Python 3 (ipykernel)",
   "language": "python",
   "name": "python3"
  },
  "language_info": {
   "codemirror_mode": {
    "name": "ipython",
    "version": 3
   },
   "file_extension": ".py",
   "mimetype": "text/x-python",
   "name": "python",
   "nbconvert_exporter": "python",
   "pygments_lexer": "ipython3",
   "version": "3.8.10"
  }
 },
 "nbformat": 4,
 "nbformat_minor": 5
}
