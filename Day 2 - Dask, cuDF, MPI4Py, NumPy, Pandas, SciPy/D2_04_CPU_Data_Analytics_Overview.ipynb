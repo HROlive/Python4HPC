{
 "cells": [
  {
   "cell_type": "markdown",
   "id": "109d09ff-b2e3-401b-9723-6146a1fc2dc8",
   "metadata": {},
   "source": [
    "# Data Analytics with pandas, cuDF and Dask"
   ]
  },
  {
   "cell_type": "markdown",
   "id": "e66df1f5-7432-4752-950d-a350fa84cd1d",
   "metadata": {},
   "source": [
    "## pandas"
   ]
  },
  {
   "cell_type": "markdown",
   "id": "75235398-6378-43fb-a6a1-105a596f34e1",
   "metadata": {},
   "source": [
    "In the words of Wes McKinney, architect of pandas:\n",
    " \n",
    ">pandas (http://pandas.pydata.org) provides high-level data structures <img src=\"images/pandas_logo.png\" align=\"right\" width=\"30%\">and functions designed to make working with structured or tabular data fast, easy, and expressive.  Since its emergence in 2010, it has helped enable Python to be a powerful and productive data analysis environment.\n",
    "...\n",
    "pandas blends the high-performance, array-computing ideas of NumPy with the flexible data manipulation capabilities of spreadsheets and realtional databases (such as SQL)."
   ]
  },
  {
   "cell_type": "markdown",
   "id": "3f7c141e-25e2-4c3a-a054-6a0aca1a26b4",
   "metadata": {},
   "source": [
    "In this course we will explore the objects `DataFrame`, a tabular, column-oriented data structure with both row and column labels, and `Series`, a one-dimensional labeled array object."
   ]
  },
  {
   "cell_type": "markdown",
   "id": "a425cab3-c678-4e98-aaa4-ab4a65aa2819",
   "metadata": {},
   "source": [
    "## cuDF"
   ]
  },
  {
   "cell_type": "markdown",
   "id": "5ab68075-fd82-4ae0-adb4-c8e310ccd88e",
   "metadata": {},
   "source": [
    "According to the official cuDF documentation (https://docs.rapids.ai/api/cudf/stable/):\n",
    ">cuDF is a Python GPU DataFrame library <img src=\"images/rapids.png\" align=\"right\" width=\"30%\">(built on the Apache Arrow columnar memory format) for loading, joining, aggregating, filtering, and otherwise manipulating data. cuDF also provides a pandas-like API that will be familiar to data engineers & data scientists, so they can use it to easily accelerate their workflows without going into the details of CUDA programming."
   ]
  },
  {
   "cell_type": "markdown",
   "id": "ed38c2bc-3014-4f53-8049-1bc56a029ca3",
   "metadata": {},
   "source": [
    "If you have a GPU avaliable, cuDF will speed things up considerably. However, it does have its limitations, as it isn't a full drop-in for pandas. Check out the API reference (https://docs.rapids.ai/api/cudf/stable/api_docs/index.html) for all publicly accessible modules, methods and classes through cuDF."
   ]
  },
  {
   "cell_type": "markdown",
   "id": "bc957708-632d-4a56-9ba2-f27d625a5a1a",
   "metadata": {},
   "source": [
    "## Dask"
   ]
  },
  {
   "cell_type": "markdown",
   "id": "40320224-bcc8-4f1b-8389-c4e34803103c",
   "metadata": {},
   "source": [
    "<img src=\"https://docs.dask.org/en/latest/_images/dask_horizontal.svg\"\n",
    "     align=\"right\"\n",
    "     width=\"25%\"\n",
    "     alt=\"Dask logo\\\">\n",
    "\n",
    "Dask is an open-source Python library for parallel computing. Dask can scale Python code from multi-core local machines to large distributed clusters, without the code having to be altered a great deal. Dask provides a familiar user interface by mirroring the APIs of other libraries in Python, such as pandas and NumPy. It also enables programmers to run custom algorithms in parallel. It does so by creating lazy, delayed objects. These objects hold the \"recipe\" of how to compute a certain task, without actually performing the computation. These objects are saved in memory as task graphs, wich can be visualized to get a better handle on the actual parallelisaton that is taking place. To actually get the desired numerical result, the task graph has to be passed on to a task scheduler which then performs the computation in parallel.\n",
    " \n",
    " \n",
    " \n",
    "    \n",
    "<img src=\"images/dask-overview.svg\" align=\"center\" width=\"90%\">\n",
    "\n",
    "High level collections are used to generate task graphs which can be executed by schedulers on a single machine or a cluster. Source: https://docs.dask.org/en/stable/10-minutes-to-dask.html"
   ]
  },
  {
   "cell_type": "markdown",
   "id": "27f1a186-8a71-4188-a9d0-59003d8362ac",
   "metadata": {},
   "source": [
    "## Dask_cuDF"
   ]
  },
  {
   "cell_type": "markdown",
   "id": "f85ed7da-82d8-484e-b4e2-a40f173b7aec",
   "metadata": {},
   "source": [
    "To parallelise a dataframe over several GPUs, we will be deploying Dask_cuDF, which is part of the Rapids image. This library combines the best of both worlds making multi-GPU execution possible. Due to limitations in the avaliable infrastructure, the examples will be presented as a demo.\n",
    "The documentation (https://docs.rapids.ai/api/cudf/nightly/user_guide/10min.html) puts it like that:\n",
    ">If your workflow is fast enough on a single GPU or your data comfortably fits in memory on a single GPU, you would want to use cuDF. If you want to distribute your workflow across multiple GPUs, have more data than you can fit in memory on a single GPU, or want to analyze data spread across many files at once, you would want to use Dask-cuDF."
   ]
  },
  {
   "cell_type": "markdown",
   "id": "45ab9530-8dda-443d-b430-f0d0ef59dcfe",
   "metadata": {},
   "source": [
    "We will be using `cdf` to represent a cuDF dataframe, as well as `pdf` (Pandas Dataframe) and `ddf` (Dask Dataframe) for a CPU dataframe when comparing performance."
   ]
  },
  {
   "cell_type": "code",
   "execution_count": null,
   "id": "3812c99e-4ddf-44d1-a521-90017ee6deb9",
   "metadata": {},
   "outputs": [],
   "source": []
  }
 ],
 "metadata": {
  "kernelspec": {
   "display_name": "Python 3 (ipykernel)",
   "language": "python",
   "name": "python3"
  },
  "language_info": {
   "codemirror_mode": {
    "name": "ipython",
    "version": 3
   },
   "file_extension": ".py",
   "mimetype": "text/x-python",
   "name": "python",
   "nbconvert_exporter": "python",
   "pygments_lexer": "ipython3",
   "version": "3.10.6"
  }
 },
 "nbformat": 4,
 "nbformat_minor": 5
}
