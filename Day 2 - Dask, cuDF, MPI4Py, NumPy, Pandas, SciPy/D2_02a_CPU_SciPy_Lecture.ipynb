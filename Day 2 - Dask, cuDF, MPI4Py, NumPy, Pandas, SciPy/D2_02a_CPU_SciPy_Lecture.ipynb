{
 "cells": [
  {
   "cell_type": "markdown",
   "id": "8fb03a76-4c4c-4402-b2f1-4a412ca202b1",
   "metadata": {
    "tags": []
   },
   "source": [
    "# SciPy"
   ]
  },
  {
   "cell_type": "markdown",
   "id": "d3586314-55cb-4366-908a-93da5cb93d2a",
   "metadata": {},
   "source": [
    "__SciPy__ is a comprehensive Python library that facilitates scientific and technical computing. It is best understood as a toolbox containing highly optimized, domain-independent algorithms and data structures. Together with SciKits and NumPy, it forms the foundation of the Python-based scientific computing ecosystem that has been growing rapidly over the last 20 years. \n",
    "\n",
    "In the words of SciPy's authors:\n",
    "> \"A good rule of thumb is that if it's covered in a general textbook on numerical computing (for example, the well-known Numerical Recipes series), it's probably implemented in SciPy.\"\n",
    "\n",
    "\n",
    "In contrast to __NumPy__, which provides mainly an array implementation and linear algebra functionality, SciPy's modules cover a wide range of fields and mathematical tools.\n",
    "\n",
    "Internally it usually uses __NumPy__ arrays for numerical computations and even imports all NumPy functions into its own namespace. However, many SciPy functions, notably those in the `scipy.linalg` module, are extended wrappers around the corresponding NumPy functions or provide additional functionality.\n",
    "\n",
    "\n",
    "* [Special functions](https://docs.scipy.org/doc/scipy/tutorial/special.html) `scipy.special`\n",
    "* [Integration](https://docs.scipy.org/doc/scipy/tutorial/integrate.html) `scipy.integrate`\n",
    "* [Optimization](https://docs.scipy.org/doc/scipy/tutorial/optimize.html) `scipy.optimize`\n",
    "* [Interpolation](https://docs.scipy.org/doc/scipy/tutorial/interpolate.html) `scipy.interpolate`\n",
    "* [Fourier Transforms](https://docs.scipy.org/doc/scipy/tutorial/fft.html) `scipy.fft`\n",
    "* [Signal Processing](https://docs.scipy.org/doc/scipy/tutorial/signal.html) `scipy.signal`\n",
    "* [Linear Algebra](https://docs.scipy.org/doc/scipy/tutorial/linalg.html) `scipy.linalg`\n",
    "* [Compressed Sparse Graph Routines](https://docs.scipy.org/doc/scipy/tutorial/csgraph.html) `scipy.sparse.csgraph`\n",
    "* [Spatial data structures and algorithms](https://docs.scipy.org/doc/scipy/tutorial/spatial.html) `scipy.spatial`\n",
    "* [Statistics](https://docs.scipy.org/doc/scipy/tutorial/stats.html) `scipy.stats`\n",
    "* [Multidimensional image processing](https://docs.scipy.org/doc/scipy/tutorial/ndimage.html) `scipy.ndimage`\n",
    "* [File IO](https://docs.scipy.org/doc/scipy/tutorial/io.html) `scipy.io`"
   ]
  },
  {
   "cell_type": "markdown",
   "id": "d4255ce4-7c76-41b7-8467-77e0a35c705f",
   "metadata": {},
   "source": [
    "### SciPy Toolkits `scikit`\n",
    "\n",
    "SciPy toolkits are eperately developed addons for SciPy."
   ]
  },
  {
   "cell_type": "markdown",
   "id": "db9dc017-6705-4375-a8fd-d43f7b35d353",
   "metadata": {},
   "source": [
    "* [Machine Learning in Python `scikit-learn`](https://scikit-learn.org/stable/)\n",
    "* [Image processing in Python `scikit-image`](https://scikit-image.org/)\n",
    "* [Resources for Bioinformatics `scikit-bio`](http://scikit-bio.org/)\n",
    "* [Large Graph Analysis in Python `scikit-network`](https://scikit-network.readthedocs.io/en/latest/)"
   ]
  },
  {
   "cell_type": "markdown",
   "id": "d8a17693-7e6d-4bbd-9832-666cc2959cfe",
   "metadata": {},
   "source": [
    "### Linear Algebra `scipy.linalg`\n",
    "\n",
    "SciPy's linear algebra package is based on [ATLAS LAPACK and BLAS](https://en.wikipedia.org/wiki/Automatically_Tuned_Linear_Algebra_Software) libraries, which offers reasonably good performance and portability. Additionally, access to the low-level [BLAS](https://docs.scipy.org/doc/scipy/reference/linalg.blas.html) [LAPACK](https://docs.scipy.org/doc/scipy/reference/linalg.lapack.html) is also provided, however, they perform very little error checking and should be used with case."
   ]
  },
  {
   "cell_type": "markdown",
   "id": "2b148a17-f135-485c-a851-7301dfe7916a",
   "metadata": {
    "tags": []
   },
   "source": [
    "### Sparse Matrices `scipy.sparse`\n",
    "\n",
    "This module represents __sparse matrices__ in various forms, such as the well-known compressed sparse column/row format (CSC/CSR), and specialized algorithms for this kind of matrixes. If the structure of the matrix is known in advance, it is beneficial to use the specialized `scipy.sparse.linalg` module instead of the more general `scipy.linalg` module.\n",
    "\n",
    "* [Sparse Matrices](https://docs.scipy.org/doc/scipy/reference/sparse.html)\n",
    "* [Sparse Linear Algebra](https://docs.scipy.org/doc/scipy/reference/sparse.linalg.html)"
   ]
  },
  {
   "cell_type": "code",
   "execution_count": null,
   "id": "0cc4e291-e6eb-4b45-b214-f189a3fcb464",
   "metadata": {
    "tags": []
   },
   "outputs": [],
   "source": [
    "from scipy.sparse import lil_matrix\n",
    "from scipy.sparse.linalg import spsolve\n",
    "from scipy.linalg import solve\n",
    "from numpy.random import rand\n",
    "\n",
    "\n",
    "A = lil_matrix((50, 50)) # list of lists, not a hip hop artist\n",
    "A[-1,:] = rand(50)\n",
    "A[:,-1] = rand(50)\n",
    "A.setdiag(rand(50))\n",
    "b = rand(50)\n",
    "\n",
    "A_sparse = A.tocsr() # convert A to CSR format\n",
    "A_general = A.toarray() # convert A to a general matrix"
   ]
  },
  {
   "cell_type": "code",
   "execution_count": null,
   "id": "a3b811ad-349f-46f8-8764-0654b4722a7f",
   "metadata": {
    "tags": []
   },
   "outputs": [],
   "source": [
    "%timeit x_sparse = spsolve(A_sparse, b) # use the sparse solver"
   ]
  },
  {
   "cell_type": "code",
   "execution_count": null,
   "id": "ed65a6a2-046e-41dc-822e-a1567a3ecf1f",
   "metadata": {
    "tags": []
   },
   "outputs": [],
   "source": [
    "%timeit x_general = solve(A_general, b) # use the general solver"
   ]
  },
  {
   "cell_type": "markdown",
   "id": "eac52921-04ab-43eb-a8b7-162feae76a17",
   "metadata": {
    "tags": []
   },
   "source": [
    "### Statistics `scipy.stats`"
   ]
  },
  {
   "cell_type": "code",
   "execution_count": null,
   "id": "1ffea586-04f8-4090-8cd2-7b2492889910",
   "metadata": {},
   "outputs": [],
   "source": [
    "from numpy import genfromtxt\n",
    "import matplotlib.pyplot as plt\n",
    "\n",
    "\n",
    "data = genfromtxt('scipy/bodies.csv', delimiter=',', skip_header = 1)\n",
    "heights = data[:,1].astype(int)\n",
    "\n",
    "plt.hist(heights)\n",
    "plt.show()"
   ]
  },
  {
   "cell_type": "code",
   "execution_count": null,
   "id": "0eaf608e-1bd7-41cf-ac74-b00b3f1d6c27",
   "metadata": {},
   "outputs": [],
   "source": [
    "import matplotlib.pyplot as plt\n",
    "import numpy as np\n",
    "import time\n",
    "\n",
    "\n",
    "seed(int(time.time()))\n",
    "ndd = np.random.normal(size=1000)\n",
    "plt.hist(ndd)\n",
    "plt.show()"
   ]
  },
  {
   "cell_type": "code",
   "execution_count": null,
   "id": "7fadabf9-b7e9-40ce-8d61-4eb86cc868e5",
   "metadata": {},
   "outputs": [],
   "source": [
    "import scipy as sp\n",
    "\n",
    "d = ndd\n",
    "#d = data[:,1]\n",
    "\n",
    "alpha = 0.05\n",
    "result = sp.stats.shapiro(d)\n",
    "stat, p = result\n",
    "\n",
    "print(result)\n",
    "if p > alpha:\n",
    "    print('Failed to reject H0: Sample looks Gaussian')\n",
    "else:\n",
    "    print('Reject H0: Sample does not look Gaussian')"
   ]
  },
  {
   "cell_type": "code",
   "execution_count": null,
   "id": "f88b2697-911a-479f-aeff-e64c14020151",
   "metadata": {},
   "outputs": [],
   "source": [
    "import scipy as sp\n",
    "\n",
    "\n",
    "#d = ndd\n",
    "d = data[:,1]\n",
    "\n",
    "alpha = 0.05\n",
    "result = sp.stats.normaltest(d)\n",
    "stat, p = result\n",
    "\n",
    "print(result)\n",
    "if p > alpha:\n",
    "    print('Failed to reject H0: Sample looks Gaussian')\n",
    "else:\n",
    "    print('Reject H0: Sample does not look Gaussian')"
   ]
  }
 ],
 "metadata": {
  "kernelspec": {
   "display_name": "Python 3 (ipykernel)",
   "language": "python",
   "name": "python3"
  },
  "language_info": {
   "codemirror_mode": {
    "name": "ipython",
    "version": 3
   },
   "file_extension": ".py",
   "mimetype": "text/x-python",
   "name": "python",
   "nbconvert_exporter": "python",
   "pygments_lexer": "ipython3",
   "version": "3.8.10"
  }
 },
 "nbformat": 4,
 "nbformat_minor": 5
}
