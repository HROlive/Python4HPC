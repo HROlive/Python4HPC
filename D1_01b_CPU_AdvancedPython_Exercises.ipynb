{
 "cells": [
  {
   "cell_type": "markdown",
   "id": "d44dd189-d850-497c-8590-41ae04abc7d4",
   "metadata": {},
   "source": [
    "# Advanced Python - Exercises"
   ]
  },
  {
   "cell_type": "markdown",
   "id": "cf1cd4eb-2fa8-4664-ad0f-7eb60e280eca",
   "metadata": {
    "tags": []
   },
   "source": [
    "## Collections"
   ]
  },
  {
   "cell_type": "markdown",
   "id": "11d69654-3621-4db9-8567-c7b7f8ed2845",
   "metadata": {
    "tags": []
   },
   "source": [
    "### CCS01\n",
    "\n",
    "Extend the given class `Point` with a custom hashing function and compare it with `%timeit` against the default hash function."
   ]
  },
  {
   "cell_type": "code",
   "execution_count": 1,
   "id": "e1844d41",
   "metadata": {},
   "outputs": [],
   "source": [
    "import random\n",
    "\n",
    "class Point:\n",
    "    def __init__(self, x, y, z, p, t):\n",
    "        self.x = x  # x-coorindate\n",
    "        self.y = y  # y-coordinate\n",
    "        self.z = z  # z-coordinate\n",
    "        self.p = p  # pressure\n",
    "        self.t = t  # temperature\n",
    "\n",
    "# create a list of points        \n",
    "lspts = []\n",
    "p = Point(1, 1, 1, 4000, 80)\n",
    "lspts.append(p)\n",
    "for _ in range(100_000):\n",
    "    lspts.append(Point(random.randint(0, 1_000), \n",
    "                       random.randint(0, 1_000), \n",
    "                       random.randint(0, 1_000), \n",
    "                       random.randint(0, 1_000_000), \n",
    "                       random.randint(-273, 100)))"
   ]
  },
  {
   "cell_type": "code",
   "execution_count": 2,
   "id": "fae71ced",
   "metadata": {},
   "outputs": [],
   "source": [
    "# put code here"
   ]
  },
  {
   "cell_type": "code",
   "execution_count": 3,
   "id": "cf7fabf5-08ab-4428-8783-bceaa80ac6cd",
   "metadata": {},
   "outputs": [
    {
     "name": "stdout",
     "output_type": "stream",
     "text": [
      "(default hash) convert to set\n",
      "2.64 ms ± 74.2 µs per loop (mean ± std. dev. of 3 runs, 100 loops each)\n",
      "(default hash) p in setpts\n",
      "39.4 ns ± 0.115 ns per loop (mean ± std. dev. of 7 runs, 10,000,000 loops each)\n"
     ]
    }
   ],
   "source": [
    "print('(default hash) convert to set')\n",
    "%timeit -n 100 -r 3 set(lspts)\n",
    "\n",
    "setpts = set(lspts)\n",
    "\n",
    "print('(default hash) p in setpts')\n",
    "%timeit p in setpts"
   ]
  },
  {
   "cell_type": "code",
   "execution_count": 4,
   "id": "4fa55e77-7ed5-4de1-b2a9-d8e3dc9ffec5",
   "metadata": {},
   "outputs": [],
   "source": [
    "def custom_hash(self):\n",
    "    return 1013*self.x + 2017*self.y + 3041*self.z + 4999*self.p + 5107*self.t\n",
    "\n",
    "Point.__hash__ = custom_hash"
   ]
  },
  {
   "cell_type": "code",
   "execution_count": 5,
   "id": "4e63c3ac-1253-4ce9-9885-82922d6c9e24",
   "metadata": {},
   "outputs": [
    {
     "name": "stdout",
     "output_type": "stream",
     "text": [
      "convert to set\n",
      "42.7 ms ± 178 µs per loop (mean ± std. dev. of 3 runs, 50 loops each)\n",
      "p in setpts\n",
      "370 ns ± 8.73 ns per loop (mean ± std. dev. of 7 runs, 1,000,000 loops each)\n"
     ]
    }
   ],
   "source": [
    "print('convert to set')\n",
    "%timeit -n 50 -r 3 set(lspts)\n",
    "\n",
    "setpts = set(lspts)\n",
    "\n",
    "print('p in setpts')\n",
    "%timeit p in setpts"
   ]
  },
  {
   "cell_type": "markdown",
   "id": "f2cea3eb-223e-479b-9978-d2c7c86b6f36",
   "metadata": {
    "tags": []
   },
   "source": [
    "### CCS02\n",
    "\n",
    "Reverse the given list `ls` without modifying the original, using different approaches and compare the runtime with `%timeit`/`%%timeit`. Which one is the fastest? Can you find other approaches?\n",
    "- `reversed`\n",
    "- lists's `reverse`\n",
    "- slicing"
   ]
  },
  {
   "cell_type": "code",
   "execution_count": 6,
   "id": "eed11193-f544-4a90-a007-cbc85fe91abb",
   "metadata": {},
   "outputs": [],
   "source": [
    "ls = list(range(1_000_000))"
   ]
  },
  {
   "cell_type": "code",
   "execution_count": 7,
   "id": "3bd401c6-f576-44e5-b9d5-a05f0daa81b4",
   "metadata": {},
   "outputs": [],
   "source": [
    "# put code here"
   ]
  },
  {
   "cell_type": "code",
   "execution_count": 8,
   "id": "f9f2dfa7",
   "metadata": {},
   "outputs": [
    {
     "name": "stdout",
     "output_type": "stream",
     "text": [
      "11.4 ms ± 32.7 µs per loop (mean ± std. dev. of 3 runs, 100 loops each)\n"
     ]
    }
   ],
   "source": [
    "%%timeit -n 100 -r 3\n",
    "\n",
    "lsr = list(reversed(ls))"
   ]
  },
  {
   "cell_type": "code",
   "execution_count": 9,
   "id": "0cf18dee-1cb9-4d57-95ef-3e5213b45827",
   "metadata": {},
   "outputs": [
    {
     "name": "stdout",
     "output_type": "stream",
     "text": [
      "8.87 ms ± 149 µs per loop (mean ± std. dev. of 3 runs, 100 loops each)\n"
     ]
    }
   ],
   "source": [
    "%%timeit -n 100 -r 3\n",
    "\n",
    "lsr = ls.copy()\n",
    "lsr.reverse()"
   ]
  },
  {
   "cell_type": "code",
   "execution_count": 10,
   "id": "d42bc52e-adea-425e-9138-1a6ca2e6ea36",
   "metadata": {},
   "outputs": [
    {
     "name": "stdout",
     "output_type": "stream",
     "text": [
      "8.72 ms ± 17 µs per loop (mean ± std. dev. of 3 runs, 100 loops each)\n"
     ]
    }
   ],
   "source": [
    "%%timeit -n 100 -r 3\n",
    "\n",
    "lsr = ls[::]\n",
    "lsr.reverse()"
   ]
  },
  {
   "cell_type": "code",
   "execution_count": 11,
   "id": "48fa37cb-aebf-4510-8779-f98346a3ef2e",
   "metadata": {},
   "outputs": [
    {
     "name": "stdout",
     "output_type": "stream",
     "text": [
      "8.38 ms ± 32.2 µs per loop (mean ± std. dev. of 3 runs, 100 loops each)\n"
     ]
    }
   ],
   "source": [
    "%%timeit -n 100 -r 3\n",
    "\n",
    "lsr = ls[::-1]"
   ]
  },
  {
   "cell_type": "code",
   "execution_count": 12,
   "id": "1483de1c-82e5-45e7-adfa-fd1304cfa42f",
   "metadata": {},
   "outputs": [
    {
     "name": "stdout",
     "output_type": "stream",
     "text": [
      "190 ms ± 1.88 ms per loop (mean ± std. dev. of 3 runs, 10 loops each)\n"
     ]
    }
   ],
   "source": [
    "%%timeit -n 10 -r 3\n",
    "\n",
    "lsr = []\n",
    "for i in range(len(ls)):\n",
    "    lsr.append(ls[len(ls)-1-i])"
   ]
  },
  {
   "cell_type": "code",
   "execution_count": 13,
   "id": "523b6115",
   "metadata": {},
   "outputs": [
    {
     "name": "stdout",
     "output_type": "stream",
     "text": [
      "112 ms ± 604 µs per loop (mean ± std. dev. of 3 runs, 10 loops each)\n"
     ]
    }
   ],
   "source": [
    "%%timeit -n 10 -r 3\n",
    "\n",
    "lsr = [None]*len(ls)\n",
    "for idx, _ in enumerate(lsr):\n",
    "    lsr[idx] = ls[-idx-1]"
   ]
  },
  {
   "cell_type": "code",
   "execution_count": 14,
   "id": "41fc7333-5b8d-422f-87a4-e67d07d1bc6a",
   "metadata": {},
   "outputs": [
    {
     "name": "stdout",
     "output_type": "stream",
     "text": [
      "64.3 ms ± 293 µs per loop (mean ± std. dev. of 3 runs, 10 loops each)\n"
     ]
    }
   ],
   "source": [
    "%%timeit -n 10 -r 3\n",
    "\n",
    "lsr = [ls[i] for i in range(len(ls)-1, 0, -1)]"
   ]
  },
  {
   "cell_type": "markdown",
   "id": "00b054c8-b8c1-41a6-b2a3-3ce5c469de4d",
   "metadata": {
    "tags": []
   },
   "source": [
    "## Object-oriented Python"
   ]
  },
  {
   "cell_type": "markdown",
   "id": "1fca8dd8-97c8-4fb1-8406-a101e35336b9",
   "metadata": {
    "tags": []
   },
   "source": [
    "### OOP01\n",
    "\n",
    "Below are lists that represent certain attributes (first name, year of birth, place of birth) of persons.\n",
    "Find a suitable implementation for the class `Person` that stores this information in an object-oriented way as instance attributes and define a human-readable (`__str__`) string representation that says e.g. `Albert Einstein was born in 1879 in Ulm`"
   ]
  },
  {
   "cell_type": "code",
   "execution_count": 15,
   "id": "c3bc6d40-b67b-4699-9984-7b24b150b11a",
   "metadata": {},
   "outputs": [],
   "source": [
    "einstein = ['albert', 'einstein', 1879, 'ulm']"
   ]
  },
  {
   "cell_type": "code",
   "execution_count": 16,
   "id": "8459d520",
   "metadata": {},
   "outputs": [],
   "source": [
    "# put code here"
   ]
  },
  {
   "cell_type": "code",
   "execution_count": 17,
   "id": "91f4319b-0789-43de-bc98-230f2a6a1b37",
   "metadata": {},
   "outputs": [],
   "source": [
    "class Person:\n",
    "    def __init__(self, first_name: str, last_name: str, year_of_birth: int, place_of_birth: str):\n",
    "        self.first_name = first_name.capitalize()\n",
    "        self.last_name = last_name.capitalize()\n",
    "        self.year_of_birth = year_of_birth\n",
    "        self.place_of_birth = place_of_birth.capitalize()\n",
    "        \n",
    "    def __str__(self):\n",
    "        return f'{self.first_name} {self.last_name} was born in {self.year_of_birth} in {self.place_of_birth}'"
   ]
  },
  {
   "cell_type": "code",
   "execution_count": 18,
   "id": "999edb60-ca34-430b-b0a1-cd8d8d4e6de0",
   "metadata": {},
   "outputs": [
    {
     "name": "stdout",
     "output_type": "stream",
     "text": [
      "Albert Einstein was born in 1879 in Ulm\n"
     ]
    }
   ],
   "source": [
    "p = Person(*einstein)\n",
    "print(str(p))"
   ]
  },
  {
   "cell_type": "markdown",
   "id": "75ae07b1-7ac4-41f3-af4b-5d528e094fdd",
   "metadata": {
    "tags": []
   },
   "source": [
    "### OOP02\n",
    "\n",
    "Implement the subclasses `Artist` and `Scientist` such that `Person` is their superclass. Add the instance attributes `field` to `Scientist` and `genre` to `Artist`; include them in the constructor.\n",
    "\n",
    "Overwrite the `__str__` method such that the superclass' `__str__` method is called and the person's profession is included in the returned string. \n",
    "\n",
    "Finally, add the instance methods `create` to `Artist` and `conceive` to `Scientist` with one string parameter each (e.g. `artwork` for artists and `idea` for scientists) that print what the artists created and the scientists conceived."
   ]
  },
  {
   "cell_type": "code",
   "execution_count": 19,
   "id": "0a744a5e",
   "metadata": {},
   "outputs": [],
   "source": [
    "einstein = ['albert', 'einstein', 1879, 'ulm', 'physics']\n",
    "turing = ['alan', 'turing', 1912, 'london', 'mathematics']\n",
    "mendeleev = ['dmitri', 'mendelejew', 1834, 'tobolsk', 'chemistry']\n",
    "\n",
    "dali = ['salvador', 'dali', 1904, 'figueres', 'visual arts']\n",
    "wonder = ['stevie', 'wonder', 1950, 'saginaw', 'music']\n",
    "kubrick = ['stanley', 'kubrick', 1928, 'new york city', 'film']"
   ]
  },
  {
   "cell_type": "code",
   "execution_count": 20,
   "id": "0276578a",
   "metadata": {},
   "outputs": [],
   "source": [
    "# put code here"
   ]
  },
  {
   "cell_type": "code",
   "execution_count": 21,
   "id": "fecdb5b7-affa-475b-88cd-4ff801370272",
   "metadata": {},
   "outputs": [],
   "source": [
    "class Scientist(Person):\n",
    "    def __init__(self, first_name: str, last_name: str, year_of_birth: int, place_of_birth: str, field: str):\n",
    "        super().__init__(first_name, last_name, year_of_birth, place_of_birth)\n",
    "        self.field = field.capitalize()\n",
    "        \n",
    "    def __str__(self):\n",
    "        return f'The {type(self).__name__.lower()} {super().__str__()} and worked in {self.field}'\n",
    "    \n",
    "    def conceive(self, idea: str):\n",
    "        idea = ' '.join(map(str.capitalize, idea.split()))\n",
    "        print(f'{self.first_name} {self.last_name} conceives {idea} and gives a TED talk')\n",
    "\n",
    "\n",
    "class Artist(Person):\n",
    "    def __init__(self, first_name: str, last_name: str, year_of_birth: int, place_of_birth: str, genre: str):\n",
    "        super().__init__(first_name, last_name, year_of_birth, place_of_birth)\n",
    "        self.genre = genre.capitalize()\n",
    "        \n",
    "    def __str__(self):\n",
    "        return f'The {type(self).__name__.lower()} {super().__str__()} and worked in {self.genre}'\n",
    "    \n",
    "    def create(self, artwork: str):\n",
    "        artwork = ' '.join(map(str.capitalize, artwork.split()))\n",
    "        print(f'{self.first_name} {self.last_name} creates {artwork} and the critics love it')\n"
   ]
  },
  {
   "cell_type": "code",
   "execution_count": 22,
   "id": "bbc6dc05-8529-4cd6-9e93-467634906f1a",
   "metadata": {},
   "outputs": [
    {
     "name": "stdout",
     "output_type": "stream",
     "text": [
      "The artist Salvador Dali was born in 1904 in Figueres and worked in Visual arts\n",
      "The scientist Alan Turing was born in 1912 in London and worked in Mathematics\n",
      "Stanley Kubrick creates The Shining and the critics love it\n",
      "Salvador Dali creates The Persistence Of Memory and the critics love it\n",
      "Alan Turing conceives Turing Machine and gives a TED talk\n",
      "Dmitri Mendelejew conceives Periodic Table and gives a TED talk\n"
     ]
    }
   ],
   "source": [
    "es, tr, md = [Scientist(*data) for data in (einstein, turing, mendeleev)]\n",
    "dl, wd, kb = [Artist(*data) for data in (dali, wonder, kubrick)]\n",
    "\n",
    "print(str(dl))\n",
    "print(str(tr))\n",
    "\n",
    "kb.create('the shining')\n",
    "dl.create('the persistence of memory')\n",
    "tr.conceive('turing machine')\n",
    "md.conceive('periodic table')"
   ]
  },
  {
   "cell_type": "markdown",
   "id": "fa7e10a5-2462-4125-83b1-52db768ee703",
   "metadata": {
    "tags": []
   },
   "source": [
    "### OOP03"
   ]
  },
  {
   "cell_type": "markdown",
   "id": "609bd0b9-6c44-40be-989c-3a1b1d3694df",
   "metadata": {},
   "source": [
    "Verify that the scientists are instances of `Scientist` as well as `Person`. Check whether the artists are of type `Artist` or `Person`."
   ]
  },
  {
   "cell_type": "code",
   "execution_count": 23,
   "id": "e75e8b5f",
   "metadata": {},
   "outputs": [],
   "source": [
    "# put code here"
   ]
  },
  {
   "cell_type": "code",
   "execution_count": 24,
   "id": "90068f77-27c8-4ae9-9ebe-ba509d9a414a",
   "metadata": {},
   "outputs": [
    {
     "name": "stdout",
     "output_type": "stream",
     "text": [
      "True\n",
      "True\n",
      "True\n",
      "False\n"
     ]
    }
   ],
   "source": [
    "print(isinstance(tr, Scientist))\n",
    "print(isinstance(md, Person))\n",
    "\n",
    "print(type(wd) == Artist)\n",
    "print(type(wd) == Person)"
   ]
  },
  {
   "cell_type": "markdown",
   "id": "a681f9fe-cfec-4602-812f-fbaa539955f4",
   "metadata": {},
   "source": [
    "## Functional Programming"
   ]
  },
  {
   "cell_type": "markdown",
   "id": "9d549b70-fdd7-4771-afbe-b2f8de207228",
   "metadata": {
    "tags": []
   },
   "source": [
    "### FP01\n",
    "For the given list of lists `lss`, print the length of all nested lists and the sum of all elements by using the `map` function."
   ]
  },
  {
   "cell_type": "code",
   "execution_count": 25,
   "id": "4abd52bb-6f44-4f0c-b8e9-9852328d617d",
   "metadata": {},
   "outputs": [],
   "source": [
    "lss = [[1, 3, 5, 7, 9], \n",
    "       [2, 4, 6, 8], \n",
    "       [11, 13, 17, 19], \n",
    "       [31, 37], \n",
    "       []]"
   ]
  },
  {
   "cell_type": "code",
   "execution_count": 26,
   "id": "ce150820",
   "metadata": {},
   "outputs": [],
   "source": [
    "# put code here"
   ]
  },
  {
   "cell_type": "code",
   "execution_count": 27,
   "id": "1c1e5b57-9f8a-403c-9e2c-ddfb25bd43b4",
   "metadata": {},
   "outputs": [
    {
     "name": "stdout",
     "output_type": "stream",
     "text": [
      "Length of all nested lists:  [5, 4, 4, 2, 0]\n",
      "Sum of all elements:  173\n"
     ]
    }
   ],
   "source": [
    "print('Length of all nested lists: ', list(map(len, lss)))\n",
    "print('Sum of all elements: ', sum(map(sum, lss)))"
   ]
  },
  {
   "cell_type": "markdown",
   "id": "50ffdba1-6ce8-43a9-bc93-9f1e6a54172a",
   "metadata": {
    "tags": []
   },
   "source": [
    "### FP02\n",
    "\n",
    "Given a list of tuples that represent x- & y-coordinates of points in a plane, define a lambda `distance` that can be passed to `map` and find the point with the maximal distance from the origin."
   ]
  },
  {
   "cell_type": "code",
   "execution_count": 28,
   "id": "cdefd603-f3a2-485f-835a-37de633ee691",
   "metadata": {},
   "outputs": [],
   "source": [
    "points = [ (4.5, 3), (2.1, -1), (6.8, -3), (1.4, 2.9) ]"
   ]
  },
  {
   "cell_type": "code",
   "execution_count": 29,
   "id": "1c8c6354",
   "metadata": {},
   "outputs": [],
   "source": [
    "# put code here"
   ]
  },
  {
   "cell_type": "code",
   "execution_count": 30,
   "id": "e2d54a00-db0c-49b9-90a8-3da792c481cc",
   "metadata": {},
   "outputs": [
    {
     "name": "stdout",
     "output_type": "stream",
     "text": [
      "7.432361670424818\n"
     ]
    }
   ],
   "source": [
    "distance = lambda p : (p[0]**2 + p[1]**2)**(1/2)\n",
    "\n",
    "print(max(map(distance, points)))"
   ]
  },
  {
   "cell_type": "markdown",
   "id": "83be73e2-edcc-4f20-8cbb-f0ef288d3416",
   "metadata": {
    "tags": []
   },
   "source": [
    "### FP03\n",
    "\n",
    "Given a list of words, define a function `palindrome` that checks whether a given word is a palindrome such that it can be passed to `filter`."
   ]
  },
  {
   "cell_type": "code",
   "execution_count": 31,
   "id": "b0776ad9-c950-4112-a1d3-9b574c951daf",
   "metadata": {},
   "outputs": [],
   "source": [
    "words = ['kayak', 'deified', 'rotator', 'repeat', 'dandelion', 'freestyle', 'mechanic']"
   ]
  },
  {
   "cell_type": "code",
   "execution_count": 32,
   "id": "5e3fbb73",
   "metadata": {},
   "outputs": [],
   "source": [
    "# put code here"
   ]
  },
  {
   "cell_type": "code",
   "execution_count": 33,
   "id": "b963320d-8051-4201-8519-4106bcad089d",
   "metadata": {},
   "outputs": [
    {
     "name": "stdout",
     "output_type": "stream",
     "text": [
      "['kayak', 'deified', 'rotator']\n"
     ]
    }
   ],
   "source": [
    "def palindrome(word):\n",
    "    return word[::-1].lower() == word.lower()\n",
    "    \n",
    "print(list(filter(palindrome, words)))"
   ]
  },
  {
   "cell_type": "markdown",
   "id": "f67661a2",
   "metadata": {},
   "source": [
    "### FP04\n",
    "\n",
    "Transpose the given matrix using loops, functional programming and list comprehensions. Compare the runtimes with `%timeit`."
   ]
  },
  {
   "cell_type": "code",
   "execution_count": 34,
   "id": "03f8f7ce",
   "metadata": {},
   "outputs": [
    {
     "name": "stdout",
     "output_type": "stream",
     "text": [
      "[(1, 2, 3), (4, 5, 6), (7, 8, 9)]\n"
     ]
    }
   ],
   "source": [
    "matrix = [(1, 2, 3), \n",
    "          (4, 5, 6), \n",
    "          (7, 8, 9)]\n",
    "print(matrix)"
   ]
  },
  {
   "cell_type": "code",
   "execution_count": 35,
   "id": "c4aaaa63",
   "metadata": {},
   "outputs": [],
   "source": [
    "# put code here"
   ]
  },
  {
   "cell_type": "code",
   "execution_count": 36,
   "id": "c6338b8a",
   "metadata": {},
   "outputs": [
    {
     "name": "stdout",
     "output_type": "stream",
     "text": [
      "using loop [[1, 4, 7], [2, 5, 8], [3, 6, 9]]\n",
      "1.42 µs ± 8.53 ns per loop (mean ± std. dev. of 100 runs, 10,000 loops each)\n"
     ]
    }
   ],
   "source": [
    "def transpose(matrix):\n",
    "    transposed = []\n",
    "    for j in range(3):\n",
    "        row = []\n",
    "        for i in range(3):\n",
    "            row.append(matrix[i][j])\n",
    "        transposed.append(row)\n",
    "    return transposed\n",
    "\n",
    "print('using loop', transpose(matrix))\n",
    "%timeit -n 10000 -r 100 transpose(matrix)"
   ]
  },
  {
   "cell_type": "code",
   "execution_count": 37,
   "id": "42ddd0c6",
   "metadata": {},
   "outputs": [
    {
     "name": "stdout",
     "output_type": "stream",
     "text": [
      "using list comprehension [[1, 4, 7], [2, 5, 8], [3, 6, 9]]\n",
      "1.25 µs ± 8.95 ns per loop (mean ± std. dev. of 100 runs, 10,000 loops each)\n"
     ]
    }
   ],
   "source": [
    "print('using list comprehension', [[row[i] for row in matrix] for i in range(3)])\n",
    "%timeit -n 10000 -r 100 [[row[i] for row in matrix] for i in range(3)]"
   ]
  },
  {
   "cell_type": "code",
   "execution_count": 38,
   "id": "ddac4623",
   "metadata": {},
   "outputs": [
    {
     "name": "stdout",
     "output_type": "stream",
     "text": [
      "using zip and *\n",
      "401 ns ± 7.23 ns per loop (mean ± std. dev. of 100 runs, 10,000 loops each)\n"
     ]
    }
   ],
   "source": [
    "print('using zip and *')\n",
    "%timeit -n 10000 -r 100 list(zip(*matrix))"
   ]
  },
  {
   "cell_type": "markdown",
   "id": "7d1b6e17-2082-4e4f-8b89-061240a8fc6f",
   "metadata": {
    "tags": []
   },
   "source": [
    "### FP05\n",
    "\n",
    "Define a function `foldr`, which takes an associative operator (i.e. lambda) `op`, a list of numbers `ls`, and a base `bs`, that recursively folds the list beginning at the last element. It shall start by applying the operator to the base and the last element, then it does the same with the previous result and the second-to-last element until no more elements are left. "
   ]
  },
  {
   "cell_type": "code",
   "execution_count": 39,
   "id": "a591ab25",
   "metadata": {},
   "outputs": [
    {
     "name": "stdout",
     "output_type": "stream",
     "text": [
      "0\n"
     ]
    }
   ],
   "source": [
    "def foldr(op, ls, base):\n",
    "    return base\n",
    "    \n",
    "my_op = lambda a, b: a\n",
    "\n",
    "print(foldr(my_op, [1, 2, 3, 5], 0))"
   ]
  },
  {
   "cell_type": "code",
   "execution_count": 40,
   "id": "360906b8",
   "metadata": {},
   "outputs": [],
   "source": [
    "# put code here"
   ]
  },
  {
   "cell_type": "code",
   "execution_count": 41,
   "id": "e1bd4e6b-85f2-4e1a-ad0b-820ff9c7b769",
   "metadata": {},
   "outputs": [
    {
     "name": "stdout",
     "output_type": "stream",
     "text": [
      "11\n"
     ]
    }
   ],
   "source": [
    "def foldr(op, ls, base):\n",
    "    if not ls:\n",
    "        return base\n",
    "    else:\n",
    "        return foldr(op, ls, op(ls.pop(), base))\n",
    "    \n",
    "add = lambda a, b : a + b\n",
    "\n",
    "print(foldr(add, [1, 2, 3, 5], 0))"
   ]
  },
  {
   "cell_type": "markdown",
   "id": "27c026b3-e051-4c15-be34-600aaa6f4fdc",
   "metadata": {
    "tags": []
   },
   "source": [
    "## Caching\n",
    "### CAC01\n",
    "\n",
    "Below you can see an awfully slow, recursive implementation of the Fibonacci sequence. Write a function `fastfib` that caches intermediate results instead of recomputing them for each function call."
   ]
  },
  {
   "cell_type": "code",
   "execution_count": 42,
   "id": "b1855423",
   "metadata": {},
   "outputs": [
    {
     "name": "stdout",
     "output_type": "stream",
     "text": [
      "285 ms ± 102 µs per loop (mean ± std. dev. of 7 runs, 1 loop each)\n"
     ]
    }
   ],
   "source": [
    "def fib(n):\n",
    "    if (n == 0):\n",
    "        return 0\n",
    "    elif (n == 1):\n",
    "        return 1\n",
    "    else:\n",
    "        return fib(n-1) + fib(n-2)\n",
    "    \n",
    "%timeit fib(30)    "
   ]
  },
  {
   "cell_type": "code",
   "execution_count": 43,
   "id": "f9f3b9ee",
   "metadata": {},
   "outputs": [],
   "source": [
    "# put code here"
   ]
  },
  {
   "cell_type": "code",
   "execution_count": 44,
   "id": "259dc198",
   "metadata": {},
   "outputs": [
    {
     "name": "stdout",
     "output_type": "stream",
     "text": [
      "fastfib with list\n",
      "8.81 µs ± 2.47 ns per loop (mean ± std. dev. of 5 runs, 100,000 loops each)\n"
     ]
    }
   ],
   "source": [
    "def fastfib(n, cache):\n",
    "    if n < len(cache):\n",
    "        return cache[n]\n",
    "    else:\n",
    "        cache.append(fastfib(n-1, cache) + fastfib(n-2, cache))\n",
    "    return cache[n]\n",
    "\n",
    "print('fastfib with list')\n",
    "%timeit -n 100000 -r 5 fastfib(30, [0,1])"
   ]
  },
  {
   "cell_type": "code",
   "execution_count": 45,
   "id": "481e1000",
   "metadata": {},
   "outputs": [
    {
     "name": "stdout",
     "output_type": "stream",
     "text": [
      "fastfib with cache\n",
      "62.8 ns ± 2.56 ns per loop (mean ± std. dev. of 5 runs, 100,000 loops each)\n"
     ]
    }
   ],
   "source": [
    "from functools import cache\n",
    "\n",
    "@cache\n",
    "def cfastfib(n):\n",
    "    if n == 0:\n",
    "        return 0\n",
    "    elif n == 1:\n",
    "        return 1\n",
    "    else:\n",
    "        return cfastfib(n-1) + cfastfib(n-2) \n",
    "    \n",
    "print('fastfib with cache')\n",
    "%timeit -n 100000 -r 5 cfastfib(30)"
   ]
  },
  {
   "cell_type": "markdown",
   "id": "b899ec25",
   "metadata": {},
   "source": [
    "### Combined\n",
    "\n",
    "Create a dataclass for the following fields and read in a list of objects from the csv file file in `advanced/test_records.txt`. \n",
    "\n",
    "Fields: \n",
    "- float: x, y, z, \n",
    "- int: r, g, b\n",
    "- float: humidity\n",
    "\n",
    "Calculate the average vector length and find min/max humidity."
   ]
  },
  {
   "cell_type": "code",
   "execution_count": 46,
   "id": "98fcacb8",
   "metadata": {},
   "outputs": [],
   "source": [
    "input_file = './advanced/test_records.txt'\n",
    "\n",
    "# put code here"
   ]
  },
  {
   "cell_type": "code",
   "execution_count": null,
   "id": "36a90af9",
   "metadata": {},
   "outputs": [],
   "source": [
    "import csv\n",
    "from math import sqrt\n",
    "from dataclasses import dataclass\n",
    "\n",
    "input_file = './advanced/test_records.txt'\n",
    "\n",
    "@dataclass(repr=False, eq=False, order=False, slots=True)\n",
    "class Measurement:\n",
    "    x: float\n",
    "    y: float\n",
    "    z: float\n",
    "    r: int\n",
    "    g: int\n",
    "    b: int\n",
    "    humidity: float\n",
    "    \n",
    "    def __post_init__(self):\n",
    "        self.r = int(self.r)\n",
    "        self.g = int(self.g)\n",
    "        self.b = int(self.b)\n",
    "\n",
    "\n",
    "def read_csv(file):\n",
    "    with open(file, 'r', newline='') as f:\n",
    "        reader = csv.reader(f, quoting=csv.QUOTE_NONNUMERIC)\n",
    "        field_names = next(reader) \n",
    "        for line in reader:\n",
    "            yield line\n",
    "            \n",
    "def read_records(file):\n",
    "    for line in read_csv(file):\n",
    "        yield Measurement(*line)          \n",
    "\n",
    "def vector_length(m: Measurement):\n",
    "    return sqrt(m.x * m.x + m.y * m.y + m.z * m.z)\n",
    "\n",
    "\n",
    "record_count = sum(1 for line in read_csv(input_file))\n",
    "print('number of records:', record_count)\n",
    "\n",
    "avg_length = sum(map(vector_length, read_records(input_file))) / record_count\n",
    "print('average length of vectors is: ', avg_length)\n",
    "\n",
    "min_humidity = min(map(lambda m: m.humidity, read_records(input_file)))\n",
    "print('min humidity: ', min_humidity, '%')\n",
    "\n",
    "max_humidity = max(map(lambda m: m.humidity, read_records(input_file)))\n",
    "print('max humidity: ', max_humidity, '%')"
   ]
  }
 ],
 "metadata": {
  "kernelspec": {
   "display_name": "Python 3 (ipykernel)",
   "language": "python",
   "name": "python3"
  },
  "language_info": {
   "codemirror_mode": {
    "name": "ipython",
    "version": 3
   },
   "file_extension": ".py",
   "mimetype": "text/x-python",
   "name": "python",
   "nbconvert_exporter": "python",
   "pygments_lexer": "ipython3",
   "version": "3.10.6"
  },
  "vscode": {
   "interpreter": {
    "hash": "7b25d2c9fa4339ca9c2d1c2c36fe6a22cc165ea5d14612a218506569477642ae"
   }
  }
 },
 "nbformat": 4,
 "nbformat_minor": 5
}
