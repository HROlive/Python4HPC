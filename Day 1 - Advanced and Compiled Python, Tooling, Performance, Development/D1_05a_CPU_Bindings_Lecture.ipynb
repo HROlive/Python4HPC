{
 "cells": [
  {
   "cell_type": "markdown",
   "id": "e2b6499c",
   "metadata": {},
   "source": [
    "# Bindings\n",
    "\n",
    "There are two good reason for leaving the Python universe and trying to reach into another one: Either there is already stable library that solves the problem significantly faster or there is good reason to believe that rewriting parts of a Python program in a compiled language yields performance benefits. The hurdles that have to be overcome in order to do this are __type marshaling__, __calling conventions__ and __memory management__. Concepts from one language often do not easily translate into those of other languages, therefore, depending on the languages that need to be glued together, the translation effort more or less severe. Fortunately, there are tools available that carry out the dirty work for the programmer."
   ]
  },
  {
   "cell_type": "markdown",
   "id": "9b4f4ee8",
   "metadata": {
    "tags": []
   },
   "source": [
    "## C Foreign Function Interface for Python (CFFI)\n",
    "\n",
    "[CFFI](https://cffi.readthedocs.io/en/latest/index.html) is primarliy used as an interface to pre-compiled shared objects, e.g. a domain-specific C-library that needs an easy-to-use Python wrapper. It does not require to learn a new wrapper language.\n",
    "The main modes in `cffi` are the API (application programming interface) and the ABI mode. Besides that there are two sub-modes: in-line and out-of-line mode.\n",
    "In the __API  mode__, a C wrapper for CPython is compiled and the targeted funtions are invoked directly. This is significantly faster than the __ABI mode__ and also makes use of the compiler's support. On the other hand, the ABI mode requries function calls to go through [libffi](https://sourceware.org/libffi/) which implies significant overhead. In the __in-line mode__, everything is set up each time the Python code is imported. In the __out-of-line__ mode, there are separate steps of preparation and compilation that produce a module which the main program can then import.\n",
    "\n",
    "* `ffi.cdef` parses the given C source and registers all the functions, types, constants and global variables in the C source\n",
    "* `ffi.cast` returns an instance of the C type initialized with the given value\n",
    "* `ffi.from_buffer` meant to be used on objects containing large quantities of raw data, e.g. numpy arrays\n",
    "* `ffi.set_source` prepares for producing out-of-line an external module\n",
    "* `ffi.dlopen` opens a shared library"
   ]
  },
  {
   "cell_type": "markdown",
   "id": "6dd4c8a7-cd5b-46d3-ace0-2198281a143e",
   "metadata": {
    "tags": []
   },
   "source": [
    "#### ABI in-line"
   ]
  },
  {
   "cell_type": "code",
   "execution_count": 1,
   "id": "c928baa6-9f7b-4bcb-8e5a-4ed370be8934",
   "metadata": {},
   "outputs": [
    {
     "name": "stdout",
     "output_type": "stream",
     "text": [
      "23.140677508263703\n",
      "1.4142135623730951\n"
     ]
    }
   ],
   "source": [
    "from cffi import FFI\n",
    "\n",
    "\n",
    "ffibuilder = FFI()\n",
    "ffibuilder.cdef(\"\"\"\n",
    "    double exp(double x);\n",
    "    double sqrt(double x);\n",
    "\"\"\")\n",
    "lib = ffibuilder.dlopen(\"libm.so.6\")\n",
    "\n",
    "\n",
    "expi = lib.exp(3.141592)\n",
    "sqrtwo = lib.sqrt(2.0)\n",
    "\n",
    "print(expi)\n",
    "print(sqrtwo)"
   ]
  },
  {
   "cell_type": "markdown",
   "id": "967e7272-5462-4919-9a59-1dee4872d921",
   "metadata": {
    "tags": []
   },
   "source": [
    "#### API out-of-line"
   ]
  },
  {
   "cell_type": "code",
   "execution_count": 2,
   "id": "8c604d2f-1155-4322-b248-9a9c1e857378",
   "metadata": {},
   "outputs": [
    {
     "name": "stdout",
     "output_type": "stream",
     "text": [
      "Writing bindings/cffi/dot_product_sqrt.c\n"
     ]
    }
   ],
   "source": [
    "%%writefile bindings/cffi/dot_product_sqrt.c\n",
    "\n",
    "# include <math.h>\n",
    "\n",
    "\n",
    "double dot_product_sqrt(double *v, double *w, int n) {\n",
    "  double p = 0.0;\n",
    "    \n",
    "  for (int i = 0; i < n; i++) {\n",
    "      p += v[i]*w[i];\n",
    "  }\n",
    "    \n",
    "  return sqrt(p);\n",
    "}"
   ]
  },
  {
   "cell_type": "code",
   "execution_count": 3,
   "id": "9ed7837f-a966-40da-97c4-8e434ccbd9ce",
   "metadata": {},
   "outputs": [
    {
     "name": "stdout",
     "output_type": "stream",
     "text": [
      "Writing bindings/cffi/dot_product_sqrt.h\n"
     ]
    }
   ],
   "source": [
    "%%writefile bindings/cffi/dot_product_sqrt.h\n",
    "\n",
    "double dot_product_sqrt(double *v, double *w, int n);"
   ]
  },
  {
   "cell_type": "code",
   "execution_count": 4,
   "id": "a59afd6a-b242-42e2-b5ea-867c4a8d8313",
   "metadata": {},
   "outputs": [
    {
     "name": "stdout",
     "output_type": "stream",
     "text": [
      "Writing bindings/cffi/dot_product_sqrt.py\n"
     ]
    }
   ],
   "source": [
    "%%writefile bindings/cffi/dot_product_sqrt.py\n",
    "\n",
    "from cffi import FFI\n",
    "ffibuilder = FFI()\n",
    "\n",
    "ffibuilder.cdef(\"double dot_product_sqrt(double *v, double *w, int n);\")\n",
    "\n",
    "ffibuilder.set_source(\"_dot_product_sqrt\",\n",
    "\"\"\"\n",
    "    #include \"dot_product_sqrt.h\"\n",
    "\"\"\",\n",
    "    sources=['dot_product_sqrt.c'],\n",
    "    libraries=['m']) \n",
    "\n",
    "if __name__ == \"__main__\":\n",
    "    ffibuilder.compile(verbose=True)"
   ]
  },
  {
   "cell_type": "code",
   "execution_count": 5,
   "id": "144e4455-d5dd-4e1b-aa9a-84a9c18dd10d",
   "metadata": {},
   "outputs": [
    {
     "name": "stdout",
     "output_type": "stream",
     "text": [
      "generating ./_dot_product_sqrt.c\n",
      "the current directory is '/home/fs70824/trainee19/python4hpc/bindings/cffi'\n",
      "running build_ext\n",
      "building '_dot_product_sqrt' extension\n",
      "/opt/sw/spack-0.12.1/opt/spack/linux-centos7-x86_64/gcc-9.1.0/gcc-10.2.0-2aa5hfe7om4udww5qqzk4rdgzggt4w2t/bin/gcc -Wno-unused-result -Wsign-compare -DNDEBUG -fwrapv -O2 -Wall -fPIC -O2 -isystem /opt/sw/vsc4/VSC/x86_64/generic/jupyterhub-envs/conda/envs/jupyterhub-dask/include -fPIC -O2 -isystem /opt/sw/vsc4/VSC/x86_64/generic/jupyterhub-envs/conda/envs/jupyterhub-dask/include -fPIC -I/opt/sw/vsc4/VSC/x86_64/generic/jupyterhub-envs/conda/envs/jupyterhub-dask/include/python3.10 -c _dot_product_sqrt.c -o ./_dot_product_sqrt.o\n",
      "/opt/sw/spack-0.12.1/opt/spack/linux-centos7-x86_64/gcc-9.1.0/gcc-10.2.0-2aa5hfe7om4udww5qqzk4rdgzggt4w2t/bin/gcc -Wno-unused-result -Wsign-compare -DNDEBUG -fwrapv -O2 -Wall -fPIC -O2 -isystem /opt/sw/vsc4/VSC/x86_64/generic/jupyterhub-envs/conda/envs/jupyterhub-dask/include -fPIC -O2 -isystem /opt/sw/vsc4/VSC/x86_64/generic/jupyterhub-envs/conda/envs/jupyterhub-dask/include -fPIC -I/opt/sw/vsc4/VSC/x86_64/generic/jupyterhub-envs/conda/envs/jupyterhub-dask/include/python3.10 -c dot_product_sqrt.c -o ./dot_product_sqrt.o\n",
      "/opt/sw/spack-0.12.1/opt/spack/linux-centos7-x86_64/gcc-9.1.0/gcc-10.2.0-2aa5hfe7om4udww5qqzk4rdgzggt4w2t/bin/gcc -shared -Wl,--allow-shlib-undefined -Wl,-rpath,/opt/sw/vsc4/VSC/x86_64/generic/jupyterhub-envs/conda/envs/jupyterhub-dask/lib -Wl,-rpath-link,/opt/sw/vsc4/VSC/x86_64/generic/jupyterhub-envs/conda/envs/jupyterhub-dask/lib -L/opt/sw/vsc4/VSC/x86_64/generic/jupyterhub-envs/conda/envs/jupyterhub-dask/lib -Wl,--allow-shlib-undefined -Wl,-rpath,/opt/sw/vsc4/VSC/x86_64/generic/jupyterhub-envs/conda/envs/jupyterhub-dask/lib -Wl,-rpath-link,/opt/sw/vsc4/VSC/x86_64/generic/jupyterhub-envs/conda/envs/jupyterhub-dask/lib -L/opt/sw/vsc4/VSC/x86_64/generic/jupyterhub-envs/conda/envs/jupyterhub-dask/lib ./_dot_product_sqrt.o ./dot_product_sqrt.o -lm -o ./_dot_product_sqrt.cpython-310-x86_64-linux-gnu.so\n"
     ]
    }
   ],
   "source": [
    "! cd bindings/cffi; python3 dot_product_sqrt.py"
   ]
  },
  {
   "cell_type": "code",
   "execution_count": 6,
   "id": "65af216b-b5ca-463b-8fe8-5264bc0692b2",
   "metadata": {},
   "outputs": [
    {
     "name": "stdout",
     "output_type": "stream",
     "text": [
      "Writing bindings/cffi/main.py\n"
     ]
    }
   ],
   "source": [
    "%%writefile bindings/cffi/main.py\n",
    "\n",
    "import numpy as np\n",
    "from _dot_product_sqrt import ffi, lib\n",
    "\n",
    "\n",
    "n = 10\n",
    "v = np.ones(n)\n",
    "w = np.ones_like(v)\n",
    "\n",
    "vptr = ffi.cast(\"double *\", ffi.from_buffer(v))\n",
    "wptr = ffi.cast(\"double *\", ffi.from_buffer(w))\n",
    "res = lib.dot_product_sqrt(vptr, wptr, n)\n",
    "\n",
    "print(\"sqrt(a*b) = \", res)"
   ]
  },
  {
   "cell_type": "code",
   "execution_count": 7,
   "id": "d210105a-7389-48d8-afef-d125726ebe23",
   "metadata": {},
   "outputs": [
    {
     "name": "stdout",
     "output_type": "stream",
     "text": [
      "sqrt(a*b) =  3.1622776601683795\n"
     ]
    }
   ],
   "source": [
    "! cd bindings/cffi; python3 main.py"
   ]
  },
  {
   "cell_type": "markdown",
   "id": "cde29ca8",
   "metadata": {
    "tags": []
   },
   "source": [
    "## Cython\n",
    "\n",
    "Cython, as described in another chapter, is both a programming language and a transpiler that translates Python Code into either C or C++. Conveniently, this gives it also the capability to wrap external C libraries with cythonic wrappers that essentially look like Cython programs. With relatively little effort, Cython wrappers deliver Python-friendly interfaces with minimal wrapper overhead that call external C libraries and make use of their performance. \n",
    "\n",
    "\n",
    "* `cdef` Cython functions that are intended to be pure C functions, all types must be declared\n",
    "* `cimport` Used to import C data types, C functions, variables, and extension types\n",
    "\n",
    "\n",
    "__References__\n",
    "* Cython: A Guide for Python Programmers (2015) by Kurt Smith\n",
    "* [Cython - Using C libraries](https://cython.readthedocs.io/en/stable/src/tutorial/clibraries.html)"
   ]
  },
  {
   "cell_type": "code",
   "execution_count": 8,
   "id": "3f78515d-2fe4-4788-a745-1e1da91dd311",
   "metadata": {},
   "outputs": [],
   "source": [
    "%load_ext cython"
   ]
  },
  {
   "cell_type": "code",
   "execution_count": 9,
   "id": "f1b9f68a-162e-409b-bf21-33432a0c0703",
   "metadata": {},
   "outputs": [
    {
     "name": "stdout",
     "output_type": "stream",
     "text": [
      "Writing bindings/cython/dot_product_sqrt.c\n"
     ]
    }
   ],
   "source": [
    "%%writefile bindings/cython/dot_product_sqrt.c\n",
    "\n",
    "# include <math.h>\n",
    "\n",
    "\n",
    "double dot_product_sqrt(double *v, double *w, int n) {\n",
    "  double p = 0.0;\n",
    "    \n",
    "  for (int i = 0; i < n; i++) {\n",
    "      p += v[i]*w[i];\n",
    "  }\n",
    "    \n",
    "  return sqrt(p);\n",
    "}"
   ]
  },
  {
   "cell_type": "code",
   "execution_count": 10,
   "id": "644c10b7-279d-41e8-9ea0-4c5e19a80c6a",
   "metadata": {},
   "outputs": [
    {
     "name": "stdout",
     "output_type": "stream",
     "text": [
      "Writing bindings/cython/dot_product_sqrt.h\n"
     ]
    }
   ],
   "source": [
    "%%writefile bindings/cython/dot_product_sqrt.h\n",
    "\n",
    "double dot_product_sqrt(double *v, double *w, int n);"
   ]
  },
  {
   "cell_type": "code",
   "execution_count": 11,
   "id": "e8a6d893-bd6b-4aa0-bfcc-0522e9267ec8",
   "metadata": {},
   "outputs": [
    {
     "name": "stdout",
     "output_type": "stream",
     "text": [
      "Writing bindings/cython/c_dot_product_sqrt.pxd\n"
     ]
    }
   ],
   "source": [
    "%%writefile bindings/cython/c_dot_product_sqrt.pxd\n",
    "\n",
    "# cdefine of C function signature\n",
    "cdef extern from \"dot_product_sqrt.h\":\n",
    "    double dot_product_sqrt (double *v, double *w, int n)"
   ]
  },
  {
   "cell_type": "code",
   "execution_count": 12,
   "id": "19018585-6b04-4647-b08d-226e16350231",
   "metadata": {},
   "outputs": [
    {
     "name": "stdout",
     "output_type": "stream",
     "text": [
      "Writing bindings/cython/py_dot_product_sqrt.pyx\n"
     ]
    }
   ],
   "source": [
    "%%writefile bindings/cython/py_dot_product_sqrt.pyx\n",
    "\n",
    "from c_dot_product_sqrt cimport dot_product_sqrt # import declarations from *.pxd\n",
    "cimport numpy as np # Cython declarations for numpy\n",
    "np.import_array() # Cython Numpy-C-API\n",
    "\n",
    "\n",
    "# wrapper code with numpy type annotations\n",
    "def dot_product_sqrt_py(np.ndarray[double, ndim=1, mode=\"c\"] v not None,\n",
    "                        np.ndarray[double, ndim=1, mode=\"c\"] w not None):\n",
    "    return dot_product_sqrt(&v[0], &w[0], v.shape[0])"
   ]
  },
  {
   "cell_type": "code",
   "execution_count": 13,
   "id": "f316e86d-282f-4e75-a32a-b1d2a81bbed9",
   "metadata": {},
   "outputs": [
    {
     "name": "stdout",
     "output_type": "stream",
     "text": [
      "Writing bindings/cython/setup.py\n"
     ]
    }
   ],
   "source": [
    "%%writefile bindings/cython/setup.py\n",
    "\n",
    "import numpy as np\n",
    "from distutils.core import setup\n",
    "from distutils.extension import Extension\n",
    "from Cython.Build import cythonize\n",
    "\n",
    "\n",
    "sourcefiles = [\"py_dot_product_sqrt.pyx\", \"dot_product_sqrt.c\"]\n",
    "extensions = [Extension(\"dot_product_sqrt\", sourcefiles, include_dirs=[np.get_include()])]\n",
    "\n",
    "setup(\n",
    "    ext_modules=cythonize(extensions),\n",
    "    include_dirs=[np.get_include()]\n",
    ")"
   ]
  },
  {
   "cell_type": "code",
   "execution_count": 14,
   "id": "abdcbae2-b9ff-4bdb-890c-a42a563670c4",
   "metadata": {},
   "outputs": [
    {
     "name": "stdout",
     "output_type": "stream",
     "text": [
      "Compiling py_dot_product_sqrt.pyx because it changed.\n",
      "[1/1] Cythonizing py_dot_product_sqrt.pyx\n",
      "/opt/sw/vsc4/VSC/x86_64/generic/jupyterhub-envs/conda/envs/jupyterhub-dask/lib/python3.10/site-packages/Cython/Compiler/Main.py:369: FutureWarning: Cython directive 'language_level' not set, using 2 for now (Py2). This will change in a later release! File: /home/fs70824/trainee19/python4hpc/bindings/cython/py_dot_product_sqrt.pyx\n",
      "  tree = Parsing.p_module(s, pxd, full_module_name)\n",
      "running build_ext\n",
      "building 'dot_product_sqrt' extension\n",
      "creating build\n",
      "creating build/temp.linux-x86_64-cpython-310\n",
      "/opt/sw/spack-0.12.1/opt/spack/linux-centos7-x86_64/gcc-9.1.0/gcc-10.2.0-2aa5hfe7om4udww5qqzk4rdgzggt4w2t/bin/gcc -Wno-unused-result -Wsign-compare -DNDEBUG -fwrapv -O2 -Wall -fPIC -O2 -isystem /opt/sw/vsc4/VSC/x86_64/generic/jupyterhub-envs/conda/envs/jupyterhub-dask/include -fPIC -O2 -isystem /opt/sw/vsc4/VSC/x86_64/generic/jupyterhub-envs/conda/envs/jupyterhub-dask/include -fPIC -I. -I/opt/sw/vsc4/VSC/x86_64/generic/jupyterhub-envs/conda/envs/jupyterhub-dask/lib/python3.10/site-packages/numpy/core/include -I/opt/sw/vsc4/VSC/x86_64/generic/jupyterhub-envs/conda/envs/jupyterhub-dask/lib/python3.10/site-packages/numpy/core/include -I/opt/sw/vsc4/VSC/x86_64/generic/jupyterhub-envs/conda/envs/jupyterhub-dask/include/python3.10 -c dot_product_sqrt.c -o build/temp.linux-x86_64-cpython-310/dot_product_sqrt.o\n",
      "/opt/sw/spack-0.12.1/opt/spack/linux-centos7-x86_64/gcc-9.1.0/gcc-10.2.0-2aa5hfe7om4udww5qqzk4rdgzggt4w2t/bin/gcc -Wno-unused-result -Wsign-compare -DNDEBUG -fwrapv -O2 -Wall -fPIC -O2 -isystem /opt/sw/vsc4/VSC/x86_64/generic/jupyterhub-envs/conda/envs/jupyterhub-dask/include -fPIC -O2 -isystem /opt/sw/vsc4/VSC/x86_64/generic/jupyterhub-envs/conda/envs/jupyterhub-dask/include -fPIC -I. -I/opt/sw/vsc4/VSC/x86_64/generic/jupyterhub-envs/conda/envs/jupyterhub-dask/lib/python3.10/site-packages/numpy/core/include -I/opt/sw/vsc4/VSC/x86_64/generic/jupyterhub-envs/conda/envs/jupyterhub-dask/lib/python3.10/site-packages/numpy/core/include -I/opt/sw/vsc4/VSC/x86_64/generic/jupyterhub-envs/conda/envs/jupyterhub-dask/include/python3.10 -c py_dot_product_sqrt.c -o build/temp.linux-x86_64-cpython-310/py_dot_product_sqrt.o\n",
      "In file included from \u001b[01m\u001b[K/opt/sw/vsc4/VSC/x86_64/generic/jupyterhub-envs/conda/envs/jupyterhub-dask/lib/python3.10/site-packages/numpy/core/include/numpy/ndarraytypes.h:1960\u001b[m\u001b[K,\n",
      "                 from \u001b[01m\u001b[K/opt/sw/vsc4/VSC/x86_64/generic/jupyterhub-envs/conda/envs/jupyterhub-dask/lib/python3.10/site-packages/numpy/core/include/numpy/ndarrayobject.h:12\u001b[m\u001b[K,\n",
      "                 from \u001b[01m\u001b[K/opt/sw/vsc4/VSC/x86_64/generic/jupyterhub-envs/conda/envs/jupyterhub-dask/lib/python3.10/site-packages/numpy/core/include/numpy/arrayobject.h:5\u001b[m\u001b[K,\n",
      "                 from \u001b[01m\u001b[Kpy_dot_product_sqrt.c:772\u001b[m\u001b[K:\n",
      "\u001b[01m\u001b[K/opt/sw/vsc4/VSC/x86_64/generic/jupyterhub-envs/conda/envs/jupyterhub-dask/lib/python3.10/site-packages/numpy/core/include/numpy/npy_1_7_deprecated_api.h:17:2:\u001b[m\u001b[K \u001b[01;35m\u001b[Kwarning: \u001b[m\u001b[K#warning \"Using deprecated NumPy API, disable it with \" \"#define NPY_NO_DEPRECATED_API NPY_1_7_API_VERSION\" [\u001b[01;35m\u001b[K\u001b]8;;https://gcc.gnu.org/onlinedocs/gcc/Warning-Options.html#index-Wcpp\u0007-Wcpp\u001b]8;;\u0007\u001b[m\u001b[K]\n",
      "   17 | #\u001b[01;35m\u001b[Kwarning\u001b[m\u001b[K \"Using deprecated NumPy API, disable it with \" \\\n",
      "      |  \u001b[01;35m\u001b[K^~~~~~~\u001b[m\u001b[K\n",
      "creating build/lib.linux-x86_64-cpython-310\n",
      "/opt/sw/spack-0.12.1/opt/spack/linux-centos7-x86_64/gcc-9.1.0/gcc-10.2.0-2aa5hfe7om4udww5qqzk4rdgzggt4w2t/bin/gcc -shared -Wl,--allow-shlib-undefined -Wl,-rpath,/opt/sw/vsc4/VSC/x86_64/generic/jupyterhub-envs/conda/envs/jupyterhub-dask/lib -Wl,-rpath-link,/opt/sw/vsc4/VSC/x86_64/generic/jupyterhub-envs/conda/envs/jupyterhub-dask/lib -L/opt/sw/vsc4/VSC/x86_64/generic/jupyterhub-envs/conda/envs/jupyterhub-dask/lib -Wl,--allow-shlib-undefined -Wl,-rpath,/opt/sw/vsc4/VSC/x86_64/generic/jupyterhub-envs/conda/envs/jupyterhub-dask/lib -Wl,-rpath-link,/opt/sw/vsc4/VSC/x86_64/generic/jupyterhub-envs/conda/envs/jupyterhub-dask/lib -L/opt/sw/vsc4/VSC/x86_64/generic/jupyterhub-envs/conda/envs/jupyterhub-dask/lib build/temp.linux-x86_64-cpython-310/dot_product_sqrt.o build/temp.linux-x86_64-cpython-310/py_dot_product_sqrt.o -o build/lib.linux-x86_64-cpython-310/dot_product_sqrt.cpython-310-x86_64-linux-gnu.so\n",
      "copying build/lib.linux-x86_64-cpython-310/dot_product_sqrt.cpython-310-x86_64-linux-gnu.so -> \n"
     ]
    }
   ],
   "source": [
    "! cd bindings/cython ; python3 setup.py build_ext --inplace"
   ]
  },
  {
   "cell_type": "code",
   "execution_count": 15,
   "id": "0540909b-8372-4c6b-af12-d3cf5def6a08",
   "metadata": {},
   "outputs": [
    {
     "name": "stdout",
     "output_type": "stream",
     "text": [
      "Writing bindings/cython/main.py\n"
     ]
    }
   ],
   "source": [
    "%%writefile bindings/cython/main.py\n",
    "\n",
    "import numpy as np\n",
    "from dot_product_sqrt import dot_product_sqrt_py\n",
    "\n",
    "\n",
    "n = 10\n",
    "v = np.ones(n)\n",
    "w = np.ones_like(v)\n",
    "\n",
    "res = dot_product_sqrt_py(v, w)\n",
    "\n",
    "print(\"sqrt(a*b) = \", res)"
   ]
  },
  {
   "cell_type": "code",
   "execution_count": 16,
   "id": "a9c382d6-83ec-45eb-aed6-b1f549464a46",
   "metadata": {},
   "outputs": [
    {
     "name": "stdout",
     "output_type": "stream",
     "text": [
      "sqrt(a*b) =  3.1622776601683795\n"
     ]
    }
   ],
   "source": [
    "! cd bindings/cython ; python3 main.py"
   ]
  },
  {
   "cell_type": "markdown",
   "id": "8011fde3-a213-4a63-9611-c6f3b8ffd133",
   "metadata": {
    "tags": []
   },
   "source": [
    "## f2py - Fortran to Python interface generator\n",
    "\n",
    "The gold standard for scientific applications in many domains is still (modern) Fortran; therefore binding Python to Fortran or developing a Python wrapper for Fortran modules might come in handy. [f2py](https://numpy.org/doc/stable/f2py/), which is part of NumPy, generates a Python C/API files that contain wrappers forgiven fortran functions so that they can be called from Python.\n",
    "\n",
    "Specifically, the following Fortran functions and structures are supported:\n",
    "* Fortran 77/90/95 external subroutines\n",
    "* Fortran 90/95 module subroutines\n",
    "* C functions\n",
    "* Fortran 77 COMMON blocks\n",
    "* Fortran 90/95 module data\n",
    "* allocatable arrays\n",
    "\n",
    "However, Modern Fortran, i.e. Fortran 2003 and newer, supports interoperability with C in a standardized way using the `iso_c_binding` module. This opens up the possibility to use Fortran from Python through a C interface provided by CFFI or Cython. Naturally, this requires extra C code and there is no automatic tool yet.\n",
    "\n",
    "\n",
    "___References___\n",
    "* [Interfacing Modern Fortran with Python](https://www.fortran90.org/src/best-practices.html#interfacing-with-python)\n",
    "* [f2py Reference Manual](https://numpy.org/doc/stable/f2py/index.html)"
   ]
  },
  {
   "cell_type": "code",
   "execution_count": 17,
   "id": "497d0f48-1923-4b10-bbf7-99c5730cf5fb",
   "metadata": {},
   "outputs": [
    {
     "name": "stdout",
     "output_type": "stream",
     "text": [
      "Writing bindings/f2py/fibonacci.f90\n"
     ]
    }
   ],
   "source": [
    "%%writefile bindings/f2py/fibonacci.f90\n",
    "\n",
    "subroutine fib(a,n)\n",
    "    integer, intent(in) :: n\n",
    "    integer :: i\n",
    "    real(8) :: a(n)\n",
    "    do i=1, n\n",
    "        if (i==1) then\n",
    "            a(i) = 0.0d0\n",
    "        else if (i==2) then\n",
    "            a(i) = 1.0d0\n",
    "        else\n",
    "            a(i) = a(i-1) + a(i-2)\n",
    "        end if\n",
    "    end do\n",
    "end subroutine"
   ]
  },
  {
   "cell_type": "code",
   "execution_count": 18,
   "id": "2f5be135-d07a-4dd4-8b4f-34a4c1faf6d9",
   "metadata": {
    "tags": []
   },
   "outputs": [
    {
     "name": "stdout",
     "output_type": "stream",
     "text": [
      "\u001b[36mNo `name` configuration, performing automatic discovery\u001b[0m\n",
      "\u001b[39mrunning build\u001b[0m\n",
      "\u001b[39mrunning config_cc\u001b[0m\n",
      "\u001b[39mINFO: unifing config_cc, config, build_clib, build_ext, build commands --compiler options\u001b[0m\n",
      "\u001b[39mrunning config_fc\u001b[0m\n",
      "\u001b[39mINFO: unifing config_fc, config, build_clib, build_ext, build commands --fcompiler options\u001b[0m\n",
      "\u001b[39mrunning build_src\u001b[0m\n",
      "\u001b[39mINFO: build_src\u001b[0m\n",
      "\u001b[39mINFO: building extension \"fibm\" sources\u001b[0m\n",
      "\u001b[39mINFO: f2py options: []\u001b[0m\n",
      "\u001b[39mINFO: f2py:> ./src.linux-x86_64-3.10/fibmmodule.c\u001b[0m\n",
      "\u001b[39mcreating src.linux-x86_64-3.10\u001b[0m\n",
      "Reading fortran codes...\n",
      "\tReading file 'fibonacci.f90' (format:free)\n",
      "Post-processing...\n",
      "\tBlock: fibm\n",
      "\t\t\tBlock: fib\n",
      "Post-processing (stage 2)...\n",
      "Building modules...\n",
      "    Building module \"fibm\"...\n",
      "        Constructing wrapper function \"fib\"...\n",
      "          fib(a,[n])\n",
      "    Wrote C/API module \"fibm\" to file \"./src.linux-x86_64-3.10/fibmmodule.c\"\n",
      "\u001b[39mINFO:   adding './src.linux-x86_64-3.10/./src.linux-x86_64-3.10/fortranobject.c' to sources.\u001b[0m\n",
      "\u001b[39mINFO:   adding './src.linux-x86_64-3.10/./src.linux-x86_64-3.10' to include_dirs.\u001b[0m\n",
      "\u001b[39mcreating src.linux-x86_64-3.10/src.linux-x86_64-3.10\u001b[0m\n",
      "\u001b[39mcopying /opt/sw/vsc4/VSC/x86_64/generic/jupyterhub-envs/conda/envs/jupyterhub-dask/lib/python3.10/site-packages/numpy/f2py/src/fortranobject.c -> ./src.linux-x86_64-3.10/./src.linux-x86_64-3.10\u001b[0m\n",
      "\u001b[39mcopying /opt/sw/vsc4/VSC/x86_64/generic/jupyterhub-envs/conda/envs/jupyterhub-dask/lib/python3.10/site-packages/numpy/f2py/src/fortranobject.h -> ./src.linux-x86_64-3.10/./src.linux-x86_64-3.10\u001b[0m\n",
      "\u001b[39mINFO: build_src: building npy-pkg config files\u001b[0m\n",
      "/opt/sw/vsc4/VSC/x86_64/generic/jupyterhub-envs/conda/envs/jupyterhub-dask/lib/python3.10/site-packages/setuptools/command/install.py:34: SetuptoolsDeprecationWarning: setup.py install is deprecated. Use build and pip and other standards-based tools.\n",
      "  warnings.warn(\n",
      "\u001b[39mrunning build_ext\u001b[0m\n",
      "\u001b[36mDEBUG: new_compiler returns <class 'distutils.unixccompiler.UnixCCompiler'>\u001b[0m\n",
      "\u001b[39mINFO: customize UnixCCompiler\u001b[0m\n",
      "\u001b[39mINFO: customize UnixCCompiler using build_ext\u001b[0m\n",
      "********************************************************************************\n",
      "<class 'distutils.unixccompiler.UnixCCompiler'>\n",
      "preprocessor  = ['/opt/sw/spack-0.12.1/opt/spack/linux-centos7-x86_64/gcc-9.1.0/gcc-10.2.0-2aa5hfe7om4udww5qqzk4rdgzggt4w2t/bin/gcc', '-E']\n",
      "compiler      = ['/opt/sw/spack-0.12.1/opt/spack/linux-centos7-x86_64/gcc-9.1.0/gcc-10.2.0-2aa5hfe7om4udww5qqzk4rdgzggt4w2t/bin/gcc', '-Wno-unused-result', '-Wsign-compare', '-DNDEBUG', '-fwrapv', '-O2', '-Wall', '-fPIC', '-O2', '-isystem', '/opt/sw/vsc4/VSC/x86_64/generic/jupyterhub-envs/conda/envs/jupyterhub-dask/include', '-fPIC', '-O2', '-isystem', '/opt/sw/vsc4/VSC/x86_64/generic/jupyterhub-envs/conda/envs/jupyterhub-dask/include']\n",
      "compiler_so   = ['/opt/sw/spack-0.12.1/opt/spack/linux-centos7-x86_64/gcc-9.1.0/gcc-10.2.0-2aa5hfe7om4udww5qqzk4rdgzggt4w2t/bin/gcc', '-Wno-unused-result', '-Wsign-compare', '-DNDEBUG', '-fwrapv', '-O2', '-Wall', '-fPIC', '-O2', '-isystem', '/opt/sw/vsc4/VSC/x86_64/generic/jupyterhub-envs/conda/envs/jupyterhub-dask/include', '-fPIC', '-O2', '-isystem', '/opt/sw/vsc4/VSC/x86_64/generic/jupyterhub-envs/conda/envs/jupyterhub-dask/include', '-fPIC']\n",
      "compiler_cxx  = ['/opt/sw/spack-0.12.1/opt/spack/linux-centos7-x86_64/gcc-9.1.0/gcc-10.2.0-2aa5hfe7om4udww5qqzk4rdgzggt4w2t/bin/g++']\n",
      "linker_so     = ['/opt/sw/spack-0.12.1/opt/spack/linux-centos7-x86_64/gcc-9.1.0/gcc-10.2.0-2aa5hfe7om4udww5qqzk4rdgzggt4w2t/bin/gcc', '-shared', '-Wl,--allow-shlib-undefined', '-Wl,-rpath,/opt/sw/vsc4/VSC/x86_64/generic/jupyterhub-envs/conda/envs/jupyterhub-dask/lib', '-Wl,-rpath-link,/opt/sw/vsc4/VSC/x86_64/generic/jupyterhub-envs/conda/envs/jupyterhub-dask/lib', '-L/opt/sw/vsc4/VSC/x86_64/generic/jupyterhub-envs/conda/envs/jupyterhub-dask/lib', '-Wl,--allow-shlib-undefined', '-Wl,-rpath,/opt/sw/vsc4/VSC/x86_64/generic/jupyterhub-envs/conda/envs/jupyterhub-dask/lib', '-Wl,-rpath-link,/opt/sw/vsc4/VSC/x86_64/generic/jupyterhub-envs/conda/envs/jupyterhub-dask/lib', '-L/opt/sw/vsc4/VSC/x86_64/generic/jupyterhub-envs/conda/envs/jupyterhub-dask/lib']\n",
      "linker_exe    = ['/opt/sw/spack-0.12.1/opt/spack/linux-centos7-x86_64/gcc-9.1.0/gcc-10.2.0-2aa5hfe7om4udww5qqzk4rdgzggt4w2t/bin/gcc']\n",
      "archiver      = ['ar', 'rcs']\n",
      "ranlib        = None\n",
      "libraries     = []\n",
      "library_dirs  = []\n",
      "include_dirs  = ['/opt/sw/vsc4/VSC/x86_64/generic/jupyterhub-envs/conda/envs/jupyterhub-dask/include/python3.10']\n",
      "********************************************************************************\n",
      "\u001b[39mINFO: get_default_fcompiler: matching types: '['arm', 'gnu95', 'intel', 'lahey', 'pg', 'nv', 'absoft', 'nag', 'vast', 'compaq', 'intele', 'intelem', 'gnu', 'g95', 'pathf95', 'nagfor', 'fujitsu']'\u001b[0m\n",
      "\u001b[39mINFO: customize ArmFlangCompiler\u001b[0m\n",
      "\u001b[36mDEBUG: find_executable('/opt/sw/spack-0.12.1/opt/spack/linux-centos7-x86_64/gcc-9.1.0/gcc-10.2.0-2aa5hfe7om4udww5qqzk4rdgzggt4w2t/bin/gfortran')\u001b[0m\n",
      "\u001b[39mINFO: Found executable /opt/sw/spack-0.12.1/opt/spack/linux-centos7-x86_64/gcc-9.1.0/gcc-10.2.0-2aa5hfe7om4udww5qqzk4rdgzggt4w2t/bin/gfortran\u001b[0m\n",
      "\u001b[36mDEBUG: find_executable('armflang')\u001b[0m\n",
      "\u001b[31mWARN: Could not locate executable armflang\u001b[0m\n",
      "\u001b[36mDEBUG: _find_existing_fcompiler: compiler_type='arm' not found\u001b[0m\n",
      "\u001b[39mINFO: customize Gnu95FCompiler\u001b[0m\n",
      "\u001b[36mDEBUG: find_executable('gfortran')\u001b[0m\n",
      "\u001b[39mINFO: Found executable /opt/sw/spack-0.12.1/opt/spack/linux-centos7-x86_64/gcc-9.1.0/gcc-10.2.0-2aa5hfe7om4udww5qqzk4rdgzggt4w2t/bin/gfortran\u001b[0m\n",
      "\u001b[39mINFO: customize Gnu95FCompiler\u001b[0m\n",
      "\u001b[39mINFO: customize Gnu95FCompiler using build_ext\u001b[0m\n",
      "********************************************************************************\n",
      "<class 'numpy.distutils.fcompiler.gnu.Gnu95FCompiler'>\n",
      "version_cmd     = ['/opt/sw/spack-0.12.1/opt/spack/linux-centos7-x86_64/gcc-9.1.0/gcc-10.2.0-2aa5hfe7om4udww5qqzk4rdgzggt4w2t/bin/gfortran', '-dumpversion']\n",
      "compiler_f77    = ['/opt/sw/spack-0.12.1/opt/spack/linux-centos7-x86_64/gcc-9.1.0/gcc-10.2.0-2aa5hfe7om4udww5qqzk4rdgzggt4w2t/bin/gfortran', '-Wall', '-g', '-ffixed-form', '-fno-second-underscore', '-fPIC', '-O3', '-funroll-loops']\n",
      "compiler_f90    = ['/opt/sw/spack-0.12.1/opt/spack/linux-centos7-x86_64/gcc-9.1.0/gcc-10.2.0-2aa5hfe7om4udww5qqzk4rdgzggt4w2t/bin/gfortran', '-Wall', '-g', '-fno-second-underscore', '-fPIC', '-O3', '-funroll-loops']\n",
      "compiler_fix    = ['/opt/sw/spack-0.12.1/opt/spack/linux-centos7-x86_64/gcc-9.1.0/gcc-10.2.0-2aa5hfe7om4udww5qqzk4rdgzggt4w2t/bin/gfortran', '-Wall', '-g', '-ffixed-form', '-fno-second-underscore', '-Wall', '-g', '-fno-second-underscore', '-fPIC', '-O3', '-funroll-loops']\n",
      "linker_so       = ['/opt/sw/spack-0.12.1/opt/spack/linux-centos7-x86_64/gcc-9.1.0/gcc-10.2.0-2aa5hfe7om4udww5qqzk4rdgzggt4w2t/bin/gfortran', '-Wall', '-g', '-Wall', '-g', '-shared']\n",
      "archiver        = ['/opt/sw/spack-0.12.1/opt/spack/linux-centos7-x86_64/gcc-9.1.0/gcc-10.2.0-2aa5hfe7om4udww5qqzk4rdgzggt4w2t/bin/gfortran', '-cr']\n",
      "ranlib          = ['/opt/sw/spack-0.12.1/opt/spack/linux-centos7-x86_64/gcc-9.1.0/gcc-10.2.0-2aa5hfe7om4udww5qqzk4rdgzggt4w2t/bin/gfortran']\n",
      "linker_exe      = ['/opt/sw/spack-0.12.1/opt/spack/linux-centos7-x86_64/gcc-9.1.0/gcc-10.2.0-2aa5hfe7om4udww5qqzk4rdgzggt4w2t/bin/gfortran', '-Wall', '-Wall']\n",
      "version         = LooseVersion ('10.2.0')\n",
      "libraries       = ['gfortran']\n",
      "library_dirs    = ['/opt/sw/spack-0.12.1/opt/spack/linux-centos7-x86_64/gcc-9.1.0/gcc-10.2.0-2aa5hfe7om4udww5qqzk4rdgzggt4w2t/lib64/../lib64', '/opt/sw/spack-0.12.1/opt/spack/linux-centos7-x86_64/gcc-9.1.0/gcc-10.2.0-2aa5hfe7om4udww5qqzk4rdgzggt4w2t/lib64/../lib64']\n",
      "object_switch   = '-o '\n",
      "compile_switch  = '-c'\n",
      "include_dirs    = ['/opt/sw/vsc4/VSC/x86_64/generic/jupyterhub-envs/conda/envs/jupyterhub-dask/include/python3.10']\n",
      "********************************************************************************\n",
      "\u001b[39mINFO: building 'fibm' extension\u001b[0m\n",
      "\u001b[39mINFO: compiling C sources\u001b[0m\n",
      "\u001b[39mINFO: C compiler: /opt/sw/spack-0.12.1/opt/spack/linux-centos7-x86_64/gcc-9.1.0/gcc-10.2.0-2aa5hfe7om4udww5qqzk4rdgzggt4w2t/bin/gcc -Wno-unused-result -Wsign-compare -DNDEBUG -fwrapv -O2 -Wall -fPIC -O2 -isystem /opt/sw/vsc4/VSC/x86_64/generic/jupyterhub-envs/conda/envs/jupyterhub-dask/include -fPIC -O2 -isystem /opt/sw/vsc4/VSC/x86_64/generic/jupyterhub-envs/conda/envs/jupyterhub-dask/include -fPIC\n",
      "\u001b[0m\n",
      "\u001b[39mINFO: compile options: '-DNPY_DISABLE_OPTIMIZATION=1 -I./src.linux-x86_64-3.10/./src.linux-x86_64-3.10 -I/opt/sw/vsc4/VSC/x86_64/generic/jupyterhub-envs/conda/envs/jupyterhub-dask/lib/python3.10/site-packages/numpy/core/include -I/opt/sw/vsc4/VSC/x86_64/generic/jupyterhub-envs/conda/envs/jupyterhub-dask/include/python3.10 -c'\u001b[0m\n",
      "\u001b[39mINFO: gcc: ./src.linux-x86_64-3.10/fibmmodule.c\u001b[0m\n",
      "\u001b[39mINFO: gcc: ./src.linux-x86_64-3.10/./src.linux-x86_64-3.10/fortranobject.c\u001b[0m\n",
      "In file included from \u001b[01m\u001b[K/opt/sw/vsc4/VSC/x86_64/generic/jupyterhub-envs/conda/envs/jupyterhub-dask/lib/python3.10/site-packages/numpy/core/include/numpy/ndarraytypes.h:1960\u001b[m\u001b[K,\n",
      "                 from \u001b[01m\u001b[K/opt/sw/vsc4/VSC/x86_64/generic/jupyterhub-envs/conda/envs/jupyterhub-dask/lib/python3.10/site-packages/numpy/core/include/numpy/ndarrayobject.h:12\u001b[m\u001b[K,\n",
      "                 from \u001b[01m\u001b[K/opt/sw/vsc4/VSC/x86_64/generic/jupyterhub-envs/conda/envs/jupyterhub-dask/lib/python3.10/site-packages/numpy/core/include/numpy/arrayobject.h:5\u001b[m\u001b[K,\n",
      "                 from \u001b[01m\u001b[K./src.linux-x86_64-3.10/./src.linux-x86_64-3.10/fortranobject.h:13\u001b[m\u001b[K,\n",
      "                 from \u001b[01m\u001b[K./src.linux-x86_64-3.10/fibmmodule.c:20\u001b[m\u001b[K:\n",
      "\u001b[01m\u001b[K/opt/sw/vsc4/VSC/x86_64/generic/jupyterhub-envs/conda/envs/jupyterhub-dask/lib/python3.10/site-packages/numpy/core/include/numpy/npy_1_7_deprecated_api.h:17:2:\u001b[m\u001b[K \u001b[01;35m\u001b[Kwarning: \u001b[m\u001b[K#warning \"Using deprecated NumPy API, disable it with \" \"#define NPY_NO_DEPRECATED_API NPY_1_7_API_VERSION\" [\u001b[01;35m\u001b[K\u001b]8;;https://gcc.gnu.org/onlinedocs/gcc/Warning-Options.html#index-Wcpp\u0007-Wcpp\u001b]8;;\u0007\u001b[m\u001b[K]\n",
      "   17 | #\u001b[01;35m\u001b[Kwarning\u001b[m\u001b[K \"Using deprecated NumPy API, disable it with \" \\\n",
      "      |  \u001b[01;35m\u001b[K^~~~~~~\u001b[m\u001b[K\n",
      "In file included from \u001b[01m\u001b[K/opt/sw/vsc4/VSC/x86_64/generic/jupyterhub-envs/conda/envs/jupyterhub-dask/lib/python3.10/site-packages/numpy/core/include/numpy/ndarraytypes.h:1960\u001b[m\u001b[K,\n",
      "                 from \u001b[01m\u001b[K/opt/sw/vsc4/VSC/x86_64/generic/jupyterhub-envs/conda/envs/jupyterhub-dask/lib/python3.10/site-packages/numpy/core/include/numpy/ndarrayobject.h:12\u001b[m\u001b[K,\n",
      "                 from \u001b[01m\u001b[K/opt/sw/vsc4/VSC/x86_64/generic/jupyterhub-envs/conda/envs/jupyterhub-dask/lib/python3.10/site-packages/numpy/core/include/numpy/arrayobject.h:5\u001b[m\u001b[K,\n",
      "                 from \u001b[01m\u001b[K./src.linux-x86_64-3.10/./src.linux-x86_64-3.10/fortranobject.h:13\u001b[m\u001b[K,\n",
      "                 from \u001b[01m\u001b[K./src.linux-x86_64-3.10/./src.linux-x86_64-3.10/fortranobject.c:2\u001b[m\u001b[K:\n",
      "\u001b[01m\u001b[K/opt/sw/vsc4/VSC/x86_64/generic/jupyterhub-envs/conda/envs/jupyterhub-dask/lib/python3.10/site-packages/numpy/core/include/numpy/npy_1_7_deprecated_api.h:17:2:\u001b[m\u001b[K \u001b[01;35m\u001b[Kwarning: \u001b[m\u001b[K#warning \"Using deprecated NumPy API, disable it with \" \"#define NPY_NO_DEPRECATED_API NPY_1_7_API_VERSION\" [\u001b[01;35m\u001b[K\u001b]8;;https://gcc.gnu.org/onlinedocs/gcc/Warning-Options.html#index-Wcpp\u0007-Wcpp\u001b]8;;\u0007\u001b[m\u001b[K]\n",
      "   17 | #\u001b[01;35m\u001b[Kwarning\u001b[m\u001b[K \"Using deprecated NumPy API, disable it with \" \\\n",
      "      |  \u001b[01;35m\u001b[K^~~~~~~\u001b[m\u001b[K\n",
      "\u001b[01m\u001b[K./src.linux-x86_64-3.10/fibmmodule.c:113:12:\u001b[m\u001b[K \u001b[01;35m\u001b[Kwarning: \u001b[m\u001b[K'\u001b[01m\u001b[Kf2py_size\u001b[m\u001b[K' defined but not used [\u001b[01;35m\u001b[K\u001b]8;;https://gcc.gnu.org/onlinedocs/gcc/Warning-Options.html#index-Wunused-function\u0007-Wunused-function\u001b]8;;\u0007\u001b[m\u001b[K]\n",
      "  113 | static int \u001b[01;35m\u001b[Kf2py_size\u001b[m\u001b[K(PyArrayObject* var, ...)\n",
      "      |            \u001b[01;35m\u001b[K^~~~~~~~~\u001b[m\u001b[K\n",
      "\u001b[39mINFO: compiling Fortran sources\u001b[0m\n",
      "\u001b[39mINFO: Fortran f77 compiler: /opt/sw/spack-0.12.1/opt/spack/linux-centos7-x86_64/gcc-9.1.0/gcc-10.2.0-2aa5hfe7om4udww5qqzk4rdgzggt4w2t/bin/gfortran -Wall -g -ffixed-form -fno-second-underscore -fPIC -O3 -funroll-loops\n",
      "Fortran f90 compiler: /opt/sw/spack-0.12.1/opt/spack/linux-centos7-x86_64/gcc-9.1.0/gcc-10.2.0-2aa5hfe7om4udww5qqzk4rdgzggt4w2t/bin/gfortran -Wall -g -fno-second-underscore -fPIC -O3 -funroll-loops\n",
      "Fortran fix compiler: /opt/sw/spack-0.12.1/opt/spack/linux-centos7-x86_64/gcc-9.1.0/gcc-10.2.0-2aa5hfe7om4udww5qqzk4rdgzggt4w2t/bin/gfortran -Wall -g -ffixed-form -fno-second-underscore -Wall -g -fno-second-underscore -fPIC -O3 -funroll-loops\u001b[0m\n",
      "\u001b[39mINFO: compile options: '-I./src.linux-x86_64-3.10/./src.linux-x86_64-3.10 -I/opt/sw/vsc4/VSC/x86_64/generic/jupyterhub-envs/conda/envs/jupyterhub-dask/lib/python3.10/site-packages/numpy/core/include -I/opt/sw/vsc4/VSC/x86_64/generic/jupyterhub-envs/conda/envs/jupyterhub-dask/include/python3.10 -c'\u001b[0m\n",
      "\u001b[39mINFO: gfortran:f90: fibonacci.f90\u001b[0m\n",
      "\u001b[39mINFO: /opt/sw/spack-0.12.1/opt/spack/linux-centos7-x86_64/gcc-9.1.0/gcc-10.2.0-2aa5hfe7om4udww5qqzk4rdgzggt4w2t/bin/gfortran -Wall -g -Wall -g -shared ./src.linux-x86_64-3.10/fibmmodule.o ./src.linux-x86_64-3.10/src.linux-x86_64-3.10/fortranobject.o ./fibonacci.o -L/opt/sw/spack-0.12.1/opt/spack/linux-centos7-x86_64/gcc-9.1.0/gcc-10.2.0-2aa5hfe7om4udww5qqzk4rdgzggt4w2t/lib64/../lib64 -L/opt/sw/spack-0.12.1/opt/spack/linux-centos7-x86_64/gcc-9.1.0/gcc-10.2.0-2aa5hfe7om4udww5qqzk4rdgzggt4w2t/lib64/../lib64 -lgfortran -o ./fibm.cpython-310-x86_64-linux-gnu.so\u001b[0m\n"
     ]
    }
   ],
   "source": [
    "! cd bindings/f2py ; f2py3 --verbose --build-dir . -c fibonacci.f90 -m fibm"
   ]
  },
  {
   "cell_type": "code",
   "execution_count": 19,
   "id": "6506e575-97f3-4dbc-ac0f-cef44e079d39",
   "metadata": {},
   "outputs": [
    {
     "name": "stdout",
     "output_type": "stream",
     "text": [
      "Writing bindings/f2py/fibpy.py\n"
     ]
    }
   ],
   "source": [
    "%%writefile bindings/f2py/fibpy.py\n",
    "\n",
    "import fibm\n",
    "import numpy as np\n",
    "\n",
    "\n",
    "v = np.empty(10)\n",
    "fibm.fib(v)\n",
    "\n",
    "print(v)"
   ]
  },
  {
   "cell_type": "code",
   "execution_count": 20,
   "id": "1d785181-f321-4265-abd1-ec89e995a915",
   "metadata": {},
   "outputs": [
    {
     "name": "stdout",
     "output_type": "stream",
     "text": [
      "[ 0.  1.  1.  2.  3.  5.  8. 13. 21. 34.]\n"
     ]
    }
   ],
   "source": [
    "! cd bindings/f2py ; python3 fibpy.py"
   ]
  },
  {
   "cell_type": "code",
   "execution_count": null,
   "id": "3860f21a-d515-44a2-a1ab-39c134788107",
   "metadata": {},
   "outputs": [],
   "source": []
  }
 ],
 "metadata": {
  "kernelspec": {
   "display_name": "Python 3 (ipykernel)",
   "language": "python",
   "name": "python3"
  },
  "language_info": {
   "codemirror_mode": {
    "name": "ipython",
    "version": 3
   },
   "file_extension": ".py",
   "mimetype": "text/x-python",
   "name": "python",
   "nbconvert_exporter": "python",
   "pygments_lexer": "ipython3",
   "version": "3.10.6"
  },
  "vscode": {
   "interpreter": {
    "hash": "a0a5145e6c304e2a9afaf5b930a2955b950bd4b81fe94f7c42930f43f42762eb"
   }
  }
 },
 "nbformat": 4,
 "nbformat_minor": 5
}
