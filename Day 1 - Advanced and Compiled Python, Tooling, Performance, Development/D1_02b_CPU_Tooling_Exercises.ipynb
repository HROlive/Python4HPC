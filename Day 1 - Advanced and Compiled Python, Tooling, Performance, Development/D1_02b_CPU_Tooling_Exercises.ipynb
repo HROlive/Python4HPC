{
 "cells": [
  {
   "cell_type": "markdown",
   "id": "e8df76fa-a52e-4ad1-90cd-709fc925c09c",
   "metadata": {
    "tags": []
   },
   "source": [
    "# Tooling - Exercises\n",
    "\n",
    "The exercises are based on [Newton's method](https://en.wikipedia.org/wiki/Newton%27s_method), a well-known root-finding algorithm that iteratively approximates the roots of real-valued single-variable functions. If you are not familiar with this method, read the [description on Wikipedia](https://en.wikipedia.org/wiki/Newton%27s_method#Description) first. Below you can find a commented and executable version of the method."
   ]
  },
  {
   "cell_type": "code",
   "execution_count": 1,
   "id": "486d96c8-7ec6-454d-87d9-1536e68ac5ce",
   "metadata": {},
   "outputs": [],
   "source": [
    "def newton(f, df, x0, epsilon, maxits):\n",
    "    xi = x0 # starts at the initial guess\n",
    "    for i in range(maxits): # maxits number approximations\n",
    "        fxi = f(xi) # evaluates f(xi)\n",
    "        if abs(fxi) < epsilon: # |f(xi)| is in [0, epsilon], that's good enough\n",
    "            return xi # solution xi found at i-th iteration\n",
    "        dfxi = df(xi)\n",
    "        if dfxi == 0:\n",
    "            return None # no solution found, approximation here impossible because df(xi)/dx = 0 \n",
    "        xi = xi - fxi/dfxi # computes the next best guess\n",
    "    return None # no solution found, number of approximations exceeded"
   ]
  },
  {
   "cell_type": "code",
   "execution_count": 2,
   "id": "5e68c54f-6437-4e2e-ba07-c542cbff0132",
   "metadata": {},
   "outputs": [
    {
     "data": {
      "text/plain": [
       "1.6180339887500548"
      ]
     },
     "execution_count": 2,
     "metadata": {},
     "output_type": "execute_result"
    }
   ],
   "source": [
    "f =  lambda x: x**2 - x - 1 # function\n",
    "df = lambda x: 2*x - 1 # 1st derivative\n",
    "x0 = 10.0 # initial guess\n",
    "epsilon = 1e-6 # precision\n",
    "maxits = 10 # max number of iterations\n",
    "\n",
    "newton(f, df, x0, epsilon, maxits)"
   ]
  },
  {
   "cell_type": "markdown",
   "id": "4bb5df09-8f52-4803-878f-a1f5ee5e5ffb",
   "metadata": {
    "tags": []
   },
   "source": [
    "## Testing - Exercise\n",
    "\n",
    "Write some meaningful test cases for the given class `NewtonMethod` and check them with `pytest`."
   ]
  },
  {
   "cell_type": "code",
   "execution_count": 3,
   "id": "44141c1b-faf6-44ca-9127-ce98e934e1d2",
   "metadata": {
    "tags": []
   },
   "outputs": [
    {
     "name": "stdout",
     "output_type": "stream",
     "text": [
      "Writing tooling/testing/exercises/NewtonMethod.py\n"
     ]
    }
   ],
   "source": [
    "%%writefile tooling/testing/exercises/NewtonMethod.py\n",
    "\n",
    "class NewtonMethod:\n",
    "    def __init__(self, f, df, fstr, dfstr):\n",
    "        self.f = f\n",
    "        self.df = df\n",
    "        self.fstr = fstr\n",
    "        self.dfstr = dfstr\n",
    "        \n",
    "    def show(self):\n",
    "        print(f'Function {fstr}')\n",
    "        print(f'Function derivative {dfstr}')\n",
    "        \n",
    "        \n",
    "    def solve(self, x0, epsilon, maxits, f=None, df=None):\n",
    "        if f is None:\n",
    "            f = self.df\n",
    "            \n",
    "        if df is None:\n",
    "            f = self.df\n",
    "            \n",
    "        xi = x0\n",
    "        for i in range(maxits):\n",
    "            fxi = f(xi)\n",
    "            if abs(fxi) < epsilon:\n",
    "                print(f'Solution found after {i} iterations')\n",
    "                return xi\n",
    "            dfxi = df(xi)\n",
    "            if dfxi == 0:\n",
    "                print(f'No solution found: Zero derivative after {i} iterations')\n",
    "                return None\n",
    "            xi = xi - fxi/dfxi\n",
    "        print('No solution found: Maximum number of iterations exceeded')\n",
    "        return None"
   ]
  },
  {
   "cell_type": "code",
   "execution_count": 4,
   "id": "21591ede-a02e-46f3-b3ba-11d9248600b6",
   "metadata": {},
   "outputs": [
    {
     "name": "stdout",
     "output_type": "stream",
     "text": [
      "\u001b[1m============================= test session starts ==============================\u001b[0m\n",
      "platform linux -- Python 3.10.6, pytest-7.1.2, pluggy-1.0.0\n",
      "rootdir: /home/fs70824/trainee19/python4hpc\n",
      "plugins: anyio-3.6.1\n",
      "collected 0 items                                                              \u001b[0m\n",
      "\n",
      "\u001b[33m============================ \u001b[33mno tests ran\u001b[0m\u001b[33m in 0.00s\u001b[0m\u001b[33m =============================\u001b[0m\n"
     ]
    }
   ],
   "source": [
    "!python3 -m pytest tooling/testing/exercises"
   ]
  },
  {
   "cell_type": "code",
   "execution_count": null,
   "id": "80e67e0b-6bcb-48f6-9411-0d90892a8514",
   "metadata": {},
   "outputs": [],
   "source": [
    "%%writefile tooling/testing/exercises/test_NewtonMethod.py\n",
    "\n",
    "import pytest\n",
    "from NewtonMethod import NewtonMethod\n",
    "\n",
    "\n",
    "def test_null_object():\n",
    "    nwt = NewtonMethod(None, None, '', '')\n",
    "    assert isinstance(nwt, NewtonMethod)\n",
    "    \n",
    "\n",
    "def test_origin_line0():\n",
    "    f =  lambda x: x\n",
    "    df = lambda x: 1.0\n",
    "    x0 = 0.0\n",
    "    epsilon = 1e-6\n",
    "    maxits = 1\n",
    "    fstr = 'f(x) = x'\n",
    "    dfstr = 'f\\'(x) = 1'\n",
    "\n",
    "    nwt = NewtonMethod(f, df, fstr, dfstr)\n",
    "    root = nwt.solve(x0, epsilon, maxits, f, df)\n",
    "    assert root == 0.0\n",
    "    \n",
    "    \n",
    "def test_origin_line1():\n",
    "    f =  lambda x: x\n",
    "    df = lambda x: 1.0\n",
    "    x0 = 1.0\n",
    "    epsilon = 1e-6\n",
    "    maxits = 2\n",
    "    fstr = 'f(x) = x'\n",
    "    dfstr = 'f\\'(x) = 1'\n",
    "\n",
    "    nwt = NewtonMethod(f, df, fstr, dfstr)\n",
    "    root = nwt.solve(x0, epsilon, maxits, f, df)\n",
    "    assert root == 0.0\n",
    "    \n",
    "    \n",
    "def test_origin_parabola():\n",
    "    f =  lambda x: x**2\n",
    "    df = lambda x: 2*x\n",
    "    x0 = 1.0\n",
    "    epsilon = 1e-9\n",
    "    maxits = 16\n",
    "    fstr = 'f(x) = x**2'\n",
    "    dfstr = 'f\\'(x) = 2*x'\n",
    "    nwt = NewtonMethod(f, df, fstr, dfstr)\n",
    "    root = nwt.solve(x0, epsilon, maxits, f, df)\n",
    "    assert abs(f(root)) < epsilon"
   ]
  },
  {
   "cell_type": "code",
   "execution_count": null,
   "id": "c3d54f45-97ee-45a1-9d1c-badb8052ec40",
   "metadata": {},
   "outputs": [],
   "source": [
    "!python3 -m pytest tooling/testing/exercises"
   ]
  },
  {
   "cell_type": "markdown",
   "id": "a2bbdea3-588f-48f9-8b65-cd8a1600f27d",
   "metadata": {
    "tags": []
   },
   "source": [
    "## Debugging - Exercise\n",
    "\n",
    "By applying Newton's method with your pocket calculatr on the parabola below, you know that the root should be found after at most ten iterations. However, the function you have writton is uncapable of finding a solution. Start `pdb` and debug this mess.\n",
    "\n",
    "___Hints___: Open a new tab by clicking on the plus symbol at the top of this page and start a terminal with the `Terminal` button at the bottom of the Launcher page, then make sure that you are in the directory `tooling/debugging/exercises` and start the debugger with `python3 -m pdb buggy_newton.py`."
   ]
  },
  {
   "cell_type": "code",
   "execution_count": 5,
   "id": "5794f645-7f9d-44c9-9781-b0e5139e64b1",
   "metadata": {},
   "outputs": [
    {
     "name": "stdout",
     "output_type": "stream",
     "text": [
      "Writing tooling/debugging/exercises/buggy_newton.py\n"
     ]
    }
   ],
   "source": [
    "%%writefile tooling/debugging/exercises/buggy_newton.py\n",
    "\n",
    "def newton(f, df, x0, epsilon, maxits):\n",
    "    xi = x0 # starts at the initial guess\n",
    "    for i in range(maxits): # maxits number approximations\n",
    "        fxi = f(xi) # evaluates f(xi)\n",
    "        if abs(fxi) < epsilon: # |f(xi)| is in [0, epsilon], that's good enough\n",
    "            return xi # solution xi found at i-th iteration\n",
    "        dfxi = df(xi)\n",
    "        if dfxi == 0:\n",
    "            return None # no solution found, approximation here impossible because df(xi)/dx = 0 \n",
    "        xi = xi - dfxi/fxi # computes the next best guess\n",
    "    return None # no solution found, number of approximations exceeded\n",
    "\n",
    "\n",
    "f =  lambda x: x**2 - x - 1 # function\n",
    "df = lambda x: 2*x - 1 # 1st derivative\n",
    "x0 = 1.0 # initial guess\n",
    "epsilon = 1e-6 # precision\n",
    "maxits = 10 # max number of iterations\n",
    "\n",
    "import pdb; pdb.set_trace() # sets a breakpoint\n",
    "root = newton(f, df, x0, epsilon, maxits)"
   ]
  },
  {
   "cell_type": "code",
   "execution_count": 6,
   "id": "d4023a0f-436e-470a-a923-bef2b02c22e9",
   "metadata": {},
   "outputs": [
    {
     "name": "stdout",
     "output_type": "stream",
     "text": [
      "1.618033988749989\n"
     ]
    }
   ],
   "source": [
    "f =  lambda x: x**2 - x - 1 # function\n",
    "df = lambda x: 2*x - 1 # 1st derivative\n",
    "x0 = 1.0 # initial guess\n",
    "epsilon = 1e-6 # precision\n",
    "maxits = 10 # max number of iterations\n",
    "\n",
    "root = newton(f, df, x0, epsilon, maxits)\n",
    "print(root)"
   ]
  },
  {
   "cell_type": "markdown",
   "id": "c9f8cf63-2b67-4d15-8c7a-09b2c4d13151",
   "metadata": {
    "tags": []
   },
   "source": [
    "## Documentation - Exercise\n",
    "\n",
    "Write __docstrings__ for the class `NewtonMethod` such that `help(NewtonMethod)` prints detailed documentation."
   ]
  },
  {
   "cell_type": "code",
   "execution_count": 7,
   "id": "08c3a903-ae65-4b8e-9be1-a92484fe3649",
   "metadata": {},
   "outputs": [],
   "source": [
    "class NewtonMethod:\n",
    "    def __init__(self, f, df, fstr, dfstr):\n",
    "        self.f = f\n",
    "        self.df = df\n",
    "        self.fstr = fstr\n",
    "        self.dfstr = dfstr\n",
    "        \n",
    "    def show(self):\n",
    "        print(f'Function {fstr}')\n",
    "        print(f'Function derivative {dfstr}')\n",
    "        \n",
    "        \n",
    "    def solve(self, x0, epsilon, maxits, f=None, df=None):\n",
    "        if f is None:\n",
    "            f = self.df\n",
    "            \n",
    "        if df is None:\n",
    "            f = self.df\n",
    "            \n",
    "        xi = x0\n",
    "        for i in range(maxits):\n",
    "            fxi = f(xi)\n",
    "            if abs(fxi) < epsilon:\n",
    "                print(f'Solution found after {i} iterations')\n",
    "                return xi\n",
    "            dfxi = df(xi)\n",
    "            if dfxi == 0:\n",
    "                print(f'No solution found: Zero derivative after {i} iterations')\n",
    "                return None\n",
    "            xi = xi - fxi/dfxi\n",
    "        print('No solution found: Maximum number of iterations exceeded')\n",
    "        return None"
   ]
  },
  {
   "cell_type": "code",
   "execution_count": 8,
   "id": "f3e8020d-4a23-451a-b52c-a91f90647b7e",
   "metadata": {},
   "outputs": [
    {
     "name": "stdout",
     "output_type": "stream",
     "text": [
      "Help on class NewtonMethod in module __main__:\n",
      "\n",
      "class NewtonMethod(builtins.object)\n",
      " |  NewtonMethod(f, df, fstr, dfstr)\n",
      " |  \n",
      " |  Methods defined here:\n",
      " |  \n",
      " |  __init__(self, f, df, fstr, dfstr)\n",
      " |      Initialize self.  See help(type(self)) for accurate signature.\n",
      " |  \n",
      " |  show(self)\n",
      " |  \n",
      " |  solve(self, x0, epsilon, maxits, f=None, df=None)\n",
      " |  \n",
      " |  ----------------------------------------------------------------------\n",
      " |  Data descriptors defined here:\n",
      " |  \n",
      " |  __dict__\n",
      " |      dictionary for instance variables (if defined)\n",
      " |  \n",
      " |  __weakref__\n",
      " |      list of weak references to the object (if defined)\n",
      "\n"
     ]
    }
   ],
   "source": [
    "help(NewtonMethod)"
   ]
  },
  {
   "cell_type": "markdown",
   "id": "6644c594-a6dc-4af5-838a-e4cbcbbae9fa",
   "metadata": {
    "jp-MarkdownHeadingCollapsed": true,
    "tags": []
   },
   "source": [
    "#### Documentation - Solution Proposal"
   ]
  },
  {
   "cell_type": "code",
   "execution_count": null,
   "id": "1b82663b-3900-4cf4-951f-094edfa38c99",
   "metadata": {
    "tags": []
   },
   "outputs": [],
   "source": [
    "class NewtonMethod:\n",
    "    \"\"\"\n",
    "    A class to represent Newton's method for real-valued single-variable functions\n",
    "\n",
    "    ...\n",
    "\n",
    "    Attributes\n",
    "    ----------\n",
    "    f : lambda (x -> f(x))\n",
    "        The function whose root is to be found\n",
    "    df : lambda (x -> f(x))\n",
    "        The function's first derivative\n",
    "    fstr : str\n",
    "        The function's string representation\n",
    "    dfstr : str\n",
    "        The function derivative's string representation\n",
    "\n",
    "    Methods\n",
    "    -------\n",
    "    show():\n",
    "        Prints the function's and the function derivative's string representation\n",
    "    \"\"\"\n",
    "    def __init__(self, f, df, fstr, dfstr):\n",
    "        \"\"\"\n",
    "        Parameters\n",
    "        ----------\n",
    "        f : lambda (x -> f(x))\n",
    "            The function whose root is to be found\n",
    "        df : lambda (x -> f(x))\n",
    "            The function's first derivative\n",
    "        fstr : str\n",
    "            The function's string representation\n",
    "        dfstr : str\n",
    "            The function derivative's string representation\n",
    "        \"\"\"\n",
    "        self.f = f\n",
    "        self.df = df\n",
    "        self.fstr = fstr\n",
    "        self.dfstr = dfstr\n",
    "        \n",
    "    def show(self):\n",
    "        \"\"\"\n",
    "        Prints the function's and the function derivative's string representation\n",
    "        \"\"\"\n",
    "        print(f'Function {fstr}')\n",
    "        print(f'Function derivative {dfstr}')\n",
    "        \n",
    "        \n",
    "    def solve(self, x0, epsilon, maxits, f=None, df=None):\n",
    "        '''\n",
    "        Computes the approximate solution of f(x)=0 by Newton's method\n",
    "\n",
    "        Parameters\n",
    "        ----------\n",
    "        x0 : float\n",
    "            Initial guess for a solution\n",
    "        epsilon : float\n",
    "            Precision as stopping criteria abs(f(x)) < epsilon\n",
    "        maxits : int\n",
    "            Maximum number of iterations\n",
    "        f : lambda (x -> f(x))\n",
    "            The function whose root is to be found\n",
    "        Df : lambda (x -> f(x))\n",
    "            The function's first derivative\n",
    "\n",
    "        Returns\n",
    "        -------\n",
    "        xi : float\n",
    "            Computes the linear approximation of f(x) at xi and finds x by the formula\n",
    "                x = xi - f(xi)/df(xi)\n",
    "            Continues until abs(f(xi)) < epsilon and returns xi\n",
    "            If df(xi) = 0, None is returned\n",
    "            If the maximum number of iterations exceeds maxits, None is returned\n",
    "\n",
    "        Examples\n",
    "        --------\n",
    "        >>> f = lambda x: x**2 - x - 1\n",
    "        >>> Df = lambda x: 2*x - 1\n",
    "        >>> x0 = 1.0\n",
    "        >>> epsilon = 1e-6 \n",
    "        >>> maxits = 10\n",
    "        >>> fstr = dfstr = ''\n",
    "        >>> nwt = NewtonMethod(f, df, fstr, dfstr)\n",
    "        >>> nwt.solve(x0, epsilon, maxits, f, df)\n",
    "        Solution found after 5 iterations\n",
    "        1.618033988749989\n",
    "        '''\n",
    "        if f is None:\n",
    "            f = self.df\n",
    "            \n",
    "        if df is None:\n",
    "            f = self.df\n",
    "            \n",
    "        xi = x0\n",
    "        for i in range(maxits):\n",
    "            fxi = f(xi)\n",
    "            if abs(fxi) < epsilon:\n",
    "                print(f'Solution found after {i} iterations')\n",
    "                return xi\n",
    "            dfxi = df(xi)\n",
    "            if dfxi == 0:\n",
    "                print(f'No solution found: Zero derivative after {i} iterations')\n",
    "                return None\n",
    "            xi = xi - fxi/dfxi\n",
    "        print('No solution found: Maximum number of iterations exceeded')\n",
    "        return None"
   ]
  },
  {
   "cell_type": "code",
   "execution_count": null,
   "id": "354524ae-95f3-47a6-ace9-15a3406cab3c",
   "metadata": {},
   "outputs": [],
   "source": [
    "help(NewtonMethod)"
   ]
  },
  {
   "cell_type": "code",
   "execution_count": null,
   "id": "edcb23cf-5dfb-41d9-a333-fbc2ad5c1891",
   "metadata": {},
   "outputs": [],
   "source": [
    "f =  lambda x: 4 + 8*x**2 - x**4 # function\n",
    "df = lambda x: 16*x - 4*x**3 # 1st derivative\n",
    "x0 = 1.0 # initial guess\n",
    "epsilon = 1e-6 # precision\n",
    "maxits = 10 # max number of iterations\n",
    "fstr = 'f(x) = 4 + 8x^2 - x^4'\n",
    "dfstr = 'f\\'(x) = 16x - 4x^3'\n",
    "\n",
    "nwt = NewtonMethod(f, df, fstr, dfstr)\n",
    "nwt.show()\n",
    "nwt.solve(x0, epsilon, maxits, f, df)"
   ]
  },
  {
   "cell_type": "markdown",
   "id": "7bfd2426-8c6e-4b8c-908a-b5ed25594853",
   "metadata": {
    "tags": []
   },
   "source": [
    "## Logging\n",
    "\n",
    "As a final relaxation exercise, import the logging module and write meaningful logging messages."
   ]
  },
  {
   "cell_type": "code",
   "execution_count": 9,
   "id": "9d658168-e450-4170-8958-867f279f1e3b",
   "metadata": {},
   "outputs": [],
   "source": [
    "def newton(f, df, x0, epsilon, maxits):\n",
    "    xi = x0 # starts at the initial guess\n",
    "    for i in range(maxits): # maxits number approximations\n",
    "        fxi = f(xi) # evaluates f(xi)\n",
    "        if abs(fxi) < epsilon: # |f(xi)| is in [0, epsilon], that's good enough\n",
    "            return xi # solution xi found at i-th iteration\n",
    "        dfxi = df(xi)\n",
    "        if dfxi == 0:\n",
    "            return None # no solution found, approximation here impossible because df(xi)/dx = 0 \n",
    "        xi = xi - fxi/dfxi # computes the next best guess\n",
    "    return None # no solution found, number of approximations exceeded"
   ]
  },
  {
   "cell_type": "code",
   "execution_count": 10,
   "id": "56ce8fdb-0ca5-4877-a9ce-d5e64bb4a113",
   "metadata": {},
   "outputs": [
    {
     "name": "stdout",
     "output_type": "stream",
     "text": [
      "1.618033988749989\n"
     ]
    }
   ],
   "source": [
    "f =  lambda x: x**2 - x - 1 # function\n",
    "df = lambda x: 2*x - 1 # 1st derivative\n",
    "x0 = 1.0 # initial guess\n",
    "epsilon = 1e-6 # precision\n",
    "maxits = 10 # max number of iterations\n",
    "\n",
    "root = newton(f, df, x0, epsilon, maxits)\n",
    "print(root)"
   ]
  },
  {
   "cell_type": "markdown",
   "id": "43cd952a-215f-4b4f-a61d-f63e9acec518",
   "metadata": {
    "tags": []
   },
   "source": [
    "#### Logging - Solution Proposal"
   ]
  },
  {
   "cell_type": "code",
   "execution_count": null,
   "id": "0449f7f9-bb33-46fe-a5f1-ca826af75ddf",
   "metadata": {},
   "outputs": [],
   "source": [
    "import logging\n",
    "\n",
    "\n",
    "logger.setLevel(logging.DEBUG)\n",
    "\n",
    "\n",
    "def newton(f, df, x0, epsilon, maxits):\n",
    "    logger.debug(f'called newton(x0={x0}, epsilon={epsilon}, maxits={maxits})')\n",
    "    xi = x0 # starts at the initial guess\n",
    "    for i in range(maxits): # maxits number approximations\n",
    "        fxi = f(xi) # evaluates f(xi)\n",
    "        logger.debug(f'Iteration {i}: xi={xi}, f(xi)={fxi}')\n",
    "        if abs(fxi) < epsilon: # |f(xi)| is in [0, epsilon], that's good enough\n",
    "            logger.info(f'Solution found after {i} iterations')\n",
    "            return xi # solution xi found at i-th iteration\n",
    "        dfxi = df(xi)\n",
    "        if dfxi == 0:\n",
    "            logger.warning(f'No solution found: Zero derivative after {i} iterations')\n",
    "            return None # no solution found, approximation here impossible because df(xi)/dx = 0 \n",
    "        xi = xi - fxi/dfxi # computes the next best guess\n",
    "    logger.info('No solution found: Maximum number of iterations exceeded')\n",
    "    return None # no solution found, number of approximations exceeded"
   ]
  },
  {
   "cell_type": "code",
   "execution_count": null,
   "id": "ed651950-ebc4-4584-9d57-b27c56ea7154",
   "metadata": {},
   "outputs": [],
   "source": [
    "f =  lambda x: x**2 - x - 1 # function\n",
    "df = lambda x: 2*x - 1 # 1st derivative\n",
    "x0 = 1.0 # initial guess\n",
    "epsilon = 1e-6 # precision\n",
    "maxits = 10 # max number of iterations\n",
    "\n",
    "root = newton(f, df, x0, epsilon, maxits)\n",
    "print(root)"
   ]
  },
  {
   "cell_type": "code",
   "execution_count": null,
   "id": "05076c60-ab68-46f7-9bcc-fd489e5880b9",
   "metadata": {},
   "outputs": [],
   "source": []
  }
 ],
 "metadata": {
  "kernelspec": {
   "display_name": "Python 3 (ipykernel)",
   "language": "python",
   "name": "python3"
  },
  "language_info": {
   "codemirror_mode": {
    "name": "ipython",
    "version": 3
   },
   "file_extension": ".py",
   "mimetype": "text/x-python",
   "name": "python",
   "nbconvert_exporter": "python",
   "pygments_lexer": "ipython3",
   "version": "3.10.6"
  }
 },
 "nbformat": 4,
 "nbformat_minor": 5
}
